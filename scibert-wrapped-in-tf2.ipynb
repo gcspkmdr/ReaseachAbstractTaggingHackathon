{
 "cells": [
  {
   "cell_type": "markdown",
   "execution_count": null,
   "metadata": {
    "papermill": {
     "duration": 0.008104,
     "end_time": "2020-08-23T17:58:23.125419",
     "exception": false,
     "start_time": "2020-08-23T17:58:23.117315",
     "status": "completed"
    },
    "tags": []
   },
   "source": [
    "## SciBERT is a BERT model trained on scientific text.\n",
    "\n",
    "* SciBERT is trained on papers from the corpus of semanticscholar.org. Corpus size is 1.14M papers, 3.1B tokens \n",
    " \n",
    "* It is trained on the full text of the papers in training,and not just abstracts\n",
    "\n",
    "* It has its own vocabulary (scivocab) that's built to best match the training corpus\n",
    "\n",
    "The following is an implementation of SciBert via TensorFlow2"
   ]
  },
  {
   "cell_type": "code",
   "execution_count": 1,
   "metadata": {
    "execution": {
     "iopub.execute_input": "2020-08-23T17:58:23.146154Z",
     "iopub.status.busy": "2020-08-23T17:58:23.145406Z",
     "iopub.status.idle": "2020-08-23T17:58:23.177149Z",
     "shell.execute_reply": "2020-08-23T17:58:23.176579Z"
    },
    "papermill": {
     "duration": 0.044734,
     "end_time": "2020-08-23T17:58:23.177258",
     "exception": false,
     "start_time": "2020-08-23T17:58:23.132524",
     "status": "completed"
    },
    "tags": []
   },
   "outputs": [
    {
     "name": "stdout",
     "output_type": "stream",
     "text": [
      "/kaggle/input/researchtopictags/train.csv\n",
      "/kaggle/input/researchtopictags/sample.csv\n",
      "/kaggle/input/researchtopictags/test.csv\n",
      "/kaggle/input/researchtopictagaugwithoutlatextags/train_aug_without_latex_tags.csv\n",
      "/kaggle/input/researchtopictagaugwithoutlatextags/sample.csv\n",
      "/kaggle/input/researchtopictagaugwithoutlatextags/test_aug_without_latex_tags.csv\n",
      "/kaggle/input/researchtopictagaug/test_aug_with_latex_tags.csv\n",
      "/kaggle/input/researchtopictagaug/sample.csv\n",
      "/kaggle/input/researchtopictagaug/train_aug_with_latex_tags.csv\n",
      "/kaggle/input/researchtopictagwithoutlatex/train_without_latex_tags.csv\n",
      "/kaggle/input/researchtopictagwithoutlatex/test_without_latex_tags.csv\n",
      "/kaggle/input/researchtopictagwithoutlatex/sample.csv\n"
     ]
    }
   ],
   "source": [
    "import os\n",
    "for dirname, _, filenames in os.walk('/kaggle/input'):\n",
    "    for filename in filenames:\n",
    "        print(os.path.join(dirname, filename))"
   ]
  },
  {
   "cell_type": "code",
   "execution_count": 2,
   "metadata": {
    "execution": {
     "iopub.execute_input": "2020-08-23T17:58:23.200108Z",
     "iopub.status.busy": "2020-08-23T17:58:23.199052Z",
     "iopub.status.idle": "2020-08-23T17:59:13.681883Z",
     "shell.execute_reply": "2020-08-23T17:59:13.682447Z"
    },
    "id": "SuY02mplBrDy",
    "outputId": "7812630a-8a77-4cdf-b99b-892778ca3898",
    "papermill": {
     "duration": 50.498061,
     "end_time": "2020-08-23T17:59:13.682671",
     "exception": false,
     "start_time": "2020-08-23T17:58:23.184610",
     "status": "completed"
    },
    "tags": []
   },
   "outputs": [
    {
     "name": "stdout",
     "output_type": "stream",
     "text": [
      "\u001b[33mWARNING: You are using pip version 20.2.1; however, version 20.2.2 is available.\r\n",
      "You should consider upgrading via the '/opt/conda/bin/python3.7 -m pip install --upgrade pip' command.\u001b[0m\r\n",
      "--2020-08-23 17:58:34--  https://s3-us-west-2.amazonaws.com/ai2-s2-research/scibert/tensorflow_models/scibert_scivocab_uncased.tar.gz\r\n",
      "Resolving s3-us-west-2.amazonaws.com (s3-us-west-2.amazonaws.com)... 52.218.204.136\r\n",
      "Connecting to s3-us-west-2.amazonaws.com (s3-us-west-2.amazonaws.com)|52.218.204.136|:443... connected.\r\n",
      "HTTP request sent, awaiting response... 200 OK\r\n",
      "Length: 1216161420 (1.1G) [application/x-tar]\r\n",
      "Saving to: ‘scibert_scivocab_uncased.tar.gz’\r\n",
      "\r\n",
      "scibert_scivocab_un 100%[===================>]   1.13G  52.6MB/s    in 21s     \r\n",
      "\r\n",
      "2020-08-23 17:58:55 (55.5 MB/s) - ‘scibert_scivocab_uncased.tar.gz’ saved [1216161420/1216161420]\r\n",
      "\r\n",
      "scibert_scivocab_uncased/\r\n",
      "scibert_scivocab_uncased/bert_model.ckpt.data-00000-of-00001\r\n",
      "scibert_scivocab_uncased/bert_model.ckpt.index\r\n",
      "scibert_scivocab_uncased/vocab.txt\r\n",
      "scibert_scivocab_uncased/bert_model.ckpt.meta\r\n",
      "scibert_scivocab_uncased/bert_config.json\r\n"
     ]
    }
   ],
   "source": [
    "!pip install -q transformers==2.11.0\n",
    "!wget https://s3-us-west-2.amazonaws.com/ai2-s2-research/scibert/tensorflow_models/scibert_scivocab_uncased.tar.gz\n",
    "!tar -xvf ./scibert_scivocab_uncased.tar.gz"
   ]
  },
  {
   "cell_type": "code",
   "execution_count": 3,
   "metadata": {
    "execution": {
     "iopub.execute_input": "2020-08-23T17:59:13.719436Z",
     "iopub.status.busy": "2020-08-23T17:59:13.718591Z",
     "iopub.status.idle": "2020-08-23T17:59:30.880902Z",
     "shell.execute_reply": "2020-08-23T17:59:30.880327Z"
    },
    "papermill": {
     "duration": 17.183229,
     "end_time": "2020-08-23T17:59:30.881028",
     "exception": false,
     "start_time": "2020-08-23T17:59:13.697799",
     "status": "completed"
    },
    "tags": []
   },
   "outputs": [
    {
     "name": "stdout",
     "output_type": "stream",
     "text": [
      "2020-08-23 17:59:17.388992: I tensorflow/stream_executor/platform/default/dso_loader.cc:48] Successfully opened dynamic library libcudart.so.10.1\r\n",
      "Building PyTorch model from configuration: BertConfig {\r\n",
      "  \"attention_probs_dropout_prob\": 0.1,\r\n",
      "  \"hidden_act\": \"gelu\",\r\n",
      "  \"hidden_dropout_prob\": 0.1,\r\n",
      "  \"hidden_size\": 768,\r\n",
      "  \"initializer_range\": 0.02,\r\n",
      "  \"intermediate_size\": 3072,\r\n",
      "  \"layer_norm_eps\": 1e-12,\r\n",
      "  \"max_position_embeddings\": 512,\r\n",
      "  \"model_type\": \"bert\",\r\n",
      "  \"num_attention_heads\": 12,\r\n",
      "  \"num_hidden_layers\": 12,\r\n",
      "  \"pad_token_id\": 0,\r\n",
      "  \"type_vocab_size\": 2,\r\n",
      "  \"vocab_size\": 31090\r\n",
      "}\r\n",
      "\r\n",
      "Save PyTorch model to ./scibert_scivocab_uncased/pytorch_model.bin\r\n"
     ]
    }
   ],
   "source": [
    "os.environ[\"WANDB_API_KEY\"] = \"0\" ## to silence warning\n",
    "!transformers-cli convert --model_type bert \\\n",
    "  --tf_checkpoint './scibert_scivocab_uncased/bert_model.ckpt' \\\n",
    "  --config './scibert_scivocab_uncased/bert_config.json' \\\n",
    "  --pytorch_dump_output './scibert_scivocab_uncased/pytorch_model.bin'"
   ]
  },
  {
   "cell_type": "code",
   "execution_count": 4,
   "metadata": {
    "execution": {
     "iopub.execute_input": "2020-08-23T17:59:30.915858Z",
     "iopub.status.busy": "2020-08-23T17:59:30.915001Z",
     "iopub.status.idle": "2020-08-23T17:59:33.717132Z",
     "shell.execute_reply": "2020-08-23T17:59:33.715508Z"
    },
    "id": "aGa2jmNmCjXf",
    "papermill": {
     "duration": 2.822465,
     "end_time": "2020-08-23T17:59:33.717256",
     "exception": false,
     "start_time": "2020-08-23T17:59:30.894791",
     "status": "completed"
    },
    "tags": []
   },
   "outputs": [
    {
     "name": "stdout",
     "output_type": "stream",
     "text": [
      "transformers version : 2.11.0\n"
     ]
    }
   ],
   "source": [
    "from tqdm.notebook import tqdm\n",
    "import numpy as np\n",
    "import pandas as pd\n",
    "import matplotlib.pyplot as plt\n",
    "import matplotlib as mpl\n",
    "mpl.rcParams['figure.figsize'] = (12, 12)\n",
    "import seaborn as sns\n",
    "import tensorflow as tf\n",
    "\n",
    "from transformers import BertTokenizer ,BertConfig\n",
    "from tensorflow.keras.preprocessing.sequence import pad_sequences\n",
    "from sklearn.model_selection import train_test_split\n",
    "\n",
    "from transformers import TFBertModel\n",
    "from tensorflow.keras.layers import Dense, Flatten\n",
    "\n",
    "import time\n",
    "from transformers import create_optimizer\n",
    "import transformers\n",
    "\n",
    "print('transformers version :', transformers.__version__)"
   ]
  },
  {
   "cell_type": "markdown",
   "execution_count": null,
   "metadata": {
    "papermill": {
     "duration": 0.022973,
     "end_time": "2020-08-23T17:59:33.753836",
     "exception": false,
     "start_time": "2020-08-23T17:59:33.730863",
     "status": "completed"
    },
    "tags": []
   },
   "source": [
    "# The model has been trained on 4 modifications of data:\n",
    "\n",
    "* Original\n",
    "* Original without Latex Tags\n",
    "* Augmented Data(Translate + De-Translate)\n",
    "* Augmented Data - without Latex Tags\n",
    "\n",
    "\n",
    "The details can bee found out in this notebook https://www.kaggle.com/gcspkmdr/text-data-augmentation-latex-tag-translate/edit"
   ]
  },
  {
   "cell_type": "code",
   "execution_count": 5,
   "metadata": {
    "execution": {
     "iopub.execute_input": "2020-08-23T17:59:33.945599Z",
     "iopub.status.busy": "2020-08-23T17:59:33.944437Z",
     "iopub.status.idle": "2020-08-23T17:59:34.537620Z",
     "shell.execute_reply": "2020-08-23T17:59:34.536761Z"
    },
    "id": "5FuPBMEX_Lxv",
    "papermill": {
     "duration": 0.763441,
     "end_time": "2020-08-23T17:59:34.537780",
     "exception": false,
     "start_time": "2020-08-23T17:59:33.774339",
     "status": "completed"
    },
    "tags": []
   },
   "outputs": [
    {
     "name": "stdout",
     "output_type": "stream",
     "text": [
      "(20972, 9)\n"
     ]
    },
    {
     "data": {
      "text/html": [
       "<div>\n",
       "<style scoped>\n",
       "    .dataframe tbody tr th:only-of-type {\n",
       "        vertical-align: middle;\n",
       "    }\n",
       "\n",
       "    .dataframe tbody tr th {\n",
       "        vertical-align: top;\n",
       "    }\n",
       "\n",
       "    .dataframe thead th {\n",
       "        text-align: right;\n",
       "    }\n",
       "</style>\n",
       "<table border=\"1\" class=\"dataframe\">\n",
       "  <thead>\n",
       "    <tr style=\"text-align: right;\">\n",
       "      <th></th>\n",
       "      <th>ID</th>\n",
       "      <th>TITLE</th>\n",
       "      <th>ABSTRACT</th>\n",
       "      <th>Computer Science</th>\n",
       "      <th>Physics</th>\n",
       "      <th>Mathematics</th>\n",
       "      <th>Statistics</th>\n",
       "      <th>Quantitative Biology</th>\n",
       "      <th>Quantitative Finance</th>\n",
       "    </tr>\n",
       "  </thead>\n",
       "  <tbody>\n",
       "    <tr>\n",
       "      <th>0</th>\n",
       "      <td>1</td>\n",
       "      <td>Reconstruction of subject-specific effect maps</td>\n",
       "      <td>Predictive models allow subject-specific infer...</td>\n",
       "      <td>1</td>\n",
       "      <td>0</td>\n",
       "      <td>0</td>\n",
       "      <td>0</td>\n",
       "      <td>0</td>\n",
       "      <td>0</td>\n",
       "    </tr>\n",
       "    <tr>\n",
       "      <th>1</th>\n",
       "      <td>2</td>\n",
       "      <td>Rotational invariance neural network</td>\n",
       "      <td>The rotational invariance and the translationa...</td>\n",
       "      <td>1</td>\n",
       "      <td>0</td>\n",
       "      <td>0</td>\n",
       "      <td>0</td>\n",
       "      <td>0</td>\n",
       "      <td>0</td>\n",
       "    </tr>\n",
       "    <tr>\n",
       "      <th>2</th>\n",
       "      <td>3</td>\n",
       "      <td>Spherical polyharmonics and Poisson's kernel f...</td>\n",
       "      <td>We introduce and develop the notion of spheric...</td>\n",
       "      <td>0</td>\n",
       "      <td>0</td>\n",
       "      <td>1</td>\n",
       "      <td>0</td>\n",
       "      <td>0</td>\n",
       "      <td>0</td>\n",
       "    </tr>\n",
       "    <tr>\n",
       "      <th>3</th>\n",
       "      <td>4</td>\n",
       "      <td>A finite element approximation for the Maxwell...</td>\n",
       "      <td>The Landau - Lifshitz - Gilbert (LLG) stochast...</td>\n",
       "      <td>0</td>\n",
       "      <td>0</td>\n",
       "      <td>1</td>\n",
       "      <td>0</td>\n",
       "      <td>0</td>\n",
       "      <td>0</td>\n",
       "    </tr>\n",
       "    <tr>\n",
       "      <th>4</th>\n",
       "      <td>5</td>\n",
       "      <td>Comparative study of discrete wavelet transfor...</td>\n",
       "      <td>Infrared Fourier Transform (FTIR) spectra of s...</td>\n",
       "      <td>1</td>\n",
       "      <td>0</td>\n",
       "      <td>0</td>\n",
       "      <td>1</td>\n",
       "      <td>0</td>\n",
       "      <td>0</td>\n",
       "    </tr>\n",
       "  </tbody>\n",
       "</table>\n",
       "</div>"
      ],
      "text/plain": [
       "   ID                                              TITLE  \\\n",
       "0   1     Reconstruction of subject-specific effect maps   \n",
       "1   2               Rotational invariance neural network   \n",
       "2   3  Spherical polyharmonics and Poisson's kernel f...   \n",
       "3   4  A finite element approximation for the Maxwell...   \n",
       "4   5  Comparative study of discrete wavelet transfor...   \n",
       "\n",
       "                                            ABSTRACT  Computer Science  \\\n",
       "0  Predictive models allow subject-specific infer...                 1   \n",
       "1  The rotational invariance and the translationa...                 1   \n",
       "2  We introduce and develop the notion of spheric...                 0   \n",
       "3  The Landau - Lifshitz - Gilbert (LLG) stochast...                 0   \n",
       "4  Infrared Fourier Transform (FTIR) spectra of s...                 1   \n",
       "\n",
       "   Physics  Mathematics  Statistics  Quantitative Biology  \\\n",
       "0        0            0           0                     0   \n",
       "1        0            0           0                     0   \n",
       "2        0            1           0                     0   \n",
       "3        0            1           0                     0   \n",
       "4        0            0           1                     0   \n",
       "\n",
       "   Quantitative Finance  \n",
       "0                     0  \n",
       "1                     0  \n",
       "2                     0  \n",
       "3                     0  \n",
       "4                     0  "
      ]
     },
     "execution_count": 5,
     "metadata": {},
     "output_type": "execute_result"
    }
   ],
   "source": [
    "train_data = pd.read_csv('../input/researchtopictagaug/train_aug_with_latex_tags.csv')\n",
    "print(train_data.shape)\n",
    "train_data.head()"
   ]
  },
  {
   "cell_type": "code",
   "execution_count": 6,
   "metadata": {
    "execution": {
     "iopub.execute_input": "2020-08-23T17:59:35.130798Z",
     "iopub.status.busy": "2020-08-23T17:59:35.129828Z",
     "iopub.status.idle": "2020-08-23T17:59:35.169198Z",
     "shell.execute_reply": "2020-08-23T17:59:35.170392Z"
    },
    "papermill": {
     "duration": 0.590915,
     "end_time": "2020-08-23T17:59:35.170601",
     "exception": false,
     "start_time": "2020-08-23T17:59:34.579686",
     "status": "completed"
    },
    "tags": []
   },
   "outputs": [],
   "source": [
    "train_data = train_data.drop(train_data.index[16394])"
   ]
  },
  {
   "cell_type": "code",
   "execution_count": 7,
   "metadata": {
    "execution": {
     "iopub.execute_input": "2020-08-23T17:59:35.472717Z",
     "iopub.status.busy": "2020-08-23T17:59:35.469551Z",
     "iopub.status.idle": "2020-08-23T17:59:35.641473Z",
     "shell.execute_reply": "2020-08-23T17:59:35.640438Z"
    },
    "papermill": {
     "duration": 0.444823,
     "end_time": "2020-08-23T17:59:35.641612",
     "exception": false,
     "start_time": "2020-08-23T17:59:35.196789",
     "status": "completed"
    },
    "tags": []
   },
   "outputs": [
    {
     "name": "stdout",
     "output_type": "stream",
     "text": [
      "(8989, 3)\n"
     ]
    },
    {
     "data": {
      "text/html": [
       "<div>\n",
       "<style scoped>\n",
       "    .dataframe tbody tr th:only-of-type {\n",
       "        vertical-align: middle;\n",
       "    }\n",
       "\n",
       "    .dataframe tbody tr th {\n",
       "        vertical-align: top;\n",
       "    }\n",
       "\n",
       "    .dataframe thead th {\n",
       "        text-align: right;\n",
       "    }\n",
       "</style>\n",
       "<table border=\"1\" class=\"dataframe\">\n",
       "  <thead>\n",
       "    <tr style=\"text-align: right;\">\n",
       "      <th></th>\n",
       "      <th>ID</th>\n",
       "      <th>TITLE</th>\n",
       "      <th>ABSTRACT</th>\n",
       "    </tr>\n",
       "  </thead>\n",
       "  <tbody>\n",
       "    <tr>\n",
       "      <th>0</th>\n",
       "      <td>20973</td>\n",
       "      <td>Marginal likelihood in closed form with the Ga...</td>\n",
       "      <td>We present novel insights into the Gamma-Poiss...</td>\n",
       "    </tr>\n",
       "    <tr>\n",
       "      <th>1</th>\n",
       "      <td>20974</td>\n",
       "      <td>Average infrared laboratory spectra of balance...</td>\n",
       "      <td>Meteorites contain minerals from asteroids of ...</td>\n",
       "    </tr>\n",
       "    <tr>\n",
       "      <th>2</th>\n",
       "      <td>20975</td>\n",
       "      <td>Case of AMSDU static aggregation in WLANs</td>\n",
       "      <td>Frame aggregation is a mechanism by which mult...</td>\n",
       "    </tr>\n",
       "    <tr>\n",
       "      <th>3</th>\n",
       "      <td>20976</td>\n",
       "      <td>The $ Gaia $ -ESO Survey: The NGC 6802 Interna...</td>\n",
       "      <td>The open clusters of the Milky Way are very di...</td>\n",
       "    </tr>\n",
       "    <tr>\n",
       "      <th>4</th>\n",
       "      <td>20977</td>\n",
       "      <td>Witness functions versus interpretation functi...</td>\n",
       "      <td>Proving that a cryptographic protocol is corre...</td>\n",
       "    </tr>\n",
       "  </tbody>\n",
       "</table>\n",
       "</div>"
      ],
      "text/plain": [
       "      ID                                              TITLE  \\\n",
       "0  20973  Marginal likelihood in closed form with the Ga...   \n",
       "1  20974  Average infrared laboratory spectra of balance...   \n",
       "2  20975          Case of AMSDU static aggregation in WLANs   \n",
       "3  20976  The $ Gaia $ -ESO Survey: The NGC 6802 Interna...   \n",
       "4  20977  Witness functions versus interpretation functi...   \n",
       "\n",
       "                                            ABSTRACT  \n",
       "0  We present novel insights into the Gamma-Poiss...  \n",
       "1  Meteorites contain minerals from asteroids of ...  \n",
       "2  Frame aggregation is a mechanism by which mult...  \n",
       "3  The open clusters of the Milky Way are very di...  \n",
       "4  Proving that a cryptographic protocol is corre...  "
      ]
     },
     "execution_count": 7,
     "metadata": {},
     "output_type": "execute_result"
    }
   ],
   "source": [
    "test_data = pd.read_csv('../input/researchtopictagaug/test_aug_with_latex_tags.csv')\n",
    "print(test_data.shape)\n",
    "test_data.head()"
   ]
  },
  {
   "cell_type": "code",
   "execution_count": 8,
   "metadata": {
    "execution": {
     "iopub.execute_input": "2020-08-23T17:59:35.674700Z",
     "iopub.status.busy": "2020-08-23T17:59:35.673730Z",
     "iopub.status.idle": "2020-08-23T17:59:35.731537Z",
     "shell.execute_reply": "2020-08-23T17:59:35.732392Z"
    },
    "papermill": {
     "duration": 0.07741,
     "end_time": "2020-08-23T17:59:35.732573",
     "exception": false,
     "start_time": "2020-08-23T17:59:35.655163",
     "status": "completed"
    },
    "tags": []
   },
   "outputs": [],
   "source": [
    "train_data['combined_text'] = train_data['TITLE'] + \" <join> \" + train_data['ABSTRACT']\n",
    "test_data['combined_text'] = test_data['TITLE'] + \" <join> \" + test_data['ABSTRACT']"
   ]
  },
  {
   "cell_type": "code",
   "execution_count": 9,
   "metadata": {
    "execution": {
     "iopub.execute_input": "2020-08-23T17:59:35.769470Z",
     "iopub.status.busy": "2020-08-23T17:59:35.767615Z",
     "iopub.status.idle": "2020-08-23T17:59:35.770224Z",
     "shell.execute_reply": "2020-08-23T17:59:35.771315Z"
    },
    "id": "50uZZZzH_NDV",
    "outputId": "f925ad52-96d5-47a1-b573-db6fa12012ba",
    "papermill": {
     "duration": 0.023901,
     "end_time": "2020-08-23T17:59:35.771541",
     "exception": false,
     "start_time": "2020-08-23T17:59:35.747640",
     "status": "completed"
    },
    "tags": []
   },
   "outputs": [],
   "source": [
    "label_cols = ['Computer Science','Physics','Mathematics', 'Statistics','Quantitative Biology','Quantitative Finance']"
   ]
  },
  {
   "cell_type": "code",
   "execution_count": 10,
   "metadata": {
    "execution": {
     "iopub.execute_input": "2020-08-23T17:59:35.809744Z",
     "iopub.status.busy": "2020-08-23T17:59:35.808860Z",
     "iopub.status.idle": "2020-08-23T17:59:36.212932Z",
     "shell.execute_reply": "2020-08-23T17:59:36.213496Z"
    },
    "papermill": {
     "duration": 0.427784,
     "end_time": "2020-08-23T17:59:36.213670",
     "exception": false,
     "start_time": "2020-08-23T17:59:35.785886",
     "status": "completed"
    },
    "tags": []
   },
   "outputs": [
    {
     "data": {
      "image/png": "[encoded data removed]",
      "text/plain": [
       "<Figure size 864x864 with 1 Axes>"
      ]
     },
     "metadata": {
      "needs_background": "light"
     },
     "output_type": "display_data"
    }
   ],
   "source": [
    "com_sc = train_data['Computer Science'].value_counts()[1]\n",
    "\n",
    "phy = train_data['Physics'].value_counts()[1]\n",
    "\n",
    "mat = train_data['Mathematics'].value_counts()[1]\n",
    "\n",
    "stats = train_data['Statistics'].value_counts()[1]\n",
    "\n",
    "bio = train_data['Quantitative Biology'].value_counts()[1]\n",
    "\n",
    "fin = train_data['Quantitative Finance'].value_counts()[1]\n",
    "\n",
    "fig = plt.figure()\n",
    "\n",
    "ax = fig.add_axes([0,0,1,1])\n",
    "\n",
    "counts = [com_sc,phy,mat,stats,bio,fin]\n",
    "\n",
    "ax.bar(label_cols,counts)\n",
    "\n",
    "plt.show()"
   ]
  },
  {
   "cell_type": "code",
   "execution_count": 11,
   "metadata": {
    "execution": {
     "iopub.execute_input": "2020-08-23T17:59:36.276513Z",
     "iopub.status.busy": "2020-08-23T17:59:36.261016Z",
     "iopub.status.idle": "2020-08-23T17:59:36.621257Z",
     "shell.execute_reply": "2020-08-23T17:59:36.620508Z"
    },
    "papermill": {
     "duration": 0.391263,
     "end_time": "2020-08-23T17:59:36.621395",
     "exception": false,
     "start_time": "2020-08-23T17:59:36.230132",
     "status": "completed"
    },
    "tags": []
   },
   "outputs": [
    {
     "data": {
      "text/plain": [
       "<matplotlib.axes._subplots.AxesSubplot at 0x7f642432ed10>"
      ]
     },
     "execution_count": 11,
     "metadata": {},
     "output_type": "execute_result"
    },
    {
     "data": {
      "image/png": "[encoded data removed]",
      "text/plain": [
       "<Figure size 864x864 with 1 Axes>"
      ]
     },
     "metadata": {
      "needs_background": "light"
     },
     "output_type": "display_data"
    }
   ],
   "source": [
    "train_data['length'] = train_data['combined_text'].apply(lambda x : x.count(\" \") + 1)\n",
    "\n",
    "sns.distplot(train_data['length'])"
   ]
  },
  {
   "cell_type": "code",
   "execution_count": 12,
   "metadata": {
    "execution": {
     "iopub.execute_input": "2020-08-23T17:59:36.664731Z",
     "iopub.status.busy": "2020-08-23T17:59:36.663356Z",
     "iopub.status.idle": "2020-08-23T17:59:36.666838Z",
     "shell.execute_reply": "2020-08-23T17:59:36.666284Z"
    },
    "papermill": {
     "duration": 0.025291,
     "end_time": "2020-08-23T17:59:36.666960",
     "exception": false,
     "start_time": "2020-08-23T17:59:36.641669",
     "status": "completed"
    },
    "tags": []
   },
   "outputs": [],
   "source": [
    "# Parameters\n",
    "\n",
    "BATCH_SIZE = 8\n",
    "\n",
    "TEST_BATCH_SIZE = 8\n",
    "\n",
    "NR_EPOCHS = 1\n",
    "\n",
    "MAX_LEN = 300 # try diffrent lengths\n",
    "\n",
    "threshold = 0.4\n",
    "\n",
    "bert_model_name = './scibert_scivocab_uncased'\n",
    "\n",
    "config = BertConfig.from_json_file('./scibert_scivocab_uncased/bert_config.json')"
   ]
  },
  {
   "cell_type": "markdown",
   "execution_count": null,
   "metadata": {
    "papermill": {
     "duration": 0.015586,
     "end_time": "2020-08-23T17:59:36.698546",
     "exception": false,
     "start_time": "2020-08-23T17:59:36.682960",
     "status": "completed"
    },
    "tags": []
   },
   "source": [
    "# Tokenizer"
   ]
  },
  {
   "cell_type": "code",
   "execution_count": 13,
   "metadata": {
    "execution": {
     "iopub.execute_input": "2020-08-23T17:59:36.742068Z",
     "iopub.status.busy": "2020-08-23T17:59:36.741080Z",
     "iopub.status.idle": "2020-08-23T18:02:42.547413Z",
     "shell.execute_reply": "2020-08-23T18:02:42.546352Z"
    },
    "id": "g-8WnPfD_35q",
    "outputId": "ef31e72c-9dc5-4e7d-875e-875758466538",
    "papermill": {
     "duration": 185.83424,
     "end_time": "2020-08-23T18:02:42.547573",
     "exception": false,
     "start_time": "2020-08-23T17:59:36.713333",
     "status": "completed"
    },
    "tags": []
   },
   "outputs": [
    {
     "data": {
      "application/vnd.jupyter.widget-view+json": {
       "model_id": "f4cc9e74c32a49319828497603e80bce",
       "version_major": 2,
       "version_minor": 0
      },
      "text/plain": [
       "HBox(children=(FloatProgress(value=0.0, max=20971.0), HTML(value='')))"
      ]
     },
     "metadata": {},
     "output_type": "display_data"
    },
    {
     "name": "stdout",
     "output_type": "stream",
     "text": [
      "\n"
     ]
    }
   ],
   "source": [
    "tokenizer = BertTokenizer.from_pretrained(bert_model_name, do_lower_case=True)\n",
    "\n",
    "def tokenize_sentences(sentences, tokenizer, max_seq_len = 128):\n",
    "    \n",
    "    tokenized_sentences = []\n",
    "\n",
    "    for sentence in tqdm(sentences):\n",
    "        \n",
    "        tokenized_sentence = tokenizer.encode(sentence,                  \n",
    "                                              add_special_tokens = True, \n",
    "                                              max_length = max_seq_len  \n",
    "                                             )\n",
    "        \n",
    "        tokenized_sentences.append(tokenized_sentence)\n",
    "\n",
    "    return tokenized_sentences\n",
    "\n",
    "def create_attention_masks(tokenized_and_padded_sentences):\n",
    "    \n",
    "    attention_masks = []\n",
    "\n",
    "    for sentence in tokenized_and_padded_sentences:\n",
    "        \n",
    "        att_mask = [int(token_id > 0) for token_id in sentence]\n",
    "        \n",
    "        attention_masks.append(att_mask)\n",
    "\n",
    "    return np.asarray(attention_masks)\n",
    "\n",
    "input_ids = tokenize_sentences(train_data['combined_text'], tokenizer, MAX_LEN)\n",
    "\n",
    "input_ids = pad_sequences(input_ids, maxlen=MAX_LEN, dtype=\"long\", value=0, truncating=\"post\", padding=\"post\")\n",
    "\n",
    "attention_masks = create_attention_masks(input_ids)"
   ]
  },
  {
   "cell_type": "markdown",
   "execution_count": null,
   "metadata": {
    "papermill": {
     "duration": 0.014783,
     "end_time": "2020-08-23T18:02:42.577187",
     "exception": false,
     "start_time": "2020-08-23T18:02:42.562404",
     "status": "completed"
    },
    "tags": []
   },
   "source": [
    "# SciBERT Classifier"
   ]
  },
  {
   "cell_type": "code",
   "execution_count": 14,
   "metadata": {
    "execution": {
     "iopub.execute_input": "2020-08-23T18:02:42.616650Z",
     "iopub.status.busy": "2020-08-23T18:02:42.614909Z",
     "iopub.status.idle": "2020-08-23T18:02:42.617378Z",
     "shell.execute_reply": "2020-08-23T18:02:42.617856Z"
    },
    "papermill": {
     "duration": 0.026624,
     "end_time": "2020-08-23T18:02:42.617975",
     "exception": false,
     "start_time": "2020-08-23T18:02:42.591351",
     "status": "completed"
    },
    "tags": []
   },
   "outputs": [],
   "source": [
    "class BertClassifier(tf.keras.Model):    \n",
    "    \n",
    "    def __init__(self, bert: TFBertModel, num_classes: int):\n",
    "        \n",
    "        super().__init__()\n",
    "        \n",
    "        self.bert = bert\n",
    "        \n",
    "        self.classifier = Dense(num_classes, activation='sigmoid')\n",
    "        \n",
    "    def call(self, input_ids, attention_mask=None, token_type_ids=None, position_ids=None, head_mask=None):\n",
    "        \n",
    "        outputs = self.bert(input_ids,\n",
    "                            attention_mask=attention_mask,\n",
    "                            token_type_ids=token_type_ids,\n",
    "                            position_ids=position_ids,\n",
    "                            head_mask=head_mask)\n",
    "        \n",
    "        cls_output = outputs[1]\n",
    "        \n",
    "        cls_output = self.classifier(cls_output)\n",
    "                \n",
    "        return cls_output"
   ]
  },
  {
   "cell_type": "code",
   "execution_count": 15,
   "metadata": {
    "execution": {
     "iopub.execute_input": "2020-08-23T18:02:42.653362Z",
     "iopub.status.busy": "2020-08-23T18:02:42.652720Z",
     "iopub.status.idle": "2020-08-23T18:02:42.655719Z",
     "shell.execute_reply": "2020-08-23T18:02:42.656161Z"
    },
    "papermill": {
     "duration": 0.023886,
     "end_time": "2020-08-23T18:02:42.656276",
     "exception": false,
     "start_time": "2020-08-23T18:02:42.632390",
     "status": "completed"
    },
    "tags": []
   },
   "outputs": [],
   "source": [
    "def create_dataset(data_tuple, batch_size, train=True):\n",
    "    \n",
    "    dataset = tf.data.Dataset.from_tensor_slices(data_tuple)\n",
    "    \n",
    "    dataset = dataset.repeat(1)\n",
    "    \n",
    "    if train:\n",
    "        \n",
    "        dataset = dataset.shuffle(buffer_size=10000)\n",
    "    \n",
    "    dataset = dataset.batch(batch_size)\n",
    "    \n",
    "    if train:\n",
    "        \n",
    "        dataset = dataset.prefetch(1)\n",
    "        \n",
    "    if not train:\n",
    "        \n",
    "        dataset = dataset.cache()\n",
    "    \n",
    "    return dataset\n"
   ]
  },
  {
   "cell_type": "code",
   "execution_count": 16,
   "metadata": {
    "execution": {
     "iopub.execute_input": "2020-08-23T18:02:42.699974Z",
     "iopub.status.busy": "2020-08-23T18:02:42.699352Z",
     "iopub.status.idle": "2020-08-23T18:04:03.174619Z",
     "shell.execute_reply": "2020-08-23T18:04:03.175293Z"
    },
    "papermill": {
     "duration": 80.504709,
     "end_time": "2020-08-23T18:04:03.175458",
     "exception": false,
     "start_time": "2020-08-23T18:02:42.670749",
     "status": "completed"
    },
    "tags": []
   },
   "outputs": [
    {
     "data": {
      "application/vnd.jupyter.widget-view+json": {
       "model_id": "0e8c6b82188a4e46b035debe486aaa77",
       "version_major": 2,
       "version_minor": 0
      },
      "text/plain": [
       "HBox(children=(FloatProgress(value=0.0, max=8989.0), HTML(value='')))"
      ]
     },
     "metadata": {},
     "output_type": "display_data"
    },
    {
     "name": "stdout",
     "output_type": "stream",
     "text": [
      "\n"
     ]
    }
   ],
   "source": [
    "def create_test_dataset():\n",
    "    \n",
    "    test_input_ids = tokenize_sentences(test_data['combined_text'], tokenizer, MAX_LEN)\n",
    "    \n",
    "    test_input_ids = pad_sequences(test_input_ids, maxlen=MAX_LEN, dtype=\"long\", value=0, truncating=\"post\", padding=\"post\")\n",
    "    \n",
    "    test_attention_masks = create_attention_masks(test_input_ids)\n",
    "    \n",
    "    test_steps = len(test_data) // TEST_BATCH_SIZE\n",
    "    \n",
    "    test_dataset = create_dataset((test_input_ids, test_attention_masks), batch_size=TEST_BATCH_SIZE, train=False)\n",
    "    \n",
    "    return test_dataset\n",
    "\n",
    "submission = pd.read_csv('../input/researchtopictagaug/sample.csv', index_col='ID')\n",
    "\n",
    "def generate_class_probablities(model,test_dataset,test_steps):\n",
    "    \n",
    "    for i, (token_ids, masks) in enumerate(tqdm(test_dataset, total=test_steps)):\n",
    "        \n",
    "        sample_ids = test_data.iloc[i*TEST_BATCH_SIZE:(i+1)*TEST_BATCH_SIZE]['ID']\n",
    "        \n",
    "        predictions = model(token_ids, attention_mask=masks).numpy()\n",
    "        \n",
    "        submission.loc[sample_ids, label_cols] = predictions\n",
    "    \n",
    "    return submission.loc[:,label_cols].values\n",
    "\n",
    "test_dataset = create_test_dataset()\n",
    "\n",
    "test_steps = len(test_data) // TEST_BATCH_SIZE\n",
    "\n",
    "class_probs = np.zeros(shape =(len(test_data),len(label_cols)))"
   ]
  },
  {
   "cell_type": "code",
   "execution_count": 17,
   "metadata": {
    "execution": {
     "iopub.execute_input": "2020-08-23T18:04:03.218319Z",
     "iopub.status.busy": "2020-08-23T18:04:03.216579Z",
     "iopub.status.idle": "2020-08-23T18:04:03.219266Z",
     "shell.execute_reply": "2020-08-23T18:04:03.219787Z"
    },
    "papermill": {
     "duration": 0.029583,
     "end_time": "2020-08-23T18:04:03.219907",
     "exception": false,
     "start_time": "2020-08-23T18:04:03.190324",
     "status": "completed"
    },
    "tags": []
   },
   "outputs": [],
   "source": [
    "#Gradient Calculation\n",
    "\n",
    "def train_step(model, token_ids, masks, labels):\n",
    "    \n",
    "    labels = tf.dtypes.cast(labels, tf.float32)\n",
    "    \n",
    "    with tf.GradientTape() as tape:\n",
    "        \n",
    "        predictions = model(token_ids, attention_mask=masks)\n",
    "        \n",
    "        loss = loss_object(labels, predictions)\n",
    "    \n",
    "    \n",
    "    gradients = tape.gradient(loss, model.trainable_variables)\n",
    "    \n",
    "    optimizer.apply_gradients(zip(gradients, model.trainable_variables), name = 'gradients')\n",
    "    \n",
    "    train_loss(loss)\n",
    "\n",
    "    for i, auc in enumerate(train_auc_metrics):\n",
    "        \n",
    "        auc.update_state(labels[:,i], predictions[:,i])\n",
    "        \n",
    "def validation_step(model, token_ids, masks, labels):\n",
    "    \n",
    "    labels = tf.dtypes.cast(labels, tf.float32)\n",
    "\n",
    "    predictions = model(token_ids, attention_mask=masks, training=False)\n",
    "    \n",
    "    v_loss = loss_object(labels, predictions)\n",
    "\n",
    "    validation_loss(v_loss)\n",
    "    \n",
    "    for i, auc in enumerate(validation_auc_metrics):\n",
    "        \n",
    "        auc.update_state(labels[:,i], predictions[:,i])                                    "
   ]
  },
  {
   "cell_type": "code",
   "execution_count": 18,
   "metadata": {
    "execution": {
     "iopub.execute_input": "2020-08-23T18:04:03.271479Z",
     "iopub.status.busy": "2020-08-23T18:04:03.267772Z",
     "iopub.status.idle": "2020-08-23T18:24:46.855960Z",
     "shell.execute_reply": "2020-08-23T18:24:46.854894Z"
    },
    "papermill": {
     "duration": 1243.621586,
     "end_time": "2020-08-23T18:24:46.856092",
     "exception": false,
     "start_time": "2020-08-23T18:04:03.234506",
     "status": "completed"
    },
    "tags": []
   },
   "outputs": [
    {
     "name": "stdout",
     "output_type": "stream",
     "text": [
      "================================================== CV 1 ==================================================\n",
      "================================================== EPOCH 1 ==================================================\n"
     ]
    },
    {
     "data": {
      "application/vnd.jupyter.widget-view+json": {
       "model_id": "f834148e834c435e955fe0c8d1973f50",
       "version_major": 2,
       "version_minor": 0
      },
      "text/plain": [
       "HBox(children=(FloatProgress(value=0.0, max=2097.0), HTML(value='')))"
      ]
     },
     "metadata": {},
     "output_type": "display_data"
    },
    {
     "name": "stdout",
     "output_type": "stream",
     "text": [
      "\n",
      "Train Step: 0, Loss: 0.7942501306533813\n",
      "Computer Science roc_auc 0.3125\n",
      "Physics roc_auc 1.0\n",
      "Mathematics roc_auc 1.0\n",
      "Statistics roc_auc 0.8000000715255737\n",
      "Quantitative Biology roc_auc 0.0\n",
      "Quantitative Finance roc_auc 0.0\n",
      "\n",
      "Train Step: 100, Loss: 0.6040513515472412\n",
      "Computer Science roc_auc 0.587896466255188\n",
      "Physics roc_auc 0.7829281091690063\n",
      "Mathematics roc_auc 0.7216666340827942\n",
      "Statistics roc_auc 0.542328953742981\n",
      "Quantitative Biology roc_auc 0.5120849609375\n",
      "Quantitative Finance roc_auc 0.6976553797721863\n",
      "\n",
      "Train Step: 200, Loss: 0.45414483547210693\n",
      "Computer Science roc_auc 0.8730979561805725\n",
      "Physics roc_auc 0.945990800857544\n",
      "Mathematics roc_auc 0.9188166856765747\n",
      "Statistics roc_auc 0.8495171070098877\n",
      "Quantitative Biology roc_auc 0.5815846920013428\n",
      "Quantitative Finance roc_auc 0.2822025716304779\n",
      "\n",
      "Train Step: 300, Loss: 0.37805864214897156\n",
      "Computer Science roc_auc 0.9102733135223389\n",
      "Physics roc_auc 0.9674248695373535\n",
      "Mathematics roc_auc 0.9466093182563782\n",
      "Statistics roc_auc 0.9189521074295044\n",
      "Quantitative Biology roc_auc 0.8039626479148865\n",
      "Quantitative Finance roc_auc 0.9145359992980957\n",
      "\n",
      "Train Step: 400, Loss: 0.32920488715171814\n",
      "Computer Science roc_auc 0.9369924068450928\n",
      "Physics roc_auc 0.98685622215271\n",
      "Mathematics roc_auc 0.9576953053474426\n",
      "Statistics roc_auc 0.9385415315628052\n",
      "Quantitative Biology roc_auc 0.8517334461212158\n",
      "Quantitative Finance roc_auc 0.9001888632774353\n",
      "\n",
      "Train Step: 500, Loss: 0.30080506205558777\n",
      "Computer Science roc_auc 0.9328972101211548\n",
      "Physics roc_auc 0.96806800365448\n",
      "Mathematics roc_auc 0.9542038440704346\n",
      "Statistics roc_auc 0.9460654258728027\n",
      "Quantitative Biology roc_auc 0.9071667194366455\n",
      "Quantitative Finance roc_auc 0.983734130859375\n",
      "\n",
      "Train Step: 600, Loss: 0.2823190987110138\n",
      "Computer Science roc_auc 0.9260448217391968\n",
      "Physics roc_auc 0.9652789831161499\n",
      "Mathematics roc_auc 0.9548459649085999\n",
      "Statistics roc_auc 0.9411237835884094\n",
      "Quantitative Biology roc_auc 0.8978732824325562\n",
      "Quantitative Finance roc_auc 0.9763854146003723\n",
      "\n",
      "Train Step: 700, Loss: 0.2670398950576782\n",
      "Computer Science roc_auc 0.9450049996376038\n",
      "Physics roc_auc 0.9644826054573059\n",
      "Mathematics roc_auc 0.9584566354751587\n",
      "Statistics roc_auc 0.9410852789878845\n",
      "Quantitative Biology roc_auc 0.9790163636207581\n",
      "Quantitative Finance roc_auc 0.9868492484092712\n",
      "\n",
      "Train Step: 800, Loss: 0.2554444372653961\n",
      "Computer Science roc_auc 0.9292122721672058\n",
      "Physics roc_auc 0.9836161136627197\n",
      "Mathematics roc_auc 0.9564769268035889\n",
      "Statistics roc_auc 0.9483484625816345\n",
      "Quantitative Biology roc_auc 0.9640199542045593\n",
      "Quantitative Finance roc_auc 0.9691138863563538\n",
      "\n",
      "Train Step: 900, Loss: 0.2467442899942398\n",
      "Computer Science roc_auc 0.9383956789970398\n",
      "Physics roc_auc 0.9759889245033264\n",
      "Mathematics roc_auc 0.9534006118774414\n",
      "Statistics roc_auc 0.9508273005485535\n",
      "Quantitative Biology roc_auc 0.9752429723739624\n",
      "Quantitative Finance roc_auc 0.9840764403343201\n",
      "\n",
      "Train Step: 1000, Loss: 0.23899279534816742\n",
      "Computer Science roc_auc 0.9510946273803711\n",
      "Physics roc_auc 0.9645796418190002\n",
      "Mathematics roc_auc 0.9626807570457458\n",
      "Statistics roc_auc 0.9479169845581055\n",
      "Quantitative Biology roc_auc 0.9540846943855286\n",
      "Quantitative Finance roc_auc 0.9990869164466858\n",
      "\n",
      "Train Step: 1100, Loss: 0.23119740188121796\n",
      "Computer Science roc_auc 0.9511718153953552\n",
      "Physics roc_auc 0.9825146198272705\n",
      "Mathematics roc_auc 0.9653829336166382\n",
      "Statistics roc_auc 0.9612184762954712\n",
      "Quantitative Biology roc_auc 0.9820646047592163\n",
      "Quantitative Finance roc_auc 0.998360812664032\n",
      "\n",
      "Train Step: 1200, Loss: 0.2256908118724823\n",
      "Computer Science roc_auc 0.945329487323761\n",
      "Physics roc_auc 0.9829806685447693\n",
      "Mathematics roc_auc 0.9658635854721069\n",
      "Statistics roc_auc 0.9520759582519531\n",
      "Quantitative Biology roc_auc 0.9658597111701965\n",
      "Quantitative Finance roc_auc 0.9784563779830933\n",
      "\n",
      "Train Step: 1300, Loss: 0.22041943669319153\n",
      "Computer Science roc_auc 0.9619554877281189\n",
      "Physics roc_auc 0.980739951133728\n",
      "Mathematics roc_auc 0.9584442377090454\n",
      "Statistics roc_auc 0.9446979761123657\n",
      "Quantitative Biology roc_auc 0.9797527194023132\n",
      "Quantitative Finance roc_auc 0.9826582670211792\n",
      "\n",
      "Train Step: 1400, Loss: 0.21474607288837433\n",
      "Computer Science roc_auc 0.9640313386917114\n",
      "Physics roc_auc 0.9853444695472717\n",
      "Mathematics roc_auc 0.9716745018959045\n",
      "Statistics roc_auc 0.9647085070610046\n",
      "Quantitative Biology roc_auc 0.9775591492652893\n",
      "Quantitative Finance roc_auc 0.9984137415885925\n",
      "\n",
      "Train Step: 1500, Loss: 0.21129964292049408\n",
      "Computer Science roc_auc 0.9495964646339417\n",
      "Physics roc_auc 0.9636563658714294\n",
      "Mathematics roc_auc 0.9676259160041809\n",
      "Statistics roc_auc 0.9643495082855225\n",
      "Quantitative Biology roc_auc 0.9801032543182373\n",
      "Quantitative Finance roc_auc 0.9979875087738037\n",
      "\n",
      "Train Step: 1600, Loss: 0.20735110342502594\n",
      "Computer Science roc_auc 0.9559217691421509\n",
      "Physics roc_auc 0.984528660774231\n",
      "Mathematics roc_auc 0.9750182628631592\n",
      "Statistics roc_auc 0.9687752723693848\n",
      "Quantitative Biology roc_auc 0.9690916538238525\n",
      "Quantitative Finance roc_auc 0.9442381262779236\n",
      "\n",
      "Train Step: 1700, Loss: 0.20400264859199524\n",
      "Computer Science roc_auc 0.9560559988021851\n",
      "Physics roc_auc 0.9806904196739197\n",
      "Mathematics roc_auc 0.968924343585968\n",
      "Statistics roc_auc 0.9668354988098145\n",
      "Quantitative Biology roc_auc 0.9720145463943481\n",
      "Quantitative Finance roc_auc 0.9275880455970764\n",
      "\n",
      "Train Step: 1800, Loss: 0.20223109424114227\n",
      "Computer Science roc_auc 0.9406504034996033\n",
      "Physics roc_auc 0.9789557456970215\n",
      "Mathematics roc_auc 0.9603152275085449\n",
      "Statistics roc_auc 0.952963650226593\n",
      "Quantitative Biology roc_auc 0.9788128733634949\n",
      "Quantitative Finance roc_auc 0.8606212735176086\n",
      "\n",
      "Train Step: 1900, Loss: 0.1993270069360733\n",
      "Computer Science roc_auc 0.9500173330307007\n",
      "Physics roc_auc 0.98386150598526\n",
      "Mathematics roc_auc 0.9743884801864624\n",
      "Statistics roc_auc 0.9613136053085327\n",
      "Quantitative Biology roc_auc 0.9910447001457214\n",
      "Quantitative Finance roc_auc 0.9976734519004822\n",
      "\n",
      "Train Step: 2000, Loss: 0.19662657380104065\n",
      "Computer Science roc_auc 0.9592587351799011\n",
      "Physics roc_auc 0.980536699295044\n",
      "Mathematics roc_auc 0.9567238688468933\n",
      "Statistics roc_auc 0.9743373394012451\n",
      "Quantitative Biology roc_auc 0.9459502696990967\n",
      "Quantitative Finance roc_auc 0.8745911717414856\n",
      "\n"
     ]
    },
    {
     "data": {
      "application/vnd.jupyter.widget-view+json": {
       "model_id": "530ad8e3114d403bb1731e1b70eedefd",
       "version_major": 2,
       "version_minor": 0
      },
      "text/plain": [
       "HBox(children=(FloatProgress(value=0.0, max=525.0), HTML(value='')))"
      ]
     },
     "metadata": {},
     "output_type": "display_data"
    },
    {
     "name": "stdout",
     "output_type": "stream",
     "text": [
      "\n",
      "\n",
      "Epoch 1, Validation Loss: 0.154645174741745, Time: 1102.5867094993591\n",
      "\n",
      "Computer Science roc_auc 0.9555482864379883\n",
      "Physics roc_auc 0.9825984835624695\n",
      "Mathematics roc_auc 0.9649950265884399\n",
      "Statistics roc_auc 0.9562990665435791\n",
      "Quantitative Biology roc_auc 0.9656068682670593\n",
      "Quantitative Finance roc_auc 0.9945358037948608\n",
      "\n",
      "\n"
     ]
    },
    {
     "data": {
      "application/vnd.jupyter.widget-view+json": {
       "model_id": "1a45f4b5026d43968164c85484dd7bef",
       "version_major": 2,
       "version_minor": 0
      },
      "text/plain": [
       "HBox(children=(FloatProgress(value=0.0, max=1123.0), HTML(value='')))"
      ]
     },
     "metadata": {},
     "output_type": "display_data"
    },
    {
     "name": "stdout",
     "output_type": "stream",
     "text": [
      "\n"
     ]
    }
   ],
   "source": [
    "#seeds = [0 ,31 ,97,193,1001,83,42,456,21,237] # for ensembles\n",
    "\n",
    "seeds = [0]\n",
    "\n",
    "for seed in range(len(seeds)):\n",
    "    \n",
    "    print('=' * 50, f\"CV {seed+1}\", '=' * 50)\n",
    "    \n",
    "    model = BertClassifier(TFBertModel.from_pretrained(bert_model_name, from_pt=True, config = config), len(label_cols))\n",
    "    \n",
    "    labels =  train_data[label_cols].values\n",
    "    \n",
    "    train_inputs, validation_inputs, train_labels, validation_labels = train_test_split(input_ids, labels, random_state=seed, test_size = 0.2)\n",
    "\n",
    "    train_masks, validation_masks = train_test_split(attention_masks, random_state=seed, test_size=0.2)\n",
    "\n",
    "    train_size = len(train_inputs)\n",
    "\n",
    "    validation_size = len(validation_inputs)\n",
    "\n",
    "\n",
    "    train_dataset = create_dataset((train_inputs, train_masks, train_labels), batch_size=BATCH_SIZE,train=True)\n",
    "\n",
    "    validation_dataset = create_dataset((validation_inputs, validation_masks, validation_labels), batch_size=BATCH_SIZE,train=False)\n",
    "    \n",
    "    \n",
    "    steps_per_epoch = train_size // (BATCH_SIZE)\n",
    "\n",
    "    #  Loss Function\n",
    "    loss_object = tf.keras.losses.BinaryCrossentropy(from_logits=False)\n",
    "\n",
    "    train_loss = tf.keras.metrics.Mean(name='train_loss')\n",
    "\n",
    "    validation_loss = tf.keras.metrics.Mean(name='val_loss')\n",
    "\n",
    "    #  Optimizer (with 1-cycle-policy)\n",
    "    warmup_steps = steps_per_epoch // 3\n",
    "\n",
    "    total_steps = steps_per_epoch * NR_EPOCHS - warmup_steps\n",
    "\n",
    "    optimizer = create_optimizer(init_lr=2e-5, num_train_steps=total_steps, num_warmup_steps=warmup_steps)\n",
    "\n",
    "    # Gradients\n",
    "    \n",
    "    gradients = 0\n",
    "    \n",
    "    #  Metrics\n",
    "    train_auc_metrics = [tf.keras.metrics.AUC() for i in range(len(label_cols))]\n",
    "\n",
    "    validation_auc_metrics = [tf.keras.metrics.AUC() for i in range(len(label_cols))]\n",
    "\n",
    "\n",
    "    for epoch in range(NR_EPOCHS):\n",
    "\n",
    "        print('=' * 50, f\"EPOCH {epoch+1}\", '=' * 50)\n",
    "\n",
    "        start = time.time()\n",
    "\n",
    "\n",
    "        for batch_no, (token_ids, masks, labels) in enumerate(tqdm(train_dataset)):\n",
    "\n",
    "            train_step(model, token_ids, masks, labels)\n",
    "\n",
    "            if batch_no % 100 == 0:\n",
    "\n",
    "                    print(f'\\nTrain Step: {batch_no}, Loss: {train_loss.result()}')\n",
    "\n",
    "                    for i, label_name in enumerate(label_cols):\n",
    "\n",
    "                        print(f\"{label_name} roc_auc {train_auc_metrics[i].result()}\")\n",
    "\n",
    "                        train_auc_metrics[i].reset_states()\n",
    "\n",
    "        for batch_no, (token_ids, masks, labels) in enumerate(tqdm(validation_dataset)):\n",
    "\n",
    "            validation_step(model, token_ids, masks, labels)\n",
    "\n",
    "        print(f'\\nEpoch {epoch+1}, Validation Loss: {validation_loss.result()}, Time: {time.time()-start}\\n')\n",
    "\n",
    "        for i, label_name in enumerate(label_cols):\n",
    "\n",
    "            print(f\"{label_name} roc_auc {validation_auc_metrics[i].result()}\")\n",
    "\n",
    "            validation_auc_metrics[i].reset_states()\n",
    "\n",
    "        print('\\n')\n",
    "        \n",
    "    probs = generate_class_probablities(model,test_dataset,test_steps)\n",
    "        \n",
    "    submission.loc[:, label_cols] = probs\n",
    "        \n",
    "    submission.to_csv('probs'+str(seed)+'.csv')\n",
    "        \n",
    "    class_probs += probs"
   ]
  },
  {
   "cell_type": "code",
   "execution_count": 19,
   "metadata": {
    "execution": {
     "iopub.execute_input": "2020-08-23T18:24:46.898347Z",
     "iopub.status.busy": "2020-08-23T18:24:46.896015Z",
     "iopub.status.idle": "2020-08-23T18:24:47.040964Z",
     "shell.execute_reply": "2020-08-23T18:24:47.040352Z"
    },
    "papermill": {
     "duration": 0.167203,
     "end_time": "2020-08-23T18:24:47.041088",
     "exception": false,
     "start_time": "2020-08-23T18:24:46.873885",
     "status": "completed"
    },
    "tags": []
   },
   "outputs": [],
   "source": [
    "submission.loc[:, label_cols] = class_probs\n",
    "    \n",
    "submission.to_csv('probs_300.csv')"
   ]
  },
  {
   "cell_type": "code",
   "execution_count": 20,
   "metadata": {
    "execution": {
     "iopub.execute_input": "2020-08-23T18:24:47.083960Z",
     "iopub.status.busy": "2020-08-23T18:24:47.082974Z",
     "iopub.status.idle": "2020-08-23T18:24:47.096904Z",
     "shell.execute_reply": "2020-08-23T18:24:47.097444Z"
    },
    "papermill": {
     "duration": 0.03772,
     "end_time": "2020-08-23T18:24:47.097608",
     "exception": false,
     "start_time": "2020-08-23T18:24:47.059888",
     "status": "completed"
    },
    "tags": []
   },
   "outputs": [
    {
     "data": {
      "text/html": [
       "<div>\n",
       "<style scoped>\n",
       "    .dataframe tbody tr th:only-of-type {\n",
       "        vertical-align: middle;\n",
       "    }\n",
       "\n",
       "    .dataframe tbody tr th {\n",
       "        vertical-align: top;\n",
       "    }\n",
       "\n",
       "    .dataframe thead th {\n",
       "        text-align: right;\n",
       "    }\n",
       "</style>\n",
       "<table border=\"1\" class=\"dataframe\">\n",
       "  <thead>\n",
       "    <tr style=\"text-align: right;\">\n",
       "      <th></th>\n",
       "      <th>Computer Science</th>\n",
       "      <th>Physics</th>\n",
       "      <th>Mathematics</th>\n",
       "      <th>Statistics</th>\n",
       "      <th>Quantitative Biology</th>\n",
       "      <th>Quantitative Finance</th>\n",
       "    </tr>\n",
       "    <tr>\n",
       "      <th>ID</th>\n",
       "      <th></th>\n",
       "      <th></th>\n",
       "      <th></th>\n",
       "      <th></th>\n",
       "      <th></th>\n",
       "      <th></th>\n",
       "    </tr>\n",
       "  </thead>\n",
       "  <tbody>\n",
       "    <tr>\n",
       "      <th>20973</th>\n",
       "      <td>0</td>\n",
       "      <td>0</td>\n",
       "      <td>0</td>\n",
       "      <td>1</td>\n",
       "      <td>0</td>\n",
       "      <td>0</td>\n",
       "    </tr>\n",
       "    <tr>\n",
       "      <th>20974</th>\n",
       "      <td>0</td>\n",
       "      <td>1</td>\n",
       "      <td>0</td>\n",
       "      <td>0</td>\n",
       "      <td>0</td>\n",
       "      <td>0</td>\n",
       "    </tr>\n",
       "    <tr>\n",
       "      <th>20975</th>\n",
       "      <td>1</td>\n",
       "      <td>0</td>\n",
       "      <td>0</td>\n",
       "      <td>0</td>\n",
       "      <td>0</td>\n",
       "      <td>0</td>\n",
       "    </tr>\n",
       "    <tr>\n",
       "      <th>20976</th>\n",
       "      <td>0</td>\n",
       "      <td>1</td>\n",
       "      <td>0</td>\n",
       "      <td>0</td>\n",
       "      <td>0</td>\n",
       "      <td>0</td>\n",
       "    </tr>\n",
       "    <tr>\n",
       "      <th>20977</th>\n",
       "      <td>1</td>\n",
       "      <td>0</td>\n",
       "      <td>0</td>\n",
       "      <td>0</td>\n",
       "      <td>0</td>\n",
       "      <td>0</td>\n",
       "    </tr>\n",
       "  </tbody>\n",
       "</table>\n",
       "</div>"
      ],
      "text/plain": [
       "       Computer Science  Physics  Mathematics  Statistics  \\\n",
       "ID                                                          \n",
       "20973                 0        0            0           1   \n",
       "20974                 0        1            0           0   \n",
       "20975                 1        0            0           0   \n",
       "20976                 0        1            0           0   \n",
       "20977                 1        0            0           0   \n",
       "\n",
       "       Quantitative Biology  Quantitative Finance  \n",
       "ID                                                 \n",
       "20973                     0                     0  \n",
       "20974                     0                     0  \n",
       "20975                     0                     0  \n",
       "20976                     0                     0  \n",
       "20977                     0                     0  "
      ]
     },
     "execution_count": 20,
     "metadata": {},
     "output_type": "execute_result"
    }
   ],
   "source": [
    "predictions = (class_probs/len(seeds) > threshold).astype(int)\n",
    "\n",
    "submission.loc[:, label_cols] = predictions\n",
    "\n",
    "submission.head()"
   ]
  },
  {
   "cell_type": "code",
   "execution_count": 21,
   "metadata": {
    "execution": {
     "iopub.execute_input": "2020-08-23T18:24:47.138266Z",
     "iopub.status.busy": "2020-08-23T18:24:47.137629Z",
     "iopub.status.idle": "2020-08-23T18:24:47.170654Z",
     "shell.execute_reply": "2020-08-23T18:24:47.169816Z"
    },
    "papermill": {
     "duration": 0.055697,
     "end_time": "2020-08-23T18:24:47.170769",
     "exception": false,
     "start_time": "2020-08-23T18:24:47.115072",
     "status": "completed"
    },
    "tags": []
   },
   "outputs": [],
   "source": [
    "submission.to_csv('submission.csv')"
   ]
  },
  {
   "cell_type": "code",
   "execution_count": null,
   "metadata": {
    "papermill": {
     "duration": 0.01703,
     "end_time": "2020-08-23T18:24:47.205039",
     "exception": false,
     "start_time": "2020-08-23T18:24:47.188009",
     "status": "completed"
    },
    "tags": []
   },
   "outputs": [],
   "source": []
  }
 ],
 "metadata": {
  "kernelspec": {
   "display_name": "Python 3",
   "language": "python",
   "name": "python3"
  },
  "language_info": {
   "codemirror_mode": {
    "name": "ipython",
    "version": 3
   },
   "file_extension": ".py",
   "mimetype": "text/x-python",
   "name": "python",
   "nbconvert_exporter": "python",
   "pygments_lexer": "ipython3",
   "version": "3.7.6"
  },
  "papermill": {
   "duration": 1589.5658,
   "end_time": "2020-08-23T18:24:48.446345",
   "environment_variables": {},
   "exception": null,
   "input_path": "__notebook__.ipynb",
   "output_path": "__notebook__.ipynb",
   "parameters": {},
   "start_time": "2020-08-23T17:58:18.880545",
   "version": "2.1.0"
  },
  "widgets": {
   "application/vnd.jupyter.widget-state+json": {
    "state": {
     "097de5ab13034b31a2d0d8df23c2e856": {
      "model_module": "@jupyter-widgets/controls",
      "model_module_version": "1.5.0",
      "model_name": "FloatProgressModel",
      "state": {
       "_dom_classes": [],
       "_model_module": "@jupyter-widgets/controls",
       "_model_module_version": "1.5.0",
       "_model_name": "FloatProgressModel",
       "_view_count": null,
       "_view_module": "@jupyter-widgets/controls",
       "_view_module_version": "1.5.0",
       "_view_name": "ProgressView",
       "bar_style": "success",
       "description": "100%",
       "description_tooltip": null,
       "layout": "IPY_MODEL_48430a29e3fe4651bc3a3ba68000eafe",
       "max": 2097.0,
       "min": 0.0,
       "orientation": "horizontal",
       "style": "IPY_MODEL_d8cff7c7320b4f33be6e453c3ea08858",
       "value": 2097.0
      }
     },
     "0e8c6b82188a4e46b035debe486aaa77": {
      "model_module": "@jupyter-widgets/controls",
      "model_module_version": "1.5.0",
      "model_name": "HBoxModel",
      "state": {
       "_dom_classes": [],
       "_model_module": "@jupyter-widgets/controls",
       "_model_module_version": "1.5.0",
       "_model_name": "HBoxModel",
       "_view_count": null,
       "_view_module": "@jupyter-widgets/controls",
       "_view_module_version": "1.5.0",
       "_view_name": "HBoxView",
       "box_style": "",
       "children": [
        "IPY_MODEL_1e243eea15e1453f9913d6eba775f6cb",
        "IPY_MODEL_94db6dfbcd6b454eba016b0951b29115"
       ],
       "layout": "IPY_MODEL_4b38b2f87ee5445787e2d8cfa01d5b68"
      }
     },
     "11fb3a2a17ec444e8f9279f54be1c781": {
      "model_module": "@jupyter-widgets/base",
      "model_module_version": "1.2.0",
      "model_name": "LayoutModel",
      "state": {
       "_model_module": "@jupyter-widgets/base",
       "_model_module_version": "1.2.0",
       "_model_name": "LayoutModel",
       "_view_count": null,
       "_view_module": "@jupyter-widgets/base",
       "_view_module_version": "1.2.0",
       "_view_name": "LayoutView",
       "align_content": null,
       "align_items": null,
       "align_self": null,
       "border": null,
       "bottom": null,
       "display": null,
       "flex": null,
       "flex_flow": null,
       "grid_area": null,
       "grid_auto_columns": null,
       "grid_auto_flow": null,
       "grid_auto_rows": null,
       "grid_column": null,
       "grid_gap": null,
       "grid_row": null,
       "grid_template_areas": null,
       "grid_template_columns": null,
       "grid_template_rows": null,
       "height": null,
       "justify_content": null,
       "justify_items": null,
       "left": null,
       "margin": null,
       "max_height": null,
       "max_width": null,
       "min_height": null,
       "min_width": null,
       "object_fit": null,
       "object_position": null,
       "order": null,
       "overflow": null,
       "overflow_x": null,
       "overflow_y": null,
       "padding": null,
       "right": null,
       "top": null,
       "visibility": null,
       "width": null
      }
     },
     "12bac40790b545e5b9fd799fefe42036": {
      "model_module": "@jupyter-widgets/base",
      "model_module_version": "1.2.0",
      "model_name": "LayoutModel",
      "state": {
       "_model_module": "@jupyter-widgets/base",
       "_model_module_version": "1.2.0",
       "_model_name": "LayoutModel",
       "_view_count": null,
       "_view_module": "@jupyter-widgets/base",
       "_view_module_version": "1.2.0",
       "_view_name": "LayoutView",
       "align_content": null,
       "align_items": null,
       "align_self": null,
       "border": null,
       "bottom": null,
       "display": null,
       "flex": null,
       "flex_flow": null,
       "grid_area": null,
       "grid_auto_columns": null,
       "grid_auto_flow": null,
       "grid_auto_rows": null,
       "grid_column": null,
       "grid_gap": null,
       "grid_row": null,
       "grid_template_areas": null,
       "grid_template_columns": null,
       "grid_template_rows": null,
       "height": null,
       "justify_content": null,
       "justify_items": null,
       "left": null,
       "margin": null,
       "max_height": null,
       "max_width": null,
       "min_height": null,
       "min_width": null,
       "object_fit": null,
       "object_position": null,
       "order": null,
       "overflow": null,
       "overflow_x": null,
       "overflow_y": null,
       "padding": null,
       "right": null,
       "top": null,
       "visibility": null,
       "width": null
      }
     },
     "1a45f4b5026d43968164c85484dd7bef": {
      "model_module": "@jupyter-widgets/controls",
      "model_module_version": "1.5.0",
      "model_name": "HBoxModel",
      "state": {
       "_dom_classes": [],
       "_model_module": "@jupyter-widgets/controls",
       "_model_module_version": "1.5.0",
       "_model_name": "HBoxModel",
       "_view_count": null,
       "_view_module": "@jupyter-widgets/controls",
       "_view_module_version": "1.5.0",
       "_view_name": "HBoxView",
       "box_style": "",
       "children": [
        "IPY_MODEL_6b6e1cbb658e4c79ae7509816a9a82e3",
        "IPY_MODEL_44b399d4f200453781b5514902f1ed9e"
       ],
       "layout": "IPY_MODEL_84841c0306d44906ab07d3e742d4d19b"
      }
     },
     "1e243eea15e1453f9913d6eba775f6cb": {
      "model_module": "@jupyter-widgets/controls",
      "model_module_version": "1.5.0",
      "model_name": "FloatProgressModel",
      "state": {
       "_dom_classes": [],
       "_model_module": "@jupyter-widgets/controls",
       "_model_module_version": "1.5.0",
       "_model_name": "FloatProgressModel",
       "_view_count": null,
       "_view_module": "@jupyter-widgets/controls",
       "_view_module_version": "1.5.0",
       "_view_name": "ProgressView",
       "bar_style": "success",
       "description": "100%",
       "description_tooltip": null,
       "layout": "IPY_MODEL_dfcb430c992f44bca15af2b64ed14db8",
       "max": 8989.0,
       "min": 0.0,
       "orientation": "horizontal",
       "style": "IPY_MODEL_56d67f213ad94db6aca1607cb64026c5",
       "value": 8989.0
      }
     },
     "200cae93489b434f8513eef545128ab7": {
      "model_module": "@jupyter-widgets/controls",
      "model_module_version": "1.5.0",
      "model_name": "FloatProgressModel",
      "state": {
       "_dom_classes": [],
       "_model_module": "@jupyter-widgets/controls",
       "_model_module_version": "1.5.0",
       "_model_name": "FloatProgressModel",
       "_view_count": null,
       "_view_module": "@jupyter-widgets/controls",
       "_view_module_version": "1.5.0",
       "_view_name": "ProgressView",
       "bar_style": "success",
       "description": "100%",
       "description_tooltip": null,
       "layout": "IPY_MODEL_4b5849d087b24b12bc95e61fd744290d",
       "max": 20971.0,
       "min": 0.0,
       "orientation": "horizontal",
       "style": "IPY_MODEL_83b4b2512a234d26ae3f5d9a043aec52",
       "value": 20971.0
      }
     },
     "361ba49195044b979eb5809c5ea73df4": {
      "model_module": "@jupyter-widgets/controls",
      "model_module_version": "1.5.0",
      "model_name": "HTMLModel",
      "state": {
       "_dom_classes": [],
       "_model_module": "@jupyter-widgets/controls",
       "_model_module_version": "1.5.0",
       "_model_name": "HTMLModel",
       "_view_count": null,
       "_view_module": "@jupyter-widgets/controls",
       "_view_module_version": "1.5.0",
       "_view_name": "HTMLView",
       "description": "",
       "description_tooltip": null,
       "layout": "IPY_MODEL_12bac40790b545e5b9fd799fefe42036",
       "placeholder": "​",
       "style": "IPY_MODEL_9243e67ff9dc4067baa76172d3f7f8bb",
       "value": " 2097/2097 [17:07&lt;00:00,  2.04it/s]"
      }
     },
     "371d6616f3dc400fb417d5db7543a5d7": {
      "model_module": "@jupyter-widgets/controls",
      "model_module_version": "1.5.0",
      "model_name": "DescriptionStyleModel",
      "state": {
       "_model_module": "@jupyter-widgets/controls",
       "_model_module_version": "1.5.0",
       "_model_name": "DescriptionStyleModel",
       "_view_count": null,
       "_view_module": "@jupyter-widgets/base",
       "_view_module_version": "1.2.0",
       "_view_name": "StyleView",
       "description_width": ""
      }
     },
     "3fa4a4b62be540e498835486cd990454": {
      "model_module": "@jupyter-widgets/controls",
      "model_module_version": "1.5.0",
      "model_name": "FloatProgressModel",
      "state": {
       "_dom_classes": [],
       "_model_module": "@jupyter-widgets/controls",
       "_model_module_version": "1.5.0",
       "_model_name": "FloatProgressModel",
       "_view_count": null,
       "_view_module": "@jupyter-widgets/controls",
       "_view_module_version": "1.5.0",
       "_view_name": "ProgressView",
       "bar_style": "success",
       "description": "100%",
       "description_tooltip": null,
       "layout": "IPY_MODEL_6af26cbb7886470989b6b660032df190",
       "max": 525.0,
       "min": 0.0,
       "orientation": "horizontal",
       "style": "IPY_MODEL_7fc94a3c92fc441494717a700ab59796",
       "value": 525.0
      }
     },
     "44b399d4f200453781b5514902f1ed9e": {
      "model_module": "@jupyter-widgets/controls",
      "model_module_version": "1.5.0",
      "model_name": "HTMLModel",
      "state": {
       "_dom_classes": [],
       "_model_module": "@jupyter-widgets/controls",
       "_model_module_version": "1.5.0",
       "_model_name": "HTMLModel",
       "_view_count": null,
       "_view_module": "@jupyter-widgets/controls",
       "_view_module_version": "1.5.0",
       "_view_name": "HTMLView",
       "description": "",
       "description_tooltip": null,
       "layout": "IPY_MODEL_11fb3a2a17ec444e8f9279f54be1c781",
       "placeholder": "​",
       "style": "IPY_MODEL_371d6616f3dc400fb417d5db7543a5d7",
       "value": " 1124/? [02:18&lt;00:00,  8.12it/s]"
      }
     },
     "48430a29e3fe4651bc3a3ba68000eafe": {
      "model_module": "@jupyter-widgets/base",
      "model_module_version": "1.2.0",
      "model_name": "LayoutModel",
      "state": {
       "_model_module": "@jupyter-widgets/base",
       "_model_module_version": "1.2.0",
       "_model_name": "LayoutModel",
       "_view_count": null,
       "_view_module": "@jupyter-widgets/base",
       "_view_module_version": "1.2.0",
       "_view_name": "LayoutView",
       "align_content": null,
       "align_items": null,
       "align_self": null,
       "border": null,
       "bottom": null,
       "display": null,
       "flex": null,
       "flex_flow": null,
       "grid_area": null,
       "grid_auto_columns": null,
       "grid_auto_flow": null,
       "grid_auto_rows": null,
       "grid_column": null,
       "grid_gap": null,
       "grid_row": null,
       "grid_template_areas": null,
       "grid_template_columns": null,
       "grid_template_rows": null,
       "height": null,
       "justify_content": null,
       "justify_items": null,
       "left": null,
       "margin": null,
       "max_height": null,
       "max_width": null,
       "min_height": null,
       "min_width": null,
       "object_fit": null,
       "object_position": null,
       "order": null,
       "overflow": null,
       "overflow_x": null,
       "overflow_y": null,
       "padding": null,
       "right": null,
       "top": null,
       "visibility": null,
       "width": null
      }
     },
     "4b38b2f87ee5445787e2d8cfa01d5b68": {
      "model_module": "@jupyter-widgets/base",
      "model_module_version": "1.2.0",
      "model_name": "LayoutModel",
      "state": {
       "_model_module": "@jupyter-widgets/base",
       "_model_module_version": "1.2.0",
       "_model_name": "LayoutModel",
       "_view_count": null,
       "_view_module": "@jupyter-widgets/base",
       "_view_module_version": "1.2.0",
       "_view_name": "LayoutView",
       "align_content": null,
       "align_items": null,
       "align_self": null,
       "border": null,
       "bottom": null,
       "display": null,
       "flex": null,
       "flex_flow": null,
       "grid_area": null,
       "grid_auto_columns": null,
       "grid_auto_flow": null,
       "grid_auto_rows": null,
       "grid_column": null,
       "grid_gap": null,
       "grid_row": null,
       "grid_template_areas": null,
       "grid_template_columns": null,
       "grid_template_rows": null,
       "height": null,
       "justify_content": null,
       "justify_items": null,
       "left": null,
       "margin": null,
       "max_height": null,
       "max_width": null,
       "min_height": null,
       "min_width": null,
       "object_fit": null,
       "object_position": null,
       "order": null,
       "overflow": null,
       "overflow_x": null,
       "overflow_y": null,
       "padding": null,
       "right": null,
       "top": null,
       "visibility": null,
       "width": null
      }
     },
     "4b5849d087b24b12bc95e61fd744290d": {
      "model_module": "@jupyter-widgets/base",
      "model_module_version": "1.2.0",
      "model_name": "LayoutModel",
      "state": {
       "_model_module": "@jupyter-widgets/base",
       "_model_module_version": "1.2.0",
       "_model_name": "LayoutModel",
       "_view_count": null,
       "_view_module": "@jupyter-widgets/base",
       "_view_module_version": "1.2.0",
       "_view_name": "LayoutView",
       "align_content": null,
       "align_items": null,
       "align_self": null,
       "border": null,
       "bottom": null,
       "display": null,
       "flex": null,
       "flex_flow": null,
       "grid_area": null,
       "grid_auto_columns": null,
       "grid_auto_flow": null,
       "grid_auto_rows": null,
       "grid_column": null,
       "grid_gap": null,
       "grid_row": null,
       "grid_template_areas": null,
       "grid_template_columns": null,
       "grid_template_rows": null,
       "height": null,
       "justify_content": null,
       "justify_items": null,
       "left": null,
       "margin": null,
       "max_height": null,
       "max_width": null,
       "min_height": null,
       "min_width": null,
       "object_fit": null,
       "object_position": null,
       "order": null,
       "overflow": null,
       "overflow_x": null,
       "overflow_y": null,
       "padding": null,
       "right": null,
       "top": null,
       "visibility": null,
       "width": null
      }
     },
     "525a8ce782634612b16dbe7f57fecce8": {
      "model_module": "@jupyter-widgets/controls",
      "model_module_version": "1.5.0",
      "model_name": "DescriptionStyleModel",
      "state": {
       "_model_module": "@jupyter-widgets/controls",
       "_model_module_version": "1.5.0",
       "_model_name": "DescriptionStyleModel",
       "_view_count": null,
       "_view_module": "@jupyter-widgets/base",
       "_view_module_version": "1.2.0",
       "_view_name": "StyleView",
       "description_width": ""
      }
     },
     "530ad8e3114d403bb1731e1b70eedefd": {
      "model_module": "@jupyter-widgets/controls",
      "model_module_version": "1.5.0",
      "model_name": "HBoxModel",
      "state": {
       "_dom_classes": [],
       "_model_module": "@jupyter-widgets/controls",
       "_model_module_version": "1.5.0",
       "_model_name": "HBoxModel",
       "_view_count": null,
       "_view_module": "@jupyter-widgets/controls",
       "_view_module_version": "1.5.0",
       "_view_name": "HBoxView",
       "box_style": "",
       "children": [
        "IPY_MODEL_3fa4a4b62be540e498835486cd990454",
        "IPY_MODEL_a9611902f03748109478654f4324b9be"
       ],
       "layout": "IPY_MODEL_6c2be08309c047538fd46a3f771f94e3"
      }
     },
     "56d67f213ad94db6aca1607cb64026c5": {
      "model_module": "@jupyter-widgets/controls",
      "model_module_version": "1.5.0",
      "model_name": "ProgressStyleModel",
      "state": {
       "_model_module": "@jupyter-widgets/controls",
       "_model_module_version": "1.5.0",
       "_model_name": "ProgressStyleModel",
       "_view_count": null,
       "_view_module": "@jupyter-widgets/base",
       "_view_module_version": "1.2.0",
       "_view_name": "StyleView",
       "bar_color": null,
       "description_width": "initial"
      }
     },
     "59cb14cd064143bdad99767501af0d68": {
      "model_module": "@jupyter-widgets/base",
      "model_module_version": "1.2.0",
      "model_name": "LayoutModel",
      "state": {
       "_model_module": "@jupyter-widgets/base",
       "_model_module_version": "1.2.0",
       "_model_name": "LayoutModel",
       "_view_count": null,
       "_view_module": "@jupyter-widgets/base",
       "_view_module_version": "1.2.0",
       "_view_name": "LayoutView",
       "align_content": null,
       "align_items": null,
       "align_self": null,
       "border": null,
       "bottom": null,
       "display": null,
       "flex": null,
       "flex_flow": null,
       "grid_area": null,
       "grid_auto_columns": null,
       "grid_auto_flow": null,
       "grid_auto_rows": null,
       "grid_column": null,
       "grid_gap": null,
       "grid_row": null,
       "grid_template_areas": null,
       "grid_template_columns": null,
       "grid_template_rows": null,
       "height": null,
       "justify_content": null,
       "justify_items": null,
       "left": null,
       "margin": null,
       "max_height": null,
       "max_width": null,
       "min_height": null,
       "min_width": null,
       "object_fit": null,
       "object_position": null,
       "order": null,
       "overflow": null,
       "overflow_x": null,
       "overflow_y": null,
       "padding": null,
       "right": null,
       "top": null,
       "visibility": null,
       "width": null
      }
     },
     "6886c71239a24d0c87e3bbb506a7791a": {
      "model_module": "@jupyter-widgets/controls",
      "model_module_version": "1.5.0",
      "model_name": "DescriptionStyleModel",
      "state": {
       "_model_module": "@jupyter-widgets/controls",
       "_model_module_version": "1.5.0",
       "_model_name": "DescriptionStyleModel",
       "_view_count": null,
       "_view_module": "@jupyter-widgets/base",
       "_view_module_version": "1.2.0",
       "_view_name": "StyleView",
       "description_width": ""
      }
     },
     "6af26cbb7886470989b6b660032df190": {
      "model_module": "@jupyter-widgets/base",
      "model_module_version": "1.2.0",
      "model_name": "LayoutModel",
      "state": {
       "_model_module": "@jupyter-widgets/base",
       "_model_module_version": "1.2.0",
       "_model_name": "LayoutModel",
       "_view_count": null,
       "_view_module": "@jupyter-widgets/base",
       "_view_module_version": "1.2.0",
       "_view_name": "LayoutView",
       "align_content": null,
       "align_items": null,
       "align_self": null,
       "border": null,
       "bottom": null,
       "display": null,
       "flex": null,
       "flex_flow": null,
       "grid_area": null,
       "grid_auto_columns": null,
       "grid_auto_flow": null,
       "grid_auto_rows": null,
       "grid_column": null,
       "grid_gap": null,
       "grid_row": null,
       "grid_template_areas": null,
       "grid_template_columns": null,
       "grid_template_rows": null,
       "height": null,
       "justify_content": null,
       "justify_items": null,
       "left": null,
       "margin": null,
       "max_height": null,
       "max_width": null,
       "min_height": null,
       "min_width": null,
       "object_fit": null,
       "object_position": null,
       "order": null,
       "overflow": null,
       "overflow_x": null,
       "overflow_y": null,
       "padding": null,
       "right": null,
       "top": null,
       "visibility": null,
       "width": null
      }
     },
     "6b6e1cbb658e4c79ae7509816a9a82e3": {
      "model_module": "@jupyter-widgets/controls",
      "model_module_version": "1.5.0",
      "model_name": "FloatProgressModel",
      "state": {
       "_dom_classes": [],
       "_model_module": "@jupyter-widgets/controls",
       "_model_module_version": "1.5.0",
       "_model_name": "FloatProgressModel",
       "_view_count": null,
       "_view_module": "@jupyter-widgets/controls",
       "_view_module_version": "1.5.0",
       "_view_name": "ProgressView",
       "bar_style": "success",
       "description": "",
       "description_tooltip": null,
       "layout": "IPY_MODEL_e40cacd69e4944ed91e330e21a39e3a2",
       "max": 1123.0,
       "min": 0.0,
       "orientation": "horizontal",
       "style": "IPY_MODEL_c6fccb53c6ad4d0caa4a8aaa7ac64614",
       "value": 1123.0
      }
     },
     "6c2be08309c047538fd46a3f771f94e3": {
      "model_module": "@jupyter-widgets/base",
      "model_module_version": "1.2.0",
      "model_name": "LayoutModel",
      "state": {
       "_model_module": "@jupyter-widgets/base",
       "_model_module_version": "1.2.0",
       "_model_name": "LayoutModel",
       "_view_count": null,
       "_view_module": "@jupyter-widgets/base",
       "_view_module_version": "1.2.0",
       "_view_name": "LayoutView",
       "align_content": null,
       "align_items": null,
       "align_self": null,
       "border": null,
       "bottom": null,
       "display": null,
       "flex": null,
       "flex_flow": null,
       "grid_area": null,
       "grid_auto_columns": null,
       "grid_auto_flow": null,
       "grid_auto_rows": null,
       "grid_column": null,
       "grid_gap": null,
       "grid_row": null,
       "grid_template_areas": null,
       "grid_template_columns": null,
       "grid_template_rows": null,
       "height": null,
       "justify_content": null,
       "justify_items": null,
       "left": null,
       "margin": null,
       "max_height": null,
       "max_width": null,
       "min_height": null,
       "min_width": null,
       "object_fit": null,
       "object_position": null,
       "order": null,
       "overflow": null,
       "overflow_x": null,
       "overflow_y": null,
       "padding": null,
       "right": null,
       "top": null,
       "visibility": null,
       "width": null
      }
     },
     "75ad595dada54c8eac911c6b347b3b53": {
      "model_module": "@jupyter-widgets/base",
      "model_module_version": "1.2.0",
      "model_name": "LayoutModel",
      "state": {
       "_model_module": "@jupyter-widgets/base",
       "_model_module_version": "1.2.0",
       "_model_name": "LayoutModel",
       "_view_count": null,
       "_view_module": "@jupyter-widgets/base",
       "_view_module_version": "1.2.0",
       "_view_name": "LayoutView",
       "align_content": null,
       "align_items": null,
       "align_self": null,
       "border": null,
       "bottom": null,
       "display": null,
       "flex": null,
       "flex_flow": null,
       "grid_area": null,
       "grid_auto_columns": null,
       "grid_auto_flow": null,
       "grid_auto_rows": null,
       "grid_column": null,
       "grid_gap": null,
       "grid_row": null,
       "grid_template_areas": null,
       "grid_template_columns": null,
       "grid_template_rows": null,
       "height": null,
       "justify_content": null,
       "justify_items": null,
       "left": null,
       "margin": null,
       "max_height": null,
       "max_width": null,
       "min_height": null,
       "min_width": null,
       "object_fit": null,
       "object_position": null,
       "order": null,
       "overflow": null,
       "overflow_x": null,
       "overflow_y": null,
       "padding": null,
       "right": null,
       "top": null,
       "visibility": null,
       "width": null
      }
     },
     "7fc94a3c92fc441494717a700ab59796": {
      "model_module": "@jupyter-widgets/controls",
      "model_module_version": "1.5.0",
      "model_name": "ProgressStyleModel",
      "state": {
       "_model_module": "@jupyter-widgets/controls",
       "_model_module_version": "1.5.0",
       "_model_name": "ProgressStyleModel",
       "_view_count": null,
       "_view_module": "@jupyter-widgets/base",
       "_view_module_version": "1.2.0",
       "_view_name": "StyleView",
       "bar_color": null,
       "description_width": "initial"
      }
     },
     "83b4b2512a234d26ae3f5d9a043aec52": {
      "model_module": "@jupyter-widgets/controls",
      "model_module_version": "1.5.0",
      "model_name": "ProgressStyleModel",
      "state": {
       "_model_module": "@jupyter-widgets/controls",
       "_model_module_version": "1.5.0",
       "_model_name": "ProgressStyleModel",
       "_view_count": null,
       "_view_module": "@jupyter-widgets/base",
       "_view_module_version": "1.2.0",
       "_view_name": "StyleView",
       "bar_color": null,
       "description_width": "initial"
      }
     },
     "84841c0306d44906ab07d3e742d4d19b": {
      "model_module": "@jupyter-widgets/base",
      "model_module_version": "1.2.0",
      "model_name": "LayoutModel",
      "state": {
       "_model_module": "@jupyter-widgets/base",
       "_model_module_version": "1.2.0",
       "_model_name": "LayoutModel",
       "_view_count": null,
       "_view_module": "@jupyter-widgets/base",
       "_view_module_version": "1.2.0",
       "_view_name": "LayoutView",
       "align_content": null,
       "align_items": null,
       "align_self": null,
       "border": null,
       "bottom": null,
       "display": null,
       "flex": null,
       "flex_flow": null,
       "grid_area": null,
       "grid_auto_columns": null,
       "grid_auto_flow": null,
       "grid_auto_rows": null,
       "grid_column": null,
       "grid_gap": null,
       "grid_row": null,
       "grid_template_areas": null,
       "grid_template_columns": null,
       "grid_template_rows": null,
       "height": null,
       "justify_content": null,
       "justify_items": null,
       "left": null,
       "margin": null,
       "max_height": null,
       "max_width": null,
       "min_height": null,
       "min_width": null,
       "object_fit": null,
       "object_position": null,
       "order": null,
       "overflow": null,
       "overflow_x": null,
       "overflow_y": null,
       "padding": null,
       "right": null,
       "top": null,
       "visibility": null,
       "width": null
      }
     },
     "9243e67ff9dc4067baa76172d3f7f8bb": {
      "model_module": "@jupyter-widgets/controls",
      "model_module_version": "1.5.0",
      "model_name": "DescriptionStyleModel",
      "state": {
       "_model_module": "@jupyter-widgets/controls",
       "_model_module_version": "1.5.0",
       "_model_name": "DescriptionStyleModel",
       "_view_count": null,
       "_view_module": "@jupyter-widgets/base",
       "_view_module_version": "1.2.0",
       "_view_name": "StyleView",
       "description_width": ""
      }
     },
     "94db6dfbcd6b454eba016b0951b29115": {
      "model_module": "@jupyter-widgets/controls",
      "model_module_version": "1.5.0",
      "model_name": "HTMLModel",
      "state": {
       "_dom_classes": [],
       "_model_module": "@jupyter-widgets/controls",
       "_model_module_version": "1.5.0",
       "_model_name": "HTMLModel",
       "_view_count": null,
       "_view_module": "@jupyter-widgets/controls",
       "_view_module_version": "1.5.0",
       "_view_name": "HTMLView",
       "description": "",
       "description_tooltip": null,
       "layout": "IPY_MODEL_75ad595dada54c8eac911c6b347b3b53",
       "placeholder": "​",
       "style": "IPY_MODEL_525a8ce782634612b16dbe7f57fecce8",
       "value": " 8989/8989 [01:40&lt;00:00, 89.15it/s]"
      }
     },
     "9bcbf9fde7d64d558eed6fc8b8f6e805": {
      "model_module": "@jupyter-widgets/controls",
      "model_module_version": "1.5.0",
      "model_name": "HTMLModel",
      "state": {
       "_dom_classes": [],
       "_model_module": "@jupyter-widgets/controls",
       "_model_module_version": "1.5.0",
       "_model_name": "HTMLModel",
       "_view_count": null,
       "_view_module": "@jupyter-widgets/controls",
       "_view_module_version": "1.5.0",
       "_view_name": "HTMLView",
       "description": "",
       "description_tooltip": null,
       "layout": "IPY_MODEL_b46c265721e44a68a2a0dfd4b996fde4",
       "placeholder": "​",
       "style": "IPY_MODEL_6886c71239a24d0c87e3bbb506a7791a",
       "value": " 20971/20971 [04:46&lt;00:00, 73.13it/s]"
      }
     },
     "a4978dcdb1ac4770abd9e06bc5f2acaa": {
      "model_module": "@jupyter-widgets/controls",
      "model_module_version": "1.5.0",
      "model_name": "DescriptionStyleModel",
      "state": {
       "_model_module": "@jupyter-widgets/controls",
       "_model_module_version": "1.5.0",
       "_model_name": "DescriptionStyleModel",
       "_view_count": null,
       "_view_module": "@jupyter-widgets/base",
       "_view_module_version": "1.2.0",
       "_view_name": "StyleView",
       "description_width": ""
      }
     },
     "a9611902f03748109478654f4324b9be": {
      "model_module": "@jupyter-widgets/controls",
      "model_module_version": "1.5.0",
      "model_name": "HTMLModel",
      "state": {
       "_dom_classes": [],
       "_model_module": "@jupyter-widgets/controls",
       "_model_module_version": "1.5.0",
       "_model_name": "HTMLModel",
       "_view_count": null,
       "_view_module": "@jupyter-widgets/controls",
       "_view_module_version": "1.5.0",
       "_view_name": "HTMLView",
       "description": "",
       "description_tooltip": null,
       "layout": "IPY_MODEL_c00faff397ed413099ae4eae5a5e6684",
       "placeholder": "​",
       "style": "IPY_MODEL_a4978dcdb1ac4770abd9e06bc5f2acaa",
       "value": " 525/525 [01:14&lt;00:00,  7.02it/s]"
      }
     },
     "b46c265721e44a68a2a0dfd4b996fde4": {
      "model_module": "@jupyter-widgets/base",
      "model_module_version": "1.2.0",
      "model_name": "LayoutModel",
      "state": {
       "_model_module": "@jupyter-widgets/base",
       "_model_module_version": "1.2.0",
       "_model_name": "LayoutModel",
       "_view_count": null,
       "_view_module": "@jupyter-widgets/base",
       "_view_module_version": "1.2.0",
       "_view_name": "LayoutView",
       "align_content": null,
       "align_items": null,
       "align_self": null,
       "border": null,
       "bottom": null,
       "display": null,
       "flex": null,
       "flex_flow": null,
       "grid_area": null,
       "grid_auto_columns": null,
       "grid_auto_flow": null,
       "grid_auto_rows": null,
       "grid_column": null,
       "grid_gap": null,
       "grid_row": null,
       "grid_template_areas": null,
       "grid_template_columns": null,
       "grid_template_rows": null,
       "height": null,
       "justify_content": null,
       "justify_items": null,
       "left": null,
       "margin": null,
       "max_height": null,
       "max_width": null,
       "min_height": null,
       "min_width": null,
       "object_fit": null,
       "object_position": null,
       "order": null,
       "overflow": null,
       "overflow_x": null,
       "overflow_y": null,
       "padding": null,
       "right": null,
       "top": null,
       "visibility": null,
       "width": null
      }
     },
     "c00faff397ed413099ae4eae5a5e6684": {
      "model_module": "@jupyter-widgets/base",
      "model_module_version": "1.2.0",
      "model_name": "LayoutModel",
      "state": {
       "_model_module": "@jupyter-widgets/base",
       "_model_module_version": "1.2.0",
       "_model_name": "LayoutModel",
       "_view_count": null,
       "_view_module": "@jupyter-widgets/base",
       "_view_module_version": "1.2.0",
       "_view_name": "LayoutView",
       "align_content": null,
       "align_items": null,
       "align_self": null,
       "border": null,
       "bottom": null,
       "display": null,
       "flex": null,
       "flex_flow": null,
       "grid_area": null,
       "grid_auto_columns": null,
       "grid_auto_flow": null,
       "grid_auto_rows": null,
       "grid_column": null,
       "grid_gap": null,
       "grid_row": null,
       "grid_template_areas": null,
       "grid_template_columns": null,
       "grid_template_rows": null,
       "height": null,
       "justify_content": null,
       "justify_items": null,
       "left": null,
       "margin": null,
       "max_height": null,
       "max_width": null,
       "min_height": null,
       "min_width": null,
       "object_fit": null,
       "object_position": null,
       "order": null,
       "overflow": null,
       "overflow_x": null,
       "overflow_y": null,
       "padding": null,
       "right": null,
       "top": null,
       "visibility": null,
       "width": null
      }
     },
     "c6fccb53c6ad4d0caa4a8aaa7ac64614": {
      "model_module": "@jupyter-widgets/controls",
      "model_module_version": "1.5.0",
      "model_name": "ProgressStyleModel",
      "state": {
       "_model_module": "@jupyter-widgets/controls",
       "_model_module_version": "1.5.0",
       "_model_name": "ProgressStyleModel",
       "_view_count": null,
       "_view_module": "@jupyter-widgets/base",
       "_view_module_version": "1.2.0",
       "_view_name": "StyleView",
       "bar_color": null,
       "description_width": "initial"
      }
     },
     "d4cab17b821c490894e87b316472c579": {
      "model_module": "@jupyter-widgets/base",
      "model_module_version": "1.2.0",
      "model_name": "LayoutModel",
      "state": {
       "_model_module": "@jupyter-widgets/base",
       "_model_module_version": "1.2.0",
       "_model_name": "LayoutModel",
       "_view_count": null,
       "_view_module": "@jupyter-widgets/base",
       "_view_module_version": "1.2.0",
       "_view_name": "LayoutView",
       "align_content": null,
       "align_items": null,
       "align_self": null,
       "border": null,
       "bottom": null,
       "display": null,
       "flex": null,
       "flex_flow": null,
       "grid_area": null,
       "grid_auto_columns": null,
       "grid_auto_flow": null,
       "grid_auto_rows": null,
       "grid_column": null,
       "grid_gap": null,
       "grid_row": null,
       "grid_template_areas": null,
       "grid_template_columns": null,
       "grid_template_rows": null,
       "height": null,
       "justify_content": null,
       "justify_items": null,
       "left": null,
       "margin": null,
       "max_height": null,
       "max_width": null,
       "min_height": null,
       "min_width": null,
       "object_fit": null,
       "object_position": null,
       "order": null,
       "overflow": null,
       "overflow_x": null,
       "overflow_y": null,
       "padding": null,
       "right": null,
       "top": null,
       "visibility": null,
       "width": null
      }
     },
     "d8cff7c7320b4f33be6e453c3ea08858": {
      "model_module": "@jupyter-widgets/controls",
      "model_module_version": "1.5.0",
      "model_name": "ProgressStyleModel",
      "state": {
       "_model_module": "@jupyter-widgets/controls",
       "_model_module_version": "1.5.0",
       "_model_name": "ProgressStyleModel",
       "_view_count": null,
       "_view_module": "@jupyter-widgets/base",
       "_view_module_version": "1.2.0",
       "_view_name": "StyleView",
       "bar_color": null,
       "description_width": "initial"
      }
     },
     "dfcb430c992f44bca15af2b64ed14db8": {
      "model_module": "@jupyter-widgets/base",
      "model_module_version": "1.2.0",
      "model_name": "LayoutModel",
      "state": {
       "_model_module": "@jupyter-widgets/base",
       "_model_module_version": "1.2.0",
       "_model_name": "LayoutModel",
       "_view_count": null,
       "_view_module": "@jupyter-widgets/base",
       "_view_module_version": "1.2.0",
       "_view_name": "LayoutView",
       "align_content": null,
       "align_items": null,
       "align_self": null,
       "border": null,
       "bottom": null,
       "display": null,
       "flex": null,
       "flex_flow": null,
       "grid_area": null,
       "grid_auto_columns": null,
       "grid_auto_flow": null,
       "grid_auto_rows": null,
       "grid_column": null,
       "grid_gap": null,
       "grid_row": null,
       "grid_template_areas": null,
       "grid_template_columns": null,
       "grid_template_rows": null,
       "height": null,
       "justify_content": null,
       "justify_items": null,
       "left": null,
       "margin": null,
       "max_height": null,
       "max_width": null,
       "min_height": null,
       "min_width": null,
       "object_fit": null,
       "object_position": null,
       "order": null,
       "overflow": null,
       "overflow_x": null,
       "overflow_y": null,
       "padding": null,
       "right": null,
       "top": null,
       "visibility": null,
       "width": null
      }
     },
     "e40cacd69e4944ed91e330e21a39e3a2": {
      "model_module": "@jupyter-widgets/base",
      "model_module_version": "1.2.0",
      "model_name": "LayoutModel",
      "state": {
       "_model_module": "@jupyter-widgets/base",
       "_model_module_version": "1.2.0",
       "_model_name": "LayoutModel",
       "_view_count": null,
       "_view_module": "@jupyter-widgets/base",
       "_view_module_version": "1.2.0",
       "_view_name": "LayoutView",
       "align_content": null,
       "align_items": null,
       "align_self": null,
       "border": null,
       "bottom": null,
       "display": null,
       "flex": null,
       "flex_flow": null,
       "grid_area": null,
       "grid_auto_columns": null,
       "grid_auto_flow": null,
       "grid_auto_rows": null,
       "grid_column": null,
       "grid_gap": null,
       "grid_row": null,
       "grid_template_areas": null,
       "grid_template_columns": null,
       "grid_template_rows": null,
       "height": null,
       "justify_content": null,
       "justify_items": null,
       "left": null,
       "margin": null,
       "max_height": null,
       "max_width": null,
       "min_height": null,
       "min_width": null,
       "object_fit": null,
       "object_position": null,
       "order": null,
       "overflow": null,
       "overflow_x": null,
       "overflow_y": null,
       "padding": null,
       "right": null,
       "top": null,
       "visibility": null,
       "width": null
      }
     },
     "f4cc9e74c32a49319828497603e80bce": {
      "model_module": "@jupyter-widgets/controls",
      "model_module_version": "1.5.0",
      "model_name": "HBoxModel",
      "state": {
       "_dom_classes": [],
       "_model_module": "@jupyter-widgets/controls",
       "_model_module_version": "1.5.0",
       "_model_name": "HBoxModel",
       "_view_count": null,
       "_view_module": "@jupyter-widgets/controls",
       "_view_module_version": "1.5.0",
       "_view_name": "HBoxView",
       "box_style": "",
       "children": [
        "IPY_MODEL_200cae93489b434f8513eef545128ab7",
        "IPY_MODEL_9bcbf9fde7d64d558eed6fc8b8f6e805"
       ],
       "layout": "IPY_MODEL_59cb14cd064143bdad99767501af0d68"
      }
     },
     "f834148e834c435e955fe0c8d1973f50": {
      "model_module": "@jupyter-widgets/controls",
      "model_module_version": "1.5.0",
      "model_name": "HBoxModel",
      "state": {
       "_dom_classes": [],
       "_model_module": "@jupyter-widgets/controls",
       "_model_module_version": "1.5.0",
       "_model_name": "HBoxModel",
       "_view_count": null,
       "_view_module": "@jupyter-widgets/controls",
       "_view_module_version": "1.5.0",
       "_view_name": "HBoxView",
       "box_style": "",
       "children": [
        "IPY_MODEL_097de5ab13034b31a2d0d8df23c2e856",
        "IPY_MODEL_361ba49195044b979eb5809c5ea73df4"
       ],
       "layout": "IPY_MODEL_d4cab17b821c490894e87b316472c579"
      }
     }
    },
    "version_major": 2,
    "version_minor": 0
   }
  }
 },
 "nbformat": 4,
 "nbformat_minor": 4
}
