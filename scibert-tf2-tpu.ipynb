{
 "cells": [
  {
   "cell_type": "code",
   "execution_count": 1,
   "metadata": {
    "execution": {
     "iopub.execute_input": "2020-08-25T04:33:17.762502Z",
     "iopub.status.busy": "2020-08-25T04:33:17.761753Z",
     "iopub.status.idle": "2020-08-25T04:33:17.771425Z",
     "shell.execute_reply": "2020-08-25T04:33:17.770440Z"
    },
    "papermill": {
     "duration": 0.037203,
     "end_time": "2020-08-25T04:33:17.771587",
     "exception": false,
     "start_time": "2020-08-25T04:33:17.734384",
     "status": "completed"
    },
    "tags": []
   },
   "outputs": [
    {
     "name": "stdout",
     "output_type": "stream",
     "text": [
      "/kaggle/input/researchtopictags/test.csv\n",
      "/kaggle/input/researchtopictags/train.csv\n",
      "/kaggle/input/researchtopictags/sample.csv\n"
     ]
    }
   ],
   "source": [
    "import os\n",
    "for dirname, _, filenames in os.walk('/kaggle/input'):\n",
    "    for filename in filenames:\n",
    "        print(os.path.join(dirname, filename))"
   ]
  },
  {
   "cell_type": "code",
   "execution_count": 2,
   "metadata": {
    "execution": {
     "iopub.execute_input": "2020-08-25T04:33:17.822745Z",
     "iopub.status.busy": "2020-08-25T04:33:17.821940Z",
     "iopub.status.idle": "2020-08-25T04:34:13.709741Z",
     "shell.execute_reply": "2020-08-25T04:34:13.709047Z"
    },
    "id": "SuY02mplBrDy",
    "outputId": "7812630a-8a77-4cdf-b99b-892778ca3898",
    "papermill": {
     "duration": 55.917361,
     "end_time": "2020-08-25T04:34:13.709918",
     "exception": false,
     "start_time": "2020-08-25T04:33:17.792557",
     "status": "completed"
    },
    "tags": []
   },
   "outputs": [
    {
     "name": "stdout",
     "output_type": "stream",
     "text": [
      "\u001b[33mWARNING: You are using pip version 20.1.1; however, version 20.2.2 is available.\r\n",
      "You should consider upgrading via the '/opt/conda/bin/python3.7 -m pip install --upgrade pip' command.\u001b[0m\r\n",
      "--2020-08-25 04:33:27--  https://s3-us-west-2.amazonaws.com/ai2-s2-research/scibert/tensorflow_models/scibert_scivocab_uncased.tar.gz\r\n",
      "Resolving s3-us-west-2.amazonaws.com (s3-us-west-2.amazonaws.com)... 52.218.200.40\r\n",
      "Connecting to s3-us-west-2.amazonaws.com (s3-us-west-2.amazonaws.com)|52.218.200.40|:443... connected.\r\n",
      "HTTP request sent, awaiting response... 200 OK\r\n",
      "Length: 1216161420 (1.1G) [application/x-tar]\r\n",
      "Saving to: ‘scibert_scivocab_uncased.tar.gz’\r\n",
      "\r\n",
      "scibert_scivocab_un 100%[===================>]   1.13G  48.0MB/s    in 28s     \r\n",
      "\r\n",
      "2020-08-25 04:33:55 (41.0 MB/s) - ‘scibert_scivocab_uncased.tar.gz’ saved [1216161420/1216161420]\r\n",
      "\r\n",
      "scibert_scivocab_uncased/\r\n",
      "scibert_scivocab_uncased/bert_model.ckpt.data-00000-of-00001\r\n",
      "scibert_scivocab_uncased/bert_model.ckpt.index\r\n",
      "scibert_scivocab_uncased/vocab.txt\r\n",
      "scibert_scivocab_uncased/bert_model.ckpt.meta\r\n",
      "scibert_scivocab_uncased/bert_config.json\r\n"
     ]
    }
   ],
   "source": [
    "!pip install -q transformers==2.11.0\n",
    "!wget https://s3-us-west-2.amazonaws.com/ai2-s2-research/scibert/tensorflow_models/scibert_scivocab_uncased.tar.gz\n",
    "!tar -xvf ./scibert_scivocab_uncased.tar.gz"
   ]
  },
  {
   "cell_type": "code",
   "execution_count": 3,
   "metadata": {
    "execution": {
     "iopub.execute_input": "2020-08-25T04:34:15.853418Z",
     "iopub.status.busy": "2020-08-25T04:34:15.852596Z",
     "iopub.status.idle": "2020-08-25T04:34:34.897062Z",
     "shell.execute_reply": "2020-08-25T04:34:34.896258Z"
    },
    "papermill": {
     "duration": 21.107642,
     "end_time": "2020-08-25T04:34:34.897201",
     "exception": false,
     "start_time": "2020-08-25T04:34:13.789559",
     "status": "completed"
    },
    "tags": []
   },
   "outputs": [
    {
     "name": "stdout",
     "output_type": "stream",
     "text": [
      "Building PyTorch model from configuration: BertConfig {\r\n",
      "  \"attention_probs_dropout_prob\": 0.1,\r\n",
      "  \"hidden_act\": \"gelu\",\r\n",
      "  \"hidden_dropout_prob\": 0.1,\r\n",
      "  \"hidden_size\": 768,\r\n",
      "  \"initializer_range\": 0.02,\r\n",
      "  \"intermediate_size\": 3072,\r\n",
      "  \"layer_norm_eps\": 1e-12,\r\n",
      "  \"max_position_embeddings\": 512,\r\n",
      "  \"model_type\": \"bert\",\r\n",
      "  \"num_attention_heads\": 12,\r\n",
      "  \"num_hidden_layers\": 12,\r\n",
      "  \"pad_token_id\": 0,\r\n",
      "  \"type_vocab_size\": 2,\r\n",
      "  \"vocab_size\": 31090\r\n",
      "}\r\n",
      "\r\n",
      "Save PyTorch model to ./scibert_scivocab_uncased/pytorch_model.bin\r\n"
     ]
    }
   ],
   "source": [
    "os.environ[\"WANDB_API_KEY\"] = \"0\" ## to silence warning\n",
    "!transformers-cli convert --model_type bert \\\n",
    "  --tf_checkpoint './scibert_scivocab_uncased/bert_model.ckpt' \\\n",
    "  --config './scibert_scivocab_uncased/bert_config.json' \\\n",
    "  --pytorch_dump_output './scibert_scivocab_uncased/pytorch_model.bin'"
   ]
  },
  {
   "cell_type": "code",
   "execution_count": 4,
   "metadata": {
    "execution": {
     "iopub.execute_input": "2020-08-25T04:34:35.061822Z",
     "iopub.status.busy": "2020-08-25T04:34:35.061042Z",
     "iopub.status.idle": "2020-08-25T04:34:38.385210Z",
     "shell.execute_reply": "2020-08-25T04:34:38.384562Z"
    },
    "id": "aGa2jmNmCjXf",
    "papermill": {
     "duration": 3.410828,
     "end_time": "2020-08-25T04:34:38.385356",
     "exception": false,
     "start_time": "2020-08-25T04:34:34.974528",
     "status": "completed"
    },
    "tags": []
   },
   "outputs": [],
   "source": [
    "from tqdm.notebook import tqdm,tnrange\n",
    "import numpy as np\n",
    "import pandas as pd\n",
    "import matplotlib.pyplot as plt\n",
    "import matplotlib as mpl\n",
    "mpl.rcParams['figure.figsize'] = (12, 12)\n",
    "import seaborn as sns\n",
    "import tensorflow as tf\n",
    "\n",
    "from transformers import BertTokenizer ,BertConfig\n",
    "from tensorflow.keras.preprocessing.sequence import pad_sequences\n",
    "from sklearn.model_selection import train_test_split\n",
    "\n",
    "from transformers import TFBertModel\n",
    "from tensorflow.keras.layers import Dense, Flatten,Dropout\n",
    "\n",
    "import time\n",
    "from transformers import create_optimizer\n",
    "from tensorflow.keras.callbacks import LearningRateScheduler , EarlyStopping"
   ]
  },
  {
   "cell_type": "code",
   "execution_count": 5,
   "metadata": {
    "execution": {
     "iopub.execute_input": "2020-08-25T04:34:38.643031Z",
     "iopub.status.busy": "2020-08-25T04:34:38.626499Z",
     "iopub.status.idle": "2020-08-25T04:34:43.215279Z",
     "shell.execute_reply": "2020-08-25T04:34:43.215883Z"
    },
    "papermill": {
     "duration": 4.753998,
     "end_time": "2020-08-25T04:34:43.216050",
     "exception": false,
     "start_time": "2020-08-25T04:34:38.462052",
     "status": "completed"
    },
    "tags": []
   },
   "outputs": [
    {
     "name": "stdout",
     "output_type": "stream",
     "text": [
      "Running on TPU  grpc://10.0.0.2:8470\n",
      "REPLICAS:  8\n"
     ]
    }
   ],
   "source": [
    "try:\n",
    "    tpu = tf.distribute.cluster_resolver.TPUClusterResolver()  # TPU detection. No parameters necessary if TPU_NAME environment variable is set. On Kaggle this is always the case.\n",
    "    print('Running on TPU ', tpu.master())\n",
    "except ValueError:\n",
    "    tpu = None\n",
    "\n",
    "if tpu:\n",
    "    tf.config.experimental_connect_to_cluster(tpu)\n",
    "    tf.tpu.experimental.initialize_tpu_system(tpu)\n",
    "    strategy = tf.distribute.experimental.TPUStrategy(tpu)\n",
    "else:\n",
    "    strategy = tf.distribute.get_strategy() # default distribution strategy in Tensorflow. Works on CPU and single GPU.\n",
    "\n",
    "print(\"REPLICAS: \", strategy.num_replicas_in_sync)"
   ]
  },
  {
   "cell_type": "code",
   "execution_count": 6,
   "metadata": {
    "execution": {
     "iopub.execute_input": "2020-08-25T04:34:43.381456Z",
     "iopub.status.busy": "2020-08-25T04:34:43.380673Z",
     "iopub.status.idle": "2020-08-25T04:34:43.662424Z",
     "shell.execute_reply": "2020-08-25T04:34:43.663196Z"
    },
    "id": "5FuPBMEX_Lxv",
    "papermill": {
     "duration": 0.368643,
     "end_time": "2020-08-25T04:34:43.663396",
     "exception": false,
     "start_time": "2020-08-25T04:34:43.294753",
     "status": "completed"
    },
    "tags": []
   },
   "outputs": [
    {
     "name": "stdout",
     "output_type": "stream",
     "text": [
      "(20972, 9)\n"
     ]
    },
    {
     "data": {
      "text/html": [
       "<div>\n",
       "<style scoped>\n",
       "    .dataframe tbody tr th:only-of-type {\n",
       "        vertical-align: middle;\n",
       "    }\n",
       "\n",
       "    .dataframe tbody tr th {\n",
       "        vertical-align: top;\n",
       "    }\n",
       "\n",
       "    .dataframe thead th {\n",
       "        text-align: right;\n",
       "    }\n",
       "</style>\n",
       "<table border=\"1\" class=\"dataframe\">\n",
       "  <thead>\n",
       "    <tr style=\"text-align: right;\">\n",
       "      <th></th>\n",
       "      <th>ID</th>\n",
       "      <th>TITLE</th>\n",
       "      <th>ABSTRACT</th>\n",
       "      <th>Computer Science</th>\n",
       "      <th>Physics</th>\n",
       "      <th>Mathematics</th>\n",
       "      <th>Statistics</th>\n",
       "      <th>Quantitative Biology</th>\n",
       "      <th>Quantitative Finance</th>\n",
       "    </tr>\n",
       "  </thead>\n",
       "  <tbody>\n",
       "    <tr>\n",
       "      <th>0</th>\n",
       "      <td>1</td>\n",
       "      <td>Reconstructing Subject-Specific Effect Maps</td>\n",
       "      <td>Predictive models allow subject-specific inf...</td>\n",
       "      <td>1</td>\n",
       "      <td>0</td>\n",
       "      <td>0</td>\n",
       "      <td>0</td>\n",
       "      <td>0</td>\n",
       "      <td>0</td>\n",
       "    </tr>\n",
       "    <tr>\n",
       "      <th>1</th>\n",
       "      <td>2</td>\n",
       "      <td>Rotation Invariance Neural Network</td>\n",
       "      <td>Rotation invariance and translation invarian...</td>\n",
       "      <td>1</td>\n",
       "      <td>0</td>\n",
       "      <td>0</td>\n",
       "      <td>0</td>\n",
       "      <td>0</td>\n",
       "      <td>0</td>\n",
       "    </tr>\n",
       "    <tr>\n",
       "      <th>2</th>\n",
       "      <td>3</td>\n",
       "      <td>Spherical polyharmonics and Poisson kernels fo...</td>\n",
       "      <td>We introduce and develop the notion of spher...</td>\n",
       "      <td>0</td>\n",
       "      <td>0</td>\n",
       "      <td>1</td>\n",
       "      <td>0</td>\n",
       "      <td>0</td>\n",
       "      <td>0</td>\n",
       "    </tr>\n",
       "    <tr>\n",
       "      <th>3</th>\n",
       "      <td>4</td>\n",
       "      <td>A finite element approximation for the stochas...</td>\n",
       "      <td>The stochastic Landau--Lifshitz--Gilbert (LL...</td>\n",
       "      <td>0</td>\n",
       "      <td>0</td>\n",
       "      <td>1</td>\n",
       "      <td>0</td>\n",
       "      <td>0</td>\n",
       "      <td>0</td>\n",
       "    </tr>\n",
       "    <tr>\n",
       "      <th>4</th>\n",
       "      <td>5</td>\n",
       "      <td>Comparative study of Discrete Wavelet Transfor...</td>\n",
       "      <td>Fourier-transform infra-red (FTIR) spectra o...</td>\n",
       "      <td>1</td>\n",
       "      <td>0</td>\n",
       "      <td>0</td>\n",
       "      <td>1</td>\n",
       "      <td>0</td>\n",
       "      <td>0</td>\n",
       "    </tr>\n",
       "  </tbody>\n",
       "</table>\n",
       "</div>"
      ],
      "text/plain": [
       "   ID                                              TITLE  \\\n",
       "0   1        Reconstructing Subject-Specific Effect Maps   \n",
       "1   2                 Rotation Invariance Neural Network   \n",
       "2   3  Spherical polyharmonics and Poisson kernels fo...   \n",
       "3   4  A finite element approximation for the stochas...   \n",
       "4   5  Comparative study of Discrete Wavelet Transfor...   \n",
       "\n",
       "                                            ABSTRACT  Computer Science  \\\n",
       "0    Predictive models allow subject-specific inf...                 1   \n",
       "1    Rotation invariance and translation invarian...                 1   \n",
       "2    We introduce and develop the notion of spher...                 0   \n",
       "3    The stochastic Landau--Lifshitz--Gilbert (LL...                 0   \n",
       "4    Fourier-transform infra-red (FTIR) spectra o...                 1   \n",
       "\n",
       "   Physics  Mathematics  Statistics  Quantitative Biology  \\\n",
       "0        0            0           0                     0   \n",
       "1        0            0           0                     0   \n",
       "2        0            1           0                     0   \n",
       "3        0            1           0                     0   \n",
       "4        0            0           1                     0   \n",
       "\n",
       "   Quantitative Finance  \n",
       "0                     0  \n",
       "1                     0  \n",
       "2                     0  \n",
       "3                     0  \n",
       "4                     0  "
      ]
     },
     "execution_count": 6,
     "metadata": {},
     "output_type": "execute_result"
    }
   ],
   "source": [
    "train_data = pd.read_csv('/kaggle/input/researchtopictags/train.csv')\n",
    "print(train_data.shape)\n",
    "train_data.head()"
   ]
  },
  {
   "cell_type": "code",
   "execution_count": 7,
   "metadata": {
    "execution": {
     "iopub.execute_input": "2020-08-25T04:34:43.828329Z",
     "iopub.status.busy": "2020-08-25T04:34:43.827627Z",
     "iopub.status.idle": "2020-08-25T04:34:43.959671Z",
     "shell.execute_reply": "2020-08-25T04:34:43.958932Z"
    },
    "papermill": {
     "duration": 0.216986,
     "end_time": "2020-08-25T04:34:43.959795",
     "exception": false,
     "start_time": "2020-08-25T04:34:43.742809",
     "status": "completed"
    },
    "tags": []
   },
   "outputs": [
    {
     "name": "stdout",
     "output_type": "stream",
     "text": [
      "(8989, 3)\n"
     ]
    },
    {
     "data": {
      "text/html": [
       "<div>\n",
       "<style scoped>\n",
       "    .dataframe tbody tr th:only-of-type {\n",
       "        vertical-align: middle;\n",
       "    }\n",
       "\n",
       "    .dataframe tbody tr th {\n",
       "        vertical-align: top;\n",
       "    }\n",
       "\n",
       "    .dataframe thead th {\n",
       "        text-align: right;\n",
       "    }\n",
       "</style>\n",
       "<table border=\"1\" class=\"dataframe\">\n",
       "  <thead>\n",
       "    <tr style=\"text-align: right;\">\n",
       "      <th></th>\n",
       "      <th>ID</th>\n",
       "      <th>TITLE</th>\n",
       "      <th>ABSTRACT</th>\n",
       "    </tr>\n",
       "  </thead>\n",
       "  <tbody>\n",
       "    <tr>\n",
       "      <th>0</th>\n",
       "      <td>20973</td>\n",
       "      <td>Closed-form Marginal Likelihood in Gamma-Poiss...</td>\n",
       "      <td>We present novel understandings of the Gamma...</td>\n",
       "    </tr>\n",
       "    <tr>\n",
       "      <th>1</th>\n",
       "      <td>20974</td>\n",
       "      <td>Laboratory mid-IR spectra of equilibrated and ...</td>\n",
       "      <td>Meteorites contain minerals from Solar Syste...</td>\n",
       "    </tr>\n",
       "    <tr>\n",
       "      <th>2</th>\n",
       "      <td>20975</td>\n",
       "      <td>Case For Static AMSDU Aggregation in WLANs</td>\n",
       "      <td>Frame aggregation is a mechanism by which mu...</td>\n",
       "    </tr>\n",
       "    <tr>\n",
       "      <th>3</th>\n",
       "      <td>20976</td>\n",
       "      <td>The $Gaia$-ESO Survey: the inner disk intermed...</td>\n",
       "      <td>Milky Way open clusters are very diverse in ...</td>\n",
       "    </tr>\n",
       "    <tr>\n",
       "      <th>4</th>\n",
       "      <td>20977</td>\n",
       "      <td>Witness-Functions versus Interpretation-Functi...</td>\n",
       "      <td>Proving that a cryptographic protocol is cor...</td>\n",
       "    </tr>\n",
       "  </tbody>\n",
       "</table>\n",
       "</div>"
      ],
      "text/plain": [
       "      ID                                              TITLE  \\\n",
       "0  20973  Closed-form Marginal Likelihood in Gamma-Poiss...   \n",
       "1  20974  Laboratory mid-IR spectra of equilibrated and ...   \n",
       "2  20975         Case For Static AMSDU Aggregation in WLANs   \n",
       "3  20976  The $Gaia$-ESO Survey: the inner disk intermed...   \n",
       "4  20977  Witness-Functions versus Interpretation-Functi...   \n",
       "\n",
       "                                            ABSTRACT  \n",
       "0    We present novel understandings of the Gamma...  \n",
       "1    Meteorites contain minerals from Solar Syste...  \n",
       "2    Frame aggregation is a mechanism by which mu...  \n",
       "3    Milky Way open clusters are very diverse in ...  \n",
       "4    Proving that a cryptographic protocol is cor...  "
      ]
     },
     "execution_count": 7,
     "metadata": {},
     "output_type": "execute_result"
    }
   ],
   "source": [
    "test_data = pd.read_csv('/kaggle/input/researchtopictags/test.csv')\n",
    "print(test_data.shape)\n",
    "test_data.head()"
   ]
  },
  {
   "cell_type": "code",
   "execution_count": 8,
   "metadata": {
    "execution": {
     "iopub.execute_input": "2020-08-25T04:34:44.129161Z",
     "iopub.status.busy": "2020-08-25T04:34:44.128408Z",
     "iopub.status.idle": "2020-08-25T04:34:44.188378Z",
     "shell.execute_reply": "2020-08-25T04:34:44.187588Z"
    },
    "papermill": {
     "duration": 0.148409,
     "end_time": "2020-08-25T04:34:44.188505",
     "exception": false,
     "start_time": "2020-08-25T04:34:44.040096",
     "status": "completed"
    },
    "tags": []
   },
   "outputs": [],
   "source": [
    "train_data['combined_text'] = train_data['TITLE'] + \" <join> \" + train_data['ABSTRACT']\n",
    "test_data['combined_text'] = test_data['TITLE'] + \" <join> \" + test_data['ABSTRACT']"
   ]
  },
  {
   "cell_type": "code",
   "execution_count": 9,
   "metadata": {
    "execution": {
     "iopub.execute_input": "2020-08-25T04:34:44.358080Z",
     "iopub.status.busy": "2020-08-25T04:34:44.357306Z",
     "iopub.status.idle": "2020-08-25T04:34:44.360059Z",
     "shell.execute_reply": "2020-08-25T04:34:44.360600Z"
    },
    "id": "50uZZZzH_NDV",
    "outputId": "f925ad52-96d5-47a1-b573-db6fa12012ba",
    "papermill": {
     "duration": 0.091804,
     "end_time": "2020-08-25T04:34:44.360758",
     "exception": false,
     "start_time": "2020-08-25T04:34:44.268954",
     "status": "completed"
    },
    "tags": []
   },
   "outputs": [],
   "source": [
    "label_cols = ['Computer Science','Physics','Mathematics', 'Statistics','Quantitative Biology','Quantitative Finance']"
   ]
  },
  {
   "cell_type": "code",
   "execution_count": 10,
   "metadata": {
    "execution": {
     "iopub.execute_input": "2020-08-25T04:34:44.532079Z",
     "iopub.status.busy": "2020-08-25T04:34:44.531286Z",
     "iopub.status.idle": "2020-08-25T04:34:44.782721Z",
     "shell.execute_reply": "2020-08-25T04:34:44.781926Z"
    },
    "papermill": {
     "duration": 0.341556,
     "end_time": "2020-08-25T04:34:44.782855",
     "exception": false,
     "start_time": "2020-08-25T04:34:44.441299",
     "status": "completed"
    },
    "tags": []
   },
   "outputs": [
    {
     "data": {
      "image/png": "[encoded data removed]",
      "text/plain": [
       "<Figure size 864x864 with 1 Axes>"
      ]
     },
     "metadata": {
      "needs_background": "light"
     },
     "output_type": "display_data"
    }
   ],
   "source": [
    "com_sc = train_data['Computer Science'].value_counts()[1]\n",
    "phy = train_data['Physics'].value_counts()[1]\n",
    "mat = train_data['Mathematics'].value_counts()[1]\n",
    "stats = train_data['Statistics'].value_counts()[1]\n",
    "bio = train_data['Quantitative Biology'].value_counts()[1]\n",
    "fin = train_data['Quantitative Finance'].value_counts()[1]\n",
    "\n",
    "fig = plt.figure()\n",
    "ax = fig.add_axes([0,0,1,1])\n",
    "counts = [com_sc,phy,mat,stats,bio,fin]\n",
    "ax.bar(label_cols,counts)\n",
    "plt.show()"
   ]
  },
  {
   "cell_type": "code",
   "execution_count": 11,
   "metadata": {
    "execution": {
     "iopub.execute_input": "2020-08-25T04:34:44.998926Z",
     "iopub.status.busy": "2020-08-25T04:34:44.988627Z",
     "iopub.status.idle": "2020-08-25T04:34:45.368729Z",
     "shell.execute_reply": "2020-08-25T04:34:45.368015Z"
    },
    "papermill": {
     "duration": 0.499215,
     "end_time": "2020-08-25T04:34:45.368851",
     "exception": false,
     "start_time": "2020-08-25T04:34:44.869636",
     "status": "completed"
    },
    "tags": []
   },
   "outputs": [
    {
     "data": {
      "text/plain": [
       "<matplotlib.axes._subplots.AxesSubplot at 0x7fde40499d50>"
      ]
     },
     "execution_count": 11,
     "metadata": {},
     "output_type": "execute_result"
    },
    {
     "data": {
      "image/png": "[encoded data removed]",
      "text/plain": [
       "<Figure size 864x864 with 1 Axes>"
      ]
     },
     "metadata": {
      "needs_background": "light"
     },
     "output_type": "display_data"
    }
   ],
   "source": [
    "train_data['length'] = train_data['combined_text'].apply(lambda x : x.count(\" \") + 1)\n",
    "sns.distplot(train_data['length'])"
   ]
  },
  {
   "cell_type": "code",
   "execution_count": 12,
   "metadata": {
    "execution": {
     "iopub.execute_input": "2020-08-25T04:34:45.542941Z",
     "iopub.status.busy": "2020-08-25T04:34:45.542175Z",
     "iopub.status.idle": "2020-08-25T04:34:45.545760Z",
     "shell.execute_reply": "2020-08-25T04:34:45.545178Z"
    },
    "papermill": {
     "duration": 0.0935,
     "end_time": "2020-08-25T04:34:45.545921",
     "exception": false,
     "start_time": "2020-08-25T04:34:45.452421",
     "status": "completed"
    },
    "tags": []
   },
   "outputs": [],
   "source": [
    "# Parameters\n",
    "\n",
    "BATCH_SIZE = 16 * strategy.num_replicas_in_sync\n",
    "\n",
    "TEST_BATCH_SIZE = 16 * strategy.num_replicas_in_sync\n",
    "\n",
    "NR_EPOCHS = 2\n",
    "\n",
    "MAX_LEN = 300\n",
    "\n",
    "bert_model_name = './scibert_scivocab_uncased'\n",
    "\n",
    "config = BertConfig.from_json_file('./scibert_scivocab_uncased/bert_config.json')"
   ]
  },
  {
   "cell_type": "code",
   "execution_count": 13,
   "metadata": {
    "execution": {
     "iopub.execute_input": "2020-08-25T04:34:45.726773Z",
     "iopub.status.busy": "2020-08-25T04:34:45.725681Z",
     "iopub.status.idle": "2020-08-25T04:37:52.049091Z",
     "shell.execute_reply": "2020-08-25T04:37:52.048420Z"
    },
    "id": "g-8WnPfD_35q",
    "outputId": "ef31e72c-9dc5-4e7d-875e-875758466538",
    "papermill": {
     "duration": 186.419295,
     "end_time": "2020-08-25T04:37:52.049243",
     "exception": false,
     "start_time": "2020-08-25T04:34:45.629948",
     "status": "completed"
    },
    "tags": []
   },
   "outputs": [
    {
     "data": {
      "application/vnd.jupyter.widget-view+json": {
       "model_id": "aefa81dea4d1487987dcbd8baf98a276",
       "version_major": 2,
       "version_minor": 0
      },
      "text/plain": [
       "HBox(children=(FloatProgress(value=0.0, max=20972.0), HTML(value='')))"
      ]
     },
     "metadata": {},
     "output_type": "display_data"
    },
    {
     "name": "stdout",
     "output_type": "stream",
     "text": [
      "\n"
     ]
    }
   ],
   "source": [
    "tokenizer = BertTokenizer.from_pretrained(bert_model_name, do_lower_case=True)\n",
    "\n",
    "def tokenize_sentences(sentences, tokenizer, max_seq_len = 128):\n",
    "    \n",
    "    tokenized_sentences = []\n",
    "\n",
    "    for sentence in tqdm(sentences):\n",
    "        \n",
    "        tokenized_sentence = tokenizer.encode(sentence,                  \n",
    "                                              add_special_tokens = True, \n",
    "                                              max_length = max_seq_len  \n",
    "                                             )\n",
    "        \n",
    "        tokenized_sentences.append(tokenized_sentence)\n",
    "\n",
    "    return tokenized_sentences\n",
    "\n",
    "def create_attention_masks(tokenized_and_padded_sentences):\n",
    "    \n",
    "    attention_masks = []\n",
    "\n",
    "    for sentence in tokenized_and_padded_sentences:\n",
    "        \n",
    "        att_mask = [int(token_id > 0) for token_id in sentence]\n",
    "        \n",
    "        attention_masks.append(att_mask)\n",
    "\n",
    "    return np.asarray(attention_masks)\n",
    "\n",
    "input_ids = tokenize_sentences(train_data['combined_text'], tokenizer, MAX_LEN)\n",
    "\n",
    "input_ids = pad_sequences(input_ids, maxlen=MAX_LEN, dtype=\"long\", value=0, truncating=\"post\", padding=\"post\")\n",
    "\n",
    "attention_masks = create_attention_masks(input_ids)"
   ]
  },
  {
   "cell_type": "code",
   "execution_count": 14,
   "metadata": {
    "execution": {
     "iopub.execute_input": "2020-08-25T04:37:52.230770Z",
     "iopub.status.busy": "2020-08-25T04:37:52.229717Z",
     "iopub.status.idle": "2020-08-25T04:37:52.233091Z",
     "shell.execute_reply": "2020-08-25T04:37:52.232496Z"
    },
    "papermill": {
     "duration": 0.09795,
     "end_time": "2020-08-25T04:37:52.233224",
     "exception": false,
     "start_time": "2020-08-25T04:37:52.135274",
     "status": "completed"
    },
    "tags": []
   },
   "outputs": [],
   "source": [
    "class BertClassifier(tf.keras.Model):    \n",
    "    \n",
    "    def __init__(self, bert: TFBertModel, num_classes: int):\n",
    "        \n",
    "        super().__init__()\n",
    "        \n",
    "        self.bert = bert\n",
    "        \n",
    "        self.classifier = Dense(num_classes, activation='sigmoid')\n",
    "        \n",
    "    def call(self, input_ids, attention_mask=None, token_type_ids=None, position_ids=None, head_mask=None):\n",
    "        \n",
    "        outputs = self.bert(input_ids,\n",
    "                            attention_mask=attention_mask,\n",
    "                            token_type_ids=token_type_ids,\n",
    "                            position_ids=position_ids,\n",
    "                            head_mask=head_mask)\n",
    "        \n",
    "        cls_output = outputs[1]\n",
    "        \n",
    "        cls_output = self.classifier(cls_output)\n",
    "                \n",
    "        return cls_output"
   ]
  },
  {
   "cell_type": "code",
   "execution_count": 15,
   "metadata": {
    "execution": {
     "iopub.execute_input": "2020-08-25T04:37:52.417945Z",
     "iopub.status.busy": "2020-08-25T04:37:52.417145Z",
     "iopub.status.idle": "2020-08-25T04:37:52.805302Z",
     "shell.execute_reply": "2020-08-25T04:37:52.804647Z"
    },
    "papermill": {
     "duration": 0.486983,
     "end_time": "2020-08-25T04:37:52.805427",
     "exception": false,
     "start_time": "2020-08-25T04:37:52.318444",
     "status": "completed"
    },
    "tags": []
   },
   "outputs": [],
   "source": [
    "def create_dataset(data_tuple, batch_size, train=True):\n",
    "    \n",
    "    dataset = tf.data.Dataset.from_tensor_slices(data_tuple)\n",
    "    \n",
    "    if train:\n",
    "        \n",
    "        dataset = dataset.repeat(NR_EPOCHS)\n",
    "        \n",
    "        dataset = dataset.shuffle(buffer_size=10000)\n",
    "    \n",
    "    else:\n",
    "        \n",
    "        dataset = dataset.repeat(1)\n",
    "    \n",
    "    dataset = dataset.batch(batch_size)\n",
    "    \n",
    "    if train:\n",
    "        \n",
    "        dataset = dataset.prefetch(1)\n",
    "        \n",
    "    if not train:\n",
    "        \n",
    "        dataset = dataset.cache()\n",
    "    \n",
    "    return dataset\n",
    "\n",
    "\n",
    "labels =  train_data[label_cols].values\n",
    "\n",
    "train_inputs, validation_inputs, train_labels, validation_labels = train_test_split(input_ids, labels, random_state=0, test_size=0.3)\n",
    "\n",
    "train_masks, validation_masks = train_test_split(attention_masks, random_state=0, test_size=0.3)\n",
    "\n",
    "train_size = len(train_inputs)\n",
    "\n",
    "validation_size = len(validation_inputs)\n",
    "\n",
    "train_dataset = create_dataset(((train_inputs, train_masks), train_labels), batch_size=BATCH_SIZE,train=True)\n",
    "\n",
    "validation_dataset = create_dataset(((validation_inputs, validation_masks), validation_labels), batch_size=BATCH_SIZE,train=False)"
   ]
  },
  {
   "cell_type": "code",
   "execution_count": 16,
   "metadata": {
    "execution": {
     "iopub.execute_input": "2020-08-25T04:37:53.006700Z",
     "iopub.status.busy": "2020-08-25T04:37:53.005940Z",
     "iopub.status.idle": "2020-08-25T04:39:13.072995Z",
     "shell.execute_reply": "2020-08-25T04:39:13.073851Z"
    },
    "papermill": {
     "duration": 80.183646,
     "end_time": "2020-08-25T04:39:13.074091",
     "exception": false,
     "start_time": "2020-08-25T04:37:52.890445",
     "status": "completed"
    },
    "tags": []
   },
   "outputs": [
    {
     "data": {
      "application/vnd.jupyter.widget-view+json": {
       "model_id": "9e454820d6b049149425e2242fc9eca1",
       "version_major": 2,
       "version_minor": 0
      },
      "text/plain": [
       "HBox(children=(FloatProgress(value=0.0, max=8989.0), HTML(value='')))"
      ]
     },
     "metadata": {},
     "output_type": "display_data"
    },
    {
     "name": "stdout",
     "output_type": "stream",
     "text": [
      "\n"
     ]
    }
   ],
   "source": [
    "def create_test_dataset():\n",
    "    \n",
    "    test_input_ids = tokenize_sentences(test_data['combined_text'], tokenizer, MAX_LEN)\n",
    "    \n",
    "    test_input_ids = pad_sequences(test_input_ids, maxlen=MAX_LEN, dtype=\"long\", value=0, truncating=\"post\", padding=\"post\")\n",
    "    \n",
    "    test_attention_masks = create_attention_masks(test_input_ids)\n",
    "    \n",
    "    test_steps = len(test_data) // TEST_BATCH_SIZE\n",
    "    \n",
    "    test_dataset = create_dataset(((test_input_ids, test_attention_masks),), batch_size=TEST_BATCH_SIZE, train=False)\n",
    "    \n",
    "    return test_dataset\n",
    "\n",
    "test_dataset = create_test_dataset()"
   ]
  },
  {
   "cell_type": "code",
   "execution_count": 17,
   "metadata": {
    "execution": {
     "iopub.execute_input": "2020-08-25T04:39:13.288859Z",
     "iopub.status.busy": "2020-08-25T04:39:13.279473Z",
     "iopub.status.idle": "2020-08-25T04:40:05.505624Z",
     "shell.execute_reply": "2020-08-25T04:40:05.504575Z"
    },
    "papermill": {
     "duration": 52.325743,
     "end_time": "2020-08-25T04:40:05.505810",
     "exception": false,
     "start_time": "2020-08-25T04:39:13.180067",
     "status": "completed"
    },
    "tags": []
   },
   "outputs": [],
   "source": [
    "with strategy.scope():\n",
    "    \n",
    "    nets = 5\n",
    "\n",
    "    model_list = [0] * nets\n",
    "\n",
    "    for i in range(nets):\n",
    "    \n",
    "        model_list[i] = BertClassifier(TFBertModel.from_pretrained(bert_model_name, from_pt=True, config = config), len(label_cols))\n",
    "\n",
    "        optim = tf.keras.optimizers.Adam(lr=3e-5)\n",
    "\n",
    "        model_list[i].compile(optimizer = optim,loss = 'binary_crossentropy', metrics=[tf.keras.metrics.AUC()])"
   ]
  },
  {
   "cell_type": "code",
   "execution_count": 18,
   "metadata": {
    "execution": {
     "iopub.execute_input": "2020-08-25T04:40:05.709475Z",
     "iopub.status.busy": "2020-08-25T04:40:05.708351Z",
     "iopub.status.idle": "2020-08-25T04:52:13.207348Z",
     "shell.execute_reply": "2020-08-25T04:52:13.205465Z"
    },
    "papermill": {
     "duration": 727.614391,
     "end_time": "2020-08-25T04:52:13.207503",
     "exception": false,
     "start_time": "2020-08-25T04:40:05.593112",
     "status": "completed"
    },
    "tags": []
   },
   "outputs": [
    {
     "data": {
      "application/vnd.jupyter.widget-view+json": {
       "model_id": "43d80eb447854e22950d9e7c8294652d",
       "version_major": 2,
       "version_minor": 0
      },
      "text/plain": [
       "HBox(children=(FloatProgress(value=0.0, max=5.0), HTML(value='')))"
      ]
     },
     "metadata": {},
     "output_type": "display_data"
    },
    {
     "name": "stdout",
     "output_type": "stream",
     "text": [
      "Epoch 1/2\n",
      "114/114 [==============================] - 48s 420ms/step - auc: 0.9602 - loss: 0.2015 - val_auc: 0.9759 - val_loss: 0.1604 - lr: 3.0000e-05\n",
      "Epoch 2/2\n",
      "114/114 [==============================] - 29s 258ms/step - auc: 0.9803 - loss: 0.1444 - val_auc: 0.9773 - val_loss: 0.1585 - lr: 2.8500e-05\n",
      "\n",
      "\n",
      "Epoch 1/2\n",
      "114/114 [==============================] - 48s 423ms/step - auc_1: 0.9615 - loss: 0.1991 - val_auc_1: 0.9763 - val_loss: 0.1580 - lr: 3.0000e-05\n",
      "Epoch 2/2\n",
      "114/114 [==============================] - 29s 258ms/step - auc_1: 0.9804 - loss: 0.1439 - val_auc_1: 0.9789 - val_loss: 0.1514 - lr: 2.8500e-05\n",
      "\n",
      "\n",
      "Epoch 1/2\n",
      "114/114 [==============================] - 48s 417ms/step - auc_2: 0.9594 - loss: 0.2036 - val_auc_2: 0.9758 - val_loss: 0.1605 - lr: 3.0000e-05\n",
      "Epoch 2/2\n",
      "114/114 [==============================] - 30s 259ms/step - auc_2: 0.9806 - loss: 0.1437 - val_auc_2: 0.9782 - val_loss: 0.1531 - lr: 2.8500e-05\n",
      "\n",
      "\n",
      "Epoch 1/2\n",
      "114/114 [==============================] - 48s 422ms/step - auc_3: 0.9538 - loss: 0.2166 - val_auc_3: 0.9736 - val_loss: 0.1671 - lr: 3.0000e-05\n",
      "Epoch 2/2\n",
      "114/114 [==============================] - 30s 260ms/step - auc_3: 0.9806 - loss: 0.1443 - val_auc_3: 0.9788 - val_loss: 0.1491 - lr: 2.8500e-05\n",
      "\n",
      "\n",
      "Epoch 1/2\n",
      "114/114 [==============================] - 48s 420ms/step - auc_4: 0.9643 - loss: 0.1924 - val_auc_4: 0.9780 - val_loss: 0.1537 - lr: 3.0000e-05\n",
      "Epoch 2/2\n",
      "114/114 [==============================] - 30s 259ms/step - auc_4: 0.9820 - loss: 0.1381 - val_auc_4: 0.9783 - val_loss: 0.1546 - lr: 2.8500e-05\n",
      "\n",
      "\n",
      "\n",
      "CPU times: user 3min 51s, sys: 12.5 s, total: 4min 3s\n",
      "Wall time: 12min 7s\n"
     ]
    }
   ],
   "source": [
    "%%time\n",
    "\n",
    "annealer = LearningRateScheduler(lambda x: 3e-5 * 0.95 ** x)\n",
    "\n",
    "history = [0] *nets\n",
    "\n",
    "for i in tnrange(nets):\n",
    "    \n",
    "    steps_per_epoch = train_size // (BATCH_SIZE)\n",
    "    \n",
    "    history[i] = model_list[i].fit(train_dataset,\n",
    "                                   steps_per_epoch = steps_per_epoch,\n",
    "                                   epochs = NR_EPOCHS,\n",
    "                                   validation_data = validation_dataset,\n",
    "                                   callbacks=[annealer]\n",
    "                                  )\n",
    "    \n",
    "    print('\\n')"
   ]
  },
  {
   "cell_type": "code",
   "execution_count": 19,
   "metadata": {
    "execution": {
     "iopub.execute_input": "2020-08-25T04:52:14.350381Z",
     "iopub.status.busy": "2020-08-25T04:52:14.349319Z",
     "iopub.status.idle": "2020-08-25T04:54:07.474224Z",
     "shell.execute_reply": "2020-08-25T04:54:07.473540Z"
    },
    "papermill": {
     "duration": 113.718519,
     "end_time": "2020-08-25T04:54:07.474362",
     "exception": false,
     "start_time": "2020-08-25T04:52:13.755843",
     "status": "completed"
    },
    "tags": []
   },
   "outputs": [
    {
     "name": "stdout",
     "output_type": "stream",
     "text": [
      "CPU times: user 25.2 s, sys: 948 ms, total: 26.1 s\n",
      "Wall time: 1min 53s\n"
     ]
    }
   ],
   "source": [
    "%%time\n",
    "\n",
    "class_probs = np.zeros(shape =(len(test_data),len(label_cols)))\n",
    "\n",
    "for i in range(nets):\n",
    "    \n",
    "    class_probs += model_list[i].predict(test_dataset)/nets"
   ]
  },
  {
   "cell_type": "code",
   "execution_count": 20,
   "metadata": {
    "execution": {
     "iopub.execute_input": "2020-08-25T04:54:08.587927Z",
     "iopub.status.busy": "2020-08-25T04:54:08.587071Z",
     "iopub.status.idle": "2020-08-25T04:54:08.634145Z",
     "shell.execute_reply": "2020-08-25T04:54:08.633502Z"
    },
    "papermill": {
     "duration": 0.612017,
     "end_time": "2020-08-25T04:54:08.634285",
     "exception": false,
     "start_time": "2020-08-25T04:54:08.022268",
     "status": "completed"
    },
    "tags": []
   },
   "outputs": [
    {
     "data": {
      "text/html": [
       "<div>\n",
       "<style scoped>\n",
       "    .dataframe tbody tr th:only-of-type {\n",
       "        vertical-align: middle;\n",
       "    }\n",
       "\n",
       "    .dataframe tbody tr th {\n",
       "        vertical-align: top;\n",
       "    }\n",
       "\n",
       "    .dataframe thead th {\n",
       "        text-align: right;\n",
       "    }\n",
       "</style>\n",
       "<table border=\"1\" class=\"dataframe\">\n",
       "  <thead>\n",
       "    <tr style=\"text-align: right;\">\n",
       "      <th></th>\n",
       "      <th>Computer Science</th>\n",
       "      <th>Physics</th>\n",
       "      <th>Mathematics</th>\n",
       "      <th>Statistics</th>\n",
       "      <th>Quantitative Biology</th>\n",
       "      <th>Quantitative Finance</th>\n",
       "    </tr>\n",
       "    <tr>\n",
       "      <th>ID</th>\n",
       "      <th></th>\n",
       "      <th></th>\n",
       "      <th></th>\n",
       "      <th></th>\n",
       "      <th></th>\n",
       "      <th></th>\n",
       "    </tr>\n",
       "  </thead>\n",
       "  <tbody>\n",
       "    <tr>\n",
       "      <th>20973</th>\n",
       "      <td>0.490760</td>\n",
       "      <td>0.018984</td>\n",
       "      <td>0.141875</td>\n",
       "      <td>0.967461</td>\n",
       "      <td>0.003675</td>\n",
       "      <td>0.001737</td>\n",
       "    </tr>\n",
       "    <tr>\n",
       "      <th>20974</th>\n",
       "      <td>0.002236</td>\n",
       "      <td>0.997766</td>\n",
       "      <td>0.001835</td>\n",
       "      <td>0.003536</td>\n",
       "      <td>0.001858</td>\n",
       "      <td>0.002312</td>\n",
       "    </tr>\n",
       "    <tr>\n",
       "      <th>20975</th>\n",
       "      <td>0.988253</td>\n",
       "      <td>0.014905</td>\n",
       "      <td>0.039055</td>\n",
       "      <td>0.016472</td>\n",
       "      <td>0.002712</td>\n",
       "      <td>0.005414</td>\n",
       "    </tr>\n",
       "    <tr>\n",
       "      <th>20976</th>\n",
       "      <td>0.002403</td>\n",
       "      <td>0.997220</td>\n",
       "      <td>0.001718</td>\n",
       "      <td>0.004527</td>\n",
       "      <td>0.001798</td>\n",
       "      <td>0.002539</td>\n",
       "    </tr>\n",
       "    <tr>\n",
       "      <th>20977</th>\n",
       "      <td>0.985975</td>\n",
       "      <td>0.006574</td>\n",
       "      <td>0.071994</td>\n",
       "      <td>0.015065</td>\n",
       "      <td>0.002084</td>\n",
       "      <td>0.003425</td>\n",
       "    </tr>\n",
       "  </tbody>\n",
       "</table>\n",
       "</div>"
      ],
      "text/plain": [
       "       Computer Science   Physics  Mathematics  Statistics  \\\n",
       "ID                                                           \n",
       "20973          0.490760  0.018984     0.141875    0.967461   \n",
       "20974          0.002236  0.997766     0.001835    0.003536   \n",
       "20975          0.988253  0.014905     0.039055    0.016472   \n",
       "20976          0.002403  0.997220     0.001718    0.004527   \n",
       "20977          0.985975  0.006574     0.071994    0.015065   \n",
       "\n",
       "       Quantitative Biology  Quantitative Finance  \n",
       "ID                                                 \n",
       "20973              0.003675              0.001737  \n",
       "20974              0.001858              0.002312  \n",
       "20975              0.002712              0.005414  \n",
       "20976              0.001798              0.002539  \n",
       "20977              0.002084              0.003425  "
      ]
     },
     "execution_count": 20,
     "metadata": {},
     "output_type": "execute_result"
    }
   ],
   "source": [
    "submission = pd.read_csv('../input/researchtopictags/sample.csv', index_col='ID')\n",
    "\n",
    "submission.loc[:, label_cols] = class_probs\n",
    "\n",
    "submission.head()"
   ]
  },
  {
   "cell_type": "code",
   "execution_count": 21,
   "metadata": {
    "execution": {
     "iopub.execute_input": "2020-08-25T04:54:09.747668Z",
     "iopub.status.busy": "2020-08-25T04:54:09.746923Z",
     "iopub.status.idle": "2020-08-25T04:54:09.962937Z",
     "shell.execute_reply": "2020-08-25T04:54:09.962294Z"
    },
    "papermill": {
     "duration": 0.772729,
     "end_time": "2020-08-25T04:54:09.963072",
     "exception": false,
     "start_time": "2020-08-25T04:54:09.190343",
     "status": "completed"
    },
    "tags": []
   },
   "outputs": [],
   "source": [
    "submission.to_csv('probs_combined.csv')"
   ]
  },
  {
   "cell_type": "code",
   "execution_count": 22,
   "metadata": {
    "execution": {
     "iopub.execute_input": "2020-08-25T04:54:11.073601Z",
     "iopub.status.busy": "2020-08-25T04:54:11.071953Z",
     "iopub.status.idle": "2020-08-25T04:54:11.087938Z",
     "shell.execute_reply": "2020-08-25T04:54:11.088523Z"
    },
    "papermill": {
     "duration": 0.57156,
     "end_time": "2020-08-25T04:54:11.088681",
     "exception": false,
     "start_time": "2020-08-25T04:54:10.517121",
     "status": "completed"
    },
    "tags": []
   },
   "outputs": [
    {
     "data": {
      "text/html": [
       "<div>\n",
       "<style scoped>\n",
       "    .dataframe tbody tr th:only-of-type {\n",
       "        vertical-align: middle;\n",
       "    }\n",
       "\n",
       "    .dataframe tbody tr th {\n",
       "        vertical-align: top;\n",
       "    }\n",
       "\n",
       "    .dataframe thead th {\n",
       "        text-align: right;\n",
       "    }\n",
       "</style>\n",
       "<table border=\"1\" class=\"dataframe\">\n",
       "  <thead>\n",
       "    <tr style=\"text-align: right;\">\n",
       "      <th></th>\n",
       "      <th>Computer Science</th>\n",
       "      <th>Physics</th>\n",
       "      <th>Mathematics</th>\n",
       "      <th>Statistics</th>\n",
       "      <th>Quantitative Biology</th>\n",
       "      <th>Quantitative Finance</th>\n",
       "    </tr>\n",
       "    <tr>\n",
       "      <th>ID</th>\n",
       "      <th></th>\n",
       "      <th></th>\n",
       "      <th></th>\n",
       "      <th></th>\n",
       "      <th></th>\n",
       "      <th></th>\n",
       "    </tr>\n",
       "  </thead>\n",
       "  <tbody>\n",
       "    <tr>\n",
       "      <th>20973</th>\n",
       "      <td>1</td>\n",
       "      <td>0</td>\n",
       "      <td>0</td>\n",
       "      <td>1</td>\n",
       "      <td>0</td>\n",
       "      <td>0</td>\n",
       "    </tr>\n",
       "    <tr>\n",
       "      <th>20974</th>\n",
       "      <td>0</td>\n",
       "      <td>1</td>\n",
       "      <td>0</td>\n",
       "      <td>0</td>\n",
       "      <td>0</td>\n",
       "      <td>0</td>\n",
       "    </tr>\n",
       "    <tr>\n",
       "      <th>20975</th>\n",
       "      <td>1</td>\n",
       "      <td>0</td>\n",
       "      <td>0</td>\n",
       "      <td>0</td>\n",
       "      <td>0</td>\n",
       "      <td>0</td>\n",
       "    </tr>\n",
       "    <tr>\n",
       "      <th>20976</th>\n",
       "      <td>0</td>\n",
       "      <td>1</td>\n",
       "      <td>0</td>\n",
       "      <td>0</td>\n",
       "      <td>0</td>\n",
       "      <td>0</td>\n",
       "    </tr>\n",
       "    <tr>\n",
       "      <th>20977</th>\n",
       "      <td>1</td>\n",
       "      <td>0</td>\n",
       "      <td>0</td>\n",
       "      <td>0</td>\n",
       "      <td>0</td>\n",
       "      <td>0</td>\n",
       "    </tr>\n",
       "  </tbody>\n",
       "</table>\n",
       "</div>"
      ],
      "text/plain": [
       "       Computer Science  Physics  Mathematics  Statistics  \\\n",
       "ID                                                          \n",
       "20973                 1        0            0           1   \n",
       "20974                 0        1            0           0   \n",
       "20975                 1        0            0           0   \n",
       "20976                 0        1            0           0   \n",
       "20977                 1        0            0           0   \n",
       "\n",
       "       Quantitative Biology  Quantitative Finance  \n",
       "ID                                                 \n",
       "20973                     0                     0  \n",
       "20974                     0                     0  \n",
       "20975                     0                     0  \n",
       "20976                     0                     0  \n",
       "20977                     0                     0  "
      ]
     },
     "execution_count": 22,
     "metadata": {},
     "output_type": "execute_result"
    }
   ],
   "source": [
    "predictions = (class_probs >0.4).astype(int)\n",
    "\n",
    "submission.loc[:, label_cols] = predictions\n",
    "\n",
    "submission.head()"
   ]
  },
  {
   "cell_type": "code",
   "execution_count": 23,
   "metadata": {
    "execution": {
     "iopub.execute_input": "2020-08-25T04:54:12.200459Z",
     "iopub.status.busy": "2020-08-25T04:54:12.199346Z",
     "iopub.status.idle": "2020-08-25T04:54:12.235692Z",
     "shell.execute_reply": "2020-08-25T04:54:12.234889Z"
    },
    "papermill": {
     "duration": 0.593875,
     "end_time": "2020-08-25T04:54:12.235827",
     "exception": false,
     "start_time": "2020-08-25T04:54:11.641952",
     "status": "completed"
    },
    "tags": []
   },
   "outputs": [],
   "source": [
    "submission.to_csv('submission.csv')"
   ]
  },
  {
   "cell_type": "code",
   "execution_count": null,
   "metadata": {
    "papermill": {
     "duration": 0.552252,
     "end_time": "2020-08-25T04:54:13.340696",
     "exception": false,
     "start_time": "2020-08-25T04:54:12.788444",
     "status": "completed"
    },
    "tags": []
   },
   "outputs": [],
   "source": []
  }
 ],
 "metadata": {
  "kernelspec": {
   "display_name": "Python 3",
   "language": "python",
   "name": "python3"
  },
  "language_info": {
   "codemirror_mode": {
    "name": "ipython",
    "version": 3
   },
   "file_extension": ".py",
   "mimetype": "text/x-python",
   "name": "python",
   "nbconvert_exporter": "python",
   "pygments_lexer": "ipython3",
   "version": "3.7.6"
  },
  "papermill": {
   "duration": 1261.091638,
   "end_time": "2020-08-25T04:54:14.101912",
   "environment_variables": {},
   "exception": null,
   "input_path": "__notebook__.ipynb",
   "output_path": "__notebook__.ipynb",
   "parameters": {},
   "start_time": "2020-08-25T04:33:13.010274",
   "version": "2.1.0"
  },
  "widgets": {
   "application/vnd.jupyter.widget-state+json": {
    "state": {
     "1e328bb053bb46de9a449f8aee739eb6": {
      "model_module": "@jupyter-widgets/base",
      "model_module_version": "1.2.0",
      "model_name": "LayoutModel",
      "state": {
       "_model_module": "@jupyter-widgets/base",
       "_model_module_version": "1.2.0",
       "_model_name": "LayoutModel",
       "_view_count": null,
       "_view_module": "@jupyter-widgets/base",
       "_view_module_version": "1.2.0",
       "_view_name": "LayoutView",
       "align_content": null,
       "align_items": null,
       "align_self": null,
       "border": null,
       "bottom": null,
       "display": null,
       "flex": null,
       "flex_flow": null,
       "grid_area": null,
       "grid_auto_columns": null,
       "grid_auto_flow": null,
       "grid_auto_rows": null,
       "grid_column": null,
       "grid_gap": null,
       "grid_row": null,
       "grid_template_areas": null,
       "grid_template_columns": null,
       "grid_template_rows": null,
       "height": null,
       "justify_content": null,
       "justify_items": null,
       "left": null,
       "margin": null,
       "max_height": null,
       "max_width": null,
       "min_height": null,
       "min_width": null,
       "object_fit": null,
       "object_position": null,
       "order": null,
       "overflow": null,
       "overflow_x": null,
       "overflow_y": null,
       "padding": null,
       "right": null,
       "top": null,
       "visibility": null,
       "width": null
      }
     },
     "2281b60c268d43f2a2a6ca5b933ff912": {
      "model_module": "@jupyter-widgets/controls",
      "model_module_version": "1.5.0",
      "model_name": "ProgressStyleModel",
      "state": {
       "_model_module": "@jupyter-widgets/controls",
       "_model_module_version": "1.5.0",
       "_model_name": "ProgressStyleModel",
       "_view_count": null,
       "_view_module": "@jupyter-widgets/base",
       "_view_module_version": "1.2.0",
       "_view_name": "StyleView",
       "bar_color": null,
       "description_width": "initial"
      }
     },
     "32eeb49d8f9247f9907a385defa3a051": {
      "model_module": "@jupyter-widgets/controls",
      "model_module_version": "1.5.0",
      "model_name": "HTMLModel",
      "state": {
       "_dom_classes": [],
       "_model_module": "@jupyter-widgets/controls",
       "_model_module_version": "1.5.0",
       "_model_name": "HTMLModel",
       "_view_count": null,
       "_view_module": "@jupyter-widgets/controls",
       "_view_module_version": "1.5.0",
       "_view_name": "HTMLView",
       "description": "",
       "description_tooltip": null,
       "layout": "IPY_MODEL_1e328bb053bb46de9a449f8aee739eb6",
       "placeholder": "​",
       "style": "IPY_MODEL_d31837ad66f54e8ab3af5054c2db43be",
       "value": " 20972/20972 [04:44&lt;00:00, 73.66it/s]"
      }
     },
     "43d80eb447854e22950d9e7c8294652d": {
      "model_module": "@jupyter-widgets/controls",
      "model_module_version": "1.5.0",
      "model_name": "HBoxModel",
      "state": {
       "_dom_classes": [],
       "_model_module": "@jupyter-widgets/controls",
       "_model_module_version": "1.5.0",
       "_model_name": "HBoxModel",
       "_view_count": null,
       "_view_module": "@jupyter-widgets/controls",
       "_view_module_version": "1.5.0",
       "_view_name": "HBoxView",
       "box_style": "",
       "children": [
        "IPY_MODEL_4e19b0f551aa4174ba800888fac05cee",
        "IPY_MODEL_7395781949e8483582debb8b1b0997a1"
       ],
       "layout": "IPY_MODEL_fd41a0b3a8c84de687a187c0e9fa291d"
      }
     },
     "4e19b0f551aa4174ba800888fac05cee": {
      "model_module": "@jupyter-widgets/controls",
      "model_module_version": "1.5.0",
      "model_name": "FloatProgressModel",
      "state": {
       "_dom_classes": [],
       "_model_module": "@jupyter-widgets/controls",
       "_model_module_version": "1.5.0",
       "_model_name": "FloatProgressModel",
       "_view_count": null,
       "_view_module": "@jupyter-widgets/controls",
       "_view_module_version": "1.5.0",
       "_view_name": "ProgressView",
       "bar_style": "success",
       "description": "100%",
       "description_tooltip": null,
       "layout": "IPY_MODEL_697f7c683004416fbb9c42d85bd6e2f4",
       "max": 5.0,
       "min": 0.0,
       "orientation": "horizontal",
       "style": "IPY_MODEL_557b2f7d1b364727a301665d943ae769",
       "value": 5.0
      }
     },
     "557b2f7d1b364727a301665d943ae769": {
      "model_module": "@jupyter-widgets/controls",
      "model_module_version": "1.5.0",
      "model_name": "ProgressStyleModel",
      "state": {
       "_model_module": "@jupyter-widgets/controls",
       "_model_module_version": "1.5.0",
       "_model_name": "ProgressStyleModel",
       "_view_count": null,
       "_view_module": "@jupyter-widgets/base",
       "_view_module_version": "1.2.0",
       "_view_name": "StyleView",
       "bar_color": null,
       "description_width": "initial"
      }
     },
     "6766c1510f8b4faaa19605223dacba20": {
      "model_module": "@jupyter-widgets/controls",
      "model_module_version": "1.5.0",
      "model_name": "DescriptionStyleModel",
      "state": {
       "_model_module": "@jupyter-widgets/controls",
       "_model_module_version": "1.5.0",
       "_model_name": "DescriptionStyleModel",
       "_view_count": null,
       "_view_module": "@jupyter-widgets/base",
       "_view_module_version": "1.2.0",
       "_view_name": "StyleView",
       "description_width": ""
      }
     },
     "697f7c683004416fbb9c42d85bd6e2f4": {
      "model_module": "@jupyter-widgets/base",
      "model_module_version": "1.2.0",
      "model_name": "LayoutModel",
      "state": {
       "_model_module": "@jupyter-widgets/base",
       "_model_module_version": "1.2.0",
       "_model_name": "LayoutModel",
       "_view_count": null,
       "_view_module": "@jupyter-widgets/base",
       "_view_module_version": "1.2.0",
       "_view_name": "LayoutView",
       "align_content": null,
       "align_items": null,
       "align_self": null,
       "border": null,
       "bottom": null,
       "display": null,
       "flex": null,
       "flex_flow": null,
       "grid_area": null,
       "grid_auto_columns": null,
       "grid_auto_flow": null,
       "grid_auto_rows": null,
       "grid_column": null,
       "grid_gap": null,
       "grid_row": null,
       "grid_template_areas": null,
       "grid_template_columns": null,
       "grid_template_rows": null,
       "height": null,
       "justify_content": null,
       "justify_items": null,
       "left": null,
       "margin": null,
       "max_height": null,
       "max_width": null,
       "min_height": null,
       "min_width": null,
       "object_fit": null,
       "object_position": null,
       "order": null,
       "overflow": null,
       "overflow_x": null,
       "overflow_y": null,
       "padding": null,
       "right": null,
       "top": null,
       "visibility": null,
       "width": null
      }
     },
     "7022970228d34f308111261e2a9b916a": {
      "model_module": "@jupyter-widgets/base",
      "model_module_version": "1.2.0",
      "model_name": "LayoutModel",
      "state": {
       "_model_module": "@jupyter-widgets/base",
       "_model_module_version": "1.2.0",
       "_model_name": "LayoutModel",
       "_view_count": null,
       "_view_module": "@jupyter-widgets/base",
       "_view_module_version": "1.2.0",
       "_view_name": "LayoutView",
       "align_content": null,
       "align_items": null,
       "align_self": null,
       "border": null,
       "bottom": null,
       "display": null,
       "flex": null,
       "flex_flow": null,
       "grid_area": null,
       "grid_auto_columns": null,
       "grid_auto_flow": null,
       "grid_auto_rows": null,
       "grid_column": null,
       "grid_gap": null,
       "grid_row": null,
       "grid_template_areas": null,
       "grid_template_columns": null,
       "grid_template_rows": null,
       "height": null,
       "justify_content": null,
       "justify_items": null,
       "left": null,
       "margin": null,
       "max_height": null,
       "max_width": null,
       "min_height": null,
       "min_width": null,
       "object_fit": null,
       "object_position": null,
       "order": null,
       "overflow": null,
       "overflow_x": null,
       "overflow_y": null,
       "padding": null,
       "right": null,
       "top": null,
       "visibility": null,
       "width": null
      }
     },
     "7395781949e8483582debb8b1b0997a1": {
      "model_module": "@jupyter-widgets/controls",
      "model_module_version": "1.5.0",
      "model_name": "HTMLModel",
      "state": {
       "_dom_classes": [],
       "_model_module": "@jupyter-widgets/controls",
       "_model_module_version": "1.5.0",
       "_model_name": "HTMLModel",
       "_view_count": null,
       "_view_module": "@jupyter-widgets/controls",
       "_view_module_version": "1.5.0",
       "_view_name": "HTMLView",
       "description": "",
       "description_tooltip": null,
       "layout": "IPY_MODEL_e936054e406040d99470758592375ae2",
       "placeholder": "​",
       "style": "IPY_MODEL_cc33310cc51141468f1579f67517edec",
       "value": " 5/5 [13:41&lt;00:00, 164.29s/it]"
      }
     },
     "79d2e7b051eb4b55a710778e11d77fb7": {
      "model_module": "@jupyter-widgets/base",
      "model_module_version": "1.2.0",
      "model_name": "LayoutModel",
      "state": {
       "_model_module": "@jupyter-widgets/base",
       "_model_module_version": "1.2.0",
       "_model_name": "LayoutModel",
       "_view_count": null,
       "_view_module": "@jupyter-widgets/base",
       "_view_module_version": "1.2.0",
       "_view_name": "LayoutView",
       "align_content": null,
       "align_items": null,
       "align_self": null,
       "border": null,
       "bottom": null,
       "display": null,
       "flex": null,
       "flex_flow": null,
       "grid_area": null,
       "grid_auto_columns": null,
       "grid_auto_flow": null,
       "grid_auto_rows": null,
       "grid_column": null,
       "grid_gap": null,
       "grid_row": null,
       "grid_template_areas": null,
       "grid_template_columns": null,
       "grid_template_rows": null,
       "height": null,
       "justify_content": null,
       "justify_items": null,
       "left": null,
       "margin": null,
       "max_height": null,
       "max_width": null,
       "min_height": null,
       "min_width": null,
       "object_fit": null,
       "object_position": null,
       "order": null,
       "overflow": null,
       "overflow_x": null,
       "overflow_y": null,
       "padding": null,
       "right": null,
       "top": null,
       "visibility": null,
       "width": null
      }
     },
     "92f77544cc7346afbc6ee040ddaa4d6f": {
      "model_module": "@jupyter-widgets/controls",
      "model_module_version": "1.5.0",
      "model_name": "HTMLModel",
      "state": {
       "_dom_classes": [],
       "_model_module": "@jupyter-widgets/controls",
       "_model_module_version": "1.5.0",
       "_model_name": "HTMLModel",
       "_view_count": null,
       "_view_module": "@jupyter-widgets/controls",
       "_view_module_version": "1.5.0",
       "_view_name": "HTMLView",
       "description": "",
       "description_tooltip": null,
       "layout": "IPY_MODEL_c05999dfa6044c0994c974a250cefb1b",
       "placeholder": "​",
       "style": "IPY_MODEL_6766c1510f8b4faaa19605223dacba20",
       "value": " 8989/8989 [01:37&lt;00:00, 92.20it/s]"
      }
     },
     "94624c2ce3d742448d76e06b5860265f": {
      "model_module": "@jupyter-widgets/controls",
      "model_module_version": "1.5.0",
      "model_name": "FloatProgressModel",
      "state": {
       "_dom_classes": [],
       "_model_module": "@jupyter-widgets/controls",
       "_model_module_version": "1.5.0",
       "_model_name": "FloatProgressModel",
       "_view_count": null,
       "_view_module": "@jupyter-widgets/controls",
       "_view_module_version": "1.5.0",
       "_view_name": "ProgressView",
       "bar_style": "success",
       "description": "100%",
       "description_tooltip": null,
       "layout": "IPY_MODEL_b4ace286ccb343b6a1bea998a9e17a63",
       "max": 20972.0,
       "min": 0.0,
       "orientation": "horizontal",
       "style": "IPY_MODEL_2281b60c268d43f2a2a6ca5b933ff912",
       "value": 20972.0
      }
     },
     "9e454820d6b049149425e2242fc9eca1": {
      "model_module": "@jupyter-widgets/controls",
      "model_module_version": "1.5.0",
      "model_name": "HBoxModel",
      "state": {
       "_dom_classes": [],
       "_model_module": "@jupyter-widgets/controls",
       "_model_module_version": "1.5.0",
       "_model_name": "HBoxModel",
       "_view_count": null,
       "_view_module": "@jupyter-widgets/controls",
       "_view_module_version": "1.5.0",
       "_view_name": "HBoxView",
       "box_style": "",
       "children": [
        "IPY_MODEL_a69071d5f0d24658bbcf2d763d41a44b",
        "IPY_MODEL_92f77544cc7346afbc6ee040ddaa4d6f"
       ],
       "layout": "IPY_MODEL_7022970228d34f308111261e2a9b916a"
      }
     },
     "a35d7bb4d8e54bc482e41685f615928f": {
      "model_module": "@jupyter-widgets/controls",
      "model_module_version": "1.5.0",
      "model_name": "ProgressStyleModel",
      "state": {
       "_model_module": "@jupyter-widgets/controls",
       "_model_module_version": "1.5.0",
       "_model_name": "ProgressStyleModel",
       "_view_count": null,
       "_view_module": "@jupyter-widgets/base",
       "_view_module_version": "1.2.0",
       "_view_name": "StyleView",
       "bar_color": null,
       "description_width": "initial"
      }
     },
     "a69071d5f0d24658bbcf2d763d41a44b": {
      "model_module": "@jupyter-widgets/controls",
      "model_module_version": "1.5.0",
      "model_name": "FloatProgressModel",
      "state": {
       "_dom_classes": [],
       "_model_module": "@jupyter-widgets/controls",
       "_model_module_version": "1.5.0",
       "_model_name": "FloatProgressModel",
       "_view_count": null,
       "_view_module": "@jupyter-widgets/controls",
       "_view_module_version": "1.5.0",
       "_view_name": "ProgressView",
       "bar_style": "success",
       "description": "100%",
       "description_tooltip": null,
       "layout": "IPY_MODEL_acccaedf084d474dac11777196dd3d8e",
       "max": 8989.0,
       "min": 0.0,
       "orientation": "horizontal",
       "style": "IPY_MODEL_a35d7bb4d8e54bc482e41685f615928f",
       "value": 8989.0
      }
     },
     "acccaedf084d474dac11777196dd3d8e": {
      "model_module": "@jupyter-widgets/base",
      "model_module_version": "1.2.0",
      "model_name": "LayoutModel",
      "state": {
       "_model_module": "@jupyter-widgets/base",
       "_model_module_version": "1.2.0",
       "_model_name": "LayoutModel",
       "_view_count": null,
       "_view_module": "@jupyter-widgets/base",
       "_view_module_version": "1.2.0",
       "_view_name": "LayoutView",
       "align_content": null,
       "align_items": null,
       "align_self": null,
       "border": null,
       "bottom": null,
       "display": null,
       "flex": null,
       "flex_flow": null,
       "grid_area": null,
       "grid_auto_columns": null,
       "grid_auto_flow": null,
       "grid_auto_rows": null,
       "grid_column": null,
       "grid_gap": null,
       "grid_row": null,
       "grid_template_areas": null,
       "grid_template_columns": null,
       "grid_template_rows": null,
       "height": null,
       "justify_content": null,
       "justify_items": null,
       "left": null,
       "margin": null,
       "max_height": null,
       "max_width": null,
       "min_height": null,
       "min_width": null,
       "object_fit": null,
       "object_position": null,
       "order": null,
       "overflow": null,
       "overflow_x": null,
       "overflow_y": null,
       "padding": null,
       "right": null,
       "top": null,
       "visibility": null,
       "width": null
      }
     },
     "aefa81dea4d1487987dcbd8baf98a276": {
      "model_module": "@jupyter-widgets/controls",
      "model_module_version": "1.5.0",
      "model_name": "HBoxModel",
      "state": {
       "_dom_classes": [],
       "_model_module": "@jupyter-widgets/controls",
       "_model_module_version": "1.5.0",
       "_model_name": "HBoxModel",
       "_view_count": null,
       "_view_module": "@jupyter-widgets/controls",
       "_view_module_version": "1.5.0",
       "_view_name": "HBoxView",
       "box_style": "",
       "children": [
        "IPY_MODEL_94624c2ce3d742448d76e06b5860265f",
        "IPY_MODEL_32eeb49d8f9247f9907a385defa3a051"
       ],
       "layout": "IPY_MODEL_79d2e7b051eb4b55a710778e11d77fb7"
      }
     },
     "b4ace286ccb343b6a1bea998a9e17a63": {
      "model_module": "@jupyter-widgets/base",
      "model_module_version": "1.2.0",
      "model_name": "LayoutModel",
      "state": {
       "_model_module": "@jupyter-widgets/base",
       "_model_module_version": "1.2.0",
       "_model_name": "LayoutModel",
       "_view_count": null,
       "_view_module": "@jupyter-widgets/base",
       "_view_module_version": "1.2.0",
       "_view_name": "LayoutView",
       "align_content": null,
       "align_items": null,
       "align_self": null,
       "border": null,
       "bottom": null,
       "display": null,
       "flex": null,
       "flex_flow": null,
       "grid_area": null,
       "grid_auto_columns": null,
       "grid_auto_flow": null,
       "grid_auto_rows": null,
       "grid_column": null,
       "grid_gap": null,
       "grid_row": null,
       "grid_template_areas": null,
       "grid_template_columns": null,
       "grid_template_rows": null,
       "height": null,
       "justify_content": null,
       "justify_items": null,
       "left": null,
       "margin": null,
       "max_height": null,
       "max_width": null,
       "min_height": null,
       "min_width": null,
       "object_fit": null,
       "object_position": null,
       "order": null,
       "overflow": null,
       "overflow_x": null,
       "overflow_y": null,
       "padding": null,
       "right": null,
       "top": null,
       "visibility": null,
       "width": null
      }
     },
     "c05999dfa6044c0994c974a250cefb1b": {
      "model_module": "@jupyter-widgets/base",
      "model_module_version": "1.2.0",
      "model_name": "LayoutModel",
      "state": {
       "_model_module": "@jupyter-widgets/base",
       "_model_module_version": "1.2.0",
       "_model_name": "LayoutModel",
       "_view_count": null,
       "_view_module": "@jupyter-widgets/base",
       "_view_module_version": "1.2.0",
       "_view_name": "LayoutView",
       "align_content": null,
       "align_items": null,
       "align_self": null,
       "border": null,
       "bottom": null,
       "display": null,
       "flex": null,
       "flex_flow": null,
       "grid_area": null,
       "grid_auto_columns": null,
       "grid_auto_flow": null,
       "grid_auto_rows": null,
       "grid_column": null,
       "grid_gap": null,
       "grid_row": null,
       "grid_template_areas": null,
       "grid_template_columns": null,
       "grid_template_rows": null,
       "height": null,
       "justify_content": null,
       "justify_items": null,
       "left": null,
       "margin": null,
       "max_height": null,
       "max_width": null,
       "min_height": null,
       "min_width": null,
       "object_fit": null,
       "object_position": null,
       "order": null,
       "overflow": null,
       "overflow_x": null,
       "overflow_y": null,
       "padding": null,
       "right": null,
       "top": null,
       "visibility": null,
       "width": null
      }
     },
     "cc33310cc51141468f1579f67517edec": {
      "model_module": "@jupyter-widgets/controls",
      "model_module_version": "1.5.0",
      "model_name": "DescriptionStyleModel",
      "state": {
       "_model_module": "@jupyter-widgets/controls",
       "_model_module_version": "1.5.0",
       "_model_name": "DescriptionStyleModel",
       "_view_count": null,
       "_view_module": "@jupyter-widgets/base",
       "_view_module_version": "1.2.0",
       "_view_name": "StyleView",
       "description_width": ""
      }
     },
     "d31837ad66f54e8ab3af5054c2db43be": {
      "model_module": "@jupyter-widgets/controls",
      "model_module_version": "1.5.0",
      "model_name": "DescriptionStyleModel",
      "state": {
       "_model_module": "@jupyter-widgets/controls",
       "_model_module_version": "1.5.0",
       "_model_name": "DescriptionStyleModel",
       "_view_count": null,
       "_view_module": "@jupyter-widgets/base",
       "_view_module_version": "1.2.0",
       "_view_name": "StyleView",
       "description_width": ""
      }
     },
     "e936054e406040d99470758592375ae2": {
      "model_module": "@jupyter-widgets/base",
      "model_module_version": "1.2.0",
      "model_name": "LayoutModel",
      "state": {
       "_model_module": "@jupyter-widgets/base",
       "_model_module_version": "1.2.0",
       "_model_name": "LayoutModel",
       "_view_count": null,
       "_view_module": "@jupyter-widgets/base",
       "_view_module_version": "1.2.0",
       "_view_name": "LayoutView",
       "align_content": null,
       "align_items": null,
       "align_self": null,
       "border": null,
       "bottom": null,
       "display": null,
       "flex": null,
       "flex_flow": null,
       "grid_area": null,
       "grid_auto_columns": null,
       "grid_auto_flow": null,
       "grid_auto_rows": null,
       "grid_column": null,
       "grid_gap": null,
       "grid_row": null,
       "grid_template_areas": null,
       "grid_template_columns": null,
       "grid_template_rows": null,
       "height": null,
       "justify_content": null,
       "justify_items": null,
       "left": null,
       "margin": null,
       "max_height": null,
       "max_width": null,
       "min_height": null,
       "min_width": null,
       "object_fit": null,
       "object_position": null,
       "order": null,
       "overflow": null,
       "overflow_x": null,
       "overflow_y": null,
       "padding": null,
       "right": null,
       "top": null,
       "visibility": null,
       "width": null
      }
     },
     "fd41a0b3a8c84de687a187c0e9fa291d": {
      "model_module": "@jupyter-widgets/base",
      "model_module_version": "1.2.0",
      "model_name": "LayoutModel",
      "state": {
       "_model_module": "@jupyter-widgets/base",
       "_model_module_version": "1.2.0",
       "_model_name": "LayoutModel",
       "_view_count": null,
       "_view_module": "@jupyter-widgets/base",
       "_view_module_version": "1.2.0",
       "_view_name": "LayoutView",
       "align_content": null,
       "align_items": null,
       "align_self": null,
       "border": null,
       "bottom": null,
       "display": null,
       "flex": null,
       "flex_flow": null,
       "grid_area": null,
       "grid_auto_columns": null,
       "grid_auto_flow": null,
       "grid_auto_rows": null,
       "grid_column": null,
       "grid_gap": null,
       "grid_row": null,
       "grid_template_areas": null,
       "grid_template_columns": null,
       "grid_template_rows": null,
       "height": null,
       "justify_content": null,
       "justify_items": null,
       "left": null,
       "margin": null,
       "max_height": null,
       "max_width": null,
       "min_height": null,
       "min_width": null,
       "object_fit": null,
       "object_position": null,
       "order": null,
       "overflow": null,
       "overflow_x": null,
       "overflow_y": null,
       "padding": null,
       "right": null,
       "top": null,
       "visibility": null,
       "width": null
      }
     }
    },
    "version_major": 2,
    "version_minor": 0
   }
  }
 },
 "nbformat": 4,
 "nbformat_minor": 4
}
