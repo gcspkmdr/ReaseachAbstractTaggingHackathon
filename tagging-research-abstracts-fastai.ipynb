{
 "cells": [
  {
   "cell_type": "code",
   "execution_count": 1,
   "metadata": {
    "_cell_guid": "b1076dfc-b9ad-4769-8c92-a6c4dae69d19",
    "_uuid": "8f2839f25d086af736a60e9eeb907d3b93b6e0e5",
    "execution": {
     "iopub.execute_input": "2020-08-24T03:22:31.057909Z",
     "iopub.status.busy": "2020-08-24T03:22:31.057241Z",
     "iopub.status.idle": "2020-08-24T03:22:35.597025Z",
     "shell.execute_reply": "2020-08-24T03:22:35.597873Z"
    },
    "id": "iaF4XOtrhVTz",
    "papermill": {
     "duration": 4.588652,
     "end_time": "2020-08-24T03:22:35.598103",
     "exception": false,
     "start_time": "2020-08-24T03:22:31.009451",
     "status": "completed"
    },
    "tags": []
   },
   "outputs": [
    {
     "name": "stdout",
     "output_type": "stream",
     "text": [
      "/kaggle/input/pretrained-models/itos_wt103.pkl\n",
      "/kaggle/input/pretrained-models/lstm_fwd.pth\n",
      "/kaggle/input/researchtopictags/sample.csv\n",
      "/kaggle/input/researchtopictags/test.csv\n",
      "/kaggle/input/researchtopictags/train.csv\n"
     ]
    }
   ],
   "source": [
    "import numpy as np \n",
    "import pandas as pd\n",
    "import matplotlib.pyplot as plt\n",
    "import matplotlib as mpl\n",
    "import os\n",
    "for dirname, _, filenames in os.walk('/kaggle/input'):\n",
    "    for filename in filenames:\n",
    "        print(os.path.join(dirname, filename))\n",
    "\n",
    "import warnings\n",
    "warnings.filterwarnings(\"ignore\")\n",
    "\n",
    "from fastai.text import *\n",
    "from fastai import *\n",
    "from sklearn.metrics import f1_score,accuracy_score\n",
    "import seaborn as sns\n",
    "sns.set_style('darkgrid')\n",
    "%matplotlib inline\n",
    "mpl.rcParams['figure.figsize'] = (12, 12)\n",
    "mpl.rcParams['axes.grid'] = True"
   ]
  },
  {
   "cell_type": "code",
   "execution_count": 2,
   "metadata": {
    "_cell_guid": "79c7e3d0-c299-4dcb-8224-4455121ee9b0",
    "_uuid": "d629ff2d2480ee46fbb7e2d37f6b5fab8052498a",
    "execution": {
     "iopub.execute_input": "2020-08-24T03:22:35.716989Z",
     "iopub.status.busy": "2020-08-24T03:22:35.715982Z",
     "iopub.status.idle": "2020-08-24T03:22:35.718378Z",
     "shell.execute_reply": "2020-08-24T03:22:35.719487Z"
    },
    "id": "2xkgIaC5hVT5",
    "papermill": {
     "duration": 0.063957,
     "end_time": "2020-08-24T03:22:35.719665",
     "exception": false,
     "start_time": "2020-08-24T03:22:35.655708",
     "status": "completed"
    },
    "tags": []
   },
   "outputs": [],
   "source": [
    "fnames=['/kaggle/input/pretrained-models/lstm_fwd','/kaggle/input/pretrained-models/itos_wt103']"
   ]
  },
  {
   "cell_type": "code",
   "execution_count": 3,
   "metadata": {
    "execution": {
     "iopub.execute_input": "2020-08-24T03:22:35.831908Z",
     "iopub.status.busy": "2020-08-24T03:22:35.831017Z",
     "iopub.status.idle": "2020-08-24T03:22:36.113725Z",
     "shell.execute_reply": "2020-08-24T03:22:36.112911Z"
    },
    "id": "f8fma9vRhVT8",
    "outputId": "14b7ae3c-28fb-4ab2-baef-5274c66e58bd",
    "papermill": {
     "duration": 0.338802,
     "end_time": "2020-08-24T03:22:36.113845",
     "exception": false,
     "start_time": "2020-08-24T03:22:35.775043",
     "status": "completed"
    },
    "tags": []
   },
   "outputs": [
    {
     "name": "stdout",
     "output_type": "stream",
     "text": [
      "(20972, 9)\n"
     ]
    },
    {
     "data": {
      "text/html": [
       "<div>\n",
       "<style scoped>\n",
       "    .dataframe tbody tr th:only-of-type {\n",
       "        vertical-align: middle;\n",
       "    }\n",
       "\n",
       "    .dataframe tbody tr th {\n",
       "        vertical-align: top;\n",
       "    }\n",
       "\n",
       "    .dataframe thead th {\n",
       "        text-align: right;\n",
       "    }\n",
       "</style>\n",
       "<table border=\"1\" class=\"dataframe\">\n",
       "  <thead>\n",
       "    <tr style=\"text-align: right;\">\n",
       "      <th></th>\n",
       "      <th>ID</th>\n",
       "      <th>TITLE</th>\n",
       "      <th>ABSTRACT</th>\n",
       "      <th>Computer Science</th>\n",
       "      <th>Physics</th>\n",
       "      <th>Mathematics</th>\n",
       "      <th>Statistics</th>\n",
       "      <th>Quantitative Biology</th>\n",
       "      <th>Quantitative Finance</th>\n",
       "    </tr>\n",
       "  </thead>\n",
       "  <tbody>\n",
       "    <tr>\n",
       "      <th>0</th>\n",
       "      <td>1</td>\n",
       "      <td>Reconstructing Subject-Specific Effect Maps</td>\n",
       "      <td>Predictive models allow subject-specific inf...</td>\n",
       "      <td>1</td>\n",
       "      <td>0</td>\n",
       "      <td>0</td>\n",
       "      <td>0</td>\n",
       "      <td>0</td>\n",
       "      <td>0</td>\n",
       "    </tr>\n",
       "    <tr>\n",
       "      <th>1</th>\n",
       "      <td>2</td>\n",
       "      <td>Rotation Invariance Neural Network</td>\n",
       "      <td>Rotation invariance and translation invarian...</td>\n",
       "      <td>1</td>\n",
       "      <td>0</td>\n",
       "      <td>0</td>\n",
       "      <td>0</td>\n",
       "      <td>0</td>\n",
       "      <td>0</td>\n",
       "    </tr>\n",
       "    <tr>\n",
       "      <th>2</th>\n",
       "      <td>3</td>\n",
       "      <td>Spherical polyharmonics and Poisson kernels fo...</td>\n",
       "      <td>We introduce and develop the notion of spher...</td>\n",
       "      <td>0</td>\n",
       "      <td>0</td>\n",
       "      <td>1</td>\n",
       "      <td>0</td>\n",
       "      <td>0</td>\n",
       "      <td>0</td>\n",
       "    </tr>\n",
       "    <tr>\n",
       "      <th>3</th>\n",
       "      <td>4</td>\n",
       "      <td>A finite element approximation for the stochas...</td>\n",
       "      <td>The stochastic Landau--Lifshitz--Gilbert (LL...</td>\n",
       "      <td>0</td>\n",
       "      <td>0</td>\n",
       "      <td>1</td>\n",
       "      <td>0</td>\n",
       "      <td>0</td>\n",
       "      <td>0</td>\n",
       "    </tr>\n",
       "    <tr>\n",
       "      <th>4</th>\n",
       "      <td>5</td>\n",
       "      <td>Comparative study of Discrete Wavelet Transfor...</td>\n",
       "      <td>Fourier-transform infra-red (FTIR) spectra o...</td>\n",
       "      <td>1</td>\n",
       "      <td>0</td>\n",
       "      <td>0</td>\n",
       "      <td>1</td>\n",
       "      <td>0</td>\n",
       "      <td>0</td>\n",
       "    </tr>\n",
       "  </tbody>\n",
       "</table>\n",
       "</div>"
      ],
      "text/plain": [
       "   ID                                              TITLE  \\\n",
       "0   1        Reconstructing Subject-Specific Effect Maps   \n",
       "1   2                 Rotation Invariance Neural Network   \n",
       "2   3  Spherical polyharmonics and Poisson kernels fo...   \n",
       "3   4  A finite element approximation for the stochas...   \n",
       "4   5  Comparative study of Discrete Wavelet Transfor...   \n",
       "\n",
       "                                            ABSTRACT  Computer Science  \\\n",
       "0    Predictive models allow subject-specific inf...                 1   \n",
       "1    Rotation invariance and translation invarian...                 1   \n",
       "2    We introduce and develop the notion of spher...                 0   \n",
       "3    The stochastic Landau--Lifshitz--Gilbert (LL...                 0   \n",
       "4    Fourier-transform infra-red (FTIR) spectra o...                 1   \n",
       "\n",
       "   Physics  Mathematics  Statistics  Quantitative Biology  \\\n",
       "0        0            0           0                     0   \n",
       "1        0            0           0                     0   \n",
       "2        0            1           0                     0   \n",
       "3        0            1           0                     0   \n",
       "4        0            0           1                     0   \n",
       "\n",
       "   Quantitative Finance  \n",
       "0                     0  \n",
       "1                     0  \n",
       "2                     0  \n",
       "3                     0  \n",
       "4                     0  "
      ]
     },
     "execution_count": 3,
     "metadata": {},
     "output_type": "execute_result"
    }
   ],
   "source": [
    "train_data = pd.read_csv('/kaggle/input/researchtopictags/train.csv')\n",
    "print(train_data.shape)\n",
    "train_data.head()"
   ]
  },
  {
   "cell_type": "code",
   "execution_count": 4,
   "metadata": {
    "execution": {
     "iopub.execute_input": "2020-08-24T03:22:36.201040Z",
     "iopub.status.busy": "2020-08-24T03:22:36.200363Z",
     "iopub.status.idle": "2020-08-24T03:22:36.305361Z",
     "shell.execute_reply": "2020-08-24T03:22:36.304815Z"
    },
    "papermill": {
     "duration": 0.15551,
     "end_time": "2020-08-24T03:22:36.305471",
     "exception": false,
     "start_time": "2020-08-24T03:22:36.149961",
     "status": "completed"
    },
    "tags": []
   },
   "outputs": [
    {
     "name": "stdout",
     "output_type": "stream",
     "text": [
      "(8989, 3)\n"
     ]
    },
    {
     "data": {
      "text/html": [
       "<div>\n",
       "<style scoped>\n",
       "    .dataframe tbody tr th:only-of-type {\n",
       "        vertical-align: middle;\n",
       "    }\n",
       "\n",
       "    .dataframe tbody tr th {\n",
       "        vertical-align: top;\n",
       "    }\n",
       "\n",
       "    .dataframe thead th {\n",
       "        text-align: right;\n",
       "    }\n",
       "</style>\n",
       "<table border=\"1\" class=\"dataframe\">\n",
       "  <thead>\n",
       "    <tr style=\"text-align: right;\">\n",
       "      <th></th>\n",
       "      <th>ID</th>\n",
       "      <th>TITLE</th>\n",
       "      <th>ABSTRACT</th>\n",
       "    </tr>\n",
       "  </thead>\n",
       "  <tbody>\n",
       "    <tr>\n",
       "      <th>0</th>\n",
       "      <td>20973</td>\n",
       "      <td>Closed-form Marginal Likelihood in Gamma-Poiss...</td>\n",
       "      <td>We present novel understandings of the Gamma...</td>\n",
       "    </tr>\n",
       "    <tr>\n",
       "      <th>1</th>\n",
       "      <td>20974</td>\n",
       "      <td>Laboratory mid-IR spectra of equilibrated and ...</td>\n",
       "      <td>Meteorites contain minerals from Solar Syste...</td>\n",
       "    </tr>\n",
       "    <tr>\n",
       "      <th>2</th>\n",
       "      <td>20975</td>\n",
       "      <td>Case For Static AMSDU Aggregation in WLANs</td>\n",
       "      <td>Frame aggregation is a mechanism by which mu...</td>\n",
       "    </tr>\n",
       "    <tr>\n",
       "      <th>3</th>\n",
       "      <td>20976</td>\n",
       "      <td>The $Gaia$-ESO Survey: the inner disk intermed...</td>\n",
       "      <td>Milky Way open clusters are very diverse in ...</td>\n",
       "    </tr>\n",
       "    <tr>\n",
       "      <th>4</th>\n",
       "      <td>20977</td>\n",
       "      <td>Witness-Functions versus Interpretation-Functi...</td>\n",
       "      <td>Proving that a cryptographic protocol is cor...</td>\n",
       "    </tr>\n",
       "  </tbody>\n",
       "</table>\n",
       "</div>"
      ],
      "text/plain": [
       "      ID                                              TITLE  \\\n",
       "0  20973  Closed-form Marginal Likelihood in Gamma-Poiss...   \n",
       "1  20974  Laboratory mid-IR spectra of equilibrated and ...   \n",
       "2  20975         Case For Static AMSDU Aggregation in WLANs   \n",
       "3  20976  The $Gaia$-ESO Survey: the inner disk intermed...   \n",
       "4  20977  Witness-Functions versus Interpretation-Functi...   \n",
       "\n",
       "                                            ABSTRACT  \n",
       "0    We present novel understandings of the Gamma...  \n",
       "1    Meteorites contain minerals from Solar Syste...  \n",
       "2    Frame aggregation is a mechanism by which mu...  \n",
       "3    Milky Way open clusters are very diverse in ...  \n",
       "4    Proving that a cryptographic protocol is cor...  "
      ]
     },
     "execution_count": 4,
     "metadata": {},
     "output_type": "execute_result"
    }
   ],
   "source": [
    "test_data = pd.read_csv('/kaggle/input/researchtopictags/test.csv')\n",
    "print(test_data.shape)\n",
    "test_data.head()"
   ]
  },
  {
   "cell_type": "code",
   "execution_count": 5,
   "metadata": {
    "execution": {
     "iopub.execute_input": "2020-08-24T03:22:36.396167Z",
     "iopub.status.busy": "2020-08-24T03:22:36.395265Z",
     "iopub.status.idle": "2020-08-24T03:22:36.639111Z",
     "shell.execute_reply": "2020-08-24T03:22:36.638593Z"
    },
    "id": "Z1wtV5BQa2VT",
    "papermill": {
     "duration": 0.293698,
     "end_time": "2020-08-24T03:22:36.639244",
     "exception": false,
     "start_time": "2020-08-24T03:22:36.345546",
     "status": "completed"
    },
    "tags": []
   },
   "outputs": [
    {
     "data": {
      "image/png": "[encoded data removed]",
      "text/plain": [
       "<Figure size 864x864 with 1 Axes>"
      ]
     },
     "metadata": {
      "needs_background": "light"
     },
     "output_type": "display_data"
    }
   ],
   "source": [
    "com_sc = train_data['Computer Science'].value_counts()[1]\n",
    "phy = train_data['Physics'].value_counts()[1]\n",
    "mat = train_data['Mathematics'].value_counts()[1]\n",
    "stats = train_data['Statistics'].value_counts()[1]\n",
    "bio = train_data['Quantitative Biology'].value_counts()[1]\n",
    "fin = train_data['Quantitative Finance'].value_counts()[1]\n",
    "\n",
    "fig = plt.figure()\n",
    "ax = fig.add_axes([0,0,1,1])\n",
    "topics = ['Computer Science','Physics','Mathematics', 'Statistics','Quantitative Biology','Quantitative Finance']\n",
    "counts = [com_sc,phy,mat,stats,bio,fin]\n",
    "ax.bar(topics,counts)\n",
    "plt.show()\n",
    "\n"
   ]
  },
  {
   "cell_type": "code",
   "execution_count": 6,
   "metadata": {
    "execution": {
     "iopub.execute_input": "2020-08-24T03:22:36.721574Z",
     "iopub.status.busy": "2020-08-24T03:22:36.720935Z",
     "iopub.status.idle": "2020-08-24T03:22:36.776227Z",
     "shell.execute_reply": "2020-08-24T03:22:36.775579Z"
    },
    "papermill": {
     "duration": 0.097697,
     "end_time": "2020-08-24T03:22:36.776344",
     "exception": false,
     "start_time": "2020-08-24T03:22:36.678647",
     "status": "completed"
    },
    "tags": []
   },
   "outputs": [],
   "source": [
    "train_data['combined_text'] = train_data['TITLE'] + \"<join>\" + train_data['ABSTRACT']\n",
    "test_data['combined_text'] = test_data['TITLE'] + \"<join>\" + test_data['ABSTRACT']"
   ]
  },
  {
   "cell_type": "code",
   "execution_count": 7,
   "metadata": {
    "execution": {
     "iopub.execute_input": "2020-08-24T03:22:36.878291Z",
     "iopub.status.busy": "2020-08-24T03:22:36.877652Z",
     "iopub.status.idle": "2020-08-24T03:22:37.313167Z",
     "shell.execute_reply": "2020-08-24T03:22:37.312521Z"
    },
    "id": "Cl1-mLzWJi4W",
    "papermill": {
     "duration": 0.489583,
     "end_time": "2020-08-24T03:22:37.313315",
     "exception": false,
     "start_time": "2020-08-24T03:22:36.823732",
     "status": "completed"
    },
    "tags": []
   },
   "outputs": [],
   "source": [
    "puncts = [',', '.', '\"', ':', ')', '(', '-', '!', '?', '|', ';', \"'\", '$', '&', '/', '[', ']', '>', '%', '=', '#', '*', '+', '\\\\', '•',  '~', '@', '£', \n",
    " '·', '_', '{', '}', '©', '^', '®', '`',  '<', '→', '°', '€', '™', '›',  '♥', '←', '×', '§', '″', '′', 'Â', '█', '½', 'à', '…', \n",
    " '“', '★', '”', '–', '●', 'â', '►', '−', '¢', '²', '¬', '░', '¶', '↑', '±', '¿', '▾', '═', '¦', '║', '―', '¥', '▓', '—', '‹', '─', \n",
    " '▒', '：', '¼', '⊕', '▼', '▪', '†', '■', '’', '▀', '¨', '▄', '♫', '☆', 'é', '¯', '♦', '¤', '▲', 'è', '¸', '¾', 'Ã', '⋅', '‘', '∞', \n",
    " '∙', '）', '↓', '、', '│', '（', '»', '，', '♪', '╩', '╚', '³', '・', '╦', '╣', '╔', '╗', '▬', '❤', 'ï', 'Ø', '¹', '≤', '‡', '√']\n",
    "\n",
    "def clean_text(x):\n",
    "    x = str(x)\n",
    "    for punct in puncts:\n",
    "        if punct in x:\n",
    "            x = x.replace(punct, ' ')\n",
    "    return x\n",
    "\n",
    "\n",
    "train_data['combined_text'] = train_data['combined_text'].apply(lambda x : clean_text(x))\n",
    "test_data['combined_text'] = test_data['combined_text'].apply(lambda x : clean_text(x))"
   ]
  },
  {
   "cell_type": "code",
   "execution_count": 8,
   "metadata": {
    "execution": {
     "iopub.execute_input": "2020-08-24T03:22:37.417041Z",
     "iopub.status.busy": "2020-08-24T03:22:37.400253Z",
     "iopub.status.idle": "2020-08-24T03:23:11.882307Z",
     "shell.execute_reply": "2020-08-24T03:23:11.881277Z"
    },
    "id": "MfhrEy5GhVUU",
    "outputId": "48564932-0750-4467-d0af-4161ee4ecd1b",
    "papermill": {
     "duration": 34.526838,
     "end_time": "2020-08-24T03:23:11.882500",
     "exception": false,
     "start_time": "2020-08-24T03:22:37.355662",
     "status": "completed"
    },
    "tags": []
   },
   "outputs": [
    {
     "data": {
      "text/html": [],
      "text/plain": [
       "<IPython.core.display.HTML object>"
      ]
     },
     "metadata": {},
     "output_type": "display_data"
    },
    {
     "data": {
      "text/html": [],
      "text/plain": [
       "<IPython.core.display.HTML object>"
      ]
     },
     "metadata": {},
     "output_type": "display_data"
    }
   ],
   "source": [
    "train_data_lm = (TextList.from_df(df=train_data,cols='combined_text').split_by_rand_pct(0.3).label_for_lm().databunch(bs=48))"
   ]
  },
  {
   "cell_type": "code",
   "execution_count": 9,
   "metadata": {
    "execution": {
     "iopub.execute_input": "2020-08-24T03:23:12.004420Z",
     "iopub.status.busy": "2020-08-24T03:23:11.999274Z",
     "iopub.status.idle": "2020-08-24T03:23:12.814555Z",
     "shell.execute_reply": "2020-08-24T03:23:12.812916Z"
    },
    "id": "jw1iIBpohVUY",
    "papermill": {
     "duration": 0.878456,
     "end_time": "2020-08-24T03:23:12.814698",
     "exception": false,
     "start_time": "2020-08-24T03:23:11.936242",
     "status": "completed"
    },
    "tags": []
   },
   "outputs": [],
   "source": [
    "train_data_lm.save('train_data_lm.pkl')"
   ]
  },
  {
   "cell_type": "code",
   "execution_count": 10,
   "metadata": {
    "execution": {
     "iopub.execute_input": "2020-08-24T03:23:12.907611Z",
     "iopub.status.busy": "2020-08-24T03:23:12.906329Z",
     "iopub.status.idle": "2020-08-24T03:23:12.910497Z",
     "shell.execute_reply": "2020-08-24T03:23:12.909973Z"
    },
    "id": "cgDCOMzZhVUa",
    "outputId": "aacffe06-6c2a-4cf4-990b-256e722ff689",
    "papermill": {
     "duration": 0.053647,
     "end_time": "2020-08-24T03:23:12.910595",
     "exception": false,
     "start_time": "2020-08-24T03:23:12.856948",
     "status": "completed"
    },
    "tags": []
   },
   "outputs": [
    {
     "data": {
      "text/plain": [
       "['xxunk',\n",
       " 'xxpad',\n",
       " 'xxbos',\n",
       " 'xxeos',\n",
       " 'xxfld',\n",
       " 'xxmaj',\n",
       " 'xxup',\n",
       " 'xxrep',\n",
       " 'xxwrep',\n",
       " '\\n ']"
      ]
     },
     "execution_count": 10,
     "metadata": {},
     "output_type": "execute_result"
    }
   ],
   "source": [
    "train_data_lm.vocab.itos[:10]"
   ]
  },
  {
   "cell_type": "code",
   "execution_count": 11,
   "metadata": {
    "execution": {
     "iopub.execute_input": "2020-08-24T03:23:13.015442Z",
     "iopub.status.busy": "2020-08-24T03:23:13.014415Z",
     "iopub.status.idle": "2020-08-24T03:23:13.019221Z",
     "shell.execute_reply": "2020-08-24T03:23:13.018705Z"
    },
    "id": "AWaw9qdThVUc",
    "outputId": "cda3ae27-ecef-44e8-af21-160c0c684417",
    "papermill": {
     "duration": 0.062046,
     "end_time": "2020-08-24T03:23:13.019320",
     "exception": false,
     "start_time": "2020-08-24T03:23:12.957274",
     "status": "completed"
    },
    "tags": []
   },
   "outputs": [
    {
     "data": {
      "text/plain": [
       "Text [    2     5  4460     5 ... 11747    18    78     9]"
      ]
     },
     "execution_count": 11,
     "metadata": {},
     "output_type": "execute_result"
    }
   ],
   "source": [
    "train_data_lm.train_ds[0][0]"
   ]
  },
  {
   "cell_type": "code",
   "execution_count": 12,
   "metadata": {
    "execution": {
     "iopub.execute_input": "2020-08-24T03:23:13.120567Z",
     "iopub.status.busy": "2020-08-24T03:23:13.119233Z",
     "iopub.status.idle": "2020-08-24T03:23:13.458983Z",
     "shell.execute_reply": "2020-08-24T03:23:13.458453Z"
    },
    "id": "9zKIikM_hVUf",
    "papermill": {
     "duration": 0.398897,
     "end_time": "2020-08-24T03:23:13.459105",
     "exception": false,
     "start_time": "2020-08-24T03:23:13.060208",
     "status": "completed"
    },
    "tags": []
   },
   "outputs": [],
   "source": [
    "train_data_lm = load_data('', 'train_data_lm.pkl', bs=48)"
   ]
  },
  {
   "cell_type": "code",
   "execution_count": 13,
   "metadata": {
    "execution": {
     "iopub.execute_input": "2020-08-24T03:23:13.549164Z",
     "iopub.status.busy": "2020-08-24T03:23:13.548401Z",
     "iopub.status.idle": "2020-08-24T03:23:18.497494Z",
     "shell.execute_reply": "2020-08-24T03:23:18.496975Z"
    },
    "id": "sIVOwlkQhVUh",
    "outputId": "ea4bb96e-c880-42c3-e382-087926ddbcaf",
    "papermill": {
     "duration": 4.997177,
     "end_time": "2020-08-24T03:23:18.497606",
     "exception": false,
     "start_time": "2020-08-24T03:23:13.500429",
     "status": "completed"
    },
    "tags": []
   },
   "outputs": [
    {
     "data": {
      "text/html": [
       "<table border=\"1\" class=\"dataframe\">\n",
       "  <thead>\n",
       "    <tr style=\"text-align: right;\">\n",
       "      <th>idx</th>\n",
       "      <th>text</th>\n",
       "    </tr>\n",
       "  </thead>\n",
       "  <tbody>\n",
       "    <tr>\n",
       "      <td>0</td>\n",
       "      <td>xxmaj while global inference is widely \\n  used local inference which can be used to form subject specific effect maps \\n  is rarely used because existing models often yield noisy detections composed of \\n  dispersed isolated islands xxmaj in this article we propose a reconstruction \\n  method named xxup rsm to improve subject specific detections of predictive \\n  modeling approaches and in particular binary classifiers</td>\n",
       "    </tr>\n",
       "    <tr>\n",
       "      <td>1</td>\n",
       "      <td>line \\n  xxbos xxmaj stellar streams as gravitational experiments i xxmaj the case of xxmaj sagittarius join xxmaj tidal streams of disrupting dwarf galaxies orbiting around their host galaxy \\n  offer a unique way to constrain the shape of galactic gravitational potentials \\n  xxmaj such streams can be used as leaning tower gravitational experiments on galactic \\n  scales xxmaj the most well motivated modification of gravity</td>\n",
       "    </tr>\n",
       "    <tr>\n",
       "      <td>2</td>\n",
       "      <td>additional dataset of over 6 hours of fully annotated \\n  broadcast material xxmaj the results of our evaluation on the new dataset and three \\n  other benchmark datasets show that our proposed method significantly \\n  outperforms the competitors and reduces diarization error rate by a large \\n  margin of over 30 with respect to the baseline \\n  xxbos xxmaj enhanced version of adaboostm1 with xxup</td>\n",
       "    </tr>\n",
       "    <tr>\n",
       "      <td>3</td>\n",
       "      <td>and susceptible to modes of power driven \\n  xxunk xxmaj we used the longitudinal dimension of editor activity to develop \\n  two panel regression models which test and verify the presence of editor level \\n  bias xxmaj in the first model we analyzed the citation impact of articles and in \\n  the second model we modeled the decision time between an article being \\n  submitted</td>\n",
       "    </tr>\n",
       "    <tr>\n",
       "      <td>4</td>\n",
       "      <td>relaxation based on the \\n  difference of convex xxup dc programming and enjoys both strong computational and \\n  statistical guarantees xxmaj specifically by leveraging a sophisticated \\n  characterization of sparse modeling structures assumptions i e local \\n  restricted strong convexity and xxmaj hessian smoothness we prove that within each \\n  stage of convex relaxation our proposed algorithm achieves local quadratic \\n  convergence and eventually</td>\n",
       "    </tr>\n",
       "  </tbody>\n",
       "</table>"
      ],
      "text/plain": [
       "<IPython.core.display.HTML object>"
      ]
     },
     "metadata": {},
     "output_type": "display_data"
    }
   ],
   "source": [
    "train_data_lm.show_batch()"
   ]
  },
  {
   "cell_type": "code",
   "execution_count": 14,
   "metadata": {
    "execution": {
     "iopub.execute_input": "2020-08-24T03:23:18.586692Z",
     "iopub.status.busy": "2020-08-24T03:23:18.585902Z",
     "iopub.status.idle": "2020-08-24T03:23:19.788571Z",
     "shell.execute_reply": "2020-08-24T03:23:19.789581Z"
    },
    "id": "kphspG32hVUk",
    "papermill": {
     "duration": 1.250365,
     "end_time": "2020-08-24T03:23:19.789778",
     "exception": false,
     "start_time": "2020-08-24T03:23:18.539413",
     "status": "completed"
    },
    "tags": []
   },
   "outputs": [],
   "source": [
    "languageModel = language_model_learner(train_data_lm, arch=AWD_LSTM, pretrained_fnames=fnames, drop_mult=0.3)"
   ]
  },
  {
   "cell_type": "code",
   "execution_count": 15,
   "metadata": {
    "execution": {
     "iopub.execute_input": "2020-08-24T03:23:19.931400Z",
     "iopub.status.busy": "2020-08-24T03:23:19.926415Z",
     "iopub.status.idle": "2020-08-24T03:23:32.600783Z",
     "shell.execute_reply": "2020-08-24T03:23:32.602057Z"
    },
    "id": "eRwhB3UkhVUn",
    "outputId": "ae70beda-de8e-4142-a4c6-8a0a18706dcb",
    "papermill": {
     "duration": 12.746456,
     "end_time": "2020-08-24T03:23:32.602306",
     "exception": false,
     "start_time": "2020-08-24T03:23:19.855850",
     "status": "completed"
    },
    "tags": []
   },
   "outputs": [
    {
     "data": {
      "text/html": [
       "\n",
       "    <div>\n",
       "        <style>\n",
       "            /* Turns off some styling */\n",
       "            progress {\n",
       "                /* gets rid of default border in Firefox and Opera. */\n",
       "                border: none;\n",
       "                /* Needs to be in here for Safari polyfill so background images work as expected. */\n",
       "                background-size: auto;\n",
       "            }\n",
       "            .progress-bar-interrupted, .progress-bar-interrupted::-webkit-progress-bar {\n",
       "                background: #F44336;\n",
       "            }\n",
       "        </style>\n",
       "      <progress value='0' class='' max='1' style='width:300px; height:20px; vertical-align: middle;'></progress>\n",
       "      0.00% [0/1 00:00<00:00]\n",
       "    </div>\n",
       "    \n",
       "<table border=\"1\" class=\"dataframe\">\n",
       "  <thead>\n",
       "    <tr style=\"text-align: left;\">\n",
       "      <th>epoch</th>\n",
       "      <th>train_loss</th>\n",
       "      <th>valid_loss</th>\n",
       "      <th>accuracy</th>\n",
       "      <th>time</th>\n",
       "    </tr>\n",
       "  </thead>\n",
       "  <tbody>\n",
       "  </tbody>\n",
       "</table><p>\n",
       "\n",
       "    <div>\n",
       "        <style>\n",
       "            /* Turns off some styling */\n",
       "            progress {\n",
       "                /* gets rid of default border in Firefox and Opera. */\n",
       "                border: none;\n",
       "                /* Needs to be in here for Safari polyfill so background images work as expected. */\n",
       "                background-size: auto;\n",
       "            }\n",
       "            .progress-bar-interrupted, .progress-bar-interrupted::-webkit-progress-bar {\n",
       "                background: #F44336;\n",
       "            }\n",
       "        </style>\n",
       "      <progress value='99' class='' max='864' style='width:300px; height:20px; vertical-align: middle;'></progress>\n",
       "      11.46% [99/864 00:12<01:33 12.0928]\n",
       "    </div>\n",
       "    "
      ],
      "text/plain": [
       "<IPython.core.display.HTML object>"
      ]
     },
     "metadata": {},
     "output_type": "display_data"
    },
    {
     "name": "stdout",
     "output_type": "stream",
     "text": [
      "LR Finder is complete, type {learner_name}.recorder.plot() to see the graph.\n"
     ]
    }
   ],
   "source": [
    "languageModel.lr_find()"
   ]
  },
  {
   "cell_type": "code",
   "execution_count": 16,
   "metadata": {
    "execution": {
     "iopub.execute_input": "2020-08-24T03:23:32.697757Z",
     "iopub.status.busy": "2020-08-24T03:23:32.696846Z",
     "iopub.status.idle": "2020-08-24T03:23:33.901625Z",
     "shell.execute_reply": "2020-08-24T03:23:33.901107Z"
    },
    "id": "UWqj9W64hVUp",
    "outputId": "e4c88d02-b6cd-4115-cc2f-2dae3386c122",
    "papermill": {
     "duration": 1.252073,
     "end_time": "2020-08-24T03:23:33.901737",
     "exception": false,
     "start_time": "2020-08-24T03:23:32.649664",
     "status": "completed"
    },
    "tags": []
   },
   "outputs": [
    {
     "name": "stdout",
     "output_type": "stream",
     "text": [
      "Min numerical gradient: 3.98E-02\n",
      "Min loss divided by 10: 1.45E-02\n"
     ]
    },
    {
     "data": {
      "image/png": "[encoded data removed]",
      "text/plain": [
       "<Figure size 864x864 with 1 Axes>"
      ]
     },
     "metadata": {
      "needs_background": "light"
     },
     "output_type": "display_data"
    }
   ],
   "source": [
    "languageModel.recorder.plot(suggestion = True)"
   ]
  },
  {
   "cell_type": "code",
   "execution_count": 17,
   "metadata": {
    "execution": {
     "iopub.execute_input": "2020-08-24T03:23:34.001487Z",
     "iopub.status.busy": "2020-08-24T03:23:34.000729Z",
     "iopub.status.idle": "2020-08-24T03:23:34.005779Z",
     "shell.execute_reply": "2020-08-24T03:23:34.005232Z"
    },
    "id": "N_qyjf3ZhVUr",
    "outputId": "1232fc31-1136-490a-b89d-aba8c8408af4",
    "papermill": {
     "duration": 0.056311,
     "end_time": "2020-08-24T03:23:34.005881",
     "exception": false,
     "start_time": "2020-08-24T03:23:33.949570",
     "status": "completed"
    },
    "tags": []
   },
   "outputs": [
    {
     "name": "stdout",
     "output_type": "stream",
     "text": [
      "0.03981071705534969\n"
     ]
    }
   ],
   "source": [
    "min_grad_lr = languageModel.recorder.min_grad_lr\n",
    "print(min_grad_lr)"
   ]
  },
  {
   "cell_type": "code",
   "execution_count": 18,
   "metadata": {
    "execution": {
     "iopub.execute_input": "2020-08-24T03:23:34.102123Z",
     "iopub.status.busy": "2020-08-24T03:23:34.101125Z",
     "iopub.status.idle": "2020-08-24T03:33:14.623120Z",
     "shell.execute_reply": "2020-08-24T03:33:14.623815Z"
    },
    "id": "YHav2yyPhVUt",
    "outputId": "31c2c794-f635-4efc-8cc1-8908847f0fc9",
    "papermill": {
     "duration": 580.572466,
     "end_time": "2020-08-24T03:33:14.624030",
     "exception": false,
     "start_time": "2020-08-24T03:23:34.051564",
     "status": "completed"
    },
    "tags": []
   },
   "outputs": [
    {
     "data": {
      "text/html": [
       "<table border=\"1\" class=\"dataframe\">\n",
       "  <thead>\n",
       "    <tr style=\"text-align: left;\">\n",
       "      <th>epoch</th>\n",
       "      <th>train_loss</th>\n",
       "      <th>valid_loss</th>\n",
       "      <th>accuracy</th>\n",
       "      <th>time</th>\n",
       "    </tr>\n",
       "  </thead>\n",
       "  <tbody>\n",
       "    <tr>\n",
       "      <td>0</td>\n",
       "      <td>5.029535</td>\n",
       "      <td>4.850693</td>\n",
       "      <td>0.231904</td>\n",
       "      <td>01:56</td>\n",
       "    </tr>\n",
       "    <tr>\n",
       "      <td>1</td>\n",
       "      <td>5.123695</td>\n",
       "      <td>4.926432</td>\n",
       "      <td>0.234601</td>\n",
       "      <td>01:56</td>\n",
       "    </tr>\n",
       "    <tr>\n",
       "      <td>2</td>\n",
       "      <td>4.870344</td>\n",
       "      <td>4.731266</td>\n",
       "      <td>0.246304</td>\n",
       "      <td>01:55</td>\n",
       "    </tr>\n",
       "    <tr>\n",
       "      <td>3</td>\n",
       "      <td>4.418156</td>\n",
       "      <td>4.486864</td>\n",
       "      <td>0.259395</td>\n",
       "      <td>01:56</td>\n",
       "    </tr>\n",
       "    <tr>\n",
       "      <td>4</td>\n",
       "      <td>4.078836</td>\n",
       "      <td>4.415239</td>\n",
       "      <td>0.265172</td>\n",
       "      <td>01:56</td>\n",
       "    </tr>\n",
       "  </tbody>\n",
       "</table>"
      ],
      "text/plain": [
       "<IPython.core.display.HTML object>"
      ]
     },
     "metadata": {},
     "output_type": "display_data"
    }
   ],
   "source": [
    "languageModel.fit_one_cycle(5, 0.045)"
   ]
  },
  {
   "cell_type": "code",
   "execution_count": 19,
   "metadata": {
    "execution": {
     "iopub.execute_input": "2020-08-24T03:33:14.748764Z",
     "iopub.status.busy": "2020-08-24T03:33:14.747848Z",
     "iopub.status.idle": "2020-08-24T03:33:14.878577Z",
     "shell.execute_reply": "2020-08-24T03:33:14.877887Z"
    },
    "id": "u6YruJsKhVUx",
    "papermill": {
     "duration": 0.191279,
     "end_time": "2020-08-24T03:33:14.878701",
     "exception": false,
     "start_time": "2020-08-24T03:33:14.687422",
     "status": "completed"
    },
    "tags": []
   },
   "outputs": [],
   "source": [
    "languageModel.save_encoder('fine_tuned_enc1')"
   ]
  },
  {
   "cell_type": "code",
   "execution_count": 20,
   "metadata": {
    "execution": {
     "iopub.execute_input": "2020-08-24T03:33:14.982026Z",
     "iopub.status.busy": "2020-08-24T03:33:14.981262Z",
     "iopub.status.idle": "2020-08-24T03:33:27.091260Z",
     "shell.execute_reply": "2020-08-24T03:33:27.091970Z"
    },
    "id": "eX8XfSivhVUz",
    "papermill": {
     "duration": 12.165559,
     "end_time": "2020-08-24T03:33:27.092116",
     "exception": false,
     "start_time": "2020-08-24T03:33:14.926557",
     "status": "completed"
    },
    "tags": []
   },
   "outputs": [
    {
     "data": {
      "text/html": [
       "\n",
       "    <div>\n",
       "        <style>\n",
       "            /* Turns off some styling */\n",
       "            progress {\n",
       "                /* gets rid of default border in Firefox and Opera. */\n",
       "                border: none;\n",
       "                /* Needs to be in here for Safari polyfill so background images work as expected. */\n",
       "                background-size: auto;\n",
       "            }\n",
       "            .progress-bar-interrupted, .progress-bar-interrupted::-webkit-progress-bar {\n",
       "                background: #F44336;\n",
       "            }\n",
       "        </style>\n",
       "      <progress value='0' class='' max='1' style='width:300px; height:20px; vertical-align: middle;'></progress>\n",
       "      0.00% [0/1 00:00<00:00]\n",
       "    </div>\n",
       "    \n",
       "<table border=\"1\" class=\"dataframe\">\n",
       "  <thead>\n",
       "    <tr style=\"text-align: left;\">\n",
       "      <th>epoch</th>\n",
       "      <th>train_loss</th>\n",
       "      <th>valid_loss</th>\n",
       "      <th>accuracy</th>\n",
       "      <th>time</th>\n",
       "    </tr>\n",
       "  </thead>\n",
       "  <tbody>\n",
       "  </tbody>\n",
       "</table><p>\n",
       "\n",
       "    <div>\n",
       "        <style>\n",
       "            /* Turns off some styling */\n",
       "            progress {\n",
       "                /* gets rid of default border in Firefox and Opera. */\n",
       "                border: none;\n",
       "                /* Needs to be in here for Safari polyfill so background images work as expected. */\n",
       "                background-size: auto;\n",
       "            }\n",
       "            .progress-bar-interrupted, .progress-bar-interrupted::-webkit-progress-bar {\n",
       "                background: #F44336;\n",
       "            }\n",
       "        </style>\n",
       "      <progress value='99' class='' max='864' style='width:300px; height:20px; vertical-align: middle;'></progress>\n",
       "      11.46% [99/864 00:11<01:27 8.7368]\n",
       "    </div>\n",
       "    "
      ],
      "text/plain": [
       "<IPython.core.display.HTML object>"
      ]
     },
     "metadata": {},
     "output_type": "display_data"
    },
    {
     "name": "stdout",
     "output_type": "stream",
     "text": [
      "LR Finder is complete, type {learner_name}.recorder.plot() to see the graph.\n"
     ]
    }
   ],
   "source": [
    "languageModel.lr_find()"
   ]
  },
  {
   "cell_type": "code",
   "execution_count": 21,
   "metadata": {
    "execution": {
     "iopub.execute_input": "2020-08-24T03:33:27.194748Z",
     "iopub.status.busy": "2020-08-24T03:33:27.193742Z",
     "iopub.status.idle": "2020-08-24T03:33:28.484044Z",
     "shell.execute_reply": "2020-08-24T03:33:28.483447Z"
    },
    "id": "EJvNAAm6hVU1",
    "papermill": {
     "duration": 1.343539,
     "end_time": "2020-08-24T03:33:28.484204",
     "exception": false,
     "start_time": "2020-08-24T03:33:27.140665",
     "status": "completed"
    },
    "tags": []
   },
   "outputs": [
    {
     "name": "stdout",
     "output_type": "stream",
     "text": [
      "Min numerical gradient: 6.31E-07\n",
      "Min loss divided by 10: 7.59E-08\n"
     ]
    },
    {
     "data": {
      "image/png": "[encoded data removed]",
      "text/plain": [
       "<Figure size 864x864 with 1 Axes>"
      ]
     },
     "metadata": {
      "needs_background": "light"
     },
     "output_type": "display_data"
    }
   ],
   "source": [
    "languageModel.recorder.plot(suggestion = True)"
   ]
  },
  {
   "cell_type": "code",
   "execution_count": 22,
   "metadata": {
    "execution": {
     "iopub.execute_input": "2020-08-24T03:33:28.601479Z",
     "iopub.status.busy": "2020-08-24T03:33:28.600661Z",
     "iopub.status.idle": "2020-08-24T03:33:28.605453Z",
     "shell.execute_reply": "2020-08-24T03:33:28.604891Z"
    },
    "id": "oJ4xHJJAhVU4",
    "papermill": {
     "duration": 0.06573,
     "end_time": "2020-08-24T03:33:28.605604",
     "exception": false,
     "start_time": "2020-08-24T03:33:28.539874",
     "status": "completed"
    },
    "tags": []
   },
   "outputs": [
    {
     "name": "stdout",
     "output_type": "stream",
     "text": [
      "6.309573444801933e-07\n"
     ]
    }
   ],
   "source": [
    "min_grad_lr = languageModel.recorder.min_grad_lr\n",
    "print(min_grad_lr)"
   ]
  },
  {
   "cell_type": "code",
   "execution_count": 23,
   "metadata": {
    "execution": {
     "iopub.execute_input": "2020-08-24T03:33:28.722803Z",
     "iopub.status.busy": "2020-08-24T03:33:28.721726Z",
     "iopub.status.idle": "2020-08-24T03:35:24.752707Z",
     "shell.execute_reply": "2020-08-24T03:35:24.752165Z"
    },
    "id": "J7KoYJCshVU6",
    "papermill": {
     "duration": 116.091845,
     "end_time": "2020-08-24T03:35:24.752825",
     "exception": false,
     "start_time": "2020-08-24T03:33:28.660980",
     "status": "completed"
    },
    "tags": []
   },
   "outputs": [
    {
     "data": {
      "text/html": [
       "<table border=\"1\" class=\"dataframe\">\n",
       "  <thead>\n",
       "    <tr style=\"text-align: left;\">\n",
       "      <th>epoch</th>\n",
       "      <th>train_loss</th>\n",
       "      <th>valid_loss</th>\n",
       "      <th>accuracy</th>\n",
       "      <th>time</th>\n",
       "    </tr>\n",
       "  </thead>\n",
       "  <tbody>\n",
       "    <tr>\n",
       "      <td>0</td>\n",
       "      <td>4.091941</td>\n",
       "      <td>4.412242</td>\n",
       "      <td>0.265111</td>\n",
       "      <td>01:56</td>\n",
       "    </tr>\n",
       "  </tbody>\n",
       "</table>"
      ],
      "text/plain": [
       "<IPython.core.display.HTML object>"
      ]
     },
     "metadata": {},
     "output_type": "display_data"
    }
   ],
   "source": [
    "languageModel.fit_one_cycle(1, 1e-2)"
   ]
  },
  {
   "cell_type": "code",
   "execution_count": 24,
   "metadata": {
    "execution": {
     "iopub.execute_input": "2020-08-24T03:35:24.856477Z",
     "iopub.status.busy": "2020-08-24T03:35:24.855857Z",
     "iopub.status.idle": "2020-08-24T03:35:24.992642Z",
     "shell.execute_reply": "2020-08-24T03:35:24.992039Z"
    },
    "id": "-YZ3zO20hVU9",
    "papermill": {
     "duration": 0.190172,
     "end_time": "2020-08-24T03:35:24.992764",
     "exception": false,
     "start_time": "2020-08-24T03:35:24.802592",
     "status": "completed"
    },
    "tags": []
   },
   "outputs": [],
   "source": [
    "languageModel.save_encoder('fine_tuned_enc2')"
   ]
  },
  {
   "cell_type": "code",
   "execution_count": 25,
   "metadata": {
    "execution": {
     "iopub.execute_input": "2020-08-24T03:35:25.104388Z",
     "iopub.status.busy": "2020-08-24T03:35:25.103517Z",
     "iopub.status.idle": "2020-08-24T03:35:37.311508Z",
     "shell.execute_reply": "2020-08-24T03:35:37.310835Z"
    },
    "id": "4xd9_QZshVU_",
    "papermill": {
     "duration": 12.263164,
     "end_time": "2020-08-24T03:35:37.311622",
     "exception": false,
     "start_time": "2020-08-24T03:35:25.048458",
     "status": "completed"
    },
    "tags": []
   },
   "outputs": [
    {
     "data": {
      "text/html": [
       "\n",
       "    <div>\n",
       "        <style>\n",
       "            /* Turns off some styling */\n",
       "            progress {\n",
       "                /* gets rid of default border in Firefox and Opera. */\n",
       "                border: none;\n",
       "                /* Needs to be in here for Safari polyfill so background images work as expected. */\n",
       "                background-size: auto;\n",
       "            }\n",
       "            .progress-bar-interrupted, .progress-bar-interrupted::-webkit-progress-bar {\n",
       "                background: #F44336;\n",
       "            }\n",
       "        </style>\n",
       "      <progress value='0' class='' max='1' style='width:300px; height:20px; vertical-align: middle;'></progress>\n",
       "      0.00% [0/1 00:00<00:00]\n",
       "    </div>\n",
       "    \n",
       "<table border=\"1\" class=\"dataframe\">\n",
       "  <thead>\n",
       "    <tr style=\"text-align: left;\">\n",
       "      <th>epoch</th>\n",
       "      <th>train_loss</th>\n",
       "      <th>valid_loss</th>\n",
       "      <th>accuracy</th>\n",
       "      <th>time</th>\n",
       "    </tr>\n",
       "  </thead>\n",
       "  <tbody>\n",
       "  </tbody>\n",
       "</table><p>\n",
       "\n",
       "    <div>\n",
       "        <style>\n",
       "            /* Turns off some styling */\n",
       "            progress {\n",
       "                /* gets rid of default border in Firefox and Opera. */\n",
       "                border: none;\n",
       "                /* Needs to be in here for Safari polyfill so background images work as expected. */\n",
       "                background-size: auto;\n",
       "            }\n",
       "            .progress-bar-interrupted, .progress-bar-interrupted::-webkit-progress-bar {\n",
       "                background: #F44336;\n",
       "            }\n",
       "        </style>\n",
       "      <progress value='99' class='' max='864' style='width:300px; height:20px; vertical-align: middle;'></progress>\n",
       "      11.46% [99/864 00:11<01:27 8.1233]\n",
       "    </div>\n",
       "    "
      ],
      "text/plain": [
       "<IPython.core.display.HTML object>"
      ]
     },
     "metadata": {},
     "output_type": "display_data"
    },
    {
     "name": "stdout",
     "output_type": "stream",
     "text": [
      "LR Finder is complete, type {learner_name}.recorder.plot() to see the graph.\n"
     ]
    }
   ],
   "source": [
    "languageModel.lr_find()"
   ]
  },
  {
   "cell_type": "code",
   "execution_count": 26,
   "metadata": {
    "execution": {
     "iopub.execute_input": "2020-08-24T03:35:37.428532Z",
     "iopub.status.busy": "2020-08-24T03:35:37.427309Z",
     "iopub.status.idle": "2020-08-24T03:35:38.740891Z",
     "shell.execute_reply": "2020-08-24T03:35:38.739846Z"
    },
    "id": "V5GzadmphVVB",
    "papermill": {
     "duration": 1.376059,
     "end_time": "2020-08-24T03:35:38.741034",
     "exception": false,
     "start_time": "2020-08-24T03:35:37.364975",
     "status": "completed"
    },
    "tags": []
   },
   "outputs": [
    {
     "name": "stdout",
     "output_type": "stream",
     "text": [
      "Min numerical gradient: 9.12E-07\n",
      "Min loss divided by 10: 1.58E-07\n"
     ]
    },
    {
     "data": {
      "image/png": "[encoded data removed]",
      "text/plain": [
       "<Figure size 864x864 with 1 Axes>"
      ]
     },
     "metadata": {
      "needs_background": "light"
     },
     "output_type": "display_data"
    }
   ],
   "source": [
    "languageModel.recorder.plot(suggestion = True)"
   ]
  },
  {
   "cell_type": "code",
   "execution_count": 27,
   "metadata": {
    "execution": {
     "iopub.execute_input": "2020-08-24T03:35:38.866763Z",
     "iopub.status.busy": "2020-08-24T03:35:38.865872Z",
     "iopub.status.idle": "2020-08-24T03:35:38.871175Z",
     "shell.execute_reply": "2020-08-24T03:35:38.871642Z"
    },
    "id": "AydlU5FehVVD",
    "papermill": {
     "duration": 0.069634,
     "end_time": "2020-08-24T03:35:38.871773",
     "exception": false,
     "start_time": "2020-08-24T03:35:38.802139",
     "status": "completed"
    },
    "tags": []
   },
   "outputs": [
    {
     "name": "stdout",
     "output_type": "stream",
     "text": [
      "9.120108393559096e-07\n"
     ]
    }
   ],
   "source": [
    "min_grad_lr = languageModel.recorder.min_grad_lr\n",
    "print(min_grad_lr)"
   ]
  },
  {
   "cell_type": "code",
   "execution_count": 28,
   "metadata": {
    "execution": {
     "iopub.execute_input": "2020-08-24T03:35:39.003472Z",
     "iopub.status.busy": "2020-08-24T03:35:39.001465Z",
     "iopub.status.idle": "2020-08-24T03:37:35.226653Z",
     "shell.execute_reply": "2020-08-24T03:37:35.227206Z"
    },
    "id": "l7Ead_DdhVVF",
    "papermill": {
     "duration": 116.293841,
     "end_time": "2020-08-24T03:37:35.227383",
     "exception": false,
     "start_time": "2020-08-24T03:35:38.933542",
     "status": "completed"
    },
    "tags": []
   },
   "outputs": [
    {
     "data": {
      "text/html": [
       "<table border=\"1\" class=\"dataframe\">\n",
       "  <thead>\n",
       "    <tr style=\"text-align: left;\">\n",
       "      <th>epoch</th>\n",
       "      <th>train_loss</th>\n",
       "      <th>valid_loss</th>\n",
       "      <th>accuracy</th>\n",
       "      <th>time</th>\n",
       "    </tr>\n",
       "  </thead>\n",
       "  <tbody>\n",
       "    <tr>\n",
       "      <td>0</td>\n",
       "      <td>4.064510</td>\n",
       "      <td>4.406788</td>\n",
       "      <td>0.265195</td>\n",
       "      <td>01:56</td>\n",
       "    </tr>\n",
       "  </tbody>\n",
       "</table>"
      ],
      "text/plain": [
       "<IPython.core.display.HTML object>"
      ]
     },
     "metadata": {},
     "output_type": "display_data"
    }
   ],
   "source": [
    "languageModel.fit_one_cycle(1, 1e-2)"
   ]
  },
  {
   "cell_type": "code",
   "execution_count": 29,
   "metadata": {
    "execution": {
     "iopub.execute_input": "2020-08-24T03:37:35.354158Z",
     "iopub.status.busy": "2020-08-24T03:37:35.353083Z",
     "iopub.status.idle": "2020-08-24T03:37:35.506759Z",
     "shell.execute_reply": "2020-08-24T03:37:35.507641Z"
    },
    "id": "MphRlD0ZhVVI",
    "papermill": {
     "duration": 0.218191,
     "end_time": "2020-08-24T03:37:35.507888",
     "exception": false,
     "start_time": "2020-08-24T03:37:35.289697",
     "status": "completed"
    },
    "tags": []
   },
   "outputs": [],
   "source": [
    "languageModel.save_encoder('fine_tuned_enc3')"
   ]
  },
  {
   "cell_type": "code",
   "execution_count": 30,
   "metadata": {
    "execution": {
     "iopub.execute_input": "2020-08-24T03:37:35.635322Z",
     "iopub.status.busy": "2020-08-24T03:37:35.634249Z",
     "iopub.status.idle": "2020-08-24T03:37:35.636472Z",
     "shell.execute_reply": "2020-08-24T03:37:35.636988Z"
    },
    "id": "v54ijBKi92D3",
    "papermill": {
     "duration": 0.067521,
     "end_time": "2020-08-24T03:37:35.637134",
     "exception": false,
     "start_time": "2020-08-24T03:37:35.569613",
     "status": "completed"
    },
    "tags": []
   },
   "outputs": [],
   "source": [
    "label_cols = topics"
   ]
  },
  {
   "cell_type": "code",
   "execution_count": 31,
   "metadata": {
    "execution": {
     "iopub.execute_input": "2020-08-24T03:37:35.782275Z",
     "iopub.status.busy": "2020-08-24T03:37:35.781314Z",
     "iopub.status.idle": "2020-08-24T03:38:41.734059Z",
     "shell.execute_reply": "2020-08-24T03:38:41.733536Z"
    },
    "id": "CaolqDmbhVVK",
    "outputId": "ff74c690-26d4-4684-8f97-eb7ad9c71498",
    "papermill": {
     "duration": 66.036368,
     "end_time": "2020-08-24T03:38:41.734171",
     "exception": false,
     "start_time": "2020-08-24T03:37:35.697803",
     "status": "completed"
    },
    "tags": []
   },
   "outputs": [
    {
     "data": {
      "text/html": [],
      "text/plain": [
       "<IPython.core.display.HTML object>"
      ]
     },
     "metadata": {},
     "output_type": "display_data"
    },
    {
     "data": {
      "text/html": [],
      "text/plain": [
       "<IPython.core.display.HTML object>"
      ]
     },
     "metadata": {},
     "output_type": "display_data"
    },
    {
     "data": {
      "text/html": [],
      "text/plain": [
       "<IPython.core.display.HTML object>"
      ]
     },
     "metadata": {},
     "output_type": "display_data"
    }
   ],
   "source": [
    "data_classifier = (TextList.from_df(df=train_data,cols='combined_text', vocab=train_data_lm.vocab)\n",
    "                     .split_by_rand_pct(0.3)\n",
    "                     .label_from_df(label_cols)\n",
    "                     .add_test(test_data)\n",
    "                     .databunch(bs=48))"
   ]
  },
  {
   "cell_type": "code",
   "execution_count": 32,
   "metadata": {
    "execution": {
     "iopub.execute_input": "2020-08-24T03:38:41.877859Z",
     "iopub.status.busy": "2020-08-24T03:38:41.851143Z",
     "iopub.status.idle": "2020-08-24T03:38:43.062338Z",
     "shell.execute_reply": "2020-08-24T03:38:43.061770Z"
    },
    "id": "L4RT5rywhVVM",
    "papermill": {
     "duration": 1.272149,
     "end_time": "2020-08-24T03:38:43.062467",
     "exception": false,
     "start_time": "2020-08-24T03:38:41.790318",
     "status": "completed"
    },
    "tags": []
   },
   "outputs": [],
   "source": [
    "data_classifier.save('data_classifier.pkl')"
   ]
  },
  {
   "cell_type": "code",
   "execution_count": 33,
   "metadata": {
    "execution": {
     "iopub.execute_input": "2020-08-24T03:38:43.183492Z",
     "iopub.status.busy": "2020-08-24T03:38:43.182627Z",
     "iopub.status.idle": "2020-08-24T03:38:45.737353Z",
     "shell.execute_reply": "2020-08-24T03:38:45.736521Z"
    },
    "id": "MooW6cOOhVVO",
    "papermill": {
     "duration": 2.618271,
     "end_time": "2020-08-24T03:38:45.737475",
     "exception": false,
     "start_time": "2020-08-24T03:38:43.119204",
     "status": "completed"
    },
    "tags": []
   },
   "outputs": [],
   "source": [
    "data_classifier = load_data('','data_classifier.pkl',bs=48)"
   ]
  },
  {
   "cell_type": "code",
   "execution_count": 34,
   "metadata": {
    "execution": {
     "iopub.execute_input": "2020-08-24T03:38:46.364904Z",
     "iopub.status.busy": "2020-08-24T03:38:45.856727Z",
     "iopub.status.idle": "2020-08-24T03:38:47.948923Z",
     "shell.execute_reply": "2020-08-24T03:38:47.948221Z"
    },
    "id": "-3HLQIkkhVVQ",
    "outputId": "ca66bbb9-a4d5-4e8f-b8d4-5b2b86c27831",
    "papermill": {
     "duration": 2.153647,
     "end_time": "2020-08-24T03:38:47.949047",
     "exception": false,
     "start_time": "2020-08-24T03:38:45.795400",
     "status": "completed"
    },
    "tags": []
   },
   "outputs": [
    {
     "data": {
      "text/html": [
       "<table border=\"1\" class=\"dataframe\">\n",
       "  <thead>\n",
       "    <tr style=\"text-align: right;\">\n",
       "      <th>text</th>\n",
       "      <th>target</th>\n",
       "    </tr>\n",
       "  </thead>\n",
       "  <tbody>\n",
       "    <tr>\n",
       "      <td>xxbos xxmaj the paradox of xxmaj vito xxmaj volterra s predator prey model join xxmaj this article is dedicated to the late xxmaj xxunk xxmaj israel r sum xxmaj the aim \\n  of this article is to propose on the one hand a brief history of modeling \\n  starting from the works of xxmaj fibonacci xxmaj xxunk xxmaj xxunk xxmaj pierre xxmaj francis xxmaj xxunk \\n  and</td>\n",
       "      <td>Quantitative Biology</td>\n",
       "    </tr>\n",
       "    <tr>\n",
       "      <td>xxbos xxunk u xxup lirg xxmaj survey xxup xxunk xxmaj dense xxmaj molecular xxmaj gas in xxmaj arp 220 and xxup ngc 6240 join xxmaj aims xxmaj we present new xxup iram xxmaj plateau de xxmaj xxunk xxmaj interferometer observations of xxmaj arp \\n  220 in xxup hcn xxup hco xxup xxunk 13 c j 1 0 c 2 h n 1 0 sio j 2 1 xxup xxunk</td>\n",
       "      <td>Physics</td>\n",
       "    </tr>\n",
       "    <tr>\n",
       "      <td>xxbos xxup xxunk i xxmaj the molecular gas content in star forming dusty h xxup atlas galaxies up to z 0 35 join xxmaj we present an extragalactic survey using observations from the xxmaj atacama xxmaj large \\n  xxmaj millimeter submillimeter xxmaj array xxup alma to characterise galaxy populations up to \\n  z 0 35 the xxmaj xxunk xxup alma xxmaj line xxmaj emission xxmaj survey xxup xxunk</td>\n",
       "      <td>Physics</td>\n",
       "    </tr>\n",
       "    <tr>\n",
       "      <td>xxbos xxmaj xxunk sodium ion exchange xxunk complex loaded melt cast films for sustained release xxunk delivery join xxmaj the goal of the present study is to develop polymeric matrix films loaded \\n  with a combination of free xxunk sodium xxunk and xxup dfs xxmaj ion exchange \\n  xxunk complexes xxup dfs xxup ir for immediate and sustained release profiles \\n  respectively xxmaj effect of ratio of</td>\n",
       "      <td>Physics</td>\n",
       "    </tr>\n",
       "    <tr>\n",
       "      <td>xxbos xxmaj simulated xxup jwst xxup xxunk xxmaj transit xxmaj spectroscopy of xxmaj anticipated xxup tess xxmaj planets xxmaj compared to xxmaj select xxmaj discoveries from xxmaj space xxmaj based and xxmaj ground xxmaj based xxmaj surveys join xxmaj the xxmaj transiting xxmaj exoplanet xxmaj survey xxmaj satellite xxup tess will xxunk in 2018 on a \\n  2 year wide field survey mission discovering over a thousand terrestrial \\n</td>\n",
       "      <td>Physics</td>\n",
       "    </tr>\n",
       "  </tbody>\n",
       "</table>"
      ],
      "text/plain": [
       "<IPython.core.display.HTML object>"
      ]
     },
     "metadata": {},
     "output_type": "display_data"
    }
   ],
   "source": [
    "data_classifier.show_batch()"
   ]
  },
  {
   "cell_type": "code",
   "execution_count": 35,
   "metadata": {
    "execution": {
     "iopub.execute_input": "2020-08-24T03:38:48.070425Z",
     "iopub.status.busy": "2020-08-24T03:38:48.068643Z",
     "iopub.status.idle": "2020-08-24T03:38:48.071076Z",
     "shell.execute_reply": "2020-08-24T03:38:48.071574Z"
    },
    "papermill": {
     "duration": 0.064631,
     "end_time": "2020-08-24T03:38:48.071706",
     "exception": false,
     "start_time": "2020-08-24T03:38:48.007075",
     "status": "completed"
    },
    "tags": []
   },
   "outputs": [],
   "source": [
    "threshold = 0.2"
   ]
  },
  {
   "cell_type": "code",
   "execution_count": 36,
   "metadata": {
    "execution": {
     "iopub.execute_input": "2020-08-24T03:38:48.249872Z",
     "iopub.status.busy": "2020-08-24T03:38:48.248000Z",
     "iopub.status.idle": "2020-08-24T03:38:48.250734Z",
     "shell.execute_reply": "2020-08-24T03:38:48.251290Z"
    },
    "id": "-cDE2la0hVVT",
    "papermill": {
     "duration": 0.122207,
     "end_time": "2020-08-24T03:38:48.251420",
     "exception": false,
     "start_time": "2020-08-24T03:38:48.129213",
     "status": "completed"
    },
    "tags": []
   },
   "outputs": [],
   "source": [
    "class MicroF1(Callback):\n",
    "\n",
    "    _order = -20 #is crucial - without it the custom columns will not be added - it tells the callback system to run this callback before the recorder system.\n",
    "\n",
    "    def __init__(self,learn,thresh,eps = 1e-15, sigmoid = True,**kwargs):\n",
    "        self.learn = learn\n",
    "        self.thresh = thresh\n",
    "        self.eps = eps\n",
    "        self.sigmoid = sigmoid\n",
    "\n",
    "    def on_train_begin(self, **kwargs): \n",
    "        self.learn.recorder.add_metric_names(['MicroF1'])\n",
    "    \n",
    "    def on_epoch_begin(self, **kwargs):\n",
    "        self.tp = 0\n",
    "        self.total_pred = 0\n",
    "        self.total_targ = 0\n",
    "    \n",
    "    def on_batch_end(self, last_output, last_target, **kwargs):\n",
    "        pred, targ = ((last_output.sigmoid() if self.sigmoid else last_output) > self.thresh).byte(), last_target.byte()\n",
    "        if torch.equal(torch.tensor(pred.shape),torch.tensor(targ.shape)):\n",
    "            \n",
    "            m = pred*targ\n",
    "            self.tp += m.sum(0).float()\n",
    "            self.total_pred += pred.sum(0).float()\n",
    "            self.total_targ += targ.sum(0).float()\n",
    "    \n",
    "    def fbeta_score(self, precision, recall):\n",
    "        return 2*(precision*recall)/((precision + recall) + self.eps)\n",
    "\n",
    "    def on_epoch_end(self, last_metrics, **kwargs):\n",
    "        self.total_pred += self.eps\n",
    "        self.total_targ += self.eps\n",
    "        precision, recall = self.tp.sum() / self.total_pred.sum(), self.tp.sum() / self.total_targ.sum()\n",
    "        res = self.fbeta_score(precision, recall)        \n",
    "        return add_metrics(last_metrics, res)"
   ]
  },
  {
   "cell_type": "code",
   "execution_count": 37,
   "metadata": {
    "execution": {
     "iopub.execute_input": "2020-08-24T03:38:48.383547Z",
     "iopub.status.busy": "2020-08-24T03:38:48.382744Z",
     "iopub.status.idle": "2020-08-24T03:38:48.386166Z",
     "shell.execute_reply": "2020-08-24T03:38:48.385670Z"
    },
    "papermill": {
     "duration": 0.075149,
     "end_time": "2020-08-24T03:38:48.386293",
     "exception": false,
     "start_time": "2020-08-24T03:38:48.311144",
     "status": "completed"
    },
    "tags": []
   },
   "outputs": [],
   "source": [
    "class AccPerClass(Callback):\n",
    "    _order = -20 \n",
    "\n",
    "    def __init__(self, learn, **kwargs): \n",
    "        self.learn = learn\n",
    "        self.output, self.target = [], []\n",
    "        \n",
    "    def on_train_begin(self, **kwargs): \n",
    "        self.learn.recorder.add_metric_names(topics)\n",
    "        \n",
    "    def on_epoch_begin(self, **kwargs): \n",
    "        self.output, self.target = [], []\n",
    "    \n",
    "    def on_batch_end(self, last_target, last_output, train, **kwargs):\n",
    "        if not train:\n",
    "            self.output.append(last_output)\n",
    "            self.target.append(last_target)\n",
    "                \n",
    "    def on_epoch_end(self, last_metrics, **kwargs):\n",
    "        if len(self.output) > 0:\n",
    "            output = torch.cat(self.output)\n",
    "            target = torch.cat(self.target)\n",
    "            preds = F.softmax(output, dim=1)\n",
    "            metric = []\n",
    "            for i in range(0,target.shape[1]):\n",
    "                metric.append(accuracy_score(target.cpu().numpy()[...,i].flatten(), (preds[...,i] >0.2).byte().cpu().numpy().flatten()))\n",
    "            return add_metrics(last_metrics, metric)\n",
    "        else:\n",
    "            return"
   ]
  },
  {
   "cell_type": "code",
   "execution_count": 38,
   "metadata": {
    "execution": {
     "iopub.execute_input": "2020-08-24T03:38:48.509638Z",
     "iopub.status.busy": "2020-08-24T03:38:48.507818Z",
     "iopub.status.idle": "2020-08-24T03:38:48.510437Z",
     "shell.execute_reply": "2020-08-24T03:38:48.510888Z"
    },
    "papermill": {
     "duration": 0.065103,
     "end_time": "2020-08-24T03:38:48.511027",
     "exception": false,
     "start_time": "2020-08-24T03:38:48.445924",
     "status": "completed"
    },
    "tags": []
   },
   "outputs": [],
   "source": [
    "microF1 = partial(MicroF1,thresh = threshold)"
   ]
  },
  {
   "cell_type": "code",
   "execution_count": 39,
   "metadata": {
    "execution": {
     "iopub.execute_input": "2020-08-24T03:38:48.632991Z",
     "iopub.status.busy": "2020-08-24T03:38:48.632246Z",
     "iopub.status.idle": "2020-08-24T03:38:52.701136Z",
     "shell.execute_reply": "2020-08-24T03:38:52.699758Z"
    },
    "id": "PQ-VMm9vhVVY",
    "papermill": {
     "duration": 4.131993,
     "end_time": "2020-08-24T03:38:52.701275",
     "exception": false,
     "start_time": "2020-08-24T03:38:48.569282",
     "status": "completed"
    },
    "tags": []
   },
   "outputs": [
    {
     "name": "stdout",
     "output_type": "stream",
     "text": [
      "Downloading https://s3.amazonaws.com/fast-ai-modelzoo/wt103-fwd.tgz\n"
     ]
    },
    {
     "data": {
      "text/html": [],
      "text/plain": [
       "<IPython.core.display.HTML object>"
      ]
     },
     "metadata": {},
     "output_type": "display_data"
    }
   ],
   "source": [
    "classifierModel = text_classifier_learner(data_classifier , arch=AWD_LSTM,drop_mult=0.4, callback_fns = [microF1,AccPerClass] )\n",
    "classifierModel.load_encoder('fine_tuned_enc1')\n",
    "classifierModel.freeze()"
   ]
  },
  {
   "cell_type": "code",
   "execution_count": 40,
   "metadata": {
    "execution": {
     "iopub.execute_input": "2020-08-24T03:38:52.855071Z",
     "iopub.status.busy": "2020-08-24T03:38:52.854111Z",
     "iopub.status.idle": "2020-08-24T03:38:55.451147Z",
     "shell.execute_reply": "2020-08-24T03:38:55.452265Z"
    },
    "id": "rHYZkeE8hVVb",
    "outputId": "e08913e8-1ad3-4323-ce2e-d668304458a6",
    "papermill": {
     "duration": 2.682958,
     "end_time": "2020-08-24T03:38:55.452468",
     "exception": false,
     "start_time": "2020-08-24T03:38:52.769510",
     "status": "completed"
    },
    "tags": []
   },
   "outputs": [
    {
     "data": {
      "text/plain": [
       "SequentialRNN\n",
       "======================================================================\n",
       "Layer (type)         Output Shape         Param #    Trainable \n",
       "======================================================================\n",
       "RNNDropout           [33, 400]            0          False     \n",
       "______________________________________________________________________\n",
       "RNNDropout           [33, 1152]           0          False     \n",
       "______________________________________________________________________\n",
       "RNNDropout           [33, 1152]           0          False     \n",
       "______________________________________________________________________\n",
       "BatchNorm1d          [1200]               2,400      True      \n",
       "______________________________________________________________________\n",
       "Dropout              [1200]               0          False     \n",
       "______________________________________________________________________\n",
       "Linear               [50]                 60,050     True      \n",
       "______________________________________________________________________\n",
       "ReLU                 [50]                 0          False     \n",
       "______________________________________________________________________\n",
       "BatchNorm1d          [50]                 100        True      \n",
       "______________________________________________________________________\n",
       "Dropout              [50]                 0          False     \n",
       "______________________________________________________________________\n",
       "Linear               [6]                  306        True      \n",
       "______________________________________________________________________\n",
       "\n",
       "Total params: 62,856\n",
       "Total trainable params: 62,856\n",
       "Total non-trainable params: 0\n",
       "Optimized with 'torch.optim.adam.Adam', betas=(0.9, 0.99)\n",
       "Using true weight decay as discussed in https://www.fast.ai/2018/07/02/adam-weight-decay/ \n",
       "Loss function : FlattenedLoss\n",
       "======================================================================\n",
       "Callbacks functions applied \n",
       "    RNNTrainer"
      ]
     },
     "execution_count": 40,
     "metadata": {},
     "output_type": "execute_result"
    }
   ],
   "source": [
    "classifierModel.summary()"
   ]
  },
  {
   "cell_type": "code",
   "execution_count": 41,
   "metadata": {
    "execution": {
     "iopub.execute_input": "2020-08-24T03:38:55.589034Z",
     "iopub.status.busy": "2020-08-24T03:38:55.588248Z",
     "iopub.status.idle": "2020-08-24T03:39:09.288844Z",
     "shell.execute_reply": "2020-08-24T03:39:09.290068Z"
    },
    "id": "rkPmOs65hVVd",
    "outputId": "2fb95489-e774-406c-8b74-bc716fbd7d51",
    "papermill": {
     "duration": 13.766324,
     "end_time": "2020-08-24T03:39:09.290301",
     "exception": false,
     "start_time": "2020-08-24T03:38:55.523977",
     "status": "completed"
    },
    "tags": []
   },
   "outputs": [
    {
     "data": {
      "text/html": [
       "\n",
       "    <div>\n",
       "        <style>\n",
       "            /* Turns off some styling */\n",
       "            progress {\n",
       "                /* gets rid of default border in Firefox and Opera. */\n",
       "                border: none;\n",
       "                /* Needs to be in here for Safari polyfill so background images work as expected. */\n",
       "                background-size: auto;\n",
       "            }\n",
       "            .progress-bar-interrupted, .progress-bar-interrupted::-webkit-progress-bar {\n",
       "                background: #F44336;\n",
       "            }\n",
       "        </style>\n",
       "      <progress value='0' class='' max='1' style='width:300px; height:20px; vertical-align: middle;'></progress>\n",
       "      0.00% [0/1 00:00<00:00]\n",
       "    </div>\n",
       "    \n",
       "<table border=\"1\" class=\"dataframe\">\n",
       "  <thead>\n",
       "    <tr style=\"text-align: left;\">\n",
       "      <th>epoch</th>\n",
       "      <th>train_loss</th>\n",
       "      <th>valid_loss</th>\n",
       "      <th>MicroF1</th>\n",
       "      <th>Computer Science</th>\n",
       "      <th>Physics</th>\n",
       "      <th>Mathematics</th>\n",
       "      <th>Statistics</th>\n",
       "      <th>Quantitative Biology</th>\n",
       "      <th>Quantitative Finance</th>\n",
       "      <th>time</th>\n",
       "    </tr>\n",
       "  </thead>\n",
       "  <tbody>\n",
       "  </tbody>\n",
       "</table><p>\n",
       "\n",
       "    <div>\n",
       "        <style>\n",
       "            /* Turns off some styling */\n",
       "            progress {\n",
       "                /* gets rid of default border in Firefox and Opera. */\n",
       "                border: none;\n",
       "                /* Needs to be in here for Safari polyfill so background images work as expected. */\n",
       "                background-size: auto;\n",
       "            }\n",
       "            .progress-bar-interrupted, .progress-bar-interrupted::-webkit-progress-bar {\n",
       "                background: #F44336;\n",
       "            }\n",
       "        </style>\n",
       "      <progress value='95' class='' max='305' style='width:300px; height:20px; vertical-align: middle;'></progress>\n",
       "      31.15% [95/305 00:13<00:29 1.7677]\n",
       "    </div>\n",
       "    "
      ],
      "text/plain": [
       "<IPython.core.display.HTML object>"
      ]
     },
     "metadata": {},
     "output_type": "display_data"
    },
    {
     "name": "stdout",
     "output_type": "stream",
     "text": [
      "LR Finder is complete, type {learner_name}.recorder.plot() to see the graph.\n"
     ]
    }
   ],
   "source": [
    "classifierModel.lr_find()"
   ]
  },
  {
   "cell_type": "code",
   "execution_count": 42,
   "metadata": {
    "execution": {
     "iopub.execute_input": "2020-08-24T03:39:09.498063Z",
     "iopub.status.busy": "2020-08-24T03:39:09.494918Z",
     "iopub.status.idle": "2020-08-24T03:39:10.914000Z",
     "shell.execute_reply": "2020-08-24T03:39:10.914573Z"
    },
    "id": "L9tgAgsMhVVf",
    "outputId": "e80c0fac-8428-4a06-9cab-fc0ce2dea285",
    "papermill": {
     "duration": 1.526087,
     "end_time": "2020-08-24T03:39:10.914749",
     "exception": false,
     "start_time": "2020-08-24T03:39:09.388662",
     "status": "completed"
    },
    "tags": []
   },
   "outputs": [
    {
     "name": "stdout",
     "output_type": "stream",
     "text": [
      "Min numerical gradient: 1.20E-01\n",
      "Min loss divided by 10: 3.63E-02\n"
     ]
    },
    {
     "data": {
      "image/png": "[encoded data removed]",
      "text/plain": [
       "<Figure size 864x864 with 1 Axes>"
      ]
     },
     "metadata": {
      "needs_background": "light"
     },
     "output_type": "display_data"
    }
   ],
   "source": [
    "classifierModel.recorder.plot(suggestion = True)"
   ]
  },
  {
   "cell_type": "code",
   "execution_count": 43,
   "metadata": {
    "execution": {
     "iopub.execute_input": "2020-08-24T03:39:11.065339Z",
     "iopub.status.busy": "2020-08-24T03:39:11.064657Z",
     "iopub.status.idle": "2020-08-24T03:39:11.068762Z",
     "shell.execute_reply": "2020-08-24T03:39:11.069208Z"
    },
    "id": "GxqhIwfvhVVh",
    "outputId": "58d5732d-2d36-41ba-8b2e-b783ae61f56c",
    "papermill": {
     "duration": 0.081296,
     "end_time": "2020-08-24T03:39:11.069341",
     "exception": false,
     "start_time": "2020-08-24T03:39:10.988045",
     "status": "completed"
    },
    "tags": []
   },
   "outputs": [
    {
     "name": "stdout",
     "output_type": "stream",
     "text": [
      "0.12022644346174131\n"
     ]
    }
   ],
   "source": [
    "min_grad_lr = classifierModel.recorder.min_grad_lr\n",
    "print(min_grad_lr)"
   ]
  },
  {
   "cell_type": "code",
   "execution_count": 44,
   "metadata": {
    "execution": {
     "iopub.execute_input": "2020-08-24T03:39:11.203593Z",
     "iopub.status.busy": "2020-08-24T03:39:11.202532Z",
     "iopub.status.idle": "2020-08-24T03:56:57.714364Z",
     "shell.execute_reply": "2020-08-24T03:56:57.713813Z"
    },
    "id": "Go7Ra20_hVVk",
    "outputId": "448d6e6d-55ff-4114-d194-862b03b99eb1",
    "papermill": {
     "duration": 1066.582144,
     "end_time": "2020-08-24T03:56:57.714484",
     "exception": false,
     "start_time": "2020-08-24T03:39:11.132340",
     "status": "completed"
    },
    "tags": []
   },
   "outputs": [
    {
     "data": {
      "text/html": [
       "<table border=\"1\" class=\"dataframe\">\n",
       "  <thead>\n",
       "    <tr style=\"text-align: left;\">\n",
       "      <th>epoch</th>\n",
       "      <th>train_loss</th>\n",
       "      <th>valid_loss</th>\n",
       "      <th>MicroF1</th>\n",
       "      <th>Computer Science</th>\n",
       "      <th>Physics</th>\n",
       "      <th>Mathematics</th>\n",
       "      <th>Statistics</th>\n",
       "      <th>Quantitative Biology</th>\n",
       "      <th>Quantitative Finance</th>\n",
       "      <th>time</th>\n",
       "    </tr>\n",
       "  </thead>\n",
       "  <tbody>\n",
       "    <tr>\n",
       "      <td>0</td>\n",
       "      <td>0.248872</td>\n",
       "      <td>0.193332</td>\n",
       "      <td>0.653981</td>\n",
       "      <td>0.841520</td>\n",
       "      <td>0.925767</td>\n",
       "      <td>0.888412</td>\n",
       "      <td>0.861230</td>\n",
       "      <td>0.975680</td>\n",
       "      <td>0.991734</td>\n",
       "      <td>00:50</td>\n",
       "    </tr>\n",
       "    <tr>\n",
       "      <td>1</td>\n",
       "      <td>0.251832</td>\n",
       "      <td>0.192781</td>\n",
       "      <td>0.734416</td>\n",
       "      <td>0.847878</td>\n",
       "      <td>0.907010</td>\n",
       "      <td>0.892068</td>\n",
       "      <td>0.877762</td>\n",
       "      <td>0.974726</td>\n",
       "      <td>0.991416</td>\n",
       "      <td>00:50</td>\n",
       "    </tr>\n",
       "    <tr>\n",
       "      <td>2</td>\n",
       "      <td>0.253483</td>\n",
       "      <td>0.197261</td>\n",
       "      <td>0.725856</td>\n",
       "      <td>0.843745</td>\n",
       "      <td>0.920998</td>\n",
       "      <td>0.876013</td>\n",
       "      <td>0.869019</td>\n",
       "      <td>0.974567</td>\n",
       "      <td>0.987442</td>\n",
       "      <td>00:52</td>\n",
       "    </tr>\n",
       "    <tr>\n",
       "      <td>3</td>\n",
       "      <td>0.257175</td>\n",
       "      <td>0.195929</td>\n",
       "      <td>0.735198</td>\n",
       "      <td>0.839453</td>\n",
       "      <td>0.923542</td>\n",
       "      <td>0.883961</td>\n",
       "      <td>0.865840</td>\n",
       "      <td>0.975521</td>\n",
       "      <td>0.991257</td>\n",
       "      <td>00:56</td>\n",
       "    </tr>\n",
       "    <tr>\n",
       "      <td>4</td>\n",
       "      <td>0.278897</td>\n",
       "      <td>0.227839</td>\n",
       "      <td>0.716329</td>\n",
       "      <td>0.834684</td>\n",
       "      <td>0.920680</td>\n",
       "      <td>0.837546</td>\n",
       "      <td>0.863615</td>\n",
       "      <td>0.973136</td>\n",
       "      <td>0.991257</td>\n",
       "      <td>00:56</td>\n",
       "    </tr>\n",
       "    <tr>\n",
       "      <td>5</td>\n",
       "      <td>0.293089</td>\n",
       "      <td>0.228238</td>\n",
       "      <td>0.718673</td>\n",
       "      <td>0.830234</td>\n",
       "      <td>0.927515</td>\n",
       "      <td>0.886187</td>\n",
       "      <td>0.865999</td>\n",
       "      <td>0.973136</td>\n",
       "      <td>0.991257</td>\n",
       "      <td>00:52</td>\n",
       "    </tr>\n",
       "    <tr>\n",
       "      <td>6</td>\n",
       "      <td>0.262099</td>\n",
       "      <td>0.205938</td>\n",
       "      <td>0.722521</td>\n",
       "      <td>0.845970</td>\n",
       "      <td>0.928946</td>\n",
       "      <td>0.840089</td>\n",
       "      <td>0.868542</td>\n",
       "      <td>0.974408</td>\n",
       "      <td>0.992052</td>\n",
       "      <td>00:49</td>\n",
       "    </tr>\n",
       "    <tr>\n",
       "      <td>7</td>\n",
       "      <td>0.260523</td>\n",
       "      <td>0.215694</td>\n",
       "      <td>0.719928</td>\n",
       "      <td>0.809410</td>\n",
       "      <td>0.931330</td>\n",
       "      <td>0.871880</td>\n",
       "      <td>0.871880</td>\n",
       "      <td>0.973454</td>\n",
       "      <td>0.990304</td>\n",
       "      <td>00:53</td>\n",
       "    </tr>\n",
       "    <tr>\n",
       "      <td>8</td>\n",
       "      <td>0.273590</td>\n",
       "      <td>0.245762</td>\n",
       "      <td>0.713334</td>\n",
       "      <td>0.848673</td>\n",
       "      <td>0.852806</td>\n",
       "      <td>0.878716</td>\n",
       "      <td>0.795740</td>\n",
       "      <td>0.973772</td>\n",
       "      <td>0.985058</td>\n",
       "      <td>00:54</td>\n",
       "    </tr>\n",
       "    <tr>\n",
       "      <td>9</td>\n",
       "      <td>0.264662</td>\n",
       "      <td>0.205070</td>\n",
       "      <td>0.721299</td>\n",
       "      <td>0.847083</td>\n",
       "      <td>0.923542</td>\n",
       "      <td>0.871245</td>\n",
       "      <td>0.869973</td>\n",
       "      <td>0.974090</td>\n",
       "      <td>0.992688</td>\n",
       "      <td>00:52</td>\n",
       "    </tr>\n",
       "    <tr>\n",
       "      <td>10</td>\n",
       "      <td>0.266248</td>\n",
       "      <td>0.204329</td>\n",
       "      <td>0.721055</td>\n",
       "      <td>0.826101</td>\n",
       "      <td>0.919091</td>\n",
       "      <td>0.892863</td>\n",
       "      <td>0.843268</td>\n",
       "      <td>0.972341</td>\n",
       "      <td>0.992529</td>\n",
       "      <td>00:51</td>\n",
       "    </tr>\n",
       "    <tr>\n",
       "      <td>11</td>\n",
       "      <td>0.258185</td>\n",
       "      <td>0.219448</td>\n",
       "      <td>0.729660</td>\n",
       "      <td>0.836433</td>\n",
       "      <td>0.914322</td>\n",
       "      <td>0.885233</td>\n",
       "      <td>0.876172</td>\n",
       "      <td>0.973613</td>\n",
       "      <td>0.992211</td>\n",
       "      <td>00:53</td>\n",
       "    </tr>\n",
       "    <tr>\n",
       "      <td>12</td>\n",
       "      <td>0.247057</td>\n",
       "      <td>0.190411</td>\n",
       "      <td>0.732080</td>\n",
       "      <td>0.837546</td>\n",
       "      <td>0.925767</td>\n",
       "      <td>0.892227</td>\n",
       "      <td>0.871245</td>\n",
       "      <td>0.973136</td>\n",
       "      <td>0.992370</td>\n",
       "      <td>00:55</td>\n",
       "    </tr>\n",
       "    <tr>\n",
       "      <td>13</td>\n",
       "      <td>0.242877</td>\n",
       "      <td>0.189168</td>\n",
       "      <td>0.741604</td>\n",
       "      <td>0.854713</td>\n",
       "      <td>0.931172</td>\n",
       "      <td>0.875695</td>\n",
       "      <td>0.864568</td>\n",
       "      <td>0.975044</td>\n",
       "      <td>0.991416</td>\n",
       "      <td>00:55</td>\n",
       "    </tr>\n",
       "    <tr>\n",
       "      <td>14</td>\n",
       "      <td>0.237776</td>\n",
       "      <td>0.184595</td>\n",
       "      <td>0.743451</td>\n",
       "      <td>0.857892</td>\n",
       "      <td>0.916071</td>\n",
       "      <td>0.890320</td>\n",
       "      <td>0.878239</td>\n",
       "      <td>0.974249</td>\n",
       "      <td>0.992370</td>\n",
       "      <td>00:55</td>\n",
       "    </tr>\n",
       "    <tr>\n",
       "      <td>15</td>\n",
       "      <td>0.231387</td>\n",
       "      <td>0.265721</td>\n",
       "      <td>0.750314</td>\n",
       "      <td>0.849467</td>\n",
       "      <td>0.933556</td>\n",
       "      <td>0.893340</td>\n",
       "      <td>0.878875</td>\n",
       "      <td>0.973136</td>\n",
       "      <td>0.990939</td>\n",
       "      <td>00:55</td>\n",
       "    </tr>\n",
       "    <tr>\n",
       "      <td>16</td>\n",
       "      <td>0.225125</td>\n",
       "      <td>0.190338</td>\n",
       "      <td>0.751899</td>\n",
       "      <td>0.856144</td>\n",
       "      <td>0.925608</td>\n",
       "      <td>0.889684</td>\n",
       "      <td>0.876967</td>\n",
       "      <td>0.974408</td>\n",
       "      <td>0.992370</td>\n",
       "      <td>00:53</td>\n",
       "    </tr>\n",
       "    <tr>\n",
       "      <td>17</td>\n",
       "      <td>0.223094</td>\n",
       "      <td>0.178422</td>\n",
       "      <td>0.753180</td>\n",
       "      <td>0.854077</td>\n",
       "      <td>0.926880</td>\n",
       "      <td>0.890002</td>\n",
       "      <td>0.881259</td>\n",
       "      <td>0.975203</td>\n",
       "      <td>0.991098</td>\n",
       "      <td>00:51</td>\n",
       "    </tr>\n",
       "    <tr>\n",
       "      <td>18</td>\n",
       "      <td>0.217061</td>\n",
       "      <td>0.176697</td>\n",
       "      <td>0.758579</td>\n",
       "      <td>0.855985</td>\n",
       "      <td>0.928946</td>\n",
       "      <td>0.892545</td>\n",
       "      <td>0.882372</td>\n",
       "      <td>0.975362</td>\n",
       "      <td>0.991416</td>\n",
       "      <td>00:55</td>\n",
       "    </tr>\n",
       "    <tr>\n",
       "      <td>19</td>\n",
       "      <td>0.217400</td>\n",
       "      <td>0.178196</td>\n",
       "      <td>0.758544</td>\n",
       "      <td>0.853282</td>\n",
       "      <td>0.932284</td>\n",
       "      <td>0.889048</td>\n",
       "      <td>0.882054</td>\n",
       "      <td>0.974726</td>\n",
       "      <td>0.991416</td>\n",
       "      <td>00:51</td>\n",
       "    </tr>\n",
       "  </tbody>\n",
       "</table>"
      ],
      "text/plain": [
       "<IPython.core.display.HTML object>"
      ]
     },
     "metadata": {},
     "output_type": "display_data"
    }
   ],
   "source": [
    "classifierModel.fit_one_cycle(20, 1e-1)"
   ]
  },
  {
   "cell_type": "code",
   "execution_count": 45,
   "metadata": {
    "execution": {
     "iopub.execute_input": "2020-08-24T03:56:57.851667Z",
     "iopub.status.busy": "2020-08-24T03:56:57.850798Z",
     "iopub.status.idle": "2020-08-24T03:56:57.975623Z",
     "shell.execute_reply": "2020-08-24T03:56:57.975044Z"
    },
    "id": "bkaRXnfDhVVn",
    "papermill": {
     "duration": 0.195268,
     "end_time": "2020-08-24T03:56:57.975747",
     "exception": false,
     "start_time": "2020-08-24T03:56:57.780479",
     "status": "completed"
    },
    "tags": []
   },
   "outputs": [],
   "source": [
    "classifierModel.save('classifierModel1')"
   ]
  },
  {
   "cell_type": "code",
   "execution_count": 46,
   "metadata": {
    "execution": {
     "iopub.execute_input": "2020-08-24T03:56:58.111698Z",
     "iopub.status.busy": "2020-08-24T03:56:58.110794Z",
     "iopub.status.idle": "2020-08-24T03:56:58.423414Z",
     "shell.execute_reply": "2020-08-24T03:56:58.423881Z"
    },
    "id": "PN39c0AKhVVq",
    "outputId": "6691c0b3-7855-4bec-aca0-6bdabf30c3f1",
    "papermill": {
     "duration": 0.382778,
     "end_time": "2020-08-24T03:56:58.424016",
     "exception": false,
     "start_time": "2020-08-24T03:56:58.041238",
     "status": "completed"
    },
    "tags": []
   },
   "outputs": [
    {
     "data": {
      "text/html": [
       "<table border=\"1\" class=\"dataframe\">\n",
       "  <thead>\n",
       "    <tr style=\"text-align: right;\">\n",
       "      <th>text</th>\n",
       "      <th>target</th>\n",
       "      <th>prediction</th>\n",
       "    </tr>\n",
       "  </thead>\n",
       "  <tbody>\n",
       "    <tr>\n",
       "      <td>xxbos xxmaj an introduction to xxmaj topological xxmaj data xxmaj analysis fundamental and practical aspects for data scientists join xxmaj topological xxmaj data xxmaj analysis tda is a recent and fast growing eld providing a \\n  set of new topological and geometric tools to infer relevant features for \\n  possibly complex data xxmaj this paper is a brief introduction through a few \\n  selected topics to basic</td>\n",
       "      <td>Computer Science;Mathematics;Statistics</td>\n",
       "      <td>Computer Science</td>\n",
       "    </tr>\n",
       "    <tr>\n",
       "      <td>xxbos xxmaj on the zeros of xxmaj riemann xxunk z function join xxmaj the xxmaj riemann xxmaj xi z function even in z admits a xxmaj fourier transform of an \\n  even kernel xxmaj phi t xxunk 9 t 2 theta e 2 t xxunk 5 t 2 theta e 2 t xxmaj here \\n  theta x theta 3 0 ix and theta 3 0 z is a</td>\n",
       "      <td>Mathematics</td>\n",
       "      <td>Mathematics</td>\n",
       "    </tr>\n",
       "    <tr>\n",
       "      <td>xxbos xxmaj the xxmaj galactic xxmaj cosmic xxmaj ray xxmaj electron xxmaj spectrum from 3 to 70 mev xxmaj measured by xxmaj voyager 1 xxmaj beyond the xxmaj heliopause xxmaj what xxmaj this xxmaj tells xxmaj us xxmaj about the xxmaj propagation of xxmaj electrons and xxmaj nuclei xxmaj in and xxmaj out of the xxmaj galaxy at xxmaj low xxmaj energies join xxmaj the cosmic ray electrons measured by</td>\n",
       "      <td>Physics</td>\n",
       "      <td>Physics</td>\n",
       "    </tr>\n",
       "    <tr>\n",
       "      <td>xxbos xxmaj fast xxmaj switching xxmaj dual xxmaj fabry xxmaj perot xxmaj cavity based xxmaj optical xxmaj xxunk for xxmaj assessment of xxmaj gas xxmaj xxunk and xxmaj density xxmaj estimates of xxmaj its xxmaj precision xxmaj accuracy and xxmaj temperature xxmaj dependence join xxmaj dual xxmaj fabry xxmaj perot xxmaj cavity based xxmaj optical xxmaj xxunk xxup xxunk xxup or have been shown \\n  to have excellent potential</td>\n",
       "      <td>Physics</td>\n",
       "      <td>Physics</td>\n",
       "    </tr>\n",
       "    <tr>\n",
       "      <td>xxbos xxmaj on xxmaj helmholtz free energy for finite abstract simplicial complexes join xxmaj we prove a xxmaj gauss xxmaj bonnet formula x g sum x k x where k x 1 dim x \\n  1 x s x is a curvature of a vertex x with unit sphere s x in the \\n  xxmaj barycentric refinement xxup g1 of a simplicial complex g k x is dual</td>\n",
       "      <td>Computer Science;Mathematics</td>\n",
       "      <td>Mathematics</td>\n",
       "    </tr>\n",
       "  </tbody>\n",
       "</table>"
      ],
      "text/plain": [
       "<IPython.core.display.HTML object>"
      ]
     },
     "metadata": {},
     "output_type": "display_data"
    }
   ],
   "source": [
    "classifierModel.show_results()"
   ]
  },
  {
   "cell_type": "code",
   "execution_count": 47,
   "metadata": {
    "execution": {
     "iopub.execute_input": "2020-08-24T03:56:58.565366Z",
     "iopub.status.busy": "2020-08-24T03:56:58.564463Z",
     "iopub.status.idle": "2020-08-24T03:56:58.759076Z",
     "shell.execute_reply": "2020-08-24T03:56:58.759576Z"
    },
    "id": "Dj-gVtYJFp6L",
    "outputId": "23a02460-2034-451c-aea2-61ac27f78622",
    "papermill": {
     "duration": 0.267003,
     "end_time": "2020-08-24T03:56:58.759735",
     "exception": false,
     "start_time": "2020-08-24T03:56:58.492732",
     "status": "completed"
    },
    "tags": []
   },
   "outputs": [
    {
     "data": {
      "text/plain": [
       "RNNLearner(data=TextClasDataBunch;\n",
       "\n",
       "Train: LabelList (14681 items)\n",
       "x: TextList\n",
       "xxbos xxmaj reconstructing xxmaj subject xxmaj specific xxmaj effect xxmaj maps join xxmaj predictive models allow subject specific inference when analyzing disease \n",
       "  related alterations in neuroimaging data xxmaj given a subject s data inference can \n",
       "  be made at two levels global i e xxunk condition presence for the \n",
       "  subject and local i e detecting condition effect on each individual \n",
       "  measurement extracted from the subject s data xxmaj while global inference is widely \n",
       "  used local inference which can be used to form subject specific effect maps \n",
       "  is rarely used because existing models often yield noisy detections composed of \n",
       "  dispersed isolated islands xxmaj in this article we propose a reconstruction \n",
       "  method named xxup rsm to improve subject specific detections of predictive \n",
       "  modeling approaches and in particular binary classifiers xxup rsm specifically \n",
       "  aims to reduce noise due to sampling error associated with using a finite \n",
       "  sample of examples to train classifiers xxmaj the proposed method is a wrapper type \n",
       "  algorithm that can be used with different binary classifiers in a diagnostic \n",
       "  manner i e without information on condition presence xxmaj reconstruction is posed \n",
       "  as a xxmaj maximum a xxmaj posteriori problem with a prior model whose parameters are \n",
       "  estimated from training data in a classifier specific fashion xxmaj experimental \n",
       "  evaluation is performed on synthetically generated data and data from the \n",
       "  xxmaj alzheimer s xxmaj disease xxmaj neuroimaging xxmaj initiative xxup adni database xxmaj results on \n",
       "  synthetic data demonstrate that using xxup rsm yields higher detection accuracy \n",
       "  compared to using models directly or with bootstrap averaging xxmaj analyses on the \n",
       "  xxup adni dataset show that xxup rsm can also improve correlation between \n",
       "  subject specific detections in cortical thickness data and non imaging markers \n",
       "  of xxmaj alzheimer s xxmaj disease xxup ad such as the xxmaj mini xxmaj mental xxmaj state xxmaj examination xxmaj score \n",
       "  and xxmaj xxunk xxmaj fluid amyloid beta levels xxmaj further reliability studies on \n",
       "  the longitudinal xxup adni dataset show improvement on detection reliability when \n",
       "  xxup rsm is used \n",
       " ,xxbos xxmaj rotation xxmaj invariance xxmaj neural xxmaj network join xxmaj rotation invariance and translation invariance have great values in image \n",
       "  recognition tasks xxmaj in this paper we bring a new architecture in convolutional \n",
       "  neural network xxup cnn named cyclic convolutional layer to achieve rotation \n",
       "  invariance in 2 d symbol recognition xxmaj we can also get the position and \n",
       "  orientation of the 2 d symbol by the network to achieve detection purpose for \n",
       "  multiple non overlap target xxmaj last but not least this architecture can achieve \n",
       "  one shot learning in some cases using those invariance \n",
       " ,xxbos xxmaj spherical xxunk and xxmaj poisson kernels for polyharmonic functions join xxmaj we introduce and develop the notion of spherical xxunk which are a \n",
       "  natural generalisation of spherical harmonics xxmaj in particular we study the \n",
       "  theory of zonal xxunk which allows us analogously to zonal harmonics \n",
       "  to construct xxmaj poisson kernels for polyharmonic functions on the union of rotated \n",
       "  balls xxmaj we find the representation of xxmaj poisson kernels and zonal xxunk in \n",
       "  terms of the xxmaj gegenbauer polynomials xxmaj we show the connection between the \n",
       "  classical xxmaj poisson kernel for harmonic functions on the ball xxmaj poisson kernels \n",
       "  for polyharmonic functions on the union of rotated balls and the xxmaj cauchy xxmaj xxunk \n",
       "  kernel for holomorphic functions on the xxmaj lie ball \n",
       " ,xxbos a finite element approximation for the stochastic xxmaj maxwell xxmaj landau xxmaj lifshitz xxmaj gilbert system join xxmaj the stochastic xxmaj landau xxmaj lifshitz xxmaj gilbert xxup llg equation coupled with the \n",
       "  xxmaj maxwell equations the so called stochastic xxup xxunk system describes the creation \n",
       "  of domain walls and vortices fundamental objects for the novel nanostructured \n",
       "  magnetic memories xxmaj we first reformulate the stochastic xxup llg equation into an \n",
       "  equation with time differentiable solutions xxmaj we then propose a convergent \n",
       "  theta linear scheme to approximate the solutions of the reformulated system \n",
       "  xxmaj as a consequence we prove convergence of the approximate solutions with no or \n",
       "  minor conditions on time and space steps depending on the value of theta \n",
       "  xxmaj hence we prove the existence of weak martingale solutions of the stochastic \n",
       "  xxup xxunk system xxmaj numerical results are presented to show applicability of the \n",
       "  method \n",
       " ,xxbos xxmaj comparative study of xxmaj discrete xxmaj wavelet xxmaj transforms and xxmaj wavelet xxmaj tensor xxmaj train decomposition to feature extraction of xxup ftir data of medicinal plants join xxmaj fourier transform infra red xxup ftir spectra of samples from 7 plant species \n",
       "  were used to explore the influence of preprocessing and feature extraction on \n",
       "  efficiency of machine learning algorithms xxmaj wavelet xxmaj tensor xxmaj train xxup wtt and \n",
       "  xxmaj discrete xxmaj wavelet xxmaj transforms xxup dwt were compared as feature extraction \n",
       "  techniques for xxup ftir data of medicinal plants xxmaj various combinations of signal \n",
       "  processing steps showed different behavior when applied to classification and \n",
       "  clustering tasks xxmaj best results for xxup wtt and xxup dwt found through grid search were \n",
       "  similar significantly improving quality of clustering as well as \n",
       "  classification accuracy for tuned logistic regression in comparison to original \n",
       "  spectra xxmaj unlike xxup dwt xxup wtt has only one parameter to be tuned rank making it a \n",
       "  more versatile and easier to use as a data processing tool in various signal \n",
       "  processing applications \n",
       " \n",
       "y: MultiCategoryList\n",
       "Computer Science,Computer Science,Mathematics,Mathematics,Computer Science;Statistics\n",
       "Path: .;\n",
       "\n",
       "Valid: LabelList (6291 items)\n",
       "x: TextList\n",
       "xxbos xxmaj xxunk xxmaj distributed xxmaj network xxmaj of xxmaj data xxmaj repositories join xxmaj we describe a set of tools services and strategies of the xxmaj latin xxmaj american \n",
       "  xxmaj giant xxmaj observatory xxup xxunk data repository network to implement xxmaj data \n",
       "  xxmaj accessibility xxmaj reproducibility and xxmaj trustworthiness \n",
       " ,xxbos xxmaj categorizing xxmaj hirsch xxmaj index xxmaj variants join xxmaj utilizing the xxmaj hirsch index h and some of its variants for an exploratory \n",
       "  factor analysis we discuss whether one of the most important xxmaj hirsch type \n",
       "  indices namely the g index comprises information about not only the size of \n",
       "  the productive core but also the impact of the papers in the core xxmaj we also \n",
       "  study the effect of logarithmic and square root transformation of the data \n",
       "  utilized in the factor analysis xxmaj to demonstrate our approach we use a real data \n",
       "  example analysing the citation records of 26 physicists compiled from the xxmaj web \n",
       "  of xxmaj science \n",
       " ,xxbos xxmaj analyzing the xxmaj digital xxmaj traces of xxmaj political xxmaj manipulation xxmaj the 2016 xxmaj russian xxmaj interference xxmaj twitter xxmaj campaign join xxmaj until recently social media was seen to promote democratic discourse on \n",
       "  social and political issues xxmaj however this powerful communication platform has \n",
       "  come under scrutiny for allowing hostile actors to exploit online discussions \n",
       "  in an attempt to manipulate public opinion a case in point is the ongoing u s \n",
       "  xxmaj congress investigation of xxmaj russian interference in the 2016 u s election \n",
       "  campaign with xxmaj russia xxunk of using trolls malicious accounts created to \n",
       "  manipulate and bots to spread misinformation and politically biased \n",
       "  information xxmaj in this study we explore the effects of this manipulation \n",
       "  campaign taking a closer look at users who re shared the posts produced on \n",
       "  xxmaj twitter by the xxmaj russian troll accounts publicly disclosed by u s xxmaj congress \n",
       "  investigation xxmaj we collected a dataset with over 43 million election related \n",
       "  posts shared on xxmaj twitter between xxmaj september 16 and xxmaj october 21 2016 by about 5 7 \n",
       "  million distinct users xxmaj this dataset included accounts associated with the \n",
       "  identified xxmaj russian trolls xxmaj we use label propagation to infer the ideology of \n",
       "  all users based on the news sources they shared xxmaj this method enables us to \n",
       "  classify a large number of users as liberal or conservative with precision and \n",
       "  recall above 90 xxmaj xxunk retweeted xxmaj russian trolls about 31 times more \n",
       "  often than xxunk and produced xxunk more tweets xxmaj additionally most retweets \n",
       "  of troll content originated from two xxmaj southern states xxmaj tennessee and xxmaj xxunk \n",
       "  xxmaj using state of the art bot detection techniques we estimated that about 4 9 \n",
       "  and 6 2 of liberal and conservative users respectively were bots xxmaj text \n",
       "  analysis on the content shared by trolls reveals that they had a mostly \n",
       "  conservative pro xxmaj xxunk agenda xxmaj although an xxunk broad xxunk of \n",
       "  xxmaj twitter users was exposed to xxmaj russian xxmaj trolls in the period leading up to the \n",
       "  2016 u s xxmaj presidential election it was mainly xxunk who helped amplify \n",
       "  their message \n",
       " ,xxbos xxmaj latest results of the xxmaj xxunk xxmaj radio xxmaj extension xxup xxunk join xxmaj the xxmaj xxunk xxmaj radio xxmaj extension xxmaj xxunk xxmaj rex is an antenna array consisting of 63 \n",
       "  antennas at the location of the xxup xxunk facility xxmaj xxunk xxmaj advanced xxmaj instrument for \n",
       "  cosmic ray physics and xxmaj gamma xxmaj astronomy in xxmaj eastern xxmaj xxunk nearby xxmaj lake xxmaj xxunk \n",
       "  xxmaj xxunk xxmaj rex is triggered by the air xxmaj cherenkov array xxmaj xxunk 133 during clear and \n",
       "  xxunk winter nights and by the scintillator array xxmaj xxunk xxmaj xxunk during the \n",
       "  remaining time xxmaj xxunk xxmaj rex measures the radio emission from the same air showers \n",
       "  as xxmaj xxunk 133 and xxmaj xxunk xxmaj xxunk but with a higher threshold of about 100 xxunk \n",
       "  xxmaj during the first stages of its operation xxmaj xxunk xxmaj rex has proven that sparse \n",
       "  radio arrays can measure air showers with an energy resolution of better than \n",
       "  15 and the depth of the shower maximum with a resolution of better than 40 \n",
       "  g cm xxunk 2 xxmaj to improve and interpret our measurements as well as \n",
       "  to study systematic uncertainties due to interaction models we perform radio \n",
       "  simulations with xxup xxunk and xxunk xxmaj in this overview we present the setup of \n",
       "  xxmaj xxunk xxmaj rex discuss the achieved results and the prospects of mass composition \n",
       "  studies with radio arrays \n",
       " ,xxbos xxmaj laplace operators on holomorphic xxmaj lie algebroids join xxmaj the paper introduces xxmaj laplace type operators for functions defined on the \n",
       "  tangent space of a xxmaj finsler xxmaj lie algebroid using a volume form on the \n",
       "  prolongation of the algebroid xxmaj it also presents the construction of a \n",
       "  horizontal xxmaj laplace operator for forms defined on the prolongation of the \n",
       "  algebroid xxmaj all of the xxmaj laplace operators considered in the paper are also \n",
       "  locally expressed using the xxmaj chern xxmaj finsler connection of the algebroid \n",
       " \n",
       "y: MultiCategoryList\n",
       "Computer Science,Computer Science;Statistics,Computer Science,Physics,Mathematics\n",
       "Path: .;\n",
       "\n",
       "Test: LabelList (8989 items)\n",
       "x: TextList\n",
       "xxbos xxunk xxmaj closed xxunk form xxmaj marginal xxmaj likelihood in xxmaj gamma xxunk xxmaj poisson xxmaj matrix xxmaj factorization xxmaj we present novel understandings of the xxmaj gamma xxunk xxmaj poisson xxunk gap xxunk model xxunk a \n",
       "  probabilistic matrix factorization model for count data xxunk xxmaj we show that gap can \n",
       "  be rewritten free of the score xxunk activation matrix xxunk xxmaj this gives us new insights \n",
       "  about the estimation of the topic xxunk dictionary matrix by maximum marginal \n",
       "  likelihood estimation xxunk xxmaj in particular xxunk this explains the robustness of this \n",
       "  estimator to over xxunk specified values of the factorization rank xxunk especially its \n",
       "  ability to automatically prune irrelevant dictionary columns xxunk as empirically \n",
       "  observed in previous work xxunk xxmaj the marginalization of the activation matrix leads \n",
       "  in turn to a new xxmaj monte xxmaj carlo xxmaj expectation xxunk xxmaj maximization algorithm with favorable \n",
       "  properties xxunk \n",
       "  xxmaj closed form xxmaj marginal xxmaj likelihood in xxmaj gamma xxmaj poisson xxmaj matrix xxmaj factorization join xxmaj we present novel understandings of the xxmaj gamma xxmaj poisson gap model a \n",
       "  probabilistic matrix factorization model for count data xxmaj we show that gap can \n",
       "  be rewritten free of the score activation matrix xxmaj this gives us new insights \n",
       "  about the estimation of the topic dictionary matrix by maximum marginal \n",
       "  likelihood estimation xxmaj in particular this explains the robustness of this \n",
       "  estimator to over specified values of the factorization rank especially its \n",
       "  ability to automatically prune irrelevant dictionary columns as empirically \n",
       "  observed in previous work xxmaj the marginalization of the activation matrix leads \n",
       "  in turn to a new xxmaj monte xxmaj carlo xxmaj expectation xxmaj maximization algorithm with favorable \n",
       "  properties \n",
       " ,xxbos xxunk xxmaj laboratory mid xxunk xxup ir spectra of xxunk and xxunk meteorites xxunk xxmaj searching for observables of planetesimal debris xxmaj meteorites contain xxunk from xxmaj solar xxmaj system asteroids with different \n",
       "  properties xxunk like size xxunk presence of water xxunk core formation xxunk xxunk xxmaj we provide new \n",
       "  mid xxunk xxup ir transmission spectra of xxunk meteorites to obtain templates of how \n",
       "  mid xxunk xxup ir spectra of asteroidal debris would look like xxunk xxmaj this is essential for \n",
       "  interpreting mid xxunk xxup ir spectra of past and future space observatories xxunk like the \n",
       "  xxmaj james xxmaj webb xxmaj space xxmaj telescope xxunk xxmaj we show that the transmission spectra of wet and \n",
       "  dry chondrites xxunk carbonaceous and ordinary chondrites and xxunk and \n",
       "  xxunk meteorites are distinctly different in a way one can distinguish in \n",
       "  astronomical mid xxunk xxup ir spectra xxunk xxmaj the two observables that spectroscopically \n",
       "  separate the different meteorites groups xxunk and thus the different types of \n",
       "  parent bodies xxunk are the xxunk xxunk olivine feature strength ratio and the peak \n",
       "  shift of the olivine spectral features due to an increase in the iron \n",
       "  concentration of the olivine xxunk \n",
       "  xxmaj laboratory mid xxup ir spectra of xxunk and xxunk meteorites xxmaj searching for observables of planetesimal debris join xxmaj meteorites contain xxunk from xxmaj solar xxmaj system asteroids with different \n",
       "  properties like size presence of water core formation xxmaj we provide new \n",
       "  mid xxup ir transmission spectra of xxunk meteorites to obtain templates of how \n",
       "  mid xxup ir spectra of asteroidal debris would look like xxmaj this is essential for \n",
       "  interpreting mid xxup ir spectra of past and future space observatories like the \n",
       "  xxmaj james xxmaj webb xxmaj space xxmaj telescope xxmaj we show that the transmission spectra of wet and \n",
       "  dry chondrites carbonaceous and ordinary chondrites and xxunk and \n",
       "  xxunk meteorites are distinctly different in a way one can distinguish in \n",
       "  astronomical mid xxup ir spectra xxmaj the two observables that spectroscopically \n",
       "  separate the different meteorites groups and thus the different types of \n",
       "  parent bodies are the xxunk olivine feature strength ratio and the peak \n",
       "  shift of the olivine spectral features due to an increase in the iron \n",
       "  concentration of the olivine \n",
       " ,xxbos xxunk xxmaj case xxmaj for xxmaj static xxup xxunk xxmaj aggregation in wlans xxmaj frame aggregation is a mechanism by which multiple frames are combined into a \n",
       "  single transmission unit over the air xxunk xxmaj frames aggregated at the xxup xxunk level use \n",
       "  a common xxup crc check to enforce integrity xxunk xxmaj for longer aggregated xxup xxunk frames xxunk \n",
       "  the packet error rate increases significantly for the same bit error rate xxunk \n",
       "  xxmaj hence xxunk multiple studies have proposed doing xxup xxunk aggregation adaptively based \n",
       "  on the error rate xxunk xxmaj this study evaluates if there is a xxunk xxunk xxunk \n",
       "  advantage in doing adaptive xxup xxunk aggregation based on the link bit error rate xxunk \n",
       "  xxmaj evaluations on a model show that instead of implementing a complex adaptive \n",
       "  xxup xxunk frame aggregation mechanism which impact queuing and other implementation \n",
       "  aspects xxunk it is easier to influence packet error rate with traditional \n",
       "  mechanisms while keeping the xxup xxunk aggregation logic simple xxunk \n",
       "  xxmaj case xxmaj for xxmaj static xxup xxunk xxmaj aggregation in wlans join xxmaj frame aggregation is a mechanism by which multiple frames are combined into a \n",
       "  single transmission unit over the air xxmaj frames aggregated at the xxup xxunk level use \n",
       "  a common xxup crc check to enforce integrity xxmaj for longer aggregated xxup xxunk frames \n",
       "  the packet error rate increases significantly for the same bit error rate \n",
       "  xxmaj hence multiple studies have proposed doing xxup xxunk aggregation adaptively based \n",
       "  on the error rate xxmaj this study evaluates if there is a emph practical \n",
       "  advantage in doing adaptive xxup xxunk aggregation based on the link bit error rate \n",
       "  xxmaj evaluations on a model show that instead of implementing a complex adaptive \n",
       "  xxup xxunk frame aggregation mechanism which impact queuing and other implementation \n",
       "  aspects it is easier to influence packet error rate with traditional \n",
       "  mechanisms while keeping the xxup xxunk aggregation logic simple \n",
       " ,xxbos xxunk xxmaj the xxunk xxunk xxmaj survey xxunk the inner disk intermediate xxunk age open cluster xxup ngc xxunk xxmaj milky xxmaj way open clusters are very diverse in terms of age xxunk chemical \n",
       "  composition xxunk and kinematic properties xxunk xxmaj intermediate xxunk age and old open clusters \n",
       "  are less common xxunk and it is even harder to find them inside the solar \n",
       "  xxmaj galactocentric radius xxunk due to the high mortality rate and strong extinction \n",
       "  inside this region xxunk xxup ngc xxunk is one of the inner disk open clusters xxunk xxunk xxunk \n",
       "  observed by the xxunk xxunk survey xxunk xxup xxunk xxunk xxunk xxmaj this cluster is an important target \n",
       "  for calibrating the abundances derived in the survey due to the kinematic and \n",
       "  chemical homogeneity of the members in open clusters xxunk xxmaj using the measurements \n",
       "  from xxunk xxunk internal data release 4 xxunk xxunk xxunk xxunk we identify 95 main xxunk sequence \n",
       "  dwarfs as cluster members from the xxup xxunk target list xxunk and eight giants as \n",
       "  cluster members from the xxup uves target list xxunk xxmaj the dwarf cluster members have a \n",
       "  median radial velocity of xxunk xxunk xxunk xxunk xxunk km xxunk xxunk while the giant cluster \n",
       "  members have a median radial velocity of xxunk xxunk xxunk xxunk xxunk km xxunk and a median \n",
       "  xxunk xxmaj fe xxunk h xxunk of xxunk xxunk xxunk xxunk xxunk dex xxunk xxmaj the color xxunk magnitude diagram of these cluster \n",
       "  members suggests an age of xxunk xxunk xxunk xxunk xxunk xxmaj gyr xxunk with xxunk xxunk m xxunk xxup xxunk xxunk and \n",
       "  xxunk xxup xxunk xxunk xxup xxunk xxmaj we perform the first detailed chemical abundance analysis of xxup ngc \n",
       "  xxunk xxunk including 27 elemental species xxunk xxmaj to gain a more general picture about \n",
       "  xxunk xxunk the measurements of xxup ngc xxunk are compared with those of other xxunk \n",
       "  previously studied by xxup xxunk xxunk that is xxunk xxup ngc xxunk xxunk xxmaj xxunk 20 xxunk xxup ngc xxunk xxunk and \n",
       "  xxmaj berkeley 81 xxunk xxup ngc xxunk shows similar c xxunk n xxunk xxmaj na xxunk and xxmaj al abundances as other xxunk xxunk \n",
       "  xxmaj these elements are compared with xxunk models as a function of \n",
       "  cluster turn xxunk off mass xxunk xxmaj the xxunk xxunk xxunk xxunk iron xxunk peak xxunk and neutron xxunk capture elements \n",
       "  are also explored in a self xxunk consistent way xxunk \n",
       "  xxmaj the xxmaj gaia xxup eso xxmaj survey the inner disk intermediate age open cluster xxup ngc xxunk join xxmaj milky xxmaj way open clusters are very diverse in terms of age chemical \n",
       "  composition and kinematic properties xxmaj intermediate age and old open clusters \n",
       "  are less common and it is even harder to find them inside the solar \n",
       "  xxmaj galactocentric radius due to the high mortality rate and strong extinction \n",
       "  inside this region xxup ngc xxunk is one of the inner disk open clusters xxunk \n",
       "  observed by the xxmaj gaia xxup eso survey xxup xxunk xxmaj this cluster is an important target \n",
       "  for calibrating the abundances derived in the survey due to the kinematic and \n",
       "  chemical homogeneity of the members in open clusters xxmaj using the measurements \n",
       "  from xxmaj gaia xxup eso internal data release 4 xxunk we identify 95 main sequence \n",
       "  dwarfs as cluster members from the xxup xxunk target list and eight giants as \n",
       "  cluster members from the xxup uves target list xxmaj the dwarf cluster members have a \n",
       "  median radial velocity of 13 6 pm1 9 km s 1 while the giant cluster \n",
       "  members have a median radial velocity of 12 0 pm0 9 km s 1 and a median \n",
       "  xxmaj fe h of 0 10 pm0 02 dex xxmaj the color magnitude diagram of these cluster \n",
       "  members suggests an age of 0 9 pm0 1 xxmaj gyr with m m 0 11 4 and \n",
       "  e b v 0 86 xxmaj we perform the first detailed chemical abundance analysis of xxup ngc \n",
       "  xxunk including 27 elemental species xxmaj to gain a more general picture about \n",
       "  xxunk the measurements of xxup ngc xxunk are compared with those of other xxunk \n",
       "  previously studied by xxup xxunk that is xxup ngc xxunk xxmaj xxunk 20 xxup ngc xxunk and \n",
       "  xxmaj berkeley 81 xxup ngc xxunk shows similar c n xxmaj na and xxmaj al abundances as other xxunk \n",
       "  xxmaj these elements are compared with xxunk models as a function of \n",
       "  cluster turn off mass xxmaj the alpha iron peak and neutron capture elements \n",
       "  are also explored in a self consistent way \n",
       " ,xxbos xxunk xxmaj witness xxunk xxmaj functions versus xxmaj interpretation xxunk xxmaj functions for xxmaj secrecy in xxmaj cryptographic xxmaj protocols xxunk xxmaj what to xxmaj choose xxunk xxmaj proving that a cryptographic protocol is correct for secrecy is a hard task xxunk \n",
       "  xxmaj one of the strongest strategies to reach this goal is to show that it is \n",
       "  increasing xxunk which means that the security level of every single atomic message \n",
       "  exchanged in the protocol xxunk safely evaluated xxunk never xxunk xxunk xxmaj recently xxunk two \n",
       "  families of functions have been proposed to measure the security level of \n",
       "  atomic messages xxunk xxmaj the first one is the family of interpretation xxunk functions xxunk xxmaj the \n",
       "  second is the family of witness xxunk functions xxunk xxmaj in this paper xxunk we show that the \n",
       "  witness xxunk functions are more efficient than interpretation xxunk functions xxunk xxmaj we give a \n",
       "  detailed analysis of an ad xxunk hoc protocol on which the witness xxunk functions succeed \n",
       "  in proving its correctness for secrecy while the interpretation xxunk functions fail \n",
       "  to do so xxunk \n",
       "  xxmaj witness xxmaj functions versus xxmaj interpretation xxmaj functions for xxmaj secrecy in xxmaj cryptographic xxmaj protocols xxmaj what to xxmaj choose join xxmaj proving that a cryptographic protocol is correct for secrecy is a hard task \n",
       "  xxmaj one of the strongest strategies to reach this goal is to show that it is \n",
       "  increasing which means that the security level of every single atomic message \n",
       "  exchanged in the protocol safely evaluated never xxunk xxmaj recently two \n",
       "  families of functions have been proposed to measure the security level of \n",
       "  atomic messages xxmaj the first one is the family of interpretation functions xxmaj the \n",
       "  second is the family of witness functions xxmaj in this paper we show that the \n",
       "  witness functions are more efficient than interpretation functions xxmaj we give a \n",
       "  detailed analysis of an ad hoc protocol on which the witness functions succeed \n",
       "  in proving its correctness for secrecy while the interpretation functions fail \n",
       "  to do so \n",
       " \n",
       "y: EmptyLabelList\n",
       ",,,,\n",
       "Path: ., model=SequentialRNN(\n",
       "  (0): MultiBatchEncoder(\n",
       "    (module): AWD_LSTM(\n",
       "      (encoder): Embedding(23104, 400, padding_idx=1)\n",
       "      (encoder_dp): EmbeddingDropout(\n",
       "        (emb): Embedding(23104, 400, padding_idx=1)\n",
       "      )\n",
       "      (rnns): ModuleList(\n",
       "        (0): WeightDropout(\n",
       "          (module): LSTM(400, 1152, batch_first=True)\n",
       "        )\n",
       "        (1): WeightDropout(\n",
       "          (module): LSTM(1152, 1152, batch_first=True)\n",
       "        )\n",
       "        (2): WeightDropout(\n",
       "          (module): LSTM(1152, 400, batch_first=True)\n",
       "        )\n",
       "      )\n",
       "      (input_dp): RNNDropout()\n",
       "      (hidden_dps): ModuleList(\n",
       "        (0): RNNDropout()\n",
       "        (1): RNNDropout()\n",
       "        (2): RNNDropout()\n",
       "      )\n",
       "    )\n",
       "  )\n",
       "  (1): PoolingLinearClassifier(\n",
       "    (layers): Sequential(\n",
       "      (0): BatchNorm1d(1200, eps=1e-05, momentum=0.1, affine=True, track_running_stats=True)\n",
       "      (1): Dropout(p=0.16000000000000003, inplace=False)\n",
       "      (2): Linear(in_features=1200, out_features=50, bias=True)\n",
       "      (3): ReLU(inplace=True)\n",
       "      (4): BatchNorm1d(50, eps=1e-05, momentum=0.1, affine=True, track_running_stats=True)\n",
       "      (5): Dropout(p=0.1, inplace=False)\n",
       "      (6): Linear(in_features=50, out_features=6, bias=True)\n",
       "    )\n",
       "  )\n",
       "), opt_func=functools.partial(<class 'torch.optim.adam.Adam'>, betas=(0.9, 0.99)), loss_func=FlattenedLoss of BCEWithLogitsLoss(), metrics=[], true_wd=True, bn_wd=True, wd=0.01, train_bn=True, path=PosixPath('.'), model_dir='models', callback_fns=[functools.partial(<class 'fastai.basic_train.Recorder'>, add_time=True, silent=False), functools.partial(<class '__main__.MicroF1'>, thresh=0.2), <class '__main__.AccPerClass'>], callbacks=[RNNTrainer\n",
       "learn: ...\n",
       "alpha: 2.0\n",
       "beta: 1.0], layer_groups=[Sequential(\n",
       "  (0): Embedding(23104, 400, padding_idx=1)\n",
       "  (1): EmbeddingDropout(\n",
       "    (emb): Embedding(23104, 400, padding_idx=1)\n",
       "  )\n",
       "), Sequential(\n",
       "  (0): WeightDropout(\n",
       "    (module): LSTM(400, 1152, batch_first=True)\n",
       "  )\n",
       "  (1): RNNDropout()\n",
       "), Sequential(\n",
       "  (0): WeightDropout(\n",
       "    (module): LSTM(1152, 1152, batch_first=True)\n",
       "  )\n",
       "  (1): RNNDropout()\n",
       "), Sequential(\n",
       "  (0): WeightDropout(\n",
       "    (module): LSTM(1152, 400, batch_first=True)\n",
       "  )\n",
       "  (1): RNNDropout()\n",
       "), Sequential(\n",
       "  (0): PoolingLinearClassifier(\n",
       "    (layers): Sequential(\n",
       "      (0): BatchNorm1d(1200, eps=1e-05, momentum=0.1, affine=True, track_running_stats=True)\n",
       "      (1): Dropout(p=0.16000000000000003, inplace=False)\n",
       "      (2): Linear(in_features=1200, out_features=50, bias=True)\n",
       "      (3): ReLU(inplace=True)\n",
       "      (4): BatchNorm1d(50, eps=1e-05, momentum=0.1, affine=True, track_running_stats=True)\n",
       "      (5): Dropout(p=0.1, inplace=False)\n",
       "      (6): Linear(in_features=50, out_features=6, bias=True)\n",
       "    )\n",
       "  )\n",
       ")], add_time=True, silent=False)"
      ]
     },
     "execution_count": 47,
     "metadata": {},
     "output_type": "execute_result"
    }
   ],
   "source": [
    "classifierModel.load('classifierModel1')"
   ]
  },
  {
   "cell_type": "code",
   "execution_count": 48,
   "metadata": {
    "execution": {
     "iopub.execute_input": "2020-08-24T03:56:58.913987Z",
     "iopub.status.busy": "2020-08-24T03:56:58.913052Z",
     "iopub.status.idle": "2020-08-24T03:57:14.193155Z",
     "shell.execute_reply": "2020-08-24T03:57:14.193929Z"
    },
    "papermill": {
     "duration": 15.365634,
     "end_time": "2020-08-24T03:57:14.194169",
     "exception": false,
     "start_time": "2020-08-24T03:56:58.828535",
     "status": "completed"
    },
    "tags": []
   },
   "outputs": [
    {
     "data": {
      "text/html": [
       "\n",
       "    <div>\n",
       "        <style>\n",
       "            /* Turns off some styling */\n",
       "            progress {\n",
       "                /* gets rid of default border in Firefox and Opera. */\n",
       "                border: none;\n",
       "                /* Needs to be in here for Safari polyfill so background images work as expected. */\n",
       "                background-size: auto;\n",
       "            }\n",
       "            .progress-bar-interrupted, .progress-bar-interrupted::-webkit-progress-bar {\n",
       "                background: #F44336;\n",
       "            }\n",
       "        </style>\n",
       "      <progress value='0' class='' max='1' style='width:300px; height:20px; vertical-align: middle;'></progress>\n",
       "      0.00% [0/1 00:00<00:00]\n",
       "    </div>\n",
       "    \n",
       "<table border=\"1\" class=\"dataframe\">\n",
       "  <thead>\n",
       "    <tr style=\"text-align: left;\">\n",
       "      <th>epoch</th>\n",
       "      <th>train_loss</th>\n",
       "      <th>valid_loss</th>\n",
       "      <th>MicroF1</th>\n",
       "      <th>Computer Science</th>\n",
       "      <th>Physics</th>\n",
       "      <th>Mathematics</th>\n",
       "      <th>Statistics</th>\n",
       "      <th>Quantitative Biology</th>\n",
       "      <th>Quantitative Finance</th>\n",
       "      <th>time</th>\n",
       "    </tr>\n",
       "  </thead>\n",
       "  <tbody>\n",
       "  </tbody>\n",
       "</table><p>\n",
       "\n",
       "    <div>\n",
       "        <style>\n",
       "            /* Turns off some styling */\n",
       "            progress {\n",
       "                /* gets rid of default border in Firefox and Opera. */\n",
       "                border: none;\n",
       "                /* Needs to be in here for Safari polyfill so background images work as expected. */\n",
       "                background-size: auto;\n",
       "            }\n",
       "            .progress-bar-interrupted, .progress-bar-interrupted::-webkit-progress-bar {\n",
       "                background: #F44336;\n",
       "            }\n",
       "        </style>\n",
       "      <progress value='96' class='' max='305' style='width:300px; height:20px; vertical-align: middle;'></progress>\n",
       "      31.48% [96/305 00:14<00:32 0.6751]\n",
       "    </div>\n",
       "    "
      ],
      "text/plain": [
       "<IPython.core.display.HTML object>"
      ]
     },
     "metadata": {},
     "output_type": "display_data"
    },
    {
     "name": "stdout",
     "output_type": "stream",
     "text": [
      "LR Finder is complete, type {learner_name}.recorder.plot() to see the graph.\n"
     ]
    }
   ],
   "source": [
    "classifierModel.lr_find()"
   ]
  },
  {
   "cell_type": "code",
   "execution_count": 49,
   "metadata": {
    "execution": {
     "iopub.execute_input": "2020-08-24T03:57:14.417753Z",
     "iopub.status.busy": "2020-08-24T03:57:14.416760Z",
     "iopub.status.idle": "2020-08-24T03:57:16.174505Z",
     "shell.execute_reply": "2020-08-24T03:57:16.175174Z"
    },
    "papermill": {
     "duration": 1.873584,
     "end_time": "2020-08-24T03:57:16.175383",
     "exception": false,
     "start_time": "2020-08-24T03:57:14.301799",
     "status": "completed"
    },
    "tags": []
   },
   "outputs": [
    {
     "name": "stdout",
     "output_type": "stream",
     "text": [
      "Min numerical gradient: 6.31E-07\n",
      "Min loss divided by 10: 1.74E-04\n"
     ]
    },
    {
     "data": {
      "image/png": "[encoded data removed]",
      "text/plain": [
       "<Figure size 864x864 with 1 Axes>"
      ]
     },
     "metadata": {
      "needs_background": "light"
     },
     "output_type": "display_data"
    }
   ],
   "source": [
    "classifierModel.recorder.plot(suggestion = True)"
   ]
  },
  {
   "cell_type": "code",
   "execution_count": 50,
   "metadata": {
    "execution": {
     "iopub.execute_input": "2020-08-24T03:57:16.326988Z",
     "iopub.status.busy": "2020-08-24T03:57:16.326075Z",
     "iopub.status.idle": "2020-08-24T03:57:16.329468Z",
     "shell.execute_reply": "2020-08-24T03:57:16.330000Z"
    },
    "papermill": {
     "duration": 0.081551,
     "end_time": "2020-08-24T03:57:16.330126",
     "exception": false,
     "start_time": "2020-08-24T03:57:16.248575",
     "status": "completed"
    },
    "tags": []
   },
   "outputs": [
    {
     "name": "stdout",
     "output_type": "stream",
     "text": [
      "6.309573444801933e-07\n"
     ]
    }
   ],
   "source": [
    "min_grad_lr = classifierModel.recorder.min_grad_lr\n",
    "print(min_grad_lr)"
   ]
  },
  {
   "cell_type": "code",
   "execution_count": 51,
   "metadata": {
    "execution": {
     "iopub.execute_input": "2020-08-24T03:57:16.484743Z",
     "iopub.status.busy": "2020-08-24T03:57:16.483935Z",
     "iopub.status.idle": "2020-08-24T04:05:18.499010Z",
     "shell.execute_reply": "2020-08-24T04:05:18.498408Z"
    },
    "papermill": {
     "duration": 482.095359,
     "end_time": "2020-08-24T04:05:18.499145",
     "exception": false,
     "start_time": "2020-08-24T03:57:16.403786",
     "status": "completed"
    },
    "tags": []
   },
   "outputs": [
    {
     "data": {
      "text/html": [
       "<table border=\"1\" class=\"dataframe\">\n",
       "  <thead>\n",
       "    <tr style=\"text-align: left;\">\n",
       "      <th>epoch</th>\n",
       "      <th>train_loss</th>\n",
       "      <th>valid_loss</th>\n",
       "      <th>MicroF1</th>\n",
       "      <th>Computer Science</th>\n",
       "      <th>Physics</th>\n",
       "      <th>Mathematics</th>\n",
       "      <th>Statistics</th>\n",
       "      <th>Quantitative Biology</th>\n",
       "      <th>Quantitative Finance</th>\n",
       "      <th>time</th>\n",
       "    </tr>\n",
       "  </thead>\n",
       "  <tbody>\n",
       "    <tr>\n",
       "      <td>0</td>\n",
       "      <td>0.221577</td>\n",
       "      <td>0.178742</td>\n",
       "      <td>0.755939</td>\n",
       "      <td>0.853759</td>\n",
       "      <td>0.931489</td>\n",
       "      <td>0.891273</td>\n",
       "      <td>0.882054</td>\n",
       "      <td>0.974726</td>\n",
       "      <td>0.992370</td>\n",
       "      <td>01:00</td>\n",
       "    </tr>\n",
       "  </tbody>\n",
       "</table>"
      ],
      "text/plain": [
       "<IPython.core.display.HTML object>"
      ]
     },
     "metadata": {},
     "output_type": "display_data"
    },
    {
     "name": "stdout",
     "output_type": "stream",
     "text": [
      "\n"
     ]
    },
    {
     "data": {
      "text/html": [
       "<table border=\"1\" class=\"dataframe\">\n",
       "  <thead>\n",
       "    <tr style=\"text-align: left;\">\n",
       "      <th>epoch</th>\n",
       "      <th>train_loss</th>\n",
       "      <th>valid_loss</th>\n",
       "      <th>MicroF1</th>\n",
       "      <th>Computer Science</th>\n",
       "      <th>Physics</th>\n",
       "      <th>Mathematics</th>\n",
       "      <th>Statistics</th>\n",
       "      <th>Quantitative Biology</th>\n",
       "      <th>Quantitative Finance</th>\n",
       "      <th>time</th>\n",
       "    </tr>\n",
       "  </thead>\n",
       "  <tbody>\n",
       "    <tr>\n",
       "      <td>0</td>\n",
       "      <td>0.217978</td>\n",
       "      <td>0.180854</td>\n",
       "      <td>0.758735</td>\n",
       "      <td>0.861230</td>\n",
       "      <td>0.930218</td>\n",
       "      <td>0.883007</td>\n",
       "      <td>0.884279</td>\n",
       "      <td>0.974249</td>\n",
       "      <td>0.992052</td>\n",
       "      <td>01:30</td>\n",
       "    </tr>\n",
       "  </tbody>\n",
       "</table>"
      ],
      "text/plain": [
       "<IPython.core.display.HTML object>"
      ]
     },
     "metadata": {},
     "output_type": "display_data"
    },
    {
     "name": "stdout",
     "output_type": "stream",
     "text": [
      "\n"
     ]
    },
    {
     "data": {
      "text/html": [
       "<table border=\"1\" class=\"dataframe\">\n",
       "  <thead>\n",
       "    <tr style=\"text-align: left;\">\n",
       "      <th>epoch</th>\n",
       "      <th>train_loss</th>\n",
       "      <th>valid_loss</th>\n",
       "      <th>MicroF1</th>\n",
       "      <th>Computer Science</th>\n",
       "      <th>Physics</th>\n",
       "      <th>Mathematics</th>\n",
       "      <th>Statistics</th>\n",
       "      <th>Quantitative Biology</th>\n",
       "      <th>Quantitative Finance</th>\n",
       "      <th>time</th>\n",
       "    </tr>\n",
       "  </thead>\n",
       "  <tbody>\n",
       "    <tr>\n",
       "      <td>0</td>\n",
       "      <td>0.219559</td>\n",
       "      <td>0.176559</td>\n",
       "      <td>0.759457</td>\n",
       "      <td>0.851693</td>\n",
       "      <td>0.929264</td>\n",
       "      <td>0.893181</td>\n",
       "      <td>0.881418</td>\n",
       "      <td>0.975203</td>\n",
       "      <td>0.992688</td>\n",
       "      <td>01:48</td>\n",
       "    </tr>\n",
       "  </tbody>\n",
       "</table>"
      ],
      "text/plain": [
       "<IPython.core.display.HTML object>"
      ]
     },
     "metadata": {},
     "output_type": "display_data"
    },
    {
     "name": "stdout",
     "output_type": "stream",
     "text": [
      "\n"
     ]
    },
    {
     "data": {
      "text/html": [
       "<table border=\"1\" class=\"dataframe\">\n",
       "  <thead>\n",
       "    <tr style=\"text-align: left;\">\n",
       "      <th>epoch</th>\n",
       "      <th>train_loss</th>\n",
       "      <th>valid_loss</th>\n",
       "      <th>MicroF1</th>\n",
       "      <th>Computer Science</th>\n",
       "      <th>Physics</th>\n",
       "      <th>Mathematics</th>\n",
       "      <th>Statistics</th>\n",
       "      <th>Quantitative Biology</th>\n",
       "      <th>Quantitative Finance</th>\n",
       "      <th>time</th>\n",
       "    </tr>\n",
       "  </thead>\n",
       "  <tbody>\n",
       "    <tr>\n",
       "      <td>0</td>\n",
       "      <td>0.214357</td>\n",
       "      <td>0.176170</td>\n",
       "      <td>0.762777</td>\n",
       "      <td>0.854077</td>\n",
       "      <td>0.925290</td>\n",
       "      <td>0.896678</td>\n",
       "      <td>0.881259</td>\n",
       "      <td>0.975203</td>\n",
       "      <td>0.992370</td>\n",
       "      <td>01:50</td>\n",
       "    </tr>\n",
       "  </tbody>\n",
       "</table>"
      ],
      "text/plain": [
       "<IPython.core.display.HTML object>"
      ]
     },
     "metadata": {},
     "output_type": "display_data"
    },
    {
     "name": "stdout",
     "output_type": "stream",
     "text": [
      "\n"
     ]
    },
    {
     "data": {
      "text/html": [
       "<table border=\"1\" class=\"dataframe\">\n",
       "  <thead>\n",
       "    <tr style=\"text-align: left;\">\n",
       "      <th>epoch</th>\n",
       "      <th>train_loss</th>\n",
       "      <th>valid_loss</th>\n",
       "      <th>MicroF1</th>\n",
       "      <th>Computer Science</th>\n",
       "      <th>Physics</th>\n",
       "      <th>Mathematics</th>\n",
       "      <th>Statistics</th>\n",
       "      <th>Quantitative Biology</th>\n",
       "      <th>Quantitative Finance</th>\n",
       "      <th>time</th>\n",
       "    </tr>\n",
       "  </thead>\n",
       "  <tbody>\n",
       "    <tr>\n",
       "      <td>0</td>\n",
       "      <td>0.206107</td>\n",
       "      <td>0.179577</td>\n",
       "      <td>0.759950</td>\n",
       "      <td>0.853282</td>\n",
       "      <td>0.933874</td>\n",
       "      <td>0.890161</td>\n",
       "      <td>0.881100</td>\n",
       "      <td>0.974885</td>\n",
       "      <td>0.992211</td>\n",
       "      <td>01:51</td>\n",
       "    </tr>\n",
       "  </tbody>\n",
       "</table>"
      ],
      "text/plain": [
       "<IPython.core.display.HTML object>"
      ]
     },
     "metadata": {},
     "output_type": "display_data"
    },
    {
     "name": "stdout",
     "output_type": "stream",
     "text": [
      "\n"
     ]
    }
   ],
   "source": [
    "for i in range(2,7):\n",
    "    classifierModel.freeze_to(-i)\n",
    "    classifierModel.fit_one_cycle(1,slice((1*10**-(i+1))/(2.6**4),1*10**-(i+1)))\n",
    "    print ('')"
   ]
  },
  {
   "cell_type": "code",
   "execution_count": 52,
   "metadata": {
    "execution": {
     "iopub.execute_input": "2020-08-24T04:05:18.816653Z",
     "iopub.status.busy": "2020-08-24T04:05:18.804871Z",
     "iopub.status.idle": "2020-08-24T04:05:19.370078Z",
     "shell.execute_reply": "2020-08-24T04:05:19.368770Z"
    },
    "papermill": {
     "duration": 0.712297,
     "end_time": "2020-08-24T04:05:19.370235",
     "exception": false,
     "start_time": "2020-08-24T04:05:18.657938",
     "status": "completed"
    },
    "tags": []
   },
   "outputs": [],
   "source": [
    "classifierModel.save('classifierModel2')"
   ]
  },
  {
   "cell_type": "code",
   "execution_count": 53,
   "metadata": {
    "execution": {
     "iopub.execute_input": "2020-08-24T04:05:19.550622Z",
     "iopub.status.busy": "2020-08-24T04:05:19.549598Z",
     "iopub.status.idle": "2020-08-24T04:05:59.842313Z",
     "shell.execute_reply": "2020-08-24T04:05:59.842908Z"
    },
    "id": "AXzek9rwDN35",
    "outputId": "0cc3c193-a6cd-4215-a543-fb47b49e4f3f",
    "papermill": {
     "duration": 40.385964,
     "end_time": "2020-08-24T04:05:59.843074",
     "exception": false,
     "start_time": "2020-08-24T04:05:19.457110",
     "status": "completed"
    },
    "tags": []
   },
   "outputs": [
    {
     "data": {
      "text/html": [],
      "text/plain": [
       "<IPython.core.display.HTML object>"
      ]
     },
     "metadata": {},
     "output_type": "display_data"
    }
   ],
   "source": [
    "preds = classifierModel.get_preds(DatasetType.Test)"
   ]
  },
  {
   "cell_type": "code",
   "execution_count": 54,
   "metadata": {
    "execution": {
     "iopub.execute_input": "2020-08-24T04:06:00.068532Z",
     "iopub.status.busy": "2020-08-24T04:06:00.067534Z",
     "iopub.status.idle": "2020-08-24T04:06:00.222949Z",
     "shell.execute_reply": "2020-08-24T04:06:00.222019Z"
    },
    "id": "mJADhZwgL15e",
    "outputId": "a95cb659-b32f-4afc-ae27-a3390b7a84c5",
    "papermill": {
     "duration": 0.295404,
     "end_time": "2020-08-24T04:06:00.223082",
     "exception": false,
     "start_time": "2020-08-24T04:05:59.927678",
     "status": "completed"
    },
    "tags": []
   },
   "outputs": [
    {
     "data": {
      "text/html": [
       "<div>\n",
       "<style scoped>\n",
       "    .dataframe tbody tr th:only-of-type {\n",
       "        vertical-align: middle;\n",
       "    }\n",
       "\n",
       "    .dataframe tbody tr th {\n",
       "        vertical-align: top;\n",
       "    }\n",
       "\n",
       "    .dataframe thead th {\n",
       "        text-align: right;\n",
       "    }\n",
       "</style>\n",
       "<table border=\"1\" class=\"dataframe\">\n",
       "  <thead>\n",
       "    <tr style=\"text-align: right;\">\n",
       "      <th></th>\n",
       "      <th>ID</th>\n",
       "      <th>Computer Science</th>\n",
       "      <th>Physics</th>\n",
       "      <th>Mathematics</th>\n",
       "      <th>Statistics</th>\n",
       "      <th>Quantitative Biology</th>\n",
       "      <th>Quantitative Finance</th>\n",
       "    </tr>\n",
       "  </thead>\n",
       "  <tbody>\n",
       "    <tr>\n",
       "      <th>0</th>\n",
       "      <td>20973</td>\n",
       "      <td>1</td>\n",
       "      <td>0</td>\n",
       "      <td>1</td>\n",
       "      <td>1</td>\n",
       "      <td>0</td>\n",
       "      <td>0</td>\n",
       "    </tr>\n",
       "    <tr>\n",
       "      <th>1</th>\n",
       "      <td>20974</td>\n",
       "      <td>0</td>\n",
       "      <td>1</td>\n",
       "      <td>0</td>\n",
       "      <td>0</td>\n",
       "      <td>0</td>\n",
       "      <td>0</td>\n",
       "    </tr>\n",
       "    <tr>\n",
       "      <th>2</th>\n",
       "      <td>20975</td>\n",
       "      <td>1</td>\n",
       "      <td>0</td>\n",
       "      <td>0</td>\n",
       "      <td>0</td>\n",
       "      <td>0</td>\n",
       "      <td>0</td>\n",
       "    </tr>\n",
       "    <tr>\n",
       "      <th>3</th>\n",
       "      <td>20976</td>\n",
       "      <td>0</td>\n",
       "      <td>1</td>\n",
       "      <td>0</td>\n",
       "      <td>0</td>\n",
       "      <td>0</td>\n",
       "      <td>0</td>\n",
       "    </tr>\n",
       "    <tr>\n",
       "      <th>4</th>\n",
       "      <td>20977</td>\n",
       "      <td>1</td>\n",
       "      <td>0</td>\n",
       "      <td>0</td>\n",
       "      <td>0</td>\n",
       "      <td>0</td>\n",
       "      <td>0</td>\n",
       "    </tr>\n",
       "  </tbody>\n",
       "</table>\n",
       "</div>"
      ],
      "text/plain": [
       "      ID  Computer Science  Physics  Mathematics  Statistics  \\\n",
       "0  20973                 1        0            1           1   \n",
       "1  20974                 0        1            0           0   \n",
       "2  20975                 1        0            0           0   \n",
       "3  20976                 0        1            0           0   \n",
       "4  20977                 1        0            0           0   \n",
       "\n",
       "   Quantitative Biology  Quantitative Finance  \n",
       "0                     0                     0  \n",
       "1                     0                     0  \n",
       "2                     0                     0  \n",
       "3                     0                     0  \n",
       "4                     0                     0  "
      ]
     },
     "execution_count": 54,
     "metadata": {},
     "output_type": "execute_result"
    }
   ],
   "source": [
    "submission = pd.read_csv('/kaggle/input/researchtopictags/sample.csv')\n",
    "submission.iloc[:,1:] =  (preds[0]>0.3).byte().numpy()\n",
    "submission.to_csv('submission.csv', index=False)\n",
    "submission.head()"
   ]
  },
  {
   "cell_type": "code",
   "execution_count": null,
   "metadata": {
    "id": "UqV0L9_bO9D6",
    "papermill": {
     "duration": 0.085912,
     "end_time": "2020-08-24T04:06:00.395445",
     "exception": false,
     "start_time": "2020-08-24T04:06:00.309533",
     "status": "completed"
    },
    "tags": []
   },
   "outputs": [],
   "source": []
  }
 ],
 "metadata": {
  "kernelspec": {
   "display_name": "Python 3",
   "language": "python",
   "name": "python3"
  },
  "language_info": {
   "codemirror_mode": {
    "name": "ipython",
    "version": 3
   },
   "file_extension": ".py",
   "mimetype": "text/x-python",
   "name": "python",
   "nbconvert_exporter": "python",
   "pygments_lexer": "ipython3",
   "version": "3.7.6"
  },
  "papermill": {
   "duration": 2614.850792,
   "end_time": "2020-08-24T04:06:01.581159",
   "environment_variables": {},
   "exception": null,
   "input_path": "__notebook__.ipynb",
   "output_path": "__notebook__.ipynb",
   "parameters": {},
   "start_time": "2020-08-24T03:22:26.730367",
   "version": "2.1.0"
  }
 },
 "nbformat": 4,
 "nbformat_minor": 4
}
