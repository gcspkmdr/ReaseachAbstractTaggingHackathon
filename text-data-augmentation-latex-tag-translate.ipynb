{
 "cells": [
  {
   "cell_type": "code",
   "execution_count": 1,
   "metadata": {
    "_cell_guid": "b1076dfc-b9ad-4769-8c92-a6c4dae69d19",
    "_uuid": "8f2839f25d086af736a60e9eeb907d3b93b6e0e5",
    "execution": {
     "iopub.execute_input": "2020-08-23T17:54:26.497434Z",
     "iopub.status.busy": "2020-08-23T17:54:26.496178Z",
     "iopub.status.idle": "2020-08-23T17:54:45.921217Z",
     "shell.execute_reply": "2020-08-23T17:54:45.920343Z"
    },
    "papermill": {
     "duration": 19.44946,
     "end_time": "2020-08-23T17:54:45.921367",
     "exception": false,
     "start_time": "2020-08-23T17:54:26.471907",
     "status": "completed"
    },
    "tags": []
   },
   "outputs": [
    {
     "name": "stdout",
     "output_type": "stream",
     "text": [
      "Collecting googletrans\r\n",
      "  Downloading googletrans-3.0.0.tar.gz (17 kB)\r\n",
      "Collecting httpx==0.13.3\r\n",
      "  Downloading httpx-0.13.3-py3-none-any.whl (55 kB)\r\n",
      "\u001b[K     |████████████████████████████████| 55 kB 456 kB/s \r\n",
      "\u001b[?25hCollecting hstspreload\r\n",
      "  Downloading hstspreload-2020.8.18-py3-none-any.whl (938 kB)\r\n",
      "\u001b[K     |████████████████████████████████| 938 kB 1.1 MB/s \r\n",
      "\u001b[?25hCollecting sniffio\r\n",
      "  Downloading sniffio-1.1.0-py3-none-any.whl (4.5 kB)\r\n",
      "Requirement already satisfied: certifi in /opt/conda/lib/python3.7/site-packages (from httpx==0.13.3->googletrans) (2020.6.20)\r\n",
      "Requirement already satisfied: idna==2.* in /opt/conda/lib/python3.7/site-packages (from httpx==0.13.3->googletrans) (2.9)\r\n",
      "Collecting httpcore==0.9.*\r\n",
      "  Downloading httpcore-0.9.1-py3-none-any.whl (42 kB)\r\n",
      "\u001b[K     |████████████████████████████████| 42 kB 520 kB/s \r\n",
      "\u001b[?25hRequirement already satisfied: chardet==3.* in /opt/conda/lib/python3.7/site-packages (from httpx==0.13.3->googletrans) (3.0.4)\r\n",
      "Collecting rfc3986<2,>=1.3\r\n",
      "  Downloading rfc3986-1.4.0-py2.py3-none-any.whl (31 kB)\r\n",
      "Collecting h11<0.10,>=0.8\r\n",
      "  Downloading h11-0.9.0-py2.py3-none-any.whl (53 kB)\r\n",
      "\u001b[K     |████████████████████████████████| 53 kB 953 kB/s \r\n",
      "\u001b[?25hCollecting h2==3.*\r\n",
      "  Downloading h2-3.2.0-py2.py3-none-any.whl (65 kB)\r\n",
      "\u001b[K     |████████████████████████████████| 65 kB 1.3 MB/s \r\n",
      "\u001b[?25hCollecting hyperframe<6,>=5.2.0\r\n",
      "  Downloading hyperframe-5.2.0-py2.py3-none-any.whl (12 kB)\r\n",
      "Collecting hpack<4,>=3.0\r\n",
      "  Downloading hpack-3.0.0-py2.py3-none-any.whl (38 kB)\r\n",
      "Building wheels for collected packages: googletrans\r\n",
      "  Building wheel for googletrans (setup.py) ... \u001b[?25l-\b \b\\\b \bdone\r\n",
      "\u001b[?25h  Created wheel for googletrans: filename=googletrans-3.0.0-py3-none-any.whl size=15734 sha256=f27afae9dcaee225ef831c0f58dbe2ff1e0e8d19de4033257694697b65cf888e\r\n",
      "  Stored in directory: /root/.cache/pip/wheels/20/da/eb/a54579056f265eede0417df537dd56d3df5b9eb2b25df0003d\r\n",
      "Successfully built googletrans\r\n",
      "Installing collected packages: hstspreload, sniffio, h11, hyperframe, hpack, h2, httpcore, rfc3986, httpx, googletrans\r\n",
      "Successfully installed googletrans-3.0.0 h11-0.9.0 h2-3.2.0 hpack-3.0.0 hstspreload-2020.8.18 httpcore-0.9.1 httpx-0.13.3 hyperframe-5.2.0 rfc3986-1.4.0 sniffio-1.1.0\r\n",
      "\u001b[33mWARNING: You are using pip version 20.2.1; however, version 20.2.2 is available.\r\n",
      "You should consider upgrading via the '/opt/conda/bin/python3.7 -m pip install --upgrade pip' command.\u001b[0m\r\n",
      "/kaggle/input/researchtopictags/test.csv\n",
      "/kaggle/input/researchtopictags/sample.csv\n",
      "/kaggle/input/researchtopictags/train.csv\n"
     ]
    }
   ],
   "source": [
    "!pip install googletrans\n",
    "\n",
    "from googletrans import Translator\n",
    "\n",
    "from dask import bag, diagnostics\n",
    "\n",
    "import numpy as np \n",
    "\n",
    "import pandas as pd \n",
    "\n",
    "import os\n",
    "\n",
    "for dirname, _, filenames in os.walk('/kaggle/input'):\n",
    "    for filename in filenames:\n",
    "        print(os.path.join(dirname, filename))\n",
    "\n",
    "import random\n",
    "\n",
    "import re"
   ]
  },
  {
   "cell_type": "code",
   "execution_count": 2,
   "metadata": {
    "_cell_guid": "79c7e3d0-c299-4dcb-8224-4455121ee9b0",
    "_uuid": "d629ff2d2480ee46fbb7e2d37f6b5fab8052498a",
    "execution": {
     "iopub.execute_input": "2020-08-23T17:54:46.003861Z",
     "iopub.status.busy": "2020-08-23T17:54:46.003020Z",
     "iopub.status.idle": "2020-08-23T17:54:46.735422Z",
     "shell.execute_reply": "2020-08-23T17:54:46.734742Z"
    },
    "papermill": {
     "duration": 0.77666,
     "end_time": "2020-08-23T17:54:46.735580",
     "exception": false,
     "start_time": "2020-08-23T17:54:45.958920",
     "status": "completed"
    },
    "tags": []
   },
   "outputs": [],
   "source": [
    "train_data = pd.read_csv('/kaggle/input/researchtopictags/train.csv')\n",
    "\n",
    "test_data = pd.read_csv('/kaggle/input/researchtopictags/test.csv') "
   ]
  },
  {
   "cell_type": "code",
   "execution_count": 3,
   "metadata": {
    "execution": {
     "iopub.execute_input": "2020-08-23T17:54:46.804172Z",
     "iopub.status.busy": "2020-08-23T17:54:46.798937Z",
     "iopub.status.idle": "2020-08-23T17:54:46.842727Z",
     "shell.execute_reply": "2020-08-23T17:54:46.842193Z"
    },
    "papermill": {
     "duration": 0.082772,
     "end_time": "2020-08-23T17:54:46.842833",
     "exception": false,
     "start_time": "2020-08-23T17:54:46.760061",
     "status": "completed"
    },
    "tags": []
   },
   "outputs": [],
   "source": [
    "def applyRegexps(text, listRegExp):\n",
    "    \n",
    "    \"\"\" Applies successively many regexps to a text\"\"\"\n",
    "    \n",
    "    # apply all the rules in the ruleset\n",
    "    \n",
    "    for element in listRegExp:\n",
    "        \n",
    "        left = element['left']\n",
    "        \n",
    "        right = element['right']\n",
    "        \n",
    "        r=re.compile(left)\n",
    "        \n",
    "        text=r.sub(right,text)\n",
    "    \n",
    "    return text\n",
    "\n",
    "\n",
    "def detex(latexText):\n",
    "    \n",
    "    \"\"\"Transform a latex text into a simple text\"\"\"    \n",
    "    # initialization\n",
    "    \n",
    "    regexps=[]\n",
    "    \n",
    "    text=latexText\n",
    "    \n",
    "    # remove all the contents of the header, ie everything before the first occurence of \"\\begin{document}\"\n",
    "    \n",
    "    text = re.sub(r\"(?s).*?(\\\\begin\\{document\\})\", \"\", text, 1)\n",
    "    \n",
    "    # remove comments\n",
    "    \n",
    "    regexps.append({r'left':r'([^\\\\\\d])%.*', 'right':r'\\1'})\n",
    "    \n",
    "    text= applyRegexps(text, regexps)\n",
    "    \n",
    "    regexps=[]\n",
    "     \n",
    "    # - replace some LaTeX commands by the contents inside curly rackets\n",
    "    \n",
    "    to_reduce = [r'\\\\emph', r'\\\\textbf', r'\\\\textit', r'\\\\text', r'\\\\IEEEauthorblockA', r'\\\\IEEEauthorblockN', r'\\\\author', r'\\\\caption',r'\\\\author',r'\\\\thanks']\n",
    "    \n",
    "    for tag in to_reduce:\n",
    "        \n",
    "        regexps.append({'left':tag+r'\\{([^\\}\\{]*)\\}', 'right':r'\\1'})\n",
    "    \n",
    "    text= applyRegexps(text, regexps)\n",
    "    \n",
    "    regexps=[]\n",
    "  \n",
    "    # - replace some LaTeX commands by the contents inside curly brackets and highlight these contents\n",
    "    \n",
    "    to_highlight = [r'\\\\part[\\*]*', r'\\\\chapter[\\*]*', r'\\\\section[\\*]*', r'\\\\subsection[\\*]*', r'\\\\subsubsection[\\*]*', r'\\\\paragraph[\\*]*'];\n",
    "    \n",
    "    # highlightment pattern: #--content--#\n",
    "    \n",
    "    for tag in to_highlight:\n",
    "        \n",
    "        regexps.append({'left':tag+r'\\{([^\\}\\{]*)\\}','right':r'\\n#--\\1--#\\n'})\n",
    "    \n",
    "    # highlightment pattern: [content]\n",
    "    \n",
    "    to_highlight = [r'\\\\title',r'\\\\author',r'\\\\thanks',r'\\\\cite', r'\\\\ref'];\n",
    "    \n",
    "    for tag in to_highlight:\n",
    "        \n",
    "        regexps.append({'left':tag+r'\\{([^\\}\\{]*)\\}','right':r'[\\1]'})\n",
    "    \n",
    "    text= applyRegexps(text, regexps)\n",
    "    \n",
    "    regexps=[]\n",
    "    \n",
    "    \n",
    "    # remove LaTeX tags\n",
    "    # - remove completely some LaTeX commands that take arguments\n",
    "    to_remove = [r'\\\\maketitle',r'\\\\footnote', r'\\\\centering', r'\\\\IEEEpeerreviewmaketitle', r'\\\\includegraphics', r'\\\\IEEEauthorrefmark', r'\\\\label', r'\\\\begin', r'\\\\end', r'\\\\big', r'\\\\right', r'\\\\left', r'\\\\documentclass', r'\\\\usepackage', r'\\\\bibliographystyle', r'\\\\bibliography',  r'\\\\cline', r'\\\\multicolumn']\n",
    "    \n",
    "    # replace tag with options and argument by a single space\n",
    "    \n",
    "    for tag in to_remove:\n",
    "        \n",
    "        regexps.append({'left':tag+r'(\\[[^\\]]*\\])*(\\{[^\\}\\{]*\\})*', 'right':r' '})\n",
    "    \n",
    "    text= applyRegexps(text, regexps)\n",
    "    \n",
    "    regexps=[]\n",
    "\n",
    "    \n",
    "    \n",
    "    # - replace some LaTeX commands by the contents inside curly rackets\n",
    "    # replace some symbols by their ascii equivalent\n",
    "    # - common symbols\n",
    "    \n",
    "    regexps.append({'left':r'\\\\eg(\\{\\})* *','right':r'e.g., '})\n",
    "    \n",
    "    regexps.append({'left':r'\\\\ldots','right':r'...'})\n",
    "    \n",
    "    regexps.append({'left':r'\\\\Rightarrow','right':r'=>'})\n",
    "    \n",
    "    regexps.append({'left':r'\\\\rightarrow','right':r'->'})\n",
    "    \n",
    "    regexps.append({'left':r'\\\\le','right':r'<='})\n",
    "    \n",
    "    regexps.append({'left':r'\\\\ge','right':r'>'})\n",
    "    \n",
    "    regexps.append({'left':r'\\\\_','right':r'_'})\n",
    "    \n",
    "    regexps.append({'left':r'\\\\\\\\','right':r'\\n'})\n",
    "    \n",
    "    regexps.append({'left':r'~','right':r' '})\n",
    "    \n",
    "    regexps.append({'left':r'\\\\&','right':r'&'})\n",
    "    \n",
    "    regexps.append({'left':r'\\\\%','right':r'%'})\n",
    "    \n",
    "    regexps.append({'left':r'([^\\\\])&','right':r'\\1\\t'})\n",
    "    \n",
    "    regexps.append({'left':r'\\\\item','right':r'\\t- '})\n",
    "    \n",
    "    regexps.append({'left':r'\\\\hline[ \\t]*\\\\hline','right':r'============================================='})\n",
    "    \n",
    "    regexps.append({'left':r'[ \\t]*\\\\hline','right':r'_____________________________________________'})\n",
    "    \n",
    "    # - special letters\n",
    "    \n",
    "    regexps.append({'left':r'\\\\\\'{?\\{e\\}}?','right':r'é'})\n",
    "    \n",
    "    regexps.append({'left':r'\\\\`{?\\{a\\}}?','right':r'à'})\n",
    "    \n",
    "    regexps.append({'left':r'\\\\\\'{?\\{o\\}}?','right':r'ó'})\n",
    "    \n",
    "    regexps.append({'left':r'\\\\\\'{?\\{a\\}}?','right':r'á'})\n",
    "    \n",
    "    # keep untouched the contents of the equations\n",
    "    \n",
    "    regexps.append({'left':r'\\$(.)\\$', 'right':r'\\1'})\n",
    "    \n",
    "    regexps.append({'left':r'\\$([^\\$]*)\\$', 'right':r'\\1'})\n",
    "    \n",
    "    # remove the equation symbols ($)\n",
    "    \n",
    "    regexps.append({'left':r'([^\\\\])\\$', 'right':r'\\1'})\n",
    "    \n",
    "    # correct spacing problems\n",
    "    \n",
    "    regexps.append({'left':r' +,','right':r','})\n",
    "    \n",
    "    regexps.append({'left':r' +','right':r' '})\n",
    "    \n",
    "    regexps.append({'left':r' +\\)','right':r'\\)'})\n",
    "    \n",
    "    regexps.append({'left':r'\\( +','right':r'\\('})\n",
    "    \n",
    "    regexps.append({'left':r' +\\.','right':r'\\.'})    \n",
    "    \n",
    "    # remove lonely curly brackets    \n",
    "    \n",
    "    regexps.append({'left':r'^([^\\{]*)\\}', 'right':r'\\1'})\n",
    "    \n",
    "    regexps.append({'left':r'([^\\\\])\\{([^\\}]*)\\}','right':r'\\1\\2'})\n",
    "    \n",
    "    regexps.append({'left':r'\\\\\\{','right':r'\\{'})\n",
    "    \n",
    "    regexps.append({'left':r'\\\\\\}','right':r'\\}'})\n",
    "    \n",
    "    # strip white space characters at end of line\n",
    "    \n",
    "    regexps.append({'left':r'[ \\t]*\\n','right':r'\\n'})\n",
    "    \n",
    "    # remove consecutive blank lines\n",
    "    \n",
    "    regexps.append({'left':r'([ \\t]*\\n){3,}','right':r'\\n'})\n",
    "    \n",
    "    # apply all those regexps\n",
    "    \n",
    "    text= applyRegexps(text, regexps)\n",
    "    \n",
    "    regexps=[]    \n",
    "    \n",
    "    # return the modified text\n",
    "    \n",
    "    return text"
   ]
  },
  {
   "cell_type": "code",
   "execution_count": 4,
   "metadata": {
    "execution": {
     "iopub.execute_input": "2020-08-23T17:54:46.907908Z",
     "iopub.status.busy": "2020-08-23T17:54:46.902674Z",
     "iopub.status.idle": "2020-08-23T18:04:34.997050Z",
     "shell.execute_reply": "2020-08-23T18:04:34.997677Z"
    },
    "papermill": {
     "duration": 588.130563,
     "end_time": "2020-08-23T18:04:34.998016",
     "exception": false,
     "start_time": "2020-08-23T17:54:46.867453",
     "status": "completed"
    },
    "tags": []
   },
   "outputs": [
    {
     "name": "stdout",
     "output_type": "stream",
     "text": [
      "CPU times: user 9min 47s, sys: 278 ms, total: 9min 48s\n",
      "Wall time: 9min 48s\n"
     ]
    }
   ],
   "source": [
    "%%time\n",
    "train_data['TITLE'] = train_data['TITLE'].apply(lambda x :detex(x).replace(\"\\n\", \" \").replace(\"\\\\\", \" \"))\n",
    "\n",
    "train_data['ABSTRACT'] = train_data['ABSTRACT'].apply(lambda x :detex(x).replace(\"\\n\", \" \").replace(\"\\\\\", \" \"))"
   ]
  },
  {
   "cell_type": "code",
   "execution_count": 5,
   "metadata": {
    "execution": {
     "iopub.execute_input": "2020-08-23T18:04:35.073482Z",
     "iopub.status.busy": "2020-08-23T18:04:35.068168Z",
     "iopub.status.idle": "2020-08-23T18:08:24.828973Z",
     "shell.execute_reply": "2020-08-23T18:08:24.829882Z"
    },
    "papermill": {
     "duration": 229.806728,
     "end_time": "2020-08-23T18:08:24.830123",
     "exception": false,
     "start_time": "2020-08-23T18:04:35.023395",
     "status": "completed"
    },
    "tags": []
   },
   "outputs": [
    {
     "name": "stdout",
     "output_type": "stream",
     "text": [
      "CPU times: user 3min 49s, sys: 106 ms, total: 3min 49s\n",
      "Wall time: 3min 49s\n"
     ]
    }
   ],
   "source": [
    "%%time\n",
    "test_data['TITLE'] = test_data['TITLE'].apply(lambda x :detex(x).replace(\"\\n\", \" \").replace(\"\\\\\", \" \"))\n",
    "\n",
    "test_data['ABSTRACT'] = test_data['ABSTRACT'].apply(lambda x :detex(x).replace(\"\\n\", \" \").replace(\"\\\\\", \" \"))"
   ]
  },
  {
   "cell_type": "code",
   "execution_count": 6,
   "metadata": {
    "execution": {
     "iopub.execute_input": "2020-08-23T18:08:24.912114Z",
     "iopub.status.busy": "2020-08-23T18:08:24.911289Z",
     "iopub.status.idle": "2020-08-23T18:08:26.354853Z",
     "shell.execute_reply": "2020-08-23T18:08:26.354168Z"
    },
    "papermill": {
     "duration": 1.486278,
     "end_time": "2020-08-23T18:08:26.354971",
     "exception": false,
     "start_time": "2020-08-23T18:08:24.868693",
     "status": "completed"
    },
    "tags": []
   },
   "outputs": [],
   "source": [
    "train_data.to_csv('train_without_latex_tags.csv',index = False)\n",
    "\n",
    "test_data.to_csv('test_without_latex_tags.csv',index = False)"
   ]
  },
  {
   "cell_type": "code",
   "execution_count": 7,
   "metadata": {
    "execution": {
     "iopub.execute_input": "2020-08-23T18:08:26.415484Z",
     "iopub.status.busy": "2020-08-23T18:08:26.414634Z",
     "iopub.status.idle": "2020-08-23T18:08:26.775985Z",
     "shell.execute_reply": "2020-08-23T18:08:26.775034Z"
    },
    "papermill": {
     "duration": 0.394799,
     "end_time": "2020-08-23T18:08:26.776148",
     "exception": false,
     "start_time": "2020-08-23T18:08:26.381349",
     "status": "completed"
    },
    "tags": []
   },
   "outputs": [],
   "source": [
    "train_data = pd.read_csv('/kaggle/input/researchtopictags/train.csv')\n",
    "\n",
    "test_data = pd.read_csv('/kaggle/input/researchtopictags/test.csv') "
   ]
  },
  {
   "cell_type": "code",
   "execution_count": 8,
   "metadata": {
    "execution": {
     "iopub.execute_input": "2020-08-23T18:08:26.869844Z",
     "iopub.status.busy": "2020-08-23T18:08:26.869145Z",
     "iopub.status.idle": "2020-08-23T21:00:02.804159Z",
     "shell.execute_reply": "2020-08-23T21:00:02.801853Z"
    },
    "papermill": {
     "duration": 10295.989366,
     "end_time": "2020-08-23T21:00:02.804325",
     "exception": false,
     "start_time": "2020-08-23T18:08:26.814959",
     "status": "completed"
    },
    "tags": []
   },
   "outputs": [
    {
     "name": "stdout",
     "output_type": "stream",
     "text": [
      "[########################################] | 100% Completed | 29min 50.5s\n",
      "[########################################] | 100% Completed | 31min 19.4s\n",
      "[########################################] | 100% Completed | 28min 53.1s\n",
      "[########################################] | 100% Completed | 30min 18.2s\n",
      "[########################################] | 100% Completed | 12min 18.7s\n",
      "[########################################] | 100% Completed | 13min 21.1s\n",
      "[########################################] | 100% Completed | 12min 19.2s\n",
      "[########################################] | 100% Completed | 13min 11.6s\n"
     ]
    }
   ],
   "source": [
    "def translate(words, dest):\n",
    "    \n",
    "    dest_choices = ['it',\n",
    "                    'fr',\n",
    "                    'es',\n",
    "                    'de',\n",
    "                    ]\n",
    "    \n",
    "    if not dest:\n",
    "        \n",
    "        dest = np.random.choice(dest_choices)\n",
    "        \n",
    "    translator = Translator()\n",
    "    \n",
    "    decoded = translator.translate(words, dest=dest).text\n",
    "    \n",
    "    return decoded\n",
    "\n",
    "\n",
    "def trans_parallel(df, dest):\n",
    "    \n",
    "    title_bag = bag.from_sequence(df.TITLE.tolist()).map(translate, dest)\n",
    "    \n",
    "    abstract_bag =  bag.from_sequence(df.ABSTRACT.tolist()).map(translate, dest)\n",
    "    \n",
    "    with diagnostics.ProgressBar():\n",
    "        \n",
    "        titles = title_bag.compute()\n",
    "        \n",
    "        abstracts = abstract_bag.compute()\n",
    "    \n",
    "    df[['TITLE', 'ABSTRACT']] = list(zip(titles, abstracts))\n",
    "    \n",
    "    return df\n",
    "\n",
    "    \n",
    "encode_train = train_data.copy().pipe(trans_parallel, dest=None)\n",
    "\n",
    "decode_train =  encode_train.pipe(trans_parallel, dest='en')\n",
    "\n",
    "encode_test = test_data.copy().pipe(trans_parallel, dest=None)\n",
    "\n",
    "decode_test =  encode_test.pipe(trans_parallel, dest='en')\n"
   ]
  },
  {
   "cell_type": "code",
   "execution_count": 9,
   "metadata": {
    "execution": {
     "iopub.execute_input": "2020-08-23T21:01:24.674563Z",
     "iopub.status.busy": "2020-08-23T21:01:24.673884Z",
     "iopub.status.idle": "2020-08-23T21:01:26.084728Z",
     "shell.execute_reply": "2020-08-23T21:01:26.084079Z"
    },
    "papermill": {
     "duration": 43.50683,
     "end_time": "2020-08-23T21:01:26.084852",
     "exception": false,
     "start_time": "2020-08-23T21:00:42.578022",
     "status": "completed"
    },
    "tags": []
   },
   "outputs": [],
   "source": [
    "decode_train.to_csv('train_aug_with_latex_tags.csv',index = False)\n",
    "\n",
    "decode_test.to_csv('test_aug_with_latex_tags.csv',index = False)"
   ]
  },
  {
   "cell_type": "code",
   "execution_count": 10,
   "metadata": {
    "execution": {
     "iopub.execute_input": "2020-08-23T21:02:56.398101Z",
     "iopub.status.busy": "2020-08-23T21:02:56.393205Z",
     "iopub.status.idle": "2020-08-23T21:13:44.533871Z",
     "shell.execute_reply": "2020-08-23T21:13:44.534685Z"
    },
    "papermill": {
     "duration": 690.20873,
     "end_time": "2020-08-23T21:13:44.534907",
     "exception": false,
     "start_time": "2020-08-23T21:02:14.326177",
     "status": "completed"
    },
    "tags": []
   },
   "outputs": [
    {
     "name": "stdout",
     "output_type": "stream",
     "text": [
      "CPU times: user 10min, sys: 0 ns, total: 10min\n",
      "Wall time: 10min\n"
     ]
    }
   ],
   "source": [
    "%%time\n",
    "decode_train['TITLE'] = decode_train['TITLE'].apply(lambda x :detex(x).replace(\"\\n\", \" \").replace(\"\\\\\", \" \"))\n",
    "\n",
    "decode_train['ABSTRACT'] = decode_train['ABSTRACT'].apply(lambda x :detex(x).replace(\"\\n\", \" \").replace(\"\\\\\", \" \"))"
   ]
  },
  {
   "cell_type": "code",
   "execution_count": 11,
   "metadata": {
    "execution": {
     "iopub.execute_input": "2020-08-23T21:15:11.739564Z",
     "iopub.status.busy": "2020-08-23T21:15:11.732253Z",
     "iopub.status.idle": "2020-08-23T21:19:08.728090Z",
     "shell.execute_reply": "2020-08-23T21:19:08.727193Z"
    },
    "papermill": {
     "duration": 279.657674,
     "end_time": "2020-08-23T21:19:08.728232",
     "exception": false,
     "start_time": "2020-08-23T21:14:29.070558",
     "status": "completed"
    },
    "tags": []
   },
   "outputs": [
    {
     "name": "stdout",
     "output_type": "stream",
     "text": [
      "CPU times: user 3min 56s, sys: 0 ns, total: 3min 56s\n",
      "Wall time: 3min 56s\n"
     ]
    }
   ],
   "source": [
    "%%time\n",
    "decode_test['TITLE'] = decode_test['TITLE'].apply(lambda x :detex(x).replace(\"\\n\", \" \").replace(\"\\\\\", \" \"))\n",
    "\n",
    "decode_test['ABSTRACT'] = decode_test['ABSTRACT'].apply(lambda x :detex(x).replace(\"\\n\", \" \").replace(\"\\\\\", \" \"))"
   ]
  },
  {
   "cell_type": "code",
   "execution_count": 12,
   "metadata": {
    "execution": {
     "iopub.execute_input": "2020-08-23T21:20:44.313928Z",
     "iopub.status.busy": "2020-08-23T21:20:44.312616Z",
     "iopub.status.idle": "2020-08-23T21:20:45.055447Z",
     "shell.execute_reply": "2020-08-23T21:20:45.054896Z"
    },
    "papermill": {
     "duration": 47.285289,
     "end_time": "2020-08-23T21:20:45.055602",
     "exception": false,
     "start_time": "2020-08-23T21:19:57.770313",
     "status": "completed"
    },
    "tags": []
   },
   "outputs": [],
   "source": [
    "decode_train.to_csv('train_aug_without_latex_tags.csv',index = False)\n",
    "\n",
    "decode_test.to_csv('test_aug_without_latex_tags.csv',index = False)"
   ]
  },
  {
   "cell_type": "code",
   "execution_count": null,
   "metadata": {
    "papermill": {
     "duration": 42.985906,
     "end_time": "2020-08-23T21:22:11.282094",
     "exception": false,
     "start_time": "2020-08-23T21:21:28.296188",
     "status": "completed"
    },
    "tags": []
   },
   "outputs": [],
   "source": []
  }
 ],
 "metadata": {
  "kernelspec": {
   "display_name": "Python 3",
   "language": "python",
   "name": "python3"
  },
  "language_info": {
   "codemirror_mode": {
    "name": "ipython",
    "version": 3
   },
   "file_extension": ".py",
   "mimetype": "text/x-python",
   "name": "python",
   "nbconvert_exporter": "python",
   "pygments_lexer": "ipython3",
   "version": "3.7.6"
  },
  "papermill": {
   "duration": 12512.259545,
   "end_time": "2020-08-23T21:22:53.494444",
   "environment_variables": {},
   "exception": null,
   "input_path": "__notebook__.ipynb",
   "output_path": "__notebook__.ipynb",
   "parameters": {},
   "start_time": "2020-08-23T17:54:21.234899",
   "version": "2.1.0"
  }
 },
 "nbformat": 4,
 "nbformat_minor": 4
}
