{
 "cells": [
  {
   "cell_type": "code",
   "execution_count": 1,
   "metadata": {
    "execution": {
     "iopub.execute_input": "2020-08-24T01:50:28.697611Z",
     "iopub.status.busy": "2020-08-24T01:50:28.696709Z",
     "iopub.status.idle": "2020-08-24T01:50:56.862040Z",
     "shell.execute_reply": "2020-08-24T01:50:56.862608Z"
    },
    "papermill": {
     "duration": 28.209635,
     "end_time": "2020-08-24T01:50:56.862785",
     "exception": false,
     "start_time": "2020-08-24T01:50:28.653150",
     "status": "completed"
    },
    "tags": []
   },
   "outputs": [
    {
     "name": "stdout",
     "output_type": "stream",
     "text": [
      "\u001b[33mWARNING: You are using pip version 20.2.1; however, version 20.2.2 is available.\r\n",
      "You should consider upgrading via the '/opt/conda/bin/python3.7 -m pip install --upgrade pip' command.\u001b[0m\r\n",
      "--2020-08-24 01:50:39--  https://s3-us-west-2.amazonaws.com/ai2-s2-research/scibert/huggingface_pytorch/scibert_scivocab_uncased.tar\r\n",
      "Resolving s3-us-west-2.amazonaws.com (s3-us-west-2.amazonaws.com)... 52.218.192.144\r\n",
      "Connecting to s3-us-west-2.amazonaws.com (s3-us-west-2.amazonaws.com)|52.218.192.144|:443... connected.\r\n",
      "HTTP request sent, awaiting response... 200 OK\r\n",
      "Length: 442460160 (422M) [application/x-tar]\r\n",
      "Saving to: ‘scibert_scivocab_uncased.tar’\r\n",
      "\r\n",
      "scibert_scivocab_un 100%[===================>] 421.96M  22.8MB/s    in 15s     \r\n",
      "\r\n",
      "2020-08-24 01:50:55 (28.6 MB/s) - ‘scibert_scivocab_uncased.tar’ saved [442460160/442460160]\r\n",
      "\r\n",
      "scibert_scivocab_uncased/\r\n",
      "scibert_scivocab_uncased/vocab.txt\r\n",
      "scibert_scivocab_uncased/pytorch_model.bin\r\n",
      "scibert_scivocab_uncased/config.json\r\n"
     ]
    }
   ],
   "source": [
    "!pip install -q transformers\n",
    "!wget https://s3-us-west-2.amazonaws.com/ai2-s2-research/scibert/huggingface_pytorch/scibert_scivocab_uncased.tar\n",
    "!tar -xvf ./scibert_scivocab_uncased.tar"
   ]
  },
  {
   "cell_type": "code",
   "execution_count": 2,
   "metadata": {
    "execution": {
     "iopub.execute_input": "2020-08-24T01:50:56.998634Z",
     "iopub.status.busy": "2020-08-24T01:50:56.994041Z",
     "iopub.status.idle": "2020-08-24T01:51:24.173304Z",
     "shell.execute_reply": "2020-08-24T01:51:24.172593Z"
    },
    "papermill": {
     "duration": 27.248042,
     "end_time": "2020-08-24T01:51:24.173440",
     "exception": false,
     "start_time": "2020-08-24T01:50:56.925398",
     "status": "completed"
    },
    "tags": []
   },
   "outputs": [
    {
     "name": "stdout",
     "output_type": "stream",
     "text": [
      "\u001b[33mWARNING: You are using pip version 20.2.1; however, version 20.2.2 is available.\r\n",
      "You should consider upgrading via the '/opt/conda/bin/python3.7 -m pip install --upgrade pip' command.\u001b[0m\r\n",
      "\u001b[33mWARNING: You are using pip version 20.2.1; however, version 20.2.2 is available.\r\n",
      "You should consider upgrading via the '/opt/conda/bin/python3.7 -m pip install --upgrade pip' command.\u001b[0m\r\n"
     ]
    }
   ],
   "source": [
    "!pip install -q langdetect\n",
    "!pip install -q googletrans\n",
    "from googletrans import Translator\n",
    "from langdetect import detect"
   ]
  },
  {
   "cell_type": "code",
   "execution_count": 3,
   "metadata": {
    "execution": {
     "iopub.execute_input": "2020-08-24T01:51:24.303723Z",
     "iopub.status.busy": "2020-08-24T01:51:24.303127Z",
     "iopub.status.idle": "2020-08-24T01:51:24.321609Z",
     "shell.execute_reply": "2020-08-24T01:51:24.321083Z"
    },
    "papermill": {
     "duration": 0.087151,
     "end_time": "2020-08-24T01:51:24.321725",
     "exception": false,
     "start_time": "2020-08-24T01:51:24.234574",
     "status": "completed"
    },
    "tags": []
   },
   "outputs": [
    {
     "name": "stdout",
     "output_type": "stream",
     "text": [
      "/kaggle/input/researchtopictagaugwithoutlatextags/sample.csv\n",
      "/kaggle/input/researchtopictagaugwithoutlatextags/test_aug_without_latex_tags.csv\n",
      "/kaggle/input/researchtopictagaugwithoutlatextags/train_aug_without_latex_tags.csv\n",
      "/kaggle/input/researchtopictagaug/test_aug_with_latex_tags.csv\n",
      "/kaggle/input/researchtopictagaug/sample.csv\n",
      "/kaggle/input/researchtopictagaug/train_aug_with_latex_tags.csv\n",
      "/kaggle/input/researchtopictagwithoutlatex/test_without_latex_tags.csv\n",
      "/kaggle/input/researchtopictagwithoutlatex/train_without_latex_tags.csv\n",
      "/kaggle/input/researchtopictagwithoutlatex/sample.csv\n",
      "/kaggle/input/researchtopictags/test.csv\n",
      "/kaggle/input/researchtopictags/train.csv\n",
      "/kaggle/input/researchtopictags/sample.csv\n"
     ]
    }
   ],
   "source": [
    "import os\n",
    "os.environ[\"WANDB_API_KEY\"] = \"0\" ## to silence warning\n",
    "for dirname, _, filenames in os.walk('/kaggle/input'):\n",
    "    for filename in filenames:\n",
    "        print(os.path.join(dirname, filename))"
   ]
  },
  {
   "cell_type": "code",
   "execution_count": 4,
   "metadata": {
    "_cell_guid": "b1076dfc-b9ad-4769-8c92-a6c4dae69d19",
    "_uuid": "8f2839f25d086af736a60e9eeb907d3b93b6e0e5",
    "execution": {
     "iopub.execute_input": "2020-08-24T01:51:24.454191Z",
     "iopub.status.busy": "2020-08-24T01:51:24.453501Z",
     "iopub.status.idle": "2020-08-24T01:51:35.755797Z",
     "shell.execute_reply": "2020-08-24T01:51:35.756873Z"
    },
    "papermill": {
     "duration": 11.372992,
     "end_time": "2020-08-24T01:51:35.757098",
     "exception": false,
     "start_time": "2020-08-24T01:51:24.384106",
     "status": "completed"
    },
    "tags": []
   },
   "outputs": [
    {
     "name": "stdout",
     "output_type": "stream",
     "text": [
      "fastai version : 1.0.61\n",
      "transformers version : 2.11.0\n"
     ]
    }
   ],
   "source": [
    "import numpy as np\n",
    "import pandas as pd\n",
    "\n",
    "import matplotlib as mpl\n",
    "mpl.rcParams['figure.figsize'] = (12, 12)\n",
    "import seaborn as sns\n",
    "\n",
    "import torch\n",
    "import torch.optim as optim\n",
    "import torch.nn as nn\n",
    "import random \n",
    "from sklearn.metrics import f1_score,accuracy_score,roc_auc_score\n",
    "\n",
    "# fastai\n",
    "import fastai\n",
    "from fastai import *\n",
    "from fastai.text import *\n",
    "from fastai.callbacks import *\n",
    "\n",
    "# transformers\n",
    "import transformers\n",
    "from transformers import *\n",
    "from transformers import PreTrainedModel, PreTrainedTokenizer, PretrainedConfig\n",
    "\n",
    "from fastai.callbacks import *\n",
    "from transformers import AdamW\n",
    "from functools import partial\n",
    "\n",
    "import re\n",
    "\n",
    "print('fastai version :', fastai.__version__)\n",
    "print('transformers version :', transformers.__version__)"
   ]
  },
  {
   "cell_type": "code",
   "execution_count": 5,
   "metadata": {
    "execution": {
     "iopub.execute_input": "2020-08-24T01:51:35.899624Z",
     "iopub.status.busy": "2020-08-24T01:51:35.898949Z",
     "iopub.status.idle": "2020-08-24T01:51:36.237330Z",
     "shell.execute_reply": "2020-08-24T01:51:36.236636Z"
    },
    "papermill": {
     "duration": 0.415518,
     "end_time": "2020-08-24T01:51:36.237478",
     "exception": false,
     "start_time": "2020-08-24T01:51:35.821960",
     "status": "completed"
    },
    "tags": []
   },
   "outputs": [],
   "source": [
    "train_data = pd.read_csv('/kaggle/input/researchtopictags/train.csv')\n",
    "test_data = pd.read_csv('/kaggle/input/researchtopictags/test.csv')  "
   ]
  },
  {
   "cell_type": "code",
   "execution_count": 6,
   "metadata": {
    "execution": {
     "iopub.execute_input": "2020-08-24T01:51:36.376737Z",
     "iopub.status.busy": "2020-08-24T01:51:36.375379Z",
     "iopub.status.idle": "2020-08-24T01:51:36.388851Z",
     "shell.execute_reply": "2020-08-24T01:51:36.389359Z"
    },
    "papermill": {
     "duration": 0.090089,
     "end_time": "2020-08-24T01:51:36.389495",
     "exception": false,
     "start_time": "2020-08-24T01:51:36.299406",
     "status": "completed"
    },
    "tags": []
   },
   "outputs": [
    {
     "name": "stdout",
     "output_type": "stream",
     "text": [
      "(20972, 9)\n"
     ]
    },
    {
     "data": {
      "text/html": [
       "<div>\n",
       "<style scoped>\n",
       "    .dataframe tbody tr th:only-of-type {\n",
       "        vertical-align: middle;\n",
       "    }\n",
       "\n",
       "    .dataframe tbody tr th {\n",
       "        vertical-align: top;\n",
       "    }\n",
       "\n",
       "    .dataframe thead th {\n",
       "        text-align: right;\n",
       "    }\n",
       "</style>\n",
       "<table border=\"1\" class=\"dataframe\">\n",
       "  <thead>\n",
       "    <tr style=\"text-align: right;\">\n",
       "      <th></th>\n",
       "      <th>ID</th>\n",
       "      <th>TITLE</th>\n",
       "      <th>ABSTRACT</th>\n",
       "      <th>Computer Science</th>\n",
       "      <th>Physics</th>\n",
       "      <th>Mathematics</th>\n",
       "      <th>Statistics</th>\n",
       "      <th>Quantitative Biology</th>\n",
       "      <th>Quantitative Finance</th>\n",
       "    </tr>\n",
       "  </thead>\n",
       "  <tbody>\n",
       "    <tr>\n",
       "      <th>0</th>\n",
       "      <td>1</td>\n",
       "      <td>Reconstructing Subject-Specific Effect Maps</td>\n",
       "      <td>Predictive models allow subject-specific inf...</td>\n",
       "      <td>1</td>\n",
       "      <td>0</td>\n",
       "      <td>0</td>\n",
       "      <td>0</td>\n",
       "      <td>0</td>\n",
       "      <td>0</td>\n",
       "    </tr>\n",
       "    <tr>\n",
       "      <th>1</th>\n",
       "      <td>2</td>\n",
       "      <td>Rotation Invariance Neural Network</td>\n",
       "      <td>Rotation invariance and translation invarian...</td>\n",
       "      <td>1</td>\n",
       "      <td>0</td>\n",
       "      <td>0</td>\n",
       "      <td>0</td>\n",
       "      <td>0</td>\n",
       "      <td>0</td>\n",
       "    </tr>\n",
       "    <tr>\n",
       "      <th>2</th>\n",
       "      <td>3</td>\n",
       "      <td>Spherical polyharmonics and Poisson kernels fo...</td>\n",
       "      <td>We introduce and develop the notion of spher...</td>\n",
       "      <td>0</td>\n",
       "      <td>0</td>\n",
       "      <td>1</td>\n",
       "      <td>0</td>\n",
       "      <td>0</td>\n",
       "      <td>0</td>\n",
       "    </tr>\n",
       "    <tr>\n",
       "      <th>3</th>\n",
       "      <td>4</td>\n",
       "      <td>A finite element approximation for the stochas...</td>\n",
       "      <td>The stochastic Landau--Lifshitz--Gilbert (LL...</td>\n",
       "      <td>0</td>\n",
       "      <td>0</td>\n",
       "      <td>1</td>\n",
       "      <td>0</td>\n",
       "      <td>0</td>\n",
       "      <td>0</td>\n",
       "    </tr>\n",
       "    <tr>\n",
       "      <th>4</th>\n",
       "      <td>5</td>\n",
       "      <td>Comparative study of Discrete Wavelet Transfor...</td>\n",
       "      <td>Fourier-transform infra-red (FTIR) spectra o...</td>\n",
       "      <td>1</td>\n",
       "      <td>0</td>\n",
       "      <td>0</td>\n",
       "      <td>1</td>\n",
       "      <td>0</td>\n",
       "      <td>0</td>\n",
       "    </tr>\n",
       "  </tbody>\n",
       "</table>\n",
       "</div>"
      ],
      "text/plain": [
       "   ID                                              TITLE  \\\n",
       "0   1        Reconstructing Subject-Specific Effect Maps   \n",
       "1   2                 Rotation Invariance Neural Network   \n",
       "2   3  Spherical polyharmonics and Poisson kernels fo...   \n",
       "3   4  A finite element approximation for the stochas...   \n",
       "4   5  Comparative study of Discrete Wavelet Transfor...   \n",
       "\n",
       "                                            ABSTRACT  Computer Science  \\\n",
       "0    Predictive models allow subject-specific inf...                 1   \n",
       "1    Rotation invariance and translation invarian...                 1   \n",
       "2    We introduce and develop the notion of spher...                 0   \n",
       "3    The stochastic Landau--Lifshitz--Gilbert (LL...                 0   \n",
       "4    Fourier-transform infra-red (FTIR) spectra o...                 1   \n",
       "\n",
       "   Physics  Mathematics  Statistics  Quantitative Biology  \\\n",
       "0        0            0           0                     0   \n",
       "1        0            0           0                     0   \n",
       "2        0            1           0                     0   \n",
       "3        0            1           0                     0   \n",
       "4        0            0           1                     0   \n",
       "\n",
       "   Quantitative Finance  \n",
       "0                     0  \n",
       "1                     0  \n",
       "2                     0  \n",
       "3                     0  \n",
       "4                     0  "
      ]
     },
     "execution_count": 6,
     "metadata": {},
     "output_type": "execute_result"
    }
   ],
   "source": [
    "print(train_data.shape)\n",
    "train_data.head()"
   ]
  },
  {
   "cell_type": "code",
   "execution_count": 7,
   "metadata": {
    "execution": {
     "iopub.execute_input": "2020-08-24T01:51:36.523639Z",
     "iopub.status.busy": "2020-08-24T01:51:36.522728Z",
     "iopub.status.idle": "2020-08-24T01:51:36.528718Z",
     "shell.execute_reply": "2020-08-24T01:51:36.529451Z"
    },
    "papermill": {
     "duration": 0.077723,
     "end_time": "2020-08-24T01:51:36.529611",
     "exception": false,
     "start_time": "2020-08-24T01:51:36.451888",
     "status": "completed"
    },
    "tags": []
   },
   "outputs": [
    {
     "name": "stdout",
     "output_type": "stream",
     "text": [
      "(8989, 3)\n"
     ]
    },
    {
     "data": {
      "text/html": [
       "<div>\n",
       "<style scoped>\n",
       "    .dataframe tbody tr th:only-of-type {\n",
       "        vertical-align: middle;\n",
       "    }\n",
       "\n",
       "    .dataframe tbody tr th {\n",
       "        vertical-align: top;\n",
       "    }\n",
       "\n",
       "    .dataframe thead th {\n",
       "        text-align: right;\n",
       "    }\n",
       "</style>\n",
       "<table border=\"1\" class=\"dataframe\">\n",
       "  <thead>\n",
       "    <tr style=\"text-align: right;\">\n",
       "      <th></th>\n",
       "      <th>ID</th>\n",
       "      <th>TITLE</th>\n",
       "      <th>ABSTRACT</th>\n",
       "    </tr>\n",
       "  </thead>\n",
       "  <tbody>\n",
       "    <tr>\n",
       "      <th>0</th>\n",
       "      <td>20973</td>\n",
       "      <td>Closed-form Marginal Likelihood in Gamma-Poiss...</td>\n",
       "      <td>We present novel understandings of the Gamma...</td>\n",
       "    </tr>\n",
       "    <tr>\n",
       "      <th>1</th>\n",
       "      <td>20974</td>\n",
       "      <td>Laboratory mid-IR spectra of equilibrated and ...</td>\n",
       "      <td>Meteorites contain minerals from Solar Syste...</td>\n",
       "    </tr>\n",
       "    <tr>\n",
       "      <th>2</th>\n",
       "      <td>20975</td>\n",
       "      <td>Case For Static AMSDU Aggregation in WLANs</td>\n",
       "      <td>Frame aggregation is a mechanism by which mu...</td>\n",
       "    </tr>\n",
       "    <tr>\n",
       "      <th>3</th>\n",
       "      <td>20976</td>\n",
       "      <td>The $Gaia$-ESO Survey: the inner disk intermed...</td>\n",
       "      <td>Milky Way open clusters are very diverse in ...</td>\n",
       "    </tr>\n",
       "    <tr>\n",
       "      <th>4</th>\n",
       "      <td>20977</td>\n",
       "      <td>Witness-Functions versus Interpretation-Functi...</td>\n",
       "      <td>Proving that a cryptographic protocol is cor...</td>\n",
       "    </tr>\n",
       "  </tbody>\n",
       "</table>\n",
       "</div>"
      ],
      "text/plain": [
       "      ID                                              TITLE  \\\n",
       "0  20973  Closed-form Marginal Likelihood in Gamma-Poiss...   \n",
       "1  20974  Laboratory mid-IR spectra of equilibrated and ...   \n",
       "2  20975         Case For Static AMSDU Aggregation in WLANs   \n",
       "3  20976  The $Gaia$-ESO Survey: the inner disk intermed...   \n",
       "4  20977  Witness-Functions versus Interpretation-Functi...   \n",
       "\n",
       "                                            ABSTRACT  \n",
       "0    We present novel understandings of the Gamma...  \n",
       "1    Meteorites contain minerals from Solar Syste...  \n",
       "2    Frame aggregation is a mechanism by which mu...  \n",
       "3    Milky Way open clusters are very diverse in ...  \n",
       "4    Proving that a cryptographic protocol is cor...  "
      ]
     },
     "execution_count": 7,
     "metadata": {},
     "output_type": "execute_result"
    }
   ],
   "source": [
    "print(test_data.shape)\n",
    "test_data.head()"
   ]
  },
  {
   "cell_type": "code",
   "execution_count": 8,
   "metadata": {
    "execution": {
     "iopub.execute_input": "2020-08-24T01:51:36.661991Z",
     "iopub.status.busy": "2020-08-24T01:51:36.661116Z",
     "iopub.status.idle": "2020-08-24T01:51:36.719064Z",
     "shell.execute_reply": "2020-08-24T01:51:36.718444Z"
    },
    "papermill": {
     "duration": 0.12665,
     "end_time": "2020-08-24T01:51:36.719188",
     "exception": false,
     "start_time": "2020-08-24T01:51:36.592538",
     "status": "completed"
    },
    "tags": []
   },
   "outputs": [],
   "source": [
    "train_data['combined_text'] = train_data['TITLE'] + \" <join> \" + train_data['ABSTRACT']\n",
    "test_data['combined_text'] = test_data['TITLE'] + \" <join> \" + test_data['ABSTRACT']"
   ]
  },
  {
   "cell_type": "code",
   "execution_count": 9,
   "metadata": {
    "execution": {
     "iopub.execute_input": "2020-08-24T01:51:36.860149Z",
     "iopub.status.busy": "2020-08-24T01:51:36.859222Z",
     "iopub.status.idle": "2020-08-24T01:51:36.862466Z",
     "shell.execute_reply": "2020-08-24T01:51:36.861904Z"
    },
    "papermill": {
     "duration": 0.077187,
     "end_time": "2020-08-24T01:51:36.862572",
     "exception": false,
     "start_time": "2020-08-24T01:51:36.785385",
     "status": "completed"
    },
    "tags": []
   },
   "outputs": [],
   "source": [
    "topics = ['Computer Science','Physics','Mathematics', 'Statistics','Quantitative Biology','Quantitative Finance']"
   ]
  },
  {
   "cell_type": "code",
   "execution_count": 10,
   "metadata": {
    "execution": {
     "iopub.execute_input": "2020-08-24T01:51:36.999931Z",
     "iopub.status.busy": "2020-08-24T01:51:36.999145Z",
     "iopub.status.idle": "2020-08-24T01:51:37.222190Z",
     "shell.execute_reply": "2020-08-24T01:51:37.222714Z"
    },
    "papermill": {
     "duration": 0.297155,
     "end_time": "2020-08-24T01:51:37.222856",
     "exception": false,
     "start_time": "2020-08-24T01:51:36.925701",
     "status": "completed"
    },
    "tags": []
   },
   "outputs": [
    {
     "data": {
      "image/png": "[encoded data removed]",
      "text/plain": [
       "<Figure size 864x864 with 1 Axes>"
      ]
     },
     "metadata": {
      "needs_background": "light"
     },
     "output_type": "display_data"
    }
   ],
   "source": [
    "com_sc = train_data['Computer Science'].value_counts()[1]\n",
    "phy = train_data['Physics'].value_counts()[1]\n",
    "mat = train_data['Mathematics'].value_counts()[1]\n",
    "stats = train_data['Statistics'].value_counts()[1]\n",
    "bio = train_data['Quantitative Biology'].value_counts()[1]\n",
    "fin = train_data['Quantitative Finance'].value_counts()[1]\n",
    "\n",
    "fig = plt.figure()\n",
    "ax = fig.add_axes([0,0,1,1])\n",
    "counts = [com_sc,phy,mat,stats,bio,fin]\n",
    "ax.bar(topics,counts)\n",
    "plt.show()"
   ]
  },
  {
   "cell_type": "code",
   "execution_count": 11,
   "metadata": {
    "execution": {
     "iopub.execute_input": "2020-08-24T01:51:37.400693Z",
     "iopub.status.busy": "2020-08-24T01:51:37.390502Z",
     "iopub.status.idle": "2020-08-24T01:51:37.716412Z",
     "shell.execute_reply": "2020-08-24T01:51:37.716897Z"
    },
    "papermill": {
     "duration": 0.428115,
     "end_time": "2020-08-24T01:51:37.717068",
     "exception": false,
     "start_time": "2020-08-24T01:51:37.288953",
     "status": "completed"
    },
    "tags": []
   },
   "outputs": [
    {
     "data": {
      "text/plain": [
       "<matplotlib.axes._subplots.AxesSubplot at 0x7fa9a59b59d0>"
      ]
     },
     "execution_count": 11,
     "metadata": {},
     "output_type": "execute_result"
    },
    {
     "data": {
      "image/png": "[encoded data removed]",
      "text/plain": [
       "<Figure size 864x864 with 1 Axes>"
      ]
     },
     "metadata": {
      "needs_background": "light"
     },
     "output_type": "display_data"
    }
   ],
   "source": [
    "train_data['length'] = train_data['combined_text'].apply(lambda x : x.count(\" \") + 1)\n",
    "sns.distplot(train_data['length'])"
   ]
  },
  {
   "cell_type": "code",
   "execution_count": 12,
   "metadata": {
    "execution": {
     "iopub.execute_input": "2020-08-24T01:51:37.865363Z",
     "iopub.status.busy": "2020-08-24T01:51:37.864410Z",
     "iopub.status.idle": "2020-08-24T01:51:57.723877Z",
     "shell.execute_reply": "2020-08-24T01:51:57.723337Z"
    },
    "papermill": {
     "duration": 19.933421,
     "end_time": "2020-08-24T01:51:57.724000",
     "exception": false,
     "start_time": "2020-08-24T01:51:37.790579",
     "status": "completed"
    },
    "tags": []
   },
   "outputs": [
    {
     "data": {
      "application/vnd.jupyter.widget-view+json": {
       "model_id": "ae1a8103fbde42809b044c517ee01088",
       "version_major": 2,
       "version_minor": 0
      },
      "text/plain": [
       "HBox(children=(FloatProgress(value=0.0, description='Downloading', max=385.0, style=ProgressStyle(description_…"
      ]
     },
     "metadata": {},
     "output_type": "display_data"
    },
    {
     "name": "stdout",
     "output_type": "stream",
     "text": [
      "\n"
     ]
    },
    {
     "data": {
      "application/vnd.jupyter.widget-view+json": {
       "model_id": "8c329c74cb3a4fe185ee69e959b1bc8d",
       "version_major": 2,
       "version_minor": 0
      },
      "text/plain": [
       "HBox(children=(FloatProgress(value=0.0, description='Downloading', max=227845.0, style=ProgressStyle(descripti…"
      ]
     },
     "metadata": {},
     "output_type": "display_data"
    },
    {
     "name": "stdout",
     "output_type": "stream",
     "text": [
      "\n"
     ]
    },
    {
     "data": {
      "application/vnd.jupyter.widget-view+json": {
       "model_id": "fc9bcb9b323f4fafa806067704b60c61",
       "version_major": 2,
       "version_minor": 0
      },
      "text/plain": [
       "HBox(children=(FloatProgress(value=0.0, description='Downloading', max=442221694.0, style=ProgressStyle(descri…"
      ]
     },
     "metadata": {},
     "output_type": "display_data"
    },
    {
     "name": "stdout",
     "output_type": "stream",
     "text": [
      "\n"
     ]
    }
   ],
   "source": [
    "SciBertTokenizer = AutoTokenizer.from_pretrained('allenai/scibert_scivocab_uncased')\n",
    "\n",
    "SciBertModel = AutoModel.from_pretrained('allenai/scibert_scivocab_uncased')"
   ]
  },
  {
   "cell_type": "code",
   "execution_count": 13,
   "metadata": {
    "execution": {
     "iopub.execute_input": "2020-08-24T01:51:57.868749Z",
     "iopub.status.busy": "2020-08-24T01:51:57.867349Z",
     "iopub.status.idle": "2020-08-24T01:51:57.870280Z",
     "shell.execute_reply": "2020-08-24T01:51:57.870812Z"
    },
    "papermill": {
     "duration": 0.078318,
     "end_time": "2020-08-24T01:51:57.870966",
     "exception": false,
     "start_time": "2020-08-24T01:51:57.792648",
     "status": "completed"
    },
    "tags": []
   },
   "outputs": [],
   "source": [
    "MODEL_CLASSES = {'scibert' : (SciBertModel, SciBertTokenizer, PretrainedConfig.from_json_file('./scibert_scivocab_uncased/config.json'))}"
   ]
  },
  {
   "cell_type": "code",
   "execution_count": 14,
   "metadata": {
    "execution": {
     "iopub.execute_input": "2020-08-24T01:51:58.017717Z",
     "iopub.status.busy": "2020-08-24T01:51:58.016975Z",
     "iopub.status.idle": "2020-08-24T01:51:58.021689Z",
     "shell.execute_reply": "2020-08-24T01:51:58.021037Z"
    },
    "papermill": {
     "duration": 0.079456,
     "end_time": "2020-08-24T01:51:58.021801",
     "exception": false,
     "start_time": "2020-08-24T01:51:57.942345",
     "status": "completed"
    },
    "tags": []
   },
   "outputs": [],
   "source": [
    "# Parameters\n",
    "\n",
    "seed = 42\n",
    "\n",
    "use_fp16 = False\n",
    "\n",
    "bs = 16\n",
    "\n",
    "threshold = 0.4\n",
    "\n",
    "MAX_LEN = 320\n",
    "\n",
    "model_type = 'scibert'\n",
    "\n",
    "pretrained_model_name = 'allenai/scibert_scivocab_uncased'"
   ]
  },
  {
   "cell_type": "code",
   "execution_count": 15,
   "metadata": {
    "execution": {
     "iopub.execute_input": "2020-08-24T01:51:58.170492Z",
     "iopub.status.busy": "2020-08-24T01:51:58.168518Z",
     "iopub.status.idle": "2020-08-24T01:51:58.171460Z",
     "shell.execute_reply": "2020-08-24T01:51:58.172002Z"
    },
    "papermill": {
     "duration": 0.07778,
     "end_time": "2020-08-24T01:51:58.172151",
     "exception": false,
     "start_time": "2020-08-24T01:51:58.094371",
     "status": "completed"
    },
    "tags": []
   },
   "outputs": [],
   "source": [
    "model_class, tokenizer_class, config_class = MODEL_CLASSES[model_type]"
   ]
  },
  {
   "cell_type": "code",
   "execution_count": 16,
   "metadata": {
    "execution": {
     "iopub.execute_input": "2020-08-24T01:51:58.337860Z",
     "iopub.status.busy": "2020-08-24T01:51:58.335848Z",
     "iopub.status.idle": "2020-08-24T01:51:58.338713Z",
     "shell.execute_reply": "2020-08-24T01:51:58.339326Z"
    },
    "papermill": {
     "duration": 0.093305,
     "end_time": "2020-08-24T01:51:58.339476",
     "exception": false,
     "start_time": "2020-08-24T01:51:58.246171",
     "status": "completed"
    },
    "tags": []
   },
   "outputs": [],
   "source": [
    "def seed_all(seed_value):\n",
    "    \n",
    "    random.seed(seed_value) # Python\n",
    "    \n",
    "    np.random.seed(seed_value) # cpu vars\n",
    "    \n",
    "    torch.manual_seed(seed_value) # cpu  vars\n",
    "    \n",
    "    if torch.cuda.is_available(): \n",
    "        \n",
    "        torch.cuda.manual_seed(seed_value)\n",
    "        \n",
    "        torch.cuda.manual_seed_all(seed_value) # gpu vars\n",
    "        \n",
    "        torch.backends.cudnn.deterministic = True  #needed\n",
    "        \n",
    "        torch.backends.cudnn.benchmark = False"
   ]
  },
  {
   "cell_type": "code",
   "execution_count": 17,
   "metadata": {
    "execution": {
     "iopub.execute_input": "2020-08-24T01:51:58.500054Z",
     "iopub.status.busy": "2020-08-24T01:51:58.499048Z",
     "iopub.status.idle": "2020-08-24T01:51:58.506833Z",
     "shell.execute_reply": "2020-08-24T01:51:58.506138Z"
    },
    "papermill": {
     "duration": 0.090286,
     "end_time": "2020-08-24T01:51:58.506974",
     "exception": false,
     "start_time": "2020-08-24T01:51:58.416688",
     "status": "completed"
    },
    "tags": []
   },
   "outputs": [],
   "source": [
    "seed_all(seed)"
   ]
  },
  {
   "cell_type": "code",
   "execution_count": 18,
   "metadata": {
    "execution": {
     "iopub.execute_input": "2020-08-24T01:51:58.724544Z",
     "iopub.status.busy": "2020-08-24T01:51:58.723553Z",
     "iopub.status.idle": "2020-08-24T01:51:58.728399Z",
     "shell.execute_reply": "2020-08-24T01:51:58.729333Z"
    },
    "papermill": {
     "duration": 0.121727,
     "end_time": "2020-08-24T01:51:58.729580",
     "exception": false,
     "start_time": "2020-08-24T01:51:58.607853",
     "status": "completed"
    },
    "tags": []
   },
   "outputs": [],
   "source": [
    "class TransformersBaseTokenizer(BaseTokenizer):\n",
    "    \n",
    "    \"\"\"Wrapper around PreTrainedTokenizer to be compatible with fast.ai\"\"\"\n",
    "    \n",
    "    def __init__(self, pretrained_tokenizer: PreTrainedTokenizer, model_type = 'bert', max_len = MAX_LEN,**kwargs):\n",
    "        \n",
    "        self._pretrained_tokenizer = pretrained_tokenizer\n",
    "        \n",
    "        self.max_seq_len = max_len\n",
    "        \n",
    "        self.model_type = model_type\n",
    "\n",
    "    def __call__(self, *args, **kwargs): \n",
    "        \n",
    "        return self\n",
    "\n",
    "    def tokenizer(self, t:str) -> List[str]:\n",
    "        \n",
    "        \"\"\"Limits the maximum sequence length and add the special tokens\"\"\"\n",
    "        \n",
    "        CLS = self._pretrained_tokenizer.cls_token\n",
    "        \n",
    "        SEP = self._pretrained_tokenizer.sep_token\n",
    "        \n",
    "        tokens = self._pretrained_tokenizer.tokenize(t)[:self.max_seq_len - 2]\n",
    "        \n",
    "        tokens = [CLS] + tokens + [SEP]\n",
    "        \n",
    "        return tokens"
   ]
  },
  {
   "cell_type": "code",
   "execution_count": 19,
   "metadata": {
    "execution": {
     "iopub.execute_input": "2020-08-24T01:51:58.947404Z",
     "iopub.status.busy": "2020-08-24T01:51:58.946422Z",
     "iopub.status.idle": "2020-08-24T01:51:59.826248Z",
     "shell.execute_reply": "2020-08-24T01:51:59.825534Z"
    },
    "papermill": {
     "duration": 0.993659,
     "end_time": "2020-08-24T01:51:59.826375",
     "exception": false,
     "start_time": "2020-08-24T01:51:58.832716",
     "status": "completed"
    },
    "tags": []
   },
   "outputs": [],
   "source": [
    "transformer_tokenizer = tokenizer_class.from_pretrained(pretrained_model_name)\n",
    "\n",
    "transformer_base_tokenizer = TransformersBaseTokenizer(pretrained_tokenizer = transformer_tokenizer, model_type = model_type)\n",
    "\n",
    "fastai_tokenizer = Tokenizer(tok_func = transformer_base_tokenizer, pre_rules=[], post_rules=[])"
   ]
  },
  {
   "cell_type": "code",
   "execution_count": 20,
   "metadata": {
    "execution": {
     "iopub.execute_input": "2020-08-24T01:52:00.006725Z",
     "iopub.status.busy": "2020-08-24T01:52:00.005789Z",
     "iopub.status.idle": "2020-08-24T01:52:00.009281Z",
     "shell.execute_reply": "2020-08-24T01:52:00.008502Z"
    },
    "papermill": {
     "duration": 0.096523,
     "end_time": "2020-08-24T01:52:00.009405",
     "exception": false,
     "start_time": "2020-08-24T01:51:59.912882",
     "status": "completed"
    },
    "tags": []
   },
   "outputs": [],
   "source": [
    "class TransformersVocab(Vocab):\n",
    "    \n",
    "    def __init__(self, tokenizer: PreTrainedTokenizer):\n",
    "        \n",
    "        super(TransformersVocab, self).__init__(itos = [])\n",
    "        \n",
    "        self.tokenizer = tokenizer\n",
    "    \n",
    "    def numericalize(self, t:Collection[str]) -> List[int]:\n",
    "        \n",
    "        \"Convert a list of tokens `t` to their ids.\"\n",
    "        \n",
    "        return self.tokenizer.convert_tokens_to_ids(t)\n",
    "\n",
    "    def textify(self, nums:Collection[int], sep=' ') -> List[str]:\n",
    "        \n",
    "        \"Convert a list of `nums` to their tokens.\"\n",
    "        \n",
    "        nums = np.array(nums).tolist()\n",
    "        \n",
    "        return sep.join(self.tokenizer.convert_ids_to_tokens(nums)) if sep is not None else self.tokenizer.convert_ids_to_tokens(nums)\n",
    "    \n",
    "    def __getstate__(self):\n",
    "        \n",
    "        return {'itos':self.itos, 'tokenizer':self.tokenizer}\n",
    "\n",
    "    def __setstate__(self, state:dict):\n",
    "        \n",
    "        self.itos = state['itos']\n",
    "        \n",
    "        self.tokenizer = state['tokenizer']\n",
    "        \n",
    "        self.stoi = collections.defaultdict(int,{v:k for k,v in enumerate(self.itos)})"
   ]
  },
  {
   "cell_type": "code",
   "execution_count": 21,
   "metadata": {
    "execution": {
     "iopub.execute_input": "2020-08-24T01:52:00.218207Z",
     "iopub.status.busy": "2020-08-24T01:52:00.217092Z",
     "iopub.status.idle": "2020-08-24T01:52:00.224475Z",
     "shell.execute_reply": "2020-08-24T01:52:00.223497Z"
    },
    "papermill": {
     "duration": 0.136028,
     "end_time": "2020-08-24T01:52:00.224684",
     "exception": false,
     "start_time": "2020-08-24T01:52:00.088656",
     "status": "completed"
    },
    "tags": []
   },
   "outputs": [],
   "source": [
    "transformer_vocab =  TransformersVocab(tokenizer = transformer_tokenizer)\n",
    "\n",
    "numericalize_processor = NumericalizeProcessor(vocab=transformer_vocab)\n",
    "\n",
    "tokenize_processor = TokenizeProcessor(tokenizer=fastai_tokenizer, include_bos=False, include_eos=False)\n",
    "\n",
    "transformer_processor = [tokenize_processor, numericalize_processor]"
   ]
  },
  {
   "cell_type": "code",
   "execution_count": 22,
   "metadata": {
    "execution": {
     "iopub.execute_input": "2020-08-24T01:52:00.472855Z",
     "iopub.status.busy": "2020-08-24T01:52:00.471676Z",
     "iopub.status.idle": "2020-08-24T01:52:00.475751Z",
     "shell.execute_reply": "2020-08-24T01:52:00.474846Z"
    },
    "papermill": {
     "duration": 0.133801,
     "end_time": "2020-08-24T01:52:00.475926",
     "exception": false,
     "start_time": "2020-08-24T01:52:00.342125",
     "status": "completed"
    },
    "tags": []
   },
   "outputs": [],
   "source": [
    "pad_first = False\n",
    "\n",
    "pad_idx = transformer_tokenizer.pad_token_id"
   ]
  },
  {
   "cell_type": "code",
   "execution_count": 23,
   "metadata": {
    "execution": {
     "iopub.execute_input": "2020-08-24T01:52:00.721531Z",
     "iopub.status.busy": "2020-08-24T01:52:00.720414Z",
     "iopub.status.idle": "2020-08-24T01:55:16.458355Z",
     "shell.execute_reply": "2020-08-24T01:55:16.457661Z"
    },
    "papermill": {
     "duration": 195.861653,
     "end_time": "2020-08-24T01:55:16.458495",
     "exception": false,
     "start_time": "2020-08-24T01:52:00.596842",
     "status": "completed"
    },
    "tags": []
   },
   "outputs": [
    {
     "data": {
      "text/html": [],
      "text/plain": [
       "<IPython.core.display.HTML object>"
      ]
     },
     "metadata": {},
     "output_type": "display_data"
    },
    {
     "data": {
      "text/html": [],
      "text/plain": [
       "<IPython.core.display.HTML object>"
      ]
     },
     "metadata": {},
     "output_type": "display_data"
    },
    {
     "data": {
      "text/html": [],
      "text/plain": [
       "<IPython.core.display.HTML object>"
      ]
     },
     "metadata": {},
     "output_type": "display_data"
    }
   ],
   "source": [
    "data_classifier = (TextList.from_df(train_data, cols='combined_text', processor=transformer_processor)\n",
    "                         .split_by_rand_pct(0.3,seed=seed)\n",
    "                         .label_from_df(cols= topics)\n",
    "                         .add_test(test_data)\n",
    "                         .databunch(bs=bs, pad_first=pad_first, pad_idx=pad_idx))"
   ]
  },
  {
   "cell_type": "code",
   "execution_count": 24,
   "metadata": {
    "execution": {
     "iopub.execute_input": "2020-08-24T01:55:16.603102Z",
     "iopub.status.busy": "2020-08-24T01:55:16.602144Z",
     "iopub.status.idle": "2020-08-24T01:55:17.951270Z",
     "shell.execute_reply": "2020-08-24T01:55:17.950211Z"
    },
    "papermill": {
     "duration": 1.423058,
     "end_time": "2020-08-24T01:55:17.951395",
     "exception": false,
     "start_time": "2020-08-24T01:55:16.528337",
     "status": "completed"
    },
    "tags": []
   },
   "outputs": [],
   "source": [
    "data_classifier.save('data_classifier.pkl')"
   ]
  },
  {
   "cell_type": "code",
   "execution_count": 25,
   "metadata": {
    "execution": {
     "iopub.execute_input": "2020-08-24T01:55:18.125648Z",
     "iopub.status.busy": "2020-08-24T01:55:18.121125Z",
     "iopub.status.idle": "2020-08-24T01:55:23.704133Z",
     "shell.execute_reply": "2020-08-24T01:55:23.703324Z"
    },
    "papermill": {
     "duration": 5.681784,
     "end_time": "2020-08-24T01:55:23.704250",
     "exception": false,
     "start_time": "2020-08-24T01:55:18.022466",
     "status": "completed"
    },
    "tags": []
   },
   "outputs": [],
   "source": [
    "data_classifier = load_data('','data_classifier.pkl',bs=bs)"
   ]
  },
  {
   "cell_type": "code",
   "execution_count": 26,
   "metadata": {
    "execution": {
     "iopub.execute_input": "2020-08-24T01:55:23.856242Z",
     "iopub.status.busy": "2020-08-24T01:55:23.855286Z",
     "iopub.status.idle": "2020-08-24T01:55:36.643241Z",
     "shell.execute_reply": "2020-08-24T01:55:36.643751Z"
    },
    "papermill": {
     "duration": 12.868067,
     "end_time": "2020-08-24T01:55:36.643899",
     "exception": false,
     "start_time": "2020-08-24T01:55:23.775832",
     "status": "completed"
    },
    "tags": []
   },
   "outputs": [
    {
     "name": "stdout",
     "output_type": "stream",
     "text": [
      "[CLS] token : [CLS]\n",
      "[SEP] token : [SEP]\n",
      "[PAD] token : [PAD]\n"
     ]
    },
    {
     "data": {
      "text/html": [
       "<table border=\"1\" class=\"dataframe\">\n",
       "  <thead>\n",
       "    <tr style=\"text-align: right;\">\n",
       "      <th>text</th>\n",
       "      <th>target</th>\n",
       "    </tr>\n",
       "  </thead>\n",
       "  <tbody>\n",
       "    <tr>\n",
       "      <td>[CLS] prediction of stable ground - state lithium poly ##hydr ##ides under high pressures &lt; join &gt; hydrogen - rich compounds are important for understanding the dissociation of dense molecular hydrogen , as well as searching for room temperature bar ##de ##en - cooper - schr ##ief ##fer ( bcs ) superconduc ##tors . a recent high pressure experiment reported the successful synthesis of novel ins ##ulating lithium poly ##hydr</td>\n",
       "      <td>Physics</td>\n",
       "    </tr>\n",
       "    <tr>\n",
       "      <td>[CLS] neural networks as interacting particle systems : asymptotic convexity of the loss landscape and universal scaling of the approximation error &lt; join &gt; neural networks , a central tool in machine learning , have demonstrated remarkable , high fidelity performance on image recognition and classification tasks . these success ##es ev ##inc ##e an ability to accurately represent high dimensional functions , potentially of great use in computational and</td>\n",
       "      <td>Statistics</td>\n",
       "    </tr>\n",
       "    <tr>\n",
       "      <td>[CLS] intrinsically sparse long short - term memory networks &lt; join &gt; long short - term memory ( ls ##tm ) has achieved state - of - the - art performances on a wide range of tasks . its outstanding performance is guaranteed by the long - term memory ability which matches the sequential data perfectly and the gating structure controlling the information flow . however , ls ##tm ##s</td>\n",
       "      <td>Computer Science</td>\n",
       "    </tr>\n",
       "    <tr>\n",
       "      <td>[CLS] high - $ t _ \\ text ##rm { c } $ superconduc ##tivity in cs $ _ 3 $ c $ _ { 60 } $ compounds governed by local cs - c $ _ { 60 } $ coulomb interactions &lt; join &gt; unique among alkali - doped $ \\ text ##it { a } $ $ _ 3 $ c $ _ { 60 } $</td>\n",
       "      <td>Physics</td>\n",
       "    </tr>\n",
       "    <tr>\n",
       "      <td>[CLS] autonomous dro ##ne race : a computationally efficient vision - based navigation and control strategy &lt; join &gt; dro ##ne rac ##ing is becoming a popular sport where human pilot ##s have to control their dro ##nes to fly at high speed through complex environments and pass a number of gates in a pre - defined sequence . in this paper , we develop an autonomous system for dro</td>\n",
       "      <td>Computer Science</td>\n",
       "    </tr>\n",
       "  </tbody>\n",
       "</table>"
      ],
      "text/plain": [
       "<IPython.core.display.HTML object>"
      ]
     },
     "metadata": {},
     "output_type": "display_data"
    }
   ],
   "source": [
    "print('[CLS] token :', transformer_tokenizer.cls_token)\n",
    "\n",
    "print('[SEP] token :', transformer_tokenizer.sep_token)\n",
    "\n",
    "print('[PAD] token :', transformer_tokenizer.pad_token)\n",
    "\n",
    "data_classifier.show_batch()"
   ]
  },
  {
   "cell_type": "code",
   "execution_count": 27,
   "metadata": {
    "execution": {
     "iopub.execute_input": "2020-08-24T01:55:36.796924Z",
     "iopub.status.busy": "2020-08-24T01:55:36.795865Z",
     "iopub.status.idle": "2020-08-24T01:55:41.915810Z",
     "shell.execute_reply": "2020-08-24T01:55:41.916813Z"
    },
    "papermill": {
     "duration": 5.199744,
     "end_time": "2020-08-24T01:55:41.917161",
     "exception": false,
     "start_time": "2020-08-24T01:55:36.717417",
     "status": "completed"
    },
    "tags": []
   },
   "outputs": [
    {
     "name": "stdout",
     "output_type": "stream",
     "text": [
      "[CLS] id : 102\n",
      "[SEP] id : 103\n",
      "[PAD] id : 0\n",
      "Batch shape :  torch.Size([16, 320])\n",
      "tensor([[  102,   130,  2409,  ...,   165,   111,   103],\n",
      "        [  102,  1913,   954,  ...,  1045,   422,   103],\n",
      "        [  102,  3250,  2320,  ...,  7901, 11901,   103],\n",
      "        ...,\n",
      "        [  102,  3306,  4324,  ...,   111, 17987,   103],\n",
      "        [  102,   722,   499,  ...,   106,  1211,   103],\n",
      "        [  102,  3532,   131,  ...,   555,   188,   103]])\n"
     ]
    }
   ],
   "source": [
    "print('[CLS] id :', transformer_tokenizer.cls_token_id)\n",
    "\n",
    "print('[SEP] id :', transformer_tokenizer.sep_token_id)\n",
    "\n",
    "print('[PAD] id :', pad_idx)\n",
    "\n",
    "test_one_batch = data_classifier.one_batch()[0]\n",
    "\n",
    "print('Batch shape : ',test_one_batch.shape)\n",
    "\n",
    "print(test_one_batch)"
   ]
  },
  {
   "cell_type": "code",
   "execution_count": 28,
   "metadata": {
    "execution": {
     "iopub.execute_input": "2020-08-24T01:55:42.074532Z",
     "iopub.status.busy": "2020-08-24T01:55:42.073724Z",
     "iopub.status.idle": "2020-08-24T01:55:42.077273Z",
     "shell.execute_reply": "2020-08-24T01:55:42.077711Z"
    },
    "papermill": {
     "duration": 0.087414,
     "end_time": "2020-08-24T01:55:42.077845",
     "exception": false,
     "start_time": "2020-08-24T01:55:41.990431",
     "status": "completed"
    },
    "tags": []
   },
   "outputs": [],
   "source": [
    "# defining our model architecture \n",
    "\n",
    "class CustomTransformerModel(nn.Module):\n",
    "    \n",
    "    def __init__(self, transformer_model: PreTrainedModel):\n",
    "        \n",
    "        super(CustomTransformerModel,self).__init__()\n",
    "        \n",
    "        self.transformer = transformer_model\n",
    "        \n",
    "        self.classifier = nn.Sequential(#nn.Linear(in_features=768, out_features=768, bias=True),\n",
    "                                        #nn.Dropout(p=0.1, inplace=False),\n",
    "                                        nn.Linear(in_features=768, out_features=6, bias=True))\n",
    "        \n",
    "    def forward(self, input_ids, attention_mask=None):\n",
    "        \n",
    "   \n",
    "        outputs = self.transformer(input_ids,\n",
    "                                  attention_mask = attention_mask)\n",
    "        \n",
    "        pooled_output = outputs[1]\n",
    "        \n",
    "        logits = self.classifier(pooled_output)\n",
    "        \n",
    "        return logits"
   ]
  },
  {
   "cell_type": "code",
   "execution_count": 29,
   "metadata": {
    "execution": {
     "iopub.execute_input": "2020-08-24T01:55:42.230780Z",
     "iopub.status.busy": "2020-08-24T01:55:42.230114Z",
     "iopub.status.idle": "2020-08-24T01:55:42.444887Z",
     "shell.execute_reply": "2020-08-24T01:55:42.445381Z"
    },
    "papermill": {
     "duration": 0.295814,
     "end_time": "2020-08-24T01:55:42.445517",
     "exception": false,
     "start_time": "2020-08-24T01:55:42.149703",
     "status": "completed"
    },
    "tags": []
   },
   "outputs": [
    {
     "name": "stdout",
     "output_type": "stream",
     "text": [
      "PretrainedConfig {\n",
      "  \"attention_probs_dropout_prob\": 0.1,\n",
      "  \"hidden_act\": \"gelu\",\n",
      "  \"hidden_dropout_prob\": 0.1,\n",
      "  \"hidden_size\": 768,\n",
      "  \"id2label\": {\n",
      "    \"0\": \"LABEL_0\",\n",
      "    \"1\": \"LABEL_1\",\n",
      "    \"2\": \"LABEL_2\",\n",
      "    \"3\": \"LABEL_3\",\n",
      "    \"4\": \"LABEL_4\",\n",
      "    \"5\": \"LABEL_5\"\n",
      "  },\n",
      "  \"initializer_range\": 0.02,\n",
      "  \"intermediate_size\": 3072,\n",
      "  \"label2id\": {\n",
      "    \"LABEL_0\": 0,\n",
      "    \"LABEL_1\": 1,\n",
      "    \"LABEL_2\": 2,\n",
      "    \"LABEL_3\": 3,\n",
      "    \"LABEL_4\": 4,\n",
      "    \"LABEL_5\": 5\n",
      "  },\n",
      "  \"layer_norm_eps\": 1e-12,\n",
      "  \"max_position_embeddings\": 512,\n",
      "  \"num_attention_heads\": 12,\n",
      "  \"num_hidden_layers\": 12,\n",
      "  \"pad_token_id\": 0,\n",
      "  \"type_vocab_size\": 2,\n",
      "  \"vocab_size\": 31090\n",
      "}\n",
      "\n"
     ]
    }
   ],
   "source": [
    "config = config_class.from_pretrained(pretrained_model_name)\n",
    "\n",
    "config.num_labels = 6\n",
    "\n",
    "config.use_bfloat16 = use_fp16\n",
    "\n",
    "print(config)"
   ]
  },
  {
   "cell_type": "code",
   "execution_count": 30,
   "metadata": {
    "execution": {
     "iopub.execute_input": "2020-08-24T01:55:42.595957Z",
     "iopub.status.busy": "2020-08-24T01:55:42.595350Z",
     "iopub.status.idle": "2020-08-24T01:55:45.316950Z",
     "shell.execute_reply": "2020-08-24T01:55:45.316113Z"
    },
    "papermill": {
     "duration": 2.799219,
     "end_time": "2020-08-24T01:55:45.317087",
     "exception": false,
     "start_time": "2020-08-24T01:55:42.517868",
     "status": "completed"
    },
    "tags": []
   },
   "outputs": [],
   "source": [
    "transformer_model = model_class.from_pretrained(pretrained_model_name, config = config)\n",
    "\n",
    "custom_transformer_model = CustomTransformerModel(transformer_model = transformer_model)"
   ]
  },
  {
   "cell_type": "markdown",
   "execution_count": null,
   "metadata": {
    "papermill": {
     "duration": 0.072016,
     "end_time": "2020-08-24T01:55:45.462004",
     "exception": false,
     "start_time": "2020-08-24T01:55:45.389988",
     "status": "completed"
    },
    "tags": []
   },
   "source": [
    "## Learner : Custom Metric"
   ]
  },
  {
   "cell_type": "code",
   "execution_count": 31,
   "metadata": {
    "execution": {
     "iopub.execute_input": "2020-08-24T01:55:45.624243Z",
     "iopub.status.busy": "2020-08-24T01:55:45.623479Z",
     "iopub.status.idle": "2020-08-24T01:55:45.626446Z",
     "shell.execute_reply": "2020-08-24T01:55:45.626921Z"
    },
    "papermill": {
     "duration": 0.091321,
     "end_time": "2020-08-24T01:55:45.627089",
     "exception": false,
     "start_time": "2020-08-24T01:55:45.535768",
     "status": "completed"
    },
    "tags": []
   },
   "outputs": [],
   "source": [
    "class MicroF1(Callback):\n",
    "\n",
    "    _order = -20 #is crucial - without it the custom columns will not be added - it tells the callback system to run this callback before the recorder system.\n",
    "\n",
    "    def __init__(self,learn,thresh,eps = 1e-15, sigmoid = True,**kwargs):\n",
    "        \n",
    "        self.learn = learn\n",
    "        \n",
    "        self.thresh = thresh\n",
    "        \n",
    "        self.eps = eps\n",
    "        \n",
    "        self.sigmoid = sigmoid\n",
    "\n",
    "    def on_train_begin(self, **kwargs): \n",
    "        \n",
    "        self.learn.recorder.add_metric_names(['MicroF1'])\n",
    "    \n",
    "    def on_epoch_begin(self, **kwargs):\n",
    "        \n",
    "        self.tp = 0\n",
    "        \n",
    "        self.total_pred = 0\n",
    "        \n",
    "        self.total_targ = 0\n",
    "    \n",
    "    def on_batch_end(self, last_output, last_target, **kwargs):\n",
    "        \n",
    "        pred, targ = ((last_output.sigmoid() if self.sigmoid else last_output) > self.thresh).byte(), last_target.byte()\n",
    "        \n",
    "        if torch.equal(torch.tensor(pred.shape),torch.tensor(targ.shape)):\n",
    "            \n",
    "            m = pred*targ\n",
    "            \n",
    "            self.tp += m.sum(0).float()\n",
    "            \n",
    "            self.total_pred += pred.sum(0).float()\n",
    "            \n",
    "            self.total_targ += targ.sum(0).float()\n",
    "    \n",
    "    def fbeta_score(self, precision, recall):\n",
    "        \n",
    "        return 2*(precision*recall)/((precision + recall) + self.eps)\n",
    "\n",
    "    def on_epoch_end(self, last_metrics, **kwargs):\n",
    "        \n",
    "        self.total_pred += self.eps\n",
    "        \n",
    "        self.total_targ += self.eps\n",
    "        \n",
    "        precision, recall = self.tp.sum() / self.total_pred.sum(), self.tp.sum() / self.total_targ.sum()\n",
    "        \n",
    "        res = self.fbeta_score(precision, recall)        \n",
    "        \n",
    "        return add_metrics(last_metrics, res)"
   ]
  },
  {
   "cell_type": "code",
   "execution_count": 32,
   "metadata": {
    "execution": {
     "iopub.execute_input": "2020-08-24T01:55:45.784981Z",
     "iopub.status.busy": "2020-08-24T01:55:45.783942Z",
     "iopub.status.idle": "2020-08-24T01:55:45.787605Z",
     "shell.execute_reply": "2020-08-24T01:55:45.788094Z"
    },
    "papermill": {
     "duration": 0.090791,
     "end_time": "2020-08-24T01:55:45.788229",
     "exception": false,
     "start_time": "2020-08-24T01:55:45.697438",
     "status": "completed"
    },
    "tags": []
   },
   "outputs": [],
   "source": [
    "class AUCROC(Callback):\n",
    "    \n",
    "    _order = -20 \n",
    "    \n",
    "    def __init__(self, learn, **kwargs): \n",
    "        \n",
    "        self.learn = learn\n",
    "        \n",
    "        self.output, self.target = [], []\n",
    "        \n",
    "    def on_train_begin(self, **kwargs): \n",
    "        \n",
    "        self.learn.recorder.add_metric_names(topics)\n",
    "        \n",
    "    def on_epoch_begin(self, **kwargs): \n",
    "        \n",
    "        self.output, self.target = [], []\n",
    "    \n",
    "    def on_batch_end(self, last_target, last_output, train, **kwargs):\n",
    "        \n",
    "        if not train:\n",
    "            \n",
    "            self.output.append(last_output)\n",
    "            \n",
    "            self.target.append(last_target)\n",
    "                \n",
    "    def on_epoch_end(self, last_metrics, **kwargs):\n",
    "        \n",
    "        if len(self.output) > 0:\n",
    "            \n",
    "            output = torch.cat(self.output)\n",
    "            \n",
    "            target = torch.cat(self.target)\n",
    "            \n",
    "            preds = F.softmax(output, dim=1)\n",
    "            \n",
    "            metric = []\n",
    "\n",
    "            for i in range(0,target.shape[1]):\n",
    "                \n",
    "                \n",
    "                metric.append(roc_auc_score(target.cpu().numpy()[...,i], preds[...,i].cpu().numpy(),average='macro'))\n",
    "            \n",
    "            return add_metrics(last_metrics, metric)\n",
    "        \n",
    "        else:\n",
    "            \n",
    "            return"
   ]
  },
  {
   "cell_type": "code",
   "execution_count": 33,
   "metadata": {
    "execution": {
     "iopub.execute_input": "2020-08-24T01:55:45.982695Z",
     "iopub.status.busy": "2020-08-24T01:55:45.981785Z",
     "iopub.status.idle": "2020-08-24T01:55:45.984618Z",
     "shell.execute_reply": "2020-08-24T01:55:45.984149Z"
    },
    "papermill": {
     "duration": 0.08251,
     "end_time": "2020-08-24T01:55:45.984728",
     "exception": false,
     "start_time": "2020-08-24T01:55:45.902218",
     "status": "completed"
    },
    "tags": []
   },
   "outputs": [],
   "source": [
    "microF1 = partial(MicroF1,thresh = threshold) #metric\n",
    "\n",
    "CustomAdamW = partial(AdamW, correct_bias=False) #optimizer"
   ]
  },
  {
   "cell_type": "code",
   "execution_count": 34,
   "metadata": {
    "execution": {
     "iopub.execute_input": "2020-08-24T01:55:46.138546Z",
     "iopub.status.busy": "2020-08-24T01:55:46.137254Z",
     "iopub.status.idle": "2020-08-24T01:55:46.280047Z",
     "shell.execute_reply": "2020-08-24T01:55:46.279454Z"
    },
    "papermill": {
     "duration": 0.223104,
     "end_time": "2020-08-24T01:55:46.280171",
     "exception": false,
     "start_time": "2020-08-24T01:55:46.057067",
     "status": "completed"
    },
    "tags": []
   },
   "outputs": [],
   "source": [
    "classifierModel = Learner(data_classifier, \n",
    "                  custom_transformer_model, \n",
    "                  opt_func = CustomAdamW, \n",
    "                  callback_fns = [microF1,AUCROC],\n",
    "                  loss_func = nn.BCEWithLogitsLoss()\n",
    "                 )\n",
    "\n",
    "# Show graph of learner stats and metrics after each epoch.\n",
    "classifierModel.callbacks.append(ShowGraph(classifierModel))"
   ]
  },
  {
   "cell_type": "code",
   "execution_count": 35,
   "metadata": {
    "execution": {
     "iopub.execute_input": "2020-08-24T01:55:46.432729Z",
     "iopub.status.busy": "2020-08-24T01:55:46.431658Z",
     "iopub.status.idle": "2020-08-24T01:55:46.439970Z",
     "shell.execute_reply": "2020-08-24T01:55:46.442932Z"
    },
    "papermill": {
     "duration": 0.089938,
     "end_time": "2020-08-24T01:55:46.443142",
     "exception": false,
     "start_time": "2020-08-24T01:55:46.353204",
     "status": "completed"
    },
    "tags": []
   },
   "outputs": [
    {
     "name": "stdout",
     "output_type": "stream",
     "text": [
      "CustomTransformerModel(\n",
      "  (transformer): BertModel(\n",
      "    (embeddings): BertEmbeddings(\n",
      "      (word_embeddings): Embedding(31090, 768, padding_idx=0)\n",
      "      (position_embeddings): Embedding(512, 768)\n",
      "      (token_type_embeddings): Embedding(2, 768)\n",
      "      (LayerNorm): LayerNorm((768,), eps=1e-12, elementwise_affine=True)\n",
      "      (dropout): Dropout(p=0.1, inplace=False)\n",
      "    )\n",
      "    (encoder): BertEncoder(\n",
      "      (layer): ModuleList(\n",
      "        (0): BertLayer(\n",
      "          (attention): BertAttention(\n",
      "            (self): BertSelfAttention(\n",
      "              (query): Linear(in_features=768, out_features=768, bias=True)\n",
      "              (key): Linear(in_features=768, out_features=768, bias=True)\n",
      "              (value): Linear(in_features=768, out_features=768, bias=True)\n",
      "              (dropout): Dropout(p=0.1, inplace=False)\n",
      "            )\n",
      "            (output): BertSelfOutput(\n",
      "              (dense): Linear(in_features=768, out_features=768, bias=True)\n",
      "              (LayerNorm): LayerNorm((768,), eps=1e-12, elementwise_affine=True)\n",
      "              (dropout): Dropout(p=0.1, inplace=False)\n",
      "            )\n",
      "          )\n",
      "          (intermediate): BertIntermediate(\n",
      "            (dense): Linear(in_features=768, out_features=3072, bias=True)\n",
      "          )\n",
      "          (output): BertOutput(\n",
      "            (dense): Linear(in_features=3072, out_features=768, bias=True)\n",
      "            (LayerNorm): LayerNorm((768,), eps=1e-12, elementwise_affine=True)\n",
      "            (dropout): Dropout(p=0.1, inplace=False)\n",
      "          )\n",
      "        )\n",
      "        (1): BertLayer(\n",
      "          (attention): BertAttention(\n",
      "            (self): BertSelfAttention(\n",
      "              (query): Linear(in_features=768, out_features=768, bias=True)\n",
      "              (key): Linear(in_features=768, out_features=768, bias=True)\n",
      "              (value): Linear(in_features=768, out_features=768, bias=True)\n",
      "              (dropout): Dropout(p=0.1, inplace=False)\n",
      "            )\n",
      "            (output): BertSelfOutput(\n",
      "              (dense): Linear(in_features=768, out_features=768, bias=True)\n",
      "              (LayerNorm): LayerNorm((768,), eps=1e-12, elementwise_affine=True)\n",
      "              (dropout): Dropout(p=0.1, inplace=False)\n",
      "            )\n",
      "          )\n",
      "          (intermediate): BertIntermediate(\n",
      "            (dense): Linear(in_features=768, out_features=3072, bias=True)\n",
      "          )\n",
      "          (output): BertOutput(\n",
      "            (dense): Linear(in_features=3072, out_features=768, bias=True)\n",
      "            (LayerNorm): LayerNorm((768,), eps=1e-12, elementwise_affine=True)\n",
      "            (dropout): Dropout(p=0.1, inplace=False)\n",
      "          )\n",
      "        )\n",
      "        (2): BertLayer(\n",
      "          (attention): BertAttention(\n",
      "            (self): BertSelfAttention(\n",
      "              (query): Linear(in_features=768, out_features=768, bias=True)\n",
      "              (key): Linear(in_features=768, out_features=768, bias=True)\n",
      "              (value): Linear(in_features=768, out_features=768, bias=True)\n",
      "              (dropout): Dropout(p=0.1, inplace=False)\n",
      "            )\n",
      "            (output): BertSelfOutput(\n",
      "              (dense): Linear(in_features=768, out_features=768, bias=True)\n",
      "              (LayerNorm): LayerNorm((768,), eps=1e-12, elementwise_affine=True)\n",
      "              (dropout): Dropout(p=0.1, inplace=False)\n",
      "            )\n",
      "          )\n",
      "          (intermediate): BertIntermediate(\n",
      "            (dense): Linear(in_features=768, out_features=3072, bias=True)\n",
      "          )\n",
      "          (output): BertOutput(\n",
      "            (dense): Linear(in_features=3072, out_features=768, bias=True)\n",
      "            (LayerNorm): LayerNorm((768,), eps=1e-12, elementwise_affine=True)\n",
      "            (dropout): Dropout(p=0.1, inplace=False)\n",
      "          )\n",
      "        )\n",
      "        (3): BertLayer(\n",
      "          (attention): BertAttention(\n",
      "            (self): BertSelfAttention(\n",
      "              (query): Linear(in_features=768, out_features=768, bias=True)\n",
      "              (key): Linear(in_features=768, out_features=768, bias=True)\n",
      "              (value): Linear(in_features=768, out_features=768, bias=True)\n",
      "              (dropout): Dropout(p=0.1, inplace=False)\n",
      "            )\n",
      "            (output): BertSelfOutput(\n",
      "              (dense): Linear(in_features=768, out_features=768, bias=True)\n",
      "              (LayerNorm): LayerNorm((768,), eps=1e-12, elementwise_affine=True)\n",
      "              (dropout): Dropout(p=0.1, inplace=False)\n",
      "            )\n",
      "          )\n",
      "          (intermediate): BertIntermediate(\n",
      "            (dense): Linear(in_features=768, out_features=3072, bias=True)\n",
      "          )\n",
      "          (output): BertOutput(\n",
      "            (dense): Linear(in_features=3072, out_features=768, bias=True)\n",
      "            (LayerNorm): LayerNorm((768,), eps=1e-12, elementwise_affine=True)\n",
      "            (dropout): Dropout(p=0.1, inplace=False)\n",
      "          )\n",
      "        )\n",
      "        (4): BertLayer(\n",
      "          (attention): BertAttention(\n",
      "            (self): BertSelfAttention(\n",
      "              (query): Linear(in_features=768, out_features=768, bias=True)\n",
      "              (key): Linear(in_features=768, out_features=768, bias=True)\n",
      "              (value): Linear(in_features=768, out_features=768, bias=True)\n",
      "              (dropout): Dropout(p=0.1, inplace=False)\n",
      "            )\n",
      "            (output): BertSelfOutput(\n",
      "              (dense): Linear(in_features=768, out_features=768, bias=True)\n",
      "              (LayerNorm): LayerNorm((768,), eps=1e-12, elementwise_affine=True)\n",
      "              (dropout): Dropout(p=0.1, inplace=False)\n",
      "            )\n",
      "          )\n",
      "          (intermediate): BertIntermediate(\n",
      "            (dense): Linear(in_features=768, out_features=3072, bias=True)\n",
      "          )\n",
      "          (output): BertOutput(\n",
      "            (dense): Linear(in_features=3072, out_features=768, bias=True)\n",
      "            (LayerNorm): LayerNorm((768,), eps=1e-12, elementwise_affine=True)\n",
      "            (dropout): Dropout(p=0.1, inplace=False)\n",
      "          )\n",
      "        )\n",
      "        (5): BertLayer(\n",
      "          (attention): BertAttention(\n",
      "            (self): BertSelfAttention(\n",
      "              (query): Linear(in_features=768, out_features=768, bias=True)\n",
      "              (key): Linear(in_features=768, out_features=768, bias=True)\n",
      "              (value): Linear(in_features=768, out_features=768, bias=True)\n",
      "              (dropout): Dropout(p=0.1, inplace=False)\n",
      "            )\n",
      "            (output): BertSelfOutput(\n",
      "              (dense): Linear(in_features=768, out_features=768, bias=True)\n",
      "              (LayerNorm): LayerNorm((768,), eps=1e-12, elementwise_affine=True)\n",
      "              (dropout): Dropout(p=0.1, inplace=False)\n",
      "            )\n",
      "          )\n",
      "          (intermediate): BertIntermediate(\n",
      "            (dense): Linear(in_features=768, out_features=3072, bias=True)\n",
      "          )\n",
      "          (output): BertOutput(\n",
      "            (dense): Linear(in_features=3072, out_features=768, bias=True)\n",
      "            (LayerNorm): LayerNorm((768,), eps=1e-12, elementwise_affine=True)\n",
      "            (dropout): Dropout(p=0.1, inplace=False)\n",
      "          )\n",
      "        )\n",
      "        (6): BertLayer(\n",
      "          (attention): BertAttention(\n",
      "            (self): BertSelfAttention(\n",
      "              (query): Linear(in_features=768, out_features=768, bias=True)\n",
      "              (key): Linear(in_features=768, out_features=768, bias=True)\n",
      "              (value): Linear(in_features=768, out_features=768, bias=True)\n",
      "              (dropout): Dropout(p=0.1, inplace=False)\n",
      "            )\n",
      "            (output): BertSelfOutput(\n",
      "              (dense): Linear(in_features=768, out_features=768, bias=True)\n",
      "              (LayerNorm): LayerNorm((768,), eps=1e-12, elementwise_affine=True)\n",
      "              (dropout): Dropout(p=0.1, inplace=False)\n",
      "            )\n",
      "          )\n",
      "          (intermediate): BertIntermediate(\n",
      "            (dense): Linear(in_features=768, out_features=3072, bias=True)\n",
      "          )\n",
      "          (output): BertOutput(\n",
      "            (dense): Linear(in_features=3072, out_features=768, bias=True)\n",
      "            (LayerNorm): LayerNorm((768,), eps=1e-12, elementwise_affine=True)\n",
      "            (dropout): Dropout(p=0.1, inplace=False)\n",
      "          )\n",
      "        )\n",
      "        (7): BertLayer(\n",
      "          (attention): BertAttention(\n",
      "            (self): BertSelfAttention(\n",
      "              (query): Linear(in_features=768, out_features=768, bias=True)\n",
      "              (key): Linear(in_features=768, out_features=768, bias=True)\n",
      "              (value): Linear(in_features=768, out_features=768, bias=True)\n",
      "              (dropout): Dropout(p=0.1, inplace=False)\n",
      "            )\n",
      "            (output): BertSelfOutput(\n",
      "              (dense): Linear(in_features=768, out_features=768, bias=True)\n",
      "              (LayerNorm): LayerNorm((768,), eps=1e-12, elementwise_affine=True)\n",
      "              (dropout): Dropout(p=0.1, inplace=False)\n",
      "            )\n",
      "          )\n",
      "          (intermediate): BertIntermediate(\n",
      "            (dense): Linear(in_features=768, out_features=3072, bias=True)\n",
      "          )\n",
      "          (output): BertOutput(\n",
      "            (dense): Linear(in_features=3072, out_features=768, bias=True)\n",
      "            (LayerNorm): LayerNorm((768,), eps=1e-12, elementwise_affine=True)\n",
      "            (dropout): Dropout(p=0.1, inplace=False)\n",
      "          )\n",
      "        )\n",
      "        (8): BertLayer(\n",
      "          (attention): BertAttention(\n",
      "            (self): BertSelfAttention(\n",
      "              (query): Linear(in_features=768, out_features=768, bias=True)\n",
      "              (key): Linear(in_features=768, out_features=768, bias=True)\n",
      "              (value): Linear(in_features=768, out_features=768, bias=True)\n",
      "              (dropout): Dropout(p=0.1, inplace=False)\n",
      "            )\n",
      "            (output): BertSelfOutput(\n",
      "              (dense): Linear(in_features=768, out_features=768, bias=True)\n",
      "              (LayerNorm): LayerNorm((768,), eps=1e-12, elementwise_affine=True)\n",
      "              (dropout): Dropout(p=0.1, inplace=False)\n",
      "            )\n",
      "          )\n",
      "          (intermediate): BertIntermediate(\n",
      "            (dense): Linear(in_features=768, out_features=3072, bias=True)\n",
      "          )\n",
      "          (output): BertOutput(\n",
      "            (dense): Linear(in_features=3072, out_features=768, bias=True)\n",
      "            (LayerNorm): LayerNorm((768,), eps=1e-12, elementwise_affine=True)\n",
      "            (dropout): Dropout(p=0.1, inplace=False)\n",
      "          )\n",
      "        )\n",
      "        (9): BertLayer(\n",
      "          (attention): BertAttention(\n",
      "            (self): BertSelfAttention(\n",
      "              (query): Linear(in_features=768, out_features=768, bias=True)\n",
      "              (key): Linear(in_features=768, out_features=768, bias=True)\n",
      "              (value): Linear(in_features=768, out_features=768, bias=True)\n",
      "              (dropout): Dropout(p=0.1, inplace=False)\n",
      "            )\n",
      "            (output): BertSelfOutput(\n",
      "              (dense): Linear(in_features=768, out_features=768, bias=True)\n",
      "              (LayerNorm): LayerNorm((768,), eps=1e-12, elementwise_affine=True)\n",
      "              (dropout): Dropout(p=0.1, inplace=False)\n",
      "            )\n",
      "          )\n",
      "          (intermediate): BertIntermediate(\n",
      "            (dense): Linear(in_features=768, out_features=3072, bias=True)\n",
      "          )\n",
      "          (output): BertOutput(\n",
      "            (dense): Linear(in_features=3072, out_features=768, bias=True)\n",
      "            (LayerNorm): LayerNorm((768,), eps=1e-12, elementwise_affine=True)\n",
      "            (dropout): Dropout(p=0.1, inplace=False)\n",
      "          )\n",
      "        )\n",
      "        (10): BertLayer(\n",
      "          (attention): BertAttention(\n",
      "            (self): BertSelfAttention(\n",
      "              (query): Linear(in_features=768, out_features=768, bias=True)\n",
      "              (key): Linear(in_features=768, out_features=768, bias=True)\n",
      "              (value): Linear(in_features=768, out_features=768, bias=True)\n",
      "              (dropout): Dropout(p=0.1, inplace=False)\n",
      "            )\n",
      "            (output): BertSelfOutput(\n",
      "              (dense): Linear(in_features=768, out_features=768, bias=True)\n",
      "              (LayerNorm): LayerNorm((768,), eps=1e-12, elementwise_affine=True)\n",
      "              (dropout): Dropout(p=0.1, inplace=False)\n",
      "            )\n",
      "          )\n",
      "          (intermediate): BertIntermediate(\n",
      "            (dense): Linear(in_features=768, out_features=3072, bias=True)\n",
      "          )\n",
      "          (output): BertOutput(\n",
      "            (dense): Linear(in_features=3072, out_features=768, bias=True)\n",
      "            (LayerNorm): LayerNorm((768,), eps=1e-12, elementwise_affine=True)\n",
      "            (dropout): Dropout(p=0.1, inplace=False)\n",
      "          )\n",
      "        )\n",
      "        (11): BertLayer(\n",
      "          (attention): BertAttention(\n",
      "            (self): BertSelfAttention(\n",
      "              (query): Linear(in_features=768, out_features=768, bias=True)\n",
      "              (key): Linear(in_features=768, out_features=768, bias=True)\n",
      "              (value): Linear(in_features=768, out_features=768, bias=True)\n",
      "              (dropout): Dropout(p=0.1, inplace=False)\n",
      "            )\n",
      "            (output): BertSelfOutput(\n",
      "              (dense): Linear(in_features=768, out_features=768, bias=True)\n",
      "              (LayerNorm): LayerNorm((768,), eps=1e-12, elementwise_affine=True)\n",
      "              (dropout): Dropout(p=0.1, inplace=False)\n",
      "            )\n",
      "          )\n",
      "          (intermediate): BertIntermediate(\n",
      "            (dense): Linear(in_features=768, out_features=3072, bias=True)\n",
      "          )\n",
      "          (output): BertOutput(\n",
      "            (dense): Linear(in_features=3072, out_features=768, bias=True)\n",
      "            (LayerNorm): LayerNorm((768,), eps=1e-12, elementwise_affine=True)\n",
      "            (dropout): Dropout(p=0.1, inplace=False)\n",
      "          )\n",
      "        )\n",
      "      )\n",
      "    )\n",
      "    (pooler): BertPooler(\n",
      "      (dense): Linear(in_features=768, out_features=768, bias=True)\n",
      "      (activation): Tanh()\n",
      "    )\n",
      "  )\n",
      "  (classifier): Sequential(\n",
      "    (0): Linear(in_features=768, out_features=6, bias=True)\n",
      "  )\n",
      ")\n"
     ]
    }
   ],
   "source": [
    "print(classifierModel.model)"
   ]
  },
  {
   "cell_type": "code",
   "execution_count": 36,
   "metadata": {
    "execution": {
     "iopub.execute_input": "2020-08-24T01:55:46.616939Z",
     "iopub.status.busy": "2020-08-24T01:55:46.616178Z",
     "iopub.status.idle": "2020-08-24T01:55:46.619474Z",
     "shell.execute_reply": "2020-08-24T01:55:46.618901Z"
    },
    "papermill": {
     "duration": 0.07767,
     "end_time": "2020-08-24T01:55:46.619588",
     "exception": false,
     "start_time": "2020-08-24T01:55:46.541918",
     "status": "completed"
    },
    "tags": []
   },
   "outputs": [],
   "source": [
    "#n = len(classifierModel.model.transformer.base_model.encoder.layer)//3\n",
    "\n",
    "#list_layers = [[classifierModel.model.transformer.base_model.embeddings],\n",
    "#               list(classifierModel.model.transformer.base_model.encoder.layer[:n]),\n",
    "#               list(classifierModel.model.transformer.base_model.encoder.layer[n+1:2*n]),\n",
    "#               list(classifierModel.model.transformer.base_model.encoder.layer[(2*n)+1:]),\n",
    "#               [classifierModel.model.transformer.base_model.pooler],\n",
    "#               classifierModel.model.classifier]"
   ]
  },
  {
   "cell_type": "code",
   "execution_count": 37,
   "metadata": {
    "execution": {
     "iopub.execute_input": "2020-08-24T01:55:46.774730Z",
     "iopub.status.busy": "2020-08-24T01:55:46.773952Z",
     "iopub.status.idle": "2020-08-24T01:55:46.777045Z",
     "shell.execute_reply": "2020-08-24T01:55:46.776548Z"
    },
    "papermill": {
     "duration": 0.084988,
     "end_time": "2020-08-24T01:55:46.777151",
     "exception": false,
     "start_time": "2020-08-24T01:55:46.692163",
     "status": "completed"
    },
    "tags": []
   },
   "outputs": [],
   "source": [
    "list_layers = [classifierModel.model.transformer.base_model.embeddings,\n",
    "              classifierModel.model.transformer.base_model.encoder.layer[0],\n",
    "              classifierModel.model.transformer.base_model.encoder.layer[1],\n",
    "              classifierModel.model.transformer.base_model.encoder.layer[2],\n",
    "              classifierModel.model.transformer.base_model.encoder.layer[3],\n",
    "              classifierModel.model.transformer.base_model.encoder.layer[4],\n",
    "              classifierModel.model.transformer.base_model.encoder.layer[5],\n",
    "              classifierModel.model.transformer.base_model.encoder.layer[6],\n",
    "              classifierModel.model.transformer.base_model.encoder.layer[7],\n",
    "              classifierModel.model.transformer.base_model.encoder.layer[8],\n",
    "              classifierModel.model.transformer.base_model.encoder.layer[9],\n",
    "              classifierModel.model.transformer.base_model.encoder.layer[10],\n",
    "              classifierModel.model.transformer.base_model.encoder.layer[11],\n",
    "              classifierModel.model.transformer.base_model.pooler]"
   ]
  },
  {
   "cell_type": "code",
   "execution_count": 38,
   "metadata": {
    "execution": {
     "iopub.execute_input": "2020-08-24T01:55:46.946410Z",
     "iopub.status.busy": "2020-08-24T01:55:46.941362Z",
     "iopub.status.idle": "2020-08-24T01:55:46.979855Z",
     "shell.execute_reply": "2020-08-24T01:55:46.980794Z"
    },
    "papermill": {
     "duration": 0.129577,
     "end_time": "2020-08-24T01:55:46.981052",
     "exception": false,
     "start_time": "2020-08-24T01:55:46.851475",
     "status": "completed"
    },
    "tags": []
   },
   "outputs": [
    {
     "name": "stdout",
     "output_type": "stream",
     "text": [
      "Learner split in 14 groups\n",
      "[Sequential(\n",
      "  (0): Embedding(31090, 768, padding_idx=0)\n",
      "  (1): Embedding(512, 768)\n",
      "  (2): Embedding(2, 768)\n",
      "  (3): LayerNorm((768,), eps=1e-12, elementwise_affine=True)\n",
      "  (4): Dropout(p=0.1, inplace=False)\n",
      "), Sequential(\n",
      "  (0): Linear(in_features=768, out_features=768, bias=True)\n",
      "  (1): Linear(in_features=768, out_features=768, bias=True)\n",
      "  (2): Linear(in_features=768, out_features=768, bias=True)\n",
      "  (3): Dropout(p=0.1, inplace=False)\n",
      "  (4): Linear(in_features=768, out_features=768, bias=True)\n",
      "  (5): LayerNorm((768,), eps=1e-12, elementwise_affine=True)\n",
      "  (6): Dropout(p=0.1, inplace=False)\n",
      "  (7): Linear(in_features=768, out_features=3072, bias=True)\n",
      "  (8): Linear(in_features=3072, out_features=768, bias=True)\n",
      "  (9): LayerNorm((768,), eps=1e-12, elementwise_affine=True)\n",
      "  (10): Dropout(p=0.1, inplace=False)\n",
      "), Sequential(\n",
      "  (0): Linear(in_features=768, out_features=768, bias=True)\n",
      "  (1): Linear(in_features=768, out_features=768, bias=True)\n",
      "  (2): Linear(in_features=768, out_features=768, bias=True)\n",
      "  (3): Dropout(p=0.1, inplace=False)\n",
      "  (4): Linear(in_features=768, out_features=768, bias=True)\n",
      "  (5): LayerNorm((768,), eps=1e-12, elementwise_affine=True)\n",
      "  (6): Dropout(p=0.1, inplace=False)\n",
      "  (7): Linear(in_features=768, out_features=3072, bias=True)\n",
      "  (8): Linear(in_features=3072, out_features=768, bias=True)\n",
      "  (9): LayerNorm((768,), eps=1e-12, elementwise_affine=True)\n",
      "  (10): Dropout(p=0.1, inplace=False)\n",
      "), Sequential(\n",
      "  (0): Linear(in_features=768, out_features=768, bias=True)\n",
      "  (1): Linear(in_features=768, out_features=768, bias=True)\n",
      "  (2): Linear(in_features=768, out_features=768, bias=True)\n",
      "  (3): Dropout(p=0.1, inplace=False)\n",
      "  (4): Linear(in_features=768, out_features=768, bias=True)\n",
      "  (5): LayerNorm((768,), eps=1e-12, elementwise_affine=True)\n",
      "  (6): Dropout(p=0.1, inplace=False)\n",
      "  (7): Linear(in_features=768, out_features=3072, bias=True)\n",
      "  (8): Linear(in_features=3072, out_features=768, bias=True)\n",
      "  (9): LayerNorm((768,), eps=1e-12, elementwise_affine=True)\n",
      "  (10): Dropout(p=0.1, inplace=False)\n",
      "), Sequential(\n",
      "  (0): Linear(in_features=768, out_features=768, bias=True)\n",
      "  (1): Linear(in_features=768, out_features=768, bias=True)\n",
      "  (2): Linear(in_features=768, out_features=768, bias=True)\n",
      "  (3): Dropout(p=0.1, inplace=False)\n",
      "  (4): Linear(in_features=768, out_features=768, bias=True)\n",
      "  (5): LayerNorm((768,), eps=1e-12, elementwise_affine=True)\n",
      "  (6): Dropout(p=0.1, inplace=False)\n",
      "  (7): Linear(in_features=768, out_features=3072, bias=True)\n",
      "  (8): Linear(in_features=3072, out_features=768, bias=True)\n",
      "  (9): LayerNorm((768,), eps=1e-12, elementwise_affine=True)\n",
      "  (10): Dropout(p=0.1, inplace=False)\n",
      "), Sequential(\n",
      "  (0): Linear(in_features=768, out_features=768, bias=True)\n",
      "  (1): Linear(in_features=768, out_features=768, bias=True)\n",
      "  (2): Linear(in_features=768, out_features=768, bias=True)\n",
      "  (3): Dropout(p=0.1, inplace=False)\n",
      "  (4): Linear(in_features=768, out_features=768, bias=True)\n",
      "  (5): LayerNorm((768,), eps=1e-12, elementwise_affine=True)\n",
      "  (6): Dropout(p=0.1, inplace=False)\n",
      "  (7): Linear(in_features=768, out_features=3072, bias=True)\n",
      "  (8): Linear(in_features=3072, out_features=768, bias=True)\n",
      "  (9): LayerNorm((768,), eps=1e-12, elementwise_affine=True)\n",
      "  (10): Dropout(p=0.1, inplace=False)\n",
      "), Sequential(\n",
      "  (0): Linear(in_features=768, out_features=768, bias=True)\n",
      "  (1): Linear(in_features=768, out_features=768, bias=True)\n",
      "  (2): Linear(in_features=768, out_features=768, bias=True)\n",
      "  (3): Dropout(p=0.1, inplace=False)\n",
      "  (4): Linear(in_features=768, out_features=768, bias=True)\n",
      "  (5): LayerNorm((768,), eps=1e-12, elementwise_affine=True)\n",
      "  (6): Dropout(p=0.1, inplace=False)\n",
      "  (7): Linear(in_features=768, out_features=3072, bias=True)\n",
      "  (8): Linear(in_features=3072, out_features=768, bias=True)\n",
      "  (9): LayerNorm((768,), eps=1e-12, elementwise_affine=True)\n",
      "  (10): Dropout(p=0.1, inplace=False)\n",
      "), Sequential(\n",
      "  (0): Linear(in_features=768, out_features=768, bias=True)\n",
      "  (1): Linear(in_features=768, out_features=768, bias=True)\n",
      "  (2): Linear(in_features=768, out_features=768, bias=True)\n",
      "  (3): Dropout(p=0.1, inplace=False)\n",
      "  (4): Linear(in_features=768, out_features=768, bias=True)\n",
      "  (5): LayerNorm((768,), eps=1e-12, elementwise_affine=True)\n",
      "  (6): Dropout(p=0.1, inplace=False)\n",
      "  (7): Linear(in_features=768, out_features=3072, bias=True)\n",
      "  (8): Linear(in_features=3072, out_features=768, bias=True)\n",
      "  (9): LayerNorm((768,), eps=1e-12, elementwise_affine=True)\n",
      "  (10): Dropout(p=0.1, inplace=False)\n",
      "), Sequential(\n",
      "  (0): Linear(in_features=768, out_features=768, bias=True)\n",
      "  (1): Linear(in_features=768, out_features=768, bias=True)\n",
      "  (2): Linear(in_features=768, out_features=768, bias=True)\n",
      "  (3): Dropout(p=0.1, inplace=False)\n",
      "  (4): Linear(in_features=768, out_features=768, bias=True)\n",
      "  (5): LayerNorm((768,), eps=1e-12, elementwise_affine=True)\n",
      "  (6): Dropout(p=0.1, inplace=False)\n",
      "  (7): Linear(in_features=768, out_features=3072, bias=True)\n",
      "  (8): Linear(in_features=3072, out_features=768, bias=True)\n",
      "  (9): LayerNorm((768,), eps=1e-12, elementwise_affine=True)\n",
      "  (10): Dropout(p=0.1, inplace=False)\n",
      "), Sequential(\n",
      "  (0): Linear(in_features=768, out_features=768, bias=True)\n",
      "  (1): Linear(in_features=768, out_features=768, bias=True)\n",
      "  (2): Linear(in_features=768, out_features=768, bias=True)\n",
      "  (3): Dropout(p=0.1, inplace=False)\n",
      "  (4): Linear(in_features=768, out_features=768, bias=True)\n",
      "  (5): LayerNorm((768,), eps=1e-12, elementwise_affine=True)\n",
      "  (6): Dropout(p=0.1, inplace=False)\n",
      "  (7): Linear(in_features=768, out_features=3072, bias=True)\n",
      "  (8): Linear(in_features=3072, out_features=768, bias=True)\n",
      "  (9): LayerNorm((768,), eps=1e-12, elementwise_affine=True)\n",
      "  (10): Dropout(p=0.1, inplace=False)\n",
      "), Sequential(\n",
      "  (0): Linear(in_features=768, out_features=768, bias=True)\n",
      "  (1): Linear(in_features=768, out_features=768, bias=True)\n",
      "  (2): Linear(in_features=768, out_features=768, bias=True)\n",
      "  (3): Dropout(p=0.1, inplace=False)\n",
      "  (4): Linear(in_features=768, out_features=768, bias=True)\n",
      "  (5): LayerNorm((768,), eps=1e-12, elementwise_affine=True)\n",
      "  (6): Dropout(p=0.1, inplace=False)\n",
      "  (7): Linear(in_features=768, out_features=3072, bias=True)\n",
      "  (8): Linear(in_features=3072, out_features=768, bias=True)\n",
      "  (9): LayerNorm((768,), eps=1e-12, elementwise_affine=True)\n",
      "  (10): Dropout(p=0.1, inplace=False)\n",
      "), Sequential(\n",
      "  (0): Linear(in_features=768, out_features=768, bias=True)\n",
      "  (1): Linear(in_features=768, out_features=768, bias=True)\n",
      "  (2): Linear(in_features=768, out_features=768, bias=True)\n",
      "  (3): Dropout(p=0.1, inplace=False)\n",
      "  (4): Linear(in_features=768, out_features=768, bias=True)\n",
      "  (5): LayerNorm((768,), eps=1e-12, elementwise_affine=True)\n",
      "  (6): Dropout(p=0.1, inplace=False)\n",
      "  (7): Linear(in_features=768, out_features=3072, bias=True)\n",
      "  (8): Linear(in_features=3072, out_features=768, bias=True)\n",
      "  (9): LayerNorm((768,), eps=1e-12, elementwise_affine=True)\n",
      "  (10): Dropout(p=0.1, inplace=False)\n",
      "), Sequential(\n",
      "  (0): Linear(in_features=768, out_features=768, bias=True)\n",
      "  (1): Linear(in_features=768, out_features=768, bias=True)\n",
      "  (2): Linear(in_features=768, out_features=768, bias=True)\n",
      "  (3): Dropout(p=0.1, inplace=False)\n",
      "  (4): Linear(in_features=768, out_features=768, bias=True)\n",
      "  (5): LayerNorm((768,), eps=1e-12, elementwise_affine=True)\n",
      "  (6): Dropout(p=0.1, inplace=False)\n",
      "  (7): Linear(in_features=768, out_features=3072, bias=True)\n",
      "  (8): Linear(in_features=3072, out_features=768, bias=True)\n",
      "  (9): LayerNorm((768,), eps=1e-12, elementwise_affine=True)\n",
      "  (10): Dropout(p=0.1, inplace=False)\n",
      "), Sequential(\n",
      "  (0): Linear(in_features=768, out_features=768, bias=True)\n",
      "  (1): Tanh()\n",
      "  (2): Linear(in_features=768, out_features=6, bias=True)\n",
      ")]\n"
     ]
    }
   ],
   "source": [
    "classifierModel.split(list_layers)\n",
    "\n",
    "num_groups = len(classifierModel.layer_groups)\n",
    "\n",
    "print('Learner split in',num_groups,'groups')\n",
    "\n",
    "print(classifierModel.layer_groups)\n"
   ]
  },
  {
   "cell_type": "code",
   "execution_count": 39,
   "metadata": {
    "execution": {
     "iopub.execute_input": "2020-08-24T01:55:47.148917Z",
     "iopub.status.busy": "2020-08-24T01:55:47.147938Z",
     "iopub.status.idle": "2020-08-24T01:55:47.626981Z",
     "shell.execute_reply": "2020-08-24T01:55:47.626362Z"
    },
    "papermill": {
     "duration": 0.55722,
     "end_time": "2020-08-24T01:55:47.627122",
     "exception": false,
     "start_time": "2020-08-24T01:55:47.069902",
     "status": "completed"
    },
    "tags": []
   },
   "outputs": [],
   "source": [
    "classifierModel.save('untrain')"
   ]
  },
  {
   "cell_type": "code",
   "execution_count": 40,
   "metadata": {
    "execution": {
     "iopub.execute_input": "2020-08-24T01:55:47.779357Z",
     "iopub.status.busy": "2020-08-24T01:55:47.778526Z",
     "iopub.status.idle": "2020-08-24T01:55:48.257559Z",
     "shell.execute_reply": "2020-08-24T01:55:48.256914Z"
    },
    "papermill": {
     "duration": 0.558199,
     "end_time": "2020-08-24T01:55:48.257696",
     "exception": false,
     "start_time": "2020-08-24T01:55:47.699497",
     "status": "completed"
    },
    "tags": []
   },
   "outputs": [],
   "source": [
    "seed_all(seed)\n",
    "\n",
    "classifierModel.load('untrain');"
   ]
  },
  {
   "cell_type": "code",
   "execution_count": 41,
   "metadata": {
    "execution": {
     "iopub.execute_input": "2020-08-24T01:55:48.416763Z",
     "iopub.status.busy": "2020-08-24T01:55:48.415933Z",
     "iopub.status.idle": "2020-08-24T01:55:48.419414Z",
     "shell.execute_reply": "2020-08-24T01:55:48.418836Z"
    },
    "papermill": {
     "duration": 0.086653,
     "end_time": "2020-08-24T01:55:48.419531",
     "exception": false,
     "start_time": "2020-08-24T01:55:48.332878",
     "status": "completed"
    },
    "tags": []
   },
   "outputs": [],
   "source": [
    "classifierModel.freeze_to(-1)"
   ]
  },
  {
   "cell_type": "code",
   "execution_count": 42,
   "metadata": {
    "execution": {
     "iopub.execute_input": "2020-08-24T01:55:48.584738Z",
     "iopub.status.busy": "2020-08-24T01:55:48.583919Z",
     "iopub.status.idle": "2020-08-24T01:55:54.743276Z",
     "shell.execute_reply": "2020-08-24T01:55:54.742717Z"
    },
    "papermill": {
     "duration": 6.24992,
     "end_time": "2020-08-24T01:55:54.743388",
     "exception": false,
     "start_time": "2020-08-24T01:55:48.493468",
     "status": "completed"
    },
    "tags": []
   },
   "outputs": [
    {
     "data": {
      "text/plain": [
       "CustomTransformerModel\n",
       "======================================================================\n",
       "Layer (type)         Output Shape         Param #    Trainable \n",
       "======================================================================\n",
       "Embedding            [320, 768]           23,877,120 False     \n",
       "______________________________________________________________________\n",
       "Embedding            [320, 768]           393,216    False     \n",
       "______________________________________________________________________\n",
       "Embedding            [320, 768]           1,536      False     \n",
       "______________________________________________________________________\n",
       "LayerNorm            [320, 768]           1,536      False     \n",
       "______________________________________________________________________\n",
       "Dropout              [320, 768]           0          False     \n",
       "______________________________________________________________________\n",
       "Linear               [320, 768]           590,592    False     \n",
       "______________________________________________________________________\n",
       "Linear               [320, 768]           590,592    False     \n",
       "______________________________________________________________________\n",
       "Linear               [320, 768]           590,592    False     \n",
       "______________________________________________________________________\n",
       "Dropout              [12, 320, 320]       0          False     \n",
       "______________________________________________________________________\n",
       "Linear               [320, 768]           590,592    False     \n",
       "______________________________________________________________________\n",
       "LayerNorm            [320, 768]           1,536      False     \n",
       "______________________________________________________________________\n",
       "Dropout              [320, 768]           0          False     \n",
       "______________________________________________________________________\n",
       "Linear               [320, 3072]          2,362,368  False     \n",
       "______________________________________________________________________\n",
       "Linear               [320, 768]           2,360,064  False     \n",
       "______________________________________________________________________\n",
       "LayerNorm            [320, 768]           1,536      False     \n",
       "______________________________________________________________________\n",
       "Dropout              [320, 768]           0          False     \n",
       "______________________________________________________________________\n",
       "Linear               [320, 768]           590,592    False     \n",
       "______________________________________________________________________\n",
       "Linear               [320, 768]           590,592    False     \n",
       "______________________________________________________________________\n",
       "Linear               [320, 768]           590,592    False     \n",
       "______________________________________________________________________\n",
       "Dropout              [12, 320, 320]       0          False     \n",
       "______________________________________________________________________\n",
       "Linear               [320, 768]           590,592    False     \n",
       "______________________________________________________________________\n",
       "LayerNorm            [320, 768]           1,536      False     \n",
       "______________________________________________________________________\n",
       "Dropout              [320, 768]           0          False     \n",
       "______________________________________________________________________\n",
       "Linear               [320, 3072]          2,362,368  False     \n",
       "______________________________________________________________________\n",
       "Linear               [320, 768]           2,360,064  False     \n",
       "______________________________________________________________________\n",
       "LayerNorm            [320, 768]           1,536      False     \n",
       "______________________________________________________________________\n",
       "Dropout              [320, 768]           0          False     \n",
       "______________________________________________________________________\n",
       "Linear               [320, 768]           590,592    False     \n",
       "______________________________________________________________________\n",
       "Linear               [320, 768]           590,592    False     \n",
       "______________________________________________________________________\n",
       "Linear               [320, 768]           590,592    False     \n",
       "______________________________________________________________________\n",
       "Dropout              [12, 320, 320]       0          False     \n",
       "______________________________________________________________________\n",
       "Linear               [320, 768]           590,592    False     \n",
       "______________________________________________________________________\n",
       "LayerNorm            [320, 768]           1,536      False     \n",
       "______________________________________________________________________\n",
       "Dropout              [320, 768]           0          False     \n",
       "______________________________________________________________________\n",
       "Linear               [320, 3072]          2,362,368  False     \n",
       "______________________________________________________________________\n",
       "Linear               [320, 768]           2,360,064  False     \n",
       "______________________________________________________________________\n",
       "LayerNorm            [320, 768]           1,536      False     \n",
       "______________________________________________________________________\n",
       "Dropout              [320, 768]           0          False     \n",
       "______________________________________________________________________\n",
       "Linear               [320, 768]           590,592    False     \n",
       "______________________________________________________________________\n",
       "Linear               [320, 768]           590,592    False     \n",
       "______________________________________________________________________\n",
       "Linear               [320, 768]           590,592    False     \n",
       "______________________________________________________________________\n",
       "Dropout              [12, 320, 320]       0          False     \n",
       "______________________________________________________________________\n",
       "Linear               [320, 768]           590,592    False     \n",
       "______________________________________________________________________\n",
       "LayerNorm            [320, 768]           1,536      False     \n",
       "______________________________________________________________________\n",
       "Dropout              [320, 768]           0          False     \n",
       "______________________________________________________________________\n",
       "Linear               [320, 3072]          2,362,368  False     \n",
       "______________________________________________________________________\n",
       "Linear               [320, 768]           2,360,064  False     \n",
       "______________________________________________________________________\n",
       "LayerNorm            [320, 768]           1,536      False     \n",
       "______________________________________________________________________\n",
       "Dropout              [320, 768]           0          False     \n",
       "______________________________________________________________________\n",
       "Linear               [320, 768]           590,592    False     \n",
       "______________________________________________________________________\n",
       "Linear               [320, 768]           590,592    False     \n",
       "______________________________________________________________________\n",
       "Linear               [320, 768]           590,592    False     \n",
       "______________________________________________________________________\n",
       "Dropout              [12, 320, 320]       0          False     \n",
       "______________________________________________________________________\n",
       "Linear               [320, 768]           590,592    False     \n",
       "______________________________________________________________________\n",
       "LayerNorm            [320, 768]           1,536      False     \n",
       "______________________________________________________________________\n",
       "Dropout              [320, 768]           0          False     \n",
       "______________________________________________________________________\n",
       "Linear               [320, 3072]          2,362,368  False     \n",
       "______________________________________________________________________\n",
       "Linear               [320, 768]           2,360,064  False     \n",
       "______________________________________________________________________\n",
       "LayerNorm            [320, 768]           1,536      False     \n",
       "______________________________________________________________________\n",
       "Dropout              [320, 768]           0          False     \n",
       "______________________________________________________________________\n",
       "Linear               [320, 768]           590,592    False     \n",
       "______________________________________________________________________\n",
       "Linear               [320, 768]           590,592    False     \n",
       "______________________________________________________________________\n",
       "Linear               [320, 768]           590,592    False     \n",
       "______________________________________________________________________\n",
       "Dropout              [12, 320, 320]       0          False     \n",
       "______________________________________________________________________\n",
       "Linear               [320, 768]           590,592    False     \n",
       "______________________________________________________________________\n",
       "LayerNorm            [320, 768]           1,536      False     \n",
       "______________________________________________________________________\n",
       "Dropout              [320, 768]           0          False     \n",
       "______________________________________________________________________\n",
       "Linear               [320, 3072]          2,362,368  False     \n",
       "______________________________________________________________________\n",
       "Linear               [320, 768]           2,360,064  False     \n",
       "______________________________________________________________________\n",
       "LayerNorm            [320, 768]           1,536      False     \n",
       "______________________________________________________________________\n",
       "Dropout              [320, 768]           0          False     \n",
       "______________________________________________________________________\n",
       "Linear               [320, 768]           590,592    False     \n",
       "______________________________________________________________________\n",
       "Linear               [320, 768]           590,592    False     \n",
       "______________________________________________________________________\n",
       "Linear               [320, 768]           590,592    False     \n",
       "______________________________________________________________________\n",
       "Dropout              [12, 320, 320]       0          False     \n",
       "______________________________________________________________________\n",
       "Linear               [320, 768]           590,592    False     \n",
       "______________________________________________________________________\n",
       "LayerNorm            [320, 768]           1,536      False     \n",
       "______________________________________________________________________\n",
       "Dropout              [320, 768]           0          False     \n",
       "______________________________________________________________________\n",
       "Linear               [320, 3072]          2,362,368  False     \n",
       "______________________________________________________________________\n",
       "Linear               [320, 768]           2,360,064  False     \n",
       "______________________________________________________________________\n",
       "LayerNorm            [320, 768]           1,536      False     \n",
       "______________________________________________________________________\n",
       "Dropout              [320, 768]           0          False     \n",
       "______________________________________________________________________\n",
       "Linear               [320, 768]           590,592    False     \n",
       "______________________________________________________________________\n",
       "Linear               [320, 768]           590,592    False     \n",
       "______________________________________________________________________\n",
       "Linear               [320, 768]           590,592    False     \n",
       "______________________________________________________________________\n",
       "Dropout              [12, 320, 320]       0          False     \n",
       "______________________________________________________________________\n",
       "Linear               [320, 768]           590,592    False     \n",
       "______________________________________________________________________\n",
       "LayerNorm            [320, 768]           1,536      False     \n",
       "______________________________________________________________________\n",
       "Dropout              [320, 768]           0          False     \n",
       "______________________________________________________________________\n",
       "Linear               [320, 3072]          2,362,368  False     \n",
       "______________________________________________________________________\n",
       "Linear               [320, 768]           2,360,064  False     \n",
       "______________________________________________________________________\n",
       "LayerNorm            [320, 768]           1,536      False     \n",
       "______________________________________________________________________\n",
       "Dropout              [320, 768]           0          False     \n",
       "______________________________________________________________________\n",
       "Linear               [320, 768]           590,592    False     \n",
       "______________________________________________________________________\n",
       "Linear               [320, 768]           590,592    False     \n",
       "______________________________________________________________________\n",
       "Linear               [320, 768]           590,592    False     \n",
       "______________________________________________________________________\n",
       "Dropout              [12, 320, 320]       0          False     \n",
       "______________________________________________________________________\n",
       "Linear               [320, 768]           590,592    False     \n",
       "______________________________________________________________________\n",
       "LayerNorm            [320, 768]           1,536      False     \n",
       "______________________________________________________________________\n",
       "Dropout              [320, 768]           0          False     \n",
       "______________________________________________________________________\n",
       "Linear               [320, 3072]          2,362,368  False     \n",
       "______________________________________________________________________\n",
       "Linear               [320, 768]           2,360,064  False     \n",
       "______________________________________________________________________\n",
       "LayerNorm            [320, 768]           1,536      False     \n",
       "______________________________________________________________________\n",
       "Dropout              [320, 768]           0          False     \n",
       "______________________________________________________________________\n",
       "Linear               [320, 768]           590,592    False     \n",
       "______________________________________________________________________\n",
       "Linear               [320, 768]           590,592    False     \n",
       "______________________________________________________________________\n",
       "Linear               [320, 768]           590,592    False     \n",
       "______________________________________________________________________\n",
       "Dropout              [12, 320, 320]       0          False     \n",
       "______________________________________________________________________\n",
       "Linear               [320, 768]           590,592    False     \n",
       "______________________________________________________________________\n",
       "LayerNorm            [320, 768]           1,536      False     \n",
       "______________________________________________________________________\n",
       "Dropout              [320, 768]           0          False     \n",
       "______________________________________________________________________\n",
       "Linear               [320, 3072]          2,362,368  False     \n",
       "______________________________________________________________________\n",
       "Linear               [320, 768]           2,360,064  False     \n",
       "______________________________________________________________________\n",
       "LayerNorm            [320, 768]           1,536      False     \n",
       "______________________________________________________________________\n",
       "Dropout              [320, 768]           0          False     \n",
       "______________________________________________________________________\n",
       "Linear               [320, 768]           590,592    False     \n",
       "______________________________________________________________________\n",
       "Linear               [320, 768]           590,592    False     \n",
       "______________________________________________________________________\n",
       "Linear               [320, 768]           590,592    False     \n",
       "______________________________________________________________________\n",
       "Dropout              [12, 320, 320]       0          False     \n",
       "______________________________________________________________________\n",
       "Linear               [320, 768]           590,592    False     \n",
       "______________________________________________________________________\n",
       "LayerNorm            [320, 768]           1,536      False     \n",
       "______________________________________________________________________\n",
       "Dropout              [320, 768]           0          False     \n",
       "______________________________________________________________________\n",
       "Linear               [320, 3072]          2,362,368  False     \n",
       "______________________________________________________________________\n",
       "Linear               [320, 768]           2,360,064  False     \n",
       "______________________________________________________________________\n",
       "LayerNorm            [320, 768]           1,536      False     \n",
       "______________________________________________________________________\n",
       "Dropout              [320, 768]           0          False     \n",
       "______________________________________________________________________\n",
       "Linear               [320, 768]           590,592    False     \n",
       "______________________________________________________________________\n",
       "Linear               [320, 768]           590,592    False     \n",
       "______________________________________________________________________\n",
       "Linear               [320, 768]           590,592    False     \n",
       "______________________________________________________________________\n",
       "Dropout              [12, 320, 320]       0          False     \n",
       "______________________________________________________________________\n",
       "Linear               [320, 768]           590,592    False     \n",
       "______________________________________________________________________\n",
       "LayerNorm            [320, 768]           1,536      False     \n",
       "______________________________________________________________________\n",
       "Dropout              [320, 768]           0          False     \n",
       "______________________________________________________________________\n",
       "Linear               [320, 3072]          2,362,368  False     \n",
       "______________________________________________________________________\n",
       "Linear               [320, 768]           2,360,064  False     \n",
       "______________________________________________________________________\n",
       "LayerNorm            [320, 768]           1,536      False     \n",
       "______________________________________________________________________\n",
       "Dropout              [320, 768]           0          False     \n",
       "______________________________________________________________________\n",
       "Linear               [768]                590,592    True      \n",
       "______________________________________________________________________\n",
       "Tanh                 [768]                0          False     \n",
       "______________________________________________________________________\n",
       "Linear               [6]                  4,614      True      \n",
       "______________________________________________________________________\n",
       "\n",
       "Total params: 109,923,078\n",
       "Total trainable params: 595,206\n",
       "Total non-trainable params: 109,327,872\n",
       "Optimized with 'transformers.optimization.AdamW', correct_bias=False\n",
       "Using true weight decay as discussed in https://www.fast.ai/2018/07/02/adam-weight-decay/ \n",
       "Loss function : BCEWithLogitsLoss\n",
       "======================================================================\n",
       "Callbacks functions applied \n",
       "    ShowGraph"
      ]
     },
     "execution_count": 42,
     "metadata": {},
     "output_type": "execute_result"
    }
   ],
   "source": [
    "classifierModel.summary()"
   ]
  },
  {
   "cell_type": "code",
   "execution_count": 43,
   "metadata": {
    "execution": {
     "iopub.execute_input": "2020-08-24T01:55:54.916470Z",
     "iopub.status.busy": "2020-08-24T01:55:54.915645Z",
     "iopub.status.idle": "2020-08-24T01:56:11.101349Z",
     "shell.execute_reply": "2020-08-24T01:56:11.100492Z"
    },
    "papermill": {
     "duration": 16.284898,
     "end_time": "2020-08-24T01:56:11.101515",
     "exception": false,
     "start_time": "2020-08-24T01:55:54.816617",
     "status": "completed"
    },
    "tags": []
   },
   "outputs": [
    {
     "data": {
      "text/html": [
       "\n",
       "    <div>\n",
       "        <style>\n",
       "            /* Turns off some styling */\n",
       "            progress {\n",
       "                /* gets rid of default border in Firefox and Opera. */\n",
       "                border: none;\n",
       "                /* Needs to be in here for Safari polyfill so background images work as expected. */\n",
       "                background-size: auto;\n",
       "            }\n",
       "            .progress-bar-interrupted, .progress-bar-interrupted::-webkit-progress-bar {\n",
       "                background: #F44336;\n",
       "            }\n",
       "        </style>\n",
       "      <progress value='0' class='' max='1' style='width:300px; height:20px; vertical-align: middle;'></progress>\n",
       "      0.00% [0/1 00:00<00:00]\n",
       "    </div>\n",
       "    \n",
       "<table border=\"1\" class=\"dataframe\">\n",
       "  <thead>\n",
       "    <tr style=\"text-align: left;\">\n",
       "      <th>epoch</th>\n",
       "      <th>train_loss</th>\n",
       "      <th>valid_loss</th>\n",
       "      <th>MicroF1</th>\n",
       "      <th>Computer Science</th>\n",
       "      <th>Physics</th>\n",
       "      <th>Mathematics</th>\n",
       "      <th>Statistics</th>\n",
       "      <th>Quantitative Biology</th>\n",
       "      <th>Quantitative Finance</th>\n",
       "      <th>time</th>\n",
       "    </tr>\n",
       "  </thead>\n",
       "  <tbody>\n",
       "  </tbody>\n",
       "</table><p>\n",
       "\n",
       "    <div>\n",
       "        <style>\n",
       "            /* Turns off some styling */\n",
       "            progress {\n",
       "                /* gets rid of default border in Firefox and Opera. */\n",
       "                border: none;\n",
       "                /* Needs to be in here for Safari polyfill so background images work as expected. */\n",
       "                background-size: auto;\n",
       "            }\n",
       "            .progress-bar-interrupted, .progress-bar-interrupted::-webkit-progress-bar {\n",
       "                background: #F44336;\n",
       "            }\n",
       "        </style>\n",
       "      <progress value='80' class='' max='917' style='width:300px; height:20px; vertical-align: middle;'></progress>\n",
       "      8.72% [80/917 00:15<02:38 1.6402]\n",
       "    </div>\n",
       "    "
      ],
      "text/plain": [
       "<IPython.core.display.HTML object>"
      ]
     },
     "metadata": {},
     "output_type": "display_data"
    },
    {
     "name": "stdout",
     "output_type": "stream",
     "text": [
      "LR Finder is complete, type {learner_name}.recorder.plot() to see the graph.\n"
     ]
    }
   ],
   "source": [
    "classifierModel.lr_find()"
   ]
  },
  {
   "cell_type": "code",
   "execution_count": 44,
   "metadata": {
    "execution": {
     "iopub.execute_input": "2020-08-24T01:56:11.259047Z",
     "iopub.status.busy": "2020-08-24T01:56:11.258109Z",
     "iopub.status.idle": "2020-08-24T01:56:11.696400Z",
     "shell.execute_reply": "2020-08-24T01:56:11.696876Z"
    },
    "papermill": {
     "duration": 0.519709,
     "end_time": "2020-08-24T01:56:11.697049",
     "exception": false,
     "start_time": "2020-08-24T01:56:11.177340",
     "status": "completed"
    },
    "tags": []
   },
   "outputs": [
    {
     "name": "stdout",
     "output_type": "stream",
     "text": [
      "Min numerical gradient: 1.00E-03\n",
      "Min loss divided by 10: 7.59E-04\n"
     ]
    },
    {
     "data": {
      "image/png": "[encoded data removed]",
      "text/plain": [
       "<Figure size 864x864 with 1 Axes>"
      ]
     },
     "metadata": {
      "needs_background": "light"
     },
     "output_type": "display_data"
    }
   ],
   "source": [
    "classifierModel.recorder.plot(skip_end=10,suggestion=True)"
   ]
  },
  {
   "cell_type": "code",
   "execution_count": 45,
   "metadata": {
    "execution": {
     "iopub.execute_input": "2020-08-24T01:56:11.872412Z",
     "iopub.status.busy": "2020-08-24T01:56:11.871246Z",
     "iopub.status.idle": "2020-08-24T02:10:19.467670Z",
     "shell.execute_reply": "2020-08-24T02:10:19.466770Z"
    },
    "papermill": {
     "duration": 847.687937,
     "end_time": "2020-08-24T02:10:19.467808",
     "exception": false,
     "start_time": "2020-08-24T01:56:11.779871",
     "status": "completed"
    },
    "tags": []
   },
   "outputs": [
    {
     "data": {
      "text/html": [
       "<table border=\"1\" class=\"dataframe\">\n",
       "  <thead>\n",
       "    <tr style=\"text-align: left;\">\n",
       "      <th>epoch</th>\n",
       "      <th>train_loss</th>\n",
       "      <th>valid_loss</th>\n",
       "      <th>MicroF1</th>\n",
       "      <th>Computer Science</th>\n",
       "      <th>Physics</th>\n",
       "      <th>Mathematics</th>\n",
       "      <th>Statistics</th>\n",
       "      <th>Quantitative Biology</th>\n",
       "      <th>Quantitative Finance</th>\n",
       "      <th>time</th>\n",
       "    </tr>\n",
       "  </thead>\n",
       "  <tbody>\n",
       "    <tr>\n",
       "      <td>0</td>\n",
       "      <td>0.305388</td>\n",
       "      <td>0.239303</td>\n",
       "      <td>0.713826</td>\n",
       "      <td>0.935079</td>\n",
       "      <td>0.967001</td>\n",
       "      <td>0.951330</td>\n",
       "      <td>0.879473</td>\n",
       "      <td>0.945170</td>\n",
       "      <td>0.949457</td>\n",
       "      <td>02:53</td>\n",
       "    </tr>\n",
       "    <tr>\n",
       "      <td>1</td>\n",
       "      <td>0.291357</td>\n",
       "      <td>0.220787</td>\n",
       "      <td>0.708177</td>\n",
       "      <td>0.934443</td>\n",
       "      <td>0.972123</td>\n",
       "      <td>0.946830</td>\n",
       "      <td>0.934401</td>\n",
       "      <td>0.925433</td>\n",
       "      <td>0.955123</td>\n",
       "      <td>02:55</td>\n",
       "    </tr>\n",
       "    <tr>\n",
       "      <td>2</td>\n",
       "      <td>0.253191</td>\n",
       "      <td>0.185572</td>\n",
       "      <td>0.761440</td>\n",
       "      <td>0.937890</td>\n",
       "      <td>0.968023</td>\n",
       "      <td>0.954902</td>\n",
       "      <td>0.927506</td>\n",
       "      <td>0.933434</td>\n",
       "      <td>0.968293</td>\n",
       "      <td>02:49</td>\n",
       "    </tr>\n",
       "    <tr>\n",
       "      <td>3</td>\n",
       "      <td>0.229342</td>\n",
       "      <td>0.181530</td>\n",
       "      <td>0.806734</td>\n",
       "      <td>0.937807</td>\n",
       "      <td>0.972806</td>\n",
       "      <td>0.955173</td>\n",
       "      <td>0.936918</td>\n",
       "      <td>0.945540</td>\n",
       "      <td>0.982840</td>\n",
       "      <td>02:41</td>\n",
       "    </tr>\n",
       "    <tr>\n",
       "      <td>4</td>\n",
       "      <td>0.219411</td>\n",
       "      <td>0.171953</td>\n",
       "      <td>0.808302</td>\n",
       "      <td>0.939409</td>\n",
       "      <td>0.973670</td>\n",
       "      <td>0.955611</td>\n",
       "      <td>0.940472</td>\n",
       "      <td>0.948990</td>\n",
       "      <td>0.985542</td>\n",
       "      <td>02:45</td>\n",
       "    </tr>\n",
       "  </tbody>\n",
       "</table>"
      ],
      "text/plain": [
       "<IPython.core.display.HTML object>"
      ]
     },
     "metadata": {},
     "output_type": "display_data"
    },
    {
     "data": {
      "image/png": "[encoded data removed]",
      "text/plain": [
       "<Figure size 432x288 with 1 Axes>"
      ]
     },
     "metadata": {},
     "output_type": "display_data"
    }
   ],
   "source": [
    "classifierModel.fit_one_cycle(5, max_lr = 3e-3 ,moms=(0.8,0.7))"
   ]
  },
  {
   "cell_type": "code",
   "execution_count": 46,
   "metadata": {
    "execution": {
     "iopub.execute_input": "2020-08-24T02:10:19.635062Z",
     "iopub.status.busy": "2020-08-24T02:10:19.633699Z",
     "iopub.status.idle": "2020-08-24T02:10:20.366212Z",
     "shell.execute_reply": "2020-08-24T02:10:20.365049Z"
    },
    "papermill": {
     "duration": 0.818394,
     "end_time": "2020-08-24T02:10:20.366434",
     "exception": false,
     "start_time": "2020-08-24T02:10:19.548040",
     "status": "completed"
    },
    "tags": []
   },
   "outputs": [],
   "source": [
    "classifierModel.save('classifierModel1')"
   ]
  },
  {
   "cell_type": "code",
   "execution_count": 47,
   "metadata": {
    "execution": {
     "iopub.execute_input": "2020-08-24T02:10:20.844689Z",
     "iopub.status.busy": "2020-08-24T02:10:20.843576Z",
     "iopub.status.idle": "2020-08-24T02:10:21.327880Z",
     "shell.execute_reply": "2020-08-24T02:10:21.327214Z"
    },
    "papermill": {
     "duration": 0.617828,
     "end_time": "2020-08-24T02:10:21.327999",
     "exception": false,
     "start_time": "2020-08-24T02:10:20.710171",
     "status": "completed"
    },
    "tags": []
   },
   "outputs": [],
   "source": [
    "seed_all(seed)\n",
    "\n",
    "classifierModel.load('classifierModel1');"
   ]
  },
  {
   "cell_type": "code",
   "execution_count": 48,
   "metadata": {
    "execution": {
     "iopub.execute_input": "2020-08-24T02:10:21.494581Z",
     "iopub.status.busy": "2020-08-24T02:10:21.493645Z",
     "iopub.status.idle": "2020-08-24T02:24:44.316473Z",
     "shell.execute_reply": "2020-08-24T02:24:44.317372Z"
    },
    "papermill": {
     "duration": 862.914055,
     "end_time": "2020-08-24T02:24:44.317569",
     "exception": false,
     "start_time": "2020-08-24T02:10:21.403514",
     "status": "completed"
    },
    "tags": []
   },
   "outputs": [
    {
     "name": "stdout",
     "output_type": "stream",
     "text": [
      "==================================================  Frozen Layer Group 2 ==================================================\n"
     ]
    },
    {
     "data": {
      "text/html": [
       "<table border=\"1\" class=\"dataframe\">\n",
       "  <thead>\n",
       "    <tr style=\"text-align: left;\">\n",
       "      <th>epoch</th>\n",
       "      <th>train_loss</th>\n",
       "      <th>valid_loss</th>\n",
       "      <th>MicroF1</th>\n",
       "      <th>Computer Science</th>\n",
       "      <th>Physics</th>\n",
       "      <th>Mathematics</th>\n",
       "      <th>Statistics</th>\n",
       "      <th>Quantitative Biology</th>\n",
       "      <th>Quantitative Finance</th>\n",
       "      <th>time</th>\n",
       "    </tr>\n",
       "  </thead>\n",
       "  <tbody>\n",
       "    <tr>\n",
       "      <td>0</td>\n",
       "      <td>0.215746</td>\n",
       "      <td>0.171507</td>\n",
       "      <td>0.819909</td>\n",
       "      <td>0.939947</td>\n",
       "      <td>0.973772</td>\n",
       "      <td>0.955855</td>\n",
       "      <td>0.942056</td>\n",
       "      <td>0.948345</td>\n",
       "      <td>0.986525</td>\n",
       "      <td>02:56</td>\n",
       "    </tr>\n",
       "  </tbody>\n",
       "</table>"
      ],
      "text/plain": [
       "<IPython.core.display.HTML object>"
      ]
     },
     "metadata": {},
     "output_type": "display_data"
    },
    {
     "data": {
      "image/png": "[encoded data removed]",
      "text/plain": [
       "<Figure size 432x288 with 1 Axes>"
      ]
     },
     "metadata": {},
     "output_type": "display_data"
    },
    {
     "name": "stdout",
     "output_type": "stream",
     "text": [
      "\n",
      "==================================================  Frozen Layer Group 3 ==================================================\n"
     ]
    },
    {
     "data": {
      "text/html": [
       "<table border=\"1\" class=\"dataframe\">\n",
       "  <thead>\n",
       "    <tr style=\"text-align: left;\">\n",
       "      <th>epoch</th>\n",
       "      <th>train_loss</th>\n",
       "      <th>valid_loss</th>\n",
       "      <th>MicroF1</th>\n",
       "      <th>Computer Science</th>\n",
       "      <th>Physics</th>\n",
       "      <th>Mathematics</th>\n",
       "      <th>Statistics</th>\n",
       "      <th>Quantitative Biology</th>\n",
       "      <th>Quantitative Finance</th>\n",
       "      <th>time</th>\n",
       "    </tr>\n",
       "  </thead>\n",
       "  <tbody>\n",
       "    <tr>\n",
       "      <td>0</td>\n",
       "      <td>0.196715</td>\n",
       "      <td>0.168576</td>\n",
       "      <td>0.806615</td>\n",
       "      <td>0.940241</td>\n",
       "      <td>0.974254</td>\n",
       "      <td>0.955035</td>\n",
       "      <td>0.945489</td>\n",
       "      <td>0.955312</td>\n",
       "      <td>0.989899</td>\n",
       "      <td>03:25</td>\n",
       "    </tr>\n",
       "  </tbody>\n",
       "</table>"
      ],
      "text/plain": [
       "<IPython.core.display.HTML object>"
      ]
     },
     "metadata": {},
     "output_type": "display_data"
    },
    {
     "data": {
      "image/png": "[encoded data removed]",
      "text/plain": [
       "<Figure size 432x288 with 1 Axes>"
      ]
     },
     "metadata": {},
     "output_type": "display_data"
    },
    {
     "name": "stdout",
     "output_type": "stream",
     "text": [
      "\n",
      "==================================================  Frozen Layer Group 4 ==================================================\n"
     ]
    },
    {
     "data": {
      "text/html": [
       "<table border=\"1\" class=\"dataframe\">\n",
       "  <thead>\n",
       "    <tr style=\"text-align: left;\">\n",
       "      <th>epoch</th>\n",
       "      <th>train_loss</th>\n",
       "      <th>valid_loss</th>\n",
       "      <th>MicroF1</th>\n",
       "      <th>Computer Science</th>\n",
       "      <th>Physics</th>\n",
       "      <th>Mathematics</th>\n",
       "      <th>Statistics</th>\n",
       "      <th>Quantitative Biology</th>\n",
       "      <th>Quantitative Finance</th>\n",
       "      <th>time</th>\n",
       "    </tr>\n",
       "  </thead>\n",
       "  <tbody>\n",
       "    <tr>\n",
       "      <td>0</td>\n",
       "      <td>0.176751</td>\n",
       "      <td>0.165852</td>\n",
       "      <td>0.825795</td>\n",
       "      <td>0.940651</td>\n",
       "      <td>0.974989</td>\n",
       "      <td>0.954311</td>\n",
       "      <td>0.949441</td>\n",
       "      <td>0.958072</td>\n",
       "      <td>0.990509</td>\n",
       "      <td>03:48</td>\n",
       "    </tr>\n",
       "  </tbody>\n",
       "</table>"
      ],
      "text/plain": [
       "<IPython.core.display.HTML object>"
      ]
     },
     "metadata": {},
     "output_type": "display_data"
    },
    {
     "data": {
      "image/png": "[encoded data removed]",
      "text/plain": [
       "<Figure size 432x288 with 1 Axes>"
      ]
     },
     "metadata": {},
     "output_type": "display_data"
    },
    {
     "name": "stdout",
     "output_type": "stream",
     "text": [
      "\n",
      "==================================================  Frozen Layer Group 5 ==================================================\n"
     ]
    },
    {
     "data": {
      "text/html": [
       "<table border=\"1\" class=\"dataframe\">\n",
       "  <thead>\n",
       "    <tr style=\"text-align: left;\">\n",
       "      <th>epoch</th>\n",
       "      <th>train_loss</th>\n",
       "      <th>valid_loss</th>\n",
       "      <th>MicroF1</th>\n",
       "      <th>Computer Science</th>\n",
       "      <th>Physics</th>\n",
       "      <th>Mathematics</th>\n",
       "      <th>Statistics</th>\n",
       "      <th>Quantitative Biology</th>\n",
       "      <th>Quantitative Finance</th>\n",
       "      <th>time</th>\n",
       "    </tr>\n",
       "  </thead>\n",
       "  <tbody>\n",
       "    <tr>\n",
       "      <td>0</td>\n",
       "      <td>0.161195</td>\n",
       "      <td>0.163009</td>\n",
       "      <td>0.835606</td>\n",
       "      <td>0.942518</td>\n",
       "      <td>0.975265</td>\n",
       "      <td>0.956186</td>\n",
       "      <td>0.952048</td>\n",
       "      <td>0.964560</td>\n",
       "      <td>0.992115</td>\n",
       "      <td>04:11</td>\n",
       "    </tr>\n",
       "  </tbody>\n",
       "</table>"
      ],
      "text/plain": [
       "<IPython.core.display.HTML object>"
      ]
     },
     "metadata": {},
     "output_type": "display_data"
    },
    {
     "data": {
      "image/png": "[encoded data removed]",
      "text/plain": [
       "<Figure size 432x288 with 1 Axes>"
      ]
     },
     "metadata": {},
     "output_type": "display_data"
    },
    {
     "name": "stdout",
     "output_type": "stream",
     "text": [
      "\n"
     ]
    }
   ],
   "source": [
    "for i in range(2,6):\n",
    "    \n",
    "    print('=' * 50, f\" Frozen Layer Group {i}\", '=' * 50)\n",
    "    \n",
    "    classifierModel.freeze_to(-i)\n",
    "    \n",
    "    classifierModel.fit_one_cycle(1,slice(1e-6,2e-6),moms=(0.8,0.7))\n",
    "    \n",
    "    print ('')"
   ]
  },
  {
   "cell_type": "code",
   "execution_count": 49,
   "metadata": {
    "execution": {
     "iopub.execute_input": "2020-08-24T02:24:44.477858Z",
     "iopub.status.busy": "2020-08-24T02:24:44.476978Z",
     "iopub.status.idle": "2020-08-24T02:24:45.176922Z",
     "shell.execute_reply": "2020-08-24T02:24:45.176358Z"
    },
    "papermill": {
     "duration": 0.777687,
     "end_time": "2020-08-24T02:24:45.177053",
     "exception": false,
     "start_time": "2020-08-24T02:24:44.399366",
     "status": "completed"
    },
    "tags": []
   },
   "outputs": [],
   "source": [
    "classifierModel.save('classifierModel2')"
   ]
  },
  {
   "cell_type": "code",
   "execution_count": 50,
   "metadata": {
    "execution": {
     "iopub.execute_input": "2020-08-24T02:24:45.332969Z",
     "iopub.status.busy": "2020-08-24T02:24:45.331985Z",
     "iopub.status.idle": "2020-08-24T02:24:45.853529Z",
     "shell.execute_reply": "2020-08-24T02:24:45.854078Z"
    },
    "papermill": {
     "duration": 0.602357,
     "end_time": "2020-08-24T02:24:45.854234",
     "exception": false,
     "start_time": "2020-08-24T02:24:45.251877",
     "status": "completed"
    },
    "tags": []
   },
   "outputs": [],
   "source": [
    "seed_all(seed)\n",
    "\n",
    "classifierModel.load('classifierModel2');"
   ]
  },
  {
   "cell_type": "code",
   "execution_count": 51,
   "metadata": {
    "execution": {
     "iopub.execute_input": "2020-08-24T02:24:46.013098Z",
     "iopub.status.busy": "2020-08-24T02:24:46.012244Z",
     "iopub.status.idle": "2020-08-24T02:24:46.015272Z",
     "shell.execute_reply": "2020-08-24T02:24:46.014744Z"
    },
    "papermill": {
     "duration": 0.08604,
     "end_time": "2020-08-24T02:24:46.015374",
     "exception": false,
     "start_time": "2020-08-24T02:24:45.929334",
     "status": "completed"
    },
    "tags": []
   },
   "outputs": [],
   "source": [
    "classifierModel.unfreeze()"
   ]
  },
  {
   "cell_type": "code",
   "execution_count": 52,
   "metadata": {
    "execution": {
     "iopub.execute_input": "2020-08-24T02:24:46.173624Z",
     "iopub.status.busy": "2020-08-24T02:24:46.172583Z",
     "iopub.status.idle": "2020-08-24T02:37:53.918779Z",
     "shell.execute_reply": "2020-08-24T02:37:53.924050Z"
    },
    "papermill": {
     "duration": 787.833911,
     "end_time": "2020-08-24T02:37:53.924255",
     "exception": false,
     "start_time": "2020-08-24T02:24:46.090344",
     "status": "completed"
    },
    "tags": []
   },
   "outputs": [
    {
     "name": "stdout",
     "output_type": "stream",
     "text": [
      "==================================================  All Layers Unfrozen  ==================================================\n"
     ]
    },
    {
     "data": {
      "text/html": [
       "<table border=\"1\" class=\"dataframe\">\n",
       "  <thead>\n",
       "    <tr style=\"text-align: left;\">\n",
       "      <th>epoch</th>\n",
       "      <th>train_loss</th>\n",
       "      <th>valid_loss</th>\n",
       "      <th>MicroF1</th>\n",
       "      <th>Computer Science</th>\n",
       "      <th>Physics</th>\n",
       "      <th>Mathematics</th>\n",
       "      <th>Statistics</th>\n",
       "      <th>Quantitative Biology</th>\n",
       "      <th>Quantitative Finance</th>\n",
       "      <th>time</th>\n",
       "    </tr>\n",
       "  </thead>\n",
       "  <tbody>\n",
       "    <tr>\n",
       "      <td>0</td>\n",
       "      <td>0.149305</td>\n",
       "      <td>0.160554</td>\n",
       "      <td>0.845806</td>\n",
       "      <td>0.943380</td>\n",
       "      <td>0.978365</td>\n",
       "      <td>0.955203</td>\n",
       "      <td>0.953735</td>\n",
       "      <td>0.969997</td>\n",
       "      <td>0.992736</td>\n",
       "      <td>06:21</td>\n",
       "    </tr>\n",
       "    <tr>\n",
       "      <td>1</td>\n",
       "      <td>0.145351</td>\n",
       "      <td>0.157776</td>\n",
       "      <td>0.851869</td>\n",
       "      <td>0.944443</td>\n",
       "      <td>0.977728</td>\n",
       "      <td>0.956607</td>\n",
       "      <td>0.954480</td>\n",
       "      <td>0.970349</td>\n",
       "      <td>0.991804</td>\n",
       "      <td>06:45</td>\n",
       "    </tr>\n",
       "  </tbody>\n",
       "</table>"
      ],
      "text/plain": [
       "<IPython.core.display.HTML object>"
      ]
     },
     "metadata": {},
     "output_type": "display_data"
    },
    {
     "data": {
      "image/png": "[encoded data removed]",
      "text/plain": [
       "<Figure size 432x288 with 1 Axes>"
      ]
     },
     "metadata": {},
     "output_type": "display_data"
    }
   ],
   "source": [
    "print('=' * 50, f\" All Layers Unfrozen \", '=' * 50)\n",
    "classifierModel.fit_one_cycle(2, max_lr=slice(1e-6,2e-6), moms=(0.8, 0.9))"
   ]
  },
  {
   "cell_type": "code",
   "execution_count": 53,
   "metadata": {
    "execution": {
     "iopub.execute_input": "2020-08-24T02:37:54.210088Z",
     "iopub.status.busy": "2020-08-24T02:37:54.209039Z",
     "iopub.status.idle": "2020-08-24T02:37:54.415975Z",
     "shell.execute_reply": "2020-08-24T02:37:54.417104Z"
    },
    "papermill": {
     "duration": 0.342385,
     "end_time": "2020-08-24T02:37:54.417317",
     "exception": false,
     "start_time": "2020-08-24T02:37:54.074932",
     "status": "completed"
    },
    "tags": []
   },
   "outputs": [
    {
     "data": {
      "text/html": [
       "<table border=\"1\" class=\"dataframe\">\n",
       "  <thead>\n",
       "    <tr style=\"text-align: right;\">\n",
       "      <th>text</th>\n",
       "      <th>target</th>\n",
       "      <th>prediction</th>\n",
       "    </tr>\n",
       "  </thead>\n",
       "  <tbody>\n",
       "    <tr>\n",
       "      <td>[CLS] sub ##log ##arith ##mic distributed algorithms for lov ##as ##z local lemma , and the complexity hierarchy &lt; join &gt; locally check ##able labeling ( lc ##l ) problems include essentially all the classic problems of $ \\ math ##sf { local } $ distributed algorithms . in a recent enl ##ight ##ening reve ##lation , chang and pet ##tie [ arxiv 170 ##4 . 06 ##29 ##7 ]</td>\n",
       "      <td>Computer Science</td>\n",
       "      <td>Computer Science</td>\n",
       "    </tr>\n",
       "    <tr>\n",
       "      <td>[CLS] holog ##raph ##y and kos ##zu ##l duality : the example of the $ m ##2 $ brane &lt; join &gt; si li and author suggested in that , in some cases , the ads / cf ##t correspondence can be formulated in terms of the algebraic operation of kos ##zu ##l duality . in this paper this suggestion is checked explicitly for $ m ##2 $ brane ##s</td>\n",
       "      <td>Mathematics</td>\n",
       "      <td>Physics</td>\n",
       "    </tr>\n",
       "    <tr>\n",
       "      <td>[CLS] whole planet coupling between climate , mantle , and core : implications for the evolution of rock ##y planets &lt; join &gt; earth ' s climate , mantle , and core interact over geo ##log ##ic timescale ##s . climate influences whether plate tect ##onic ##s can take place on a planet , with cool climate ##s being favorable for plate tect ##onic ##s because they enhance stresses in</td>\n",
       "      <td>Physics</td>\n",
       "      <td>Physics</td>\n",
       "    </tr>\n",
       "    <tr>\n",
       "      <td>[CLS] covering and til ##ing hyper ##graphs with tight cycles &lt; join &gt; given $ 3 \\ le ##q k \\ le ##q s $ , we say that a $ k $ - uniform hyper ##graph $ c ^ k _ s $ is a tight cycle on $ s $ vertices if there is a cyclic ordering of the vertices of $ c ^ k _ s $</td>\n",
       "      <td>Mathematics</td>\n",
       "      <td>Computer Science;Mathematics</td>\n",
       "    </tr>\n",
       "    <tr>\n",
       "      <td>[CLS] what drives galactic magnet ##ism ? &lt; join &gt; we aim to use statistical analysis of a large number of various galaxies to probe , model , and understand relations between different galaxy properties and magnetic fields . we have compiled a sample of 55 galaxies including low - mass dwarf and mag ##ella ##nic - types , normal spiral ##s and several massive star ##burst ##s , and</td>\n",
       "      <td>Physics</td>\n",
       "      <td>Physics</td>\n",
       "    </tr>\n",
       "  </tbody>\n",
       "</table>"
      ],
      "text/plain": [
       "<IPython.core.display.HTML object>"
      ]
     },
     "metadata": {},
     "output_type": "display_data"
    }
   ],
   "source": [
    "classifierModel.show_results()"
   ]
  },
  {
   "cell_type": "code",
   "execution_count": 54,
   "metadata": {
    "execution": {
     "iopub.execute_input": "2020-08-24T02:37:54.603694Z",
     "iopub.status.busy": "2020-08-24T02:37:54.602690Z",
     "iopub.status.idle": "2020-08-24T02:39:21.448700Z",
     "shell.execute_reply": "2020-08-24T02:39:21.448175Z"
    },
    "papermill": {
     "duration": 86.930417,
     "end_time": "2020-08-24T02:39:21.448820",
     "exception": false,
     "start_time": "2020-08-24T02:37:54.518403",
     "status": "completed"
    },
    "tags": []
   },
   "outputs": [
    {
     "data": {
      "text/html": [],
      "text/plain": [
       "<IPython.core.display.HTML object>"
      ]
     },
     "metadata": {},
     "output_type": "display_data"
    }
   ],
   "source": [
    "class_probs = classifierModel.get_preds(DatasetType.Test)[0]"
   ]
  },
  {
   "cell_type": "code",
   "execution_count": 55,
   "metadata": {
    "execution": {
     "iopub.execute_input": "2020-08-24T02:39:21.606167Z",
     "iopub.status.busy": "2020-08-24T02:39:21.605248Z",
     "iopub.status.idle": "2020-08-24T02:39:21.612724Z",
     "shell.execute_reply": "2020-08-24T02:39:21.613330Z"
    },
    "papermill": {
     "duration": 0.089488,
     "end_time": "2020-08-24T02:39:21.613475",
     "exception": false,
     "start_time": "2020-08-24T02:39:21.523987",
     "status": "completed"
    },
    "tags": []
   },
   "outputs": [],
   "source": [
    "def get_preds_as_nparray(ds_type) -> np.ndarray:\n",
    "    \"\"\"\n",
    "    the get_preds method does not yield the elements in order by default\n",
    "    we borrow the code from the RNNLearner to resort the elements into their correct order\n",
    "    \"\"\"\n",
    "    preds = (class_probs > 0.4).byte().detach().cpu().numpy()\n",
    "    \n",
    "    sampler = [i for i in data_classifier.dl(ds_type).sampler]\n",
    "    \n",
    "    reverse_sampler = np.argsort(sampler)\n",
    "    \n",
    "    return preds[reverse_sampler, :]\n",
    "\n",
    "preds = get_preds_as_nparray(DatasetType.Test)"
   ]
  },
  {
   "cell_type": "code",
   "execution_count": 56,
   "metadata": {
    "execution": {
     "iopub.execute_input": "2020-08-24T02:39:21.778337Z",
     "iopub.status.busy": "2020-08-24T02:39:21.777730Z",
     "iopub.status.idle": "2020-08-24T02:39:21.978355Z",
     "shell.execute_reply": "2020-08-24T02:39:21.978877Z"
    },
    "papermill": {
     "duration": 0.286958,
     "end_time": "2020-08-24T02:39:21.979079",
     "exception": false,
     "start_time": "2020-08-24T02:39:21.692121",
     "status": "completed"
    },
    "tags": []
   },
   "outputs": [
    {
     "data": {
      "text/html": [
       "<div>\n",
       "<style scoped>\n",
       "    .dataframe tbody tr th:only-of-type {\n",
       "        vertical-align: middle;\n",
       "    }\n",
       "\n",
       "    .dataframe tbody tr th {\n",
       "        vertical-align: top;\n",
       "    }\n",
       "\n",
       "    .dataframe thead th {\n",
       "        text-align: right;\n",
       "    }\n",
       "</style>\n",
       "<table border=\"1\" class=\"dataframe\">\n",
       "  <thead>\n",
       "    <tr style=\"text-align: right;\">\n",
       "      <th></th>\n",
       "      <th>ID</th>\n",
       "      <th>Computer Science</th>\n",
       "      <th>Physics</th>\n",
       "      <th>Mathematics</th>\n",
       "      <th>Statistics</th>\n",
       "      <th>Quantitative Biology</th>\n",
       "      <th>Quantitative Finance</th>\n",
       "    </tr>\n",
       "  </thead>\n",
       "  <tbody>\n",
       "    <tr>\n",
       "      <th>0</th>\n",
       "      <td>20973</td>\n",
       "      <td>1</td>\n",
       "      <td>0</td>\n",
       "      <td>0</td>\n",
       "      <td>1</td>\n",
       "      <td>0</td>\n",
       "      <td>0</td>\n",
       "    </tr>\n",
       "    <tr>\n",
       "      <th>1</th>\n",
       "      <td>20974</td>\n",
       "      <td>0</td>\n",
       "      <td>1</td>\n",
       "      <td>0</td>\n",
       "      <td>0</td>\n",
       "      <td>0</td>\n",
       "      <td>0</td>\n",
       "    </tr>\n",
       "    <tr>\n",
       "      <th>2</th>\n",
       "      <td>20975</td>\n",
       "      <td>1</td>\n",
       "      <td>0</td>\n",
       "      <td>0</td>\n",
       "      <td>0</td>\n",
       "      <td>0</td>\n",
       "      <td>0</td>\n",
       "    </tr>\n",
       "    <tr>\n",
       "      <th>3</th>\n",
       "      <td>20976</td>\n",
       "      <td>0</td>\n",
       "      <td>1</td>\n",
       "      <td>0</td>\n",
       "      <td>0</td>\n",
       "      <td>0</td>\n",
       "      <td>0</td>\n",
       "    </tr>\n",
       "    <tr>\n",
       "      <th>4</th>\n",
       "      <td>20977</td>\n",
       "      <td>1</td>\n",
       "      <td>0</td>\n",
       "      <td>0</td>\n",
       "      <td>0</td>\n",
       "      <td>0</td>\n",
       "      <td>0</td>\n",
       "    </tr>\n",
       "  </tbody>\n",
       "</table>\n",
       "</div>"
      ],
      "text/plain": [
       "      ID  Computer Science  Physics  Mathematics  Statistics  \\\n",
       "0  20973                 1        0            0           1   \n",
       "1  20974                 0        1            0           0   \n",
       "2  20975                 1        0            0           0   \n",
       "3  20976                 0        1            0           0   \n",
       "4  20977                 1        0            0           0   \n",
       "\n",
       "   Quantitative Biology  Quantitative Finance  \n",
       "0                     0                     0  \n",
       "1                     0                     0  \n",
       "2                     0                     0  \n",
       "3                     0                     0  \n",
       "4                     0                     0  "
      ]
     },
     "execution_count": 56,
     "metadata": {},
     "output_type": "execute_result"
    }
   ],
   "source": [
    "submission = pd.read_csv('/kaggle/input/researchtopictags/sample.csv')\n",
    "\n",
    "submission.iloc[:,1:] =  preds\n",
    "\n",
    "submission.to_csv('submission.csv', index=False)\n",
    "\n",
    "submission.head()"
   ]
  },
  {
   "cell_type": "markdown",
   "execution_count": null,
   "metadata": {
    "papermill": {
     "duration": 0.07739,
     "end_time": "2020-08-24T02:39:22.136837",
     "exception": false,
     "start_time": "2020-08-24T02:39:22.059447",
     "status": "completed"
    },
    "tags": []
   },
   "source": [
    "# References\n",
    "\n",
    "https://mlexplained.com/2019/05/13/a-tutorial-to-fine-tuning-bert-with-fast-ai/\n",
    "\n",
    "https://github.com/fastai/fastai/blob/master/fastai/metrics.py#L318\n",
    "\n",
    "https://sgugger.github.io/the-1cycle-policy.html"
   ]
  },
  {
   "cell_type": "code",
   "execution_count": null,
   "metadata": {
    "papermill": {
     "duration": 0.075041,
     "end_time": "2020-08-24T02:39:22.287861",
     "exception": false,
     "start_time": "2020-08-24T02:39:22.212820",
     "status": "completed"
    },
    "tags": []
   },
   "outputs": [],
   "source": []
  }
 ],
 "metadata": {
  "kernelspec": {
   "display_name": "Python 3",
   "language": "python",
   "name": "python3"
  },
  "language_info": {
   "codemirror_mode": {
    "name": "ipython",
    "version": 3
   },
   "file_extension": ".py",
   "mimetype": "text/x-python",
   "name": "python",
   "nbconvert_exporter": "python",
   "pygments_lexer": "ipython3",
   "version": "3.7.6"
  },
  "papermill": {
   "duration": 2939.012522,
   "end_time": "2020-08-24T02:39:23.173975",
   "environment_variables": {},
   "exception": null,
   "input_path": "__notebook__.ipynb",
   "output_path": "__notebook__.ipynb",
   "parameters": {},
   "start_time": "2020-08-24T01:50:24.161453",
   "version": "2.1.0"
  },
  "widgets": {
   "application/vnd.jupyter.widget-state+json": {
    "state": {
     "0817f656bbeb4ad5be11319c81575616": {
      "model_module": "@jupyter-widgets/base",
      "model_module_version": "1.2.0",
      "model_name": "LayoutModel",
      "state": {
       "_model_module": "@jupyter-widgets/base",
       "_model_module_version": "1.2.0",
       "_model_name": "LayoutModel",
       "_view_count": null,
       "_view_module": "@jupyter-widgets/base",
       "_view_module_version": "1.2.0",
       "_view_name": "LayoutView",
       "align_content": null,
       "align_items": null,
       "align_self": null,
       "border": null,
       "bottom": null,
       "display": null,
       "flex": null,
       "flex_flow": null,
       "grid_area": null,
       "grid_auto_columns": null,
       "grid_auto_flow": null,
       "grid_auto_rows": null,
       "grid_column": null,
       "grid_gap": null,
       "grid_row": null,
       "grid_template_areas": null,
       "grid_template_columns": null,
       "grid_template_rows": null,
       "height": null,
       "justify_content": null,
       "justify_items": null,
       "left": null,
       "margin": null,
       "max_height": null,
       "max_width": null,
       "min_height": null,
       "min_width": null,
       "object_fit": null,
       "object_position": null,
       "order": null,
       "overflow": null,
       "overflow_x": null,
       "overflow_y": null,
       "padding": null,
       "right": null,
       "top": null,
       "visibility": null,
       "width": null
      }
     },
     "0b64a26b443f4d9f88d72448a002f00d": {
      "model_module": "@jupyter-widgets/base",
      "model_module_version": "1.2.0",
      "model_name": "LayoutModel",
      "state": {
       "_model_module": "@jupyter-widgets/base",
       "_model_module_version": "1.2.0",
       "_model_name": "LayoutModel",
       "_view_count": null,
       "_view_module": "@jupyter-widgets/base",
       "_view_module_version": "1.2.0",
       "_view_name": "LayoutView",
       "align_content": null,
       "align_items": null,
       "align_self": null,
       "border": null,
       "bottom": null,
       "display": null,
       "flex": null,
       "flex_flow": null,
       "grid_area": null,
       "grid_auto_columns": null,
       "grid_auto_flow": null,
       "grid_auto_rows": null,
       "grid_column": null,
       "grid_gap": null,
       "grid_row": null,
       "grid_template_areas": null,
       "grid_template_columns": null,
       "grid_template_rows": null,
       "height": null,
       "justify_content": null,
       "justify_items": null,
       "left": null,
       "margin": null,
       "max_height": null,
       "max_width": null,
       "min_height": null,
       "min_width": null,
       "object_fit": null,
       "object_position": null,
       "order": null,
       "overflow": null,
       "overflow_x": null,
       "overflow_y": null,
       "padding": null,
       "right": null,
       "top": null,
       "visibility": null,
       "width": null
      }
     },
     "1781f7e0555c4f3c87c09c2e186ceae5": {
      "model_module": "@jupyter-widgets/base",
      "model_module_version": "1.2.0",
      "model_name": "LayoutModel",
      "state": {
       "_model_module": "@jupyter-widgets/base",
       "_model_module_version": "1.2.0",
       "_model_name": "LayoutModel",
       "_view_count": null,
       "_view_module": "@jupyter-widgets/base",
       "_view_module_version": "1.2.0",
       "_view_name": "LayoutView",
       "align_content": null,
       "align_items": null,
       "align_self": null,
       "border": null,
       "bottom": null,
       "display": null,
       "flex": null,
       "flex_flow": null,
       "grid_area": null,
       "grid_auto_columns": null,
       "grid_auto_flow": null,
       "grid_auto_rows": null,
       "grid_column": null,
       "grid_gap": null,
       "grid_row": null,
       "grid_template_areas": null,
       "grid_template_columns": null,
       "grid_template_rows": null,
       "height": null,
       "justify_content": null,
       "justify_items": null,
       "left": null,
       "margin": null,
       "max_height": null,
       "max_width": null,
       "min_height": null,
       "min_width": null,
       "object_fit": null,
       "object_position": null,
       "order": null,
       "overflow": null,
       "overflow_x": null,
       "overflow_y": null,
       "padding": null,
       "right": null,
       "top": null,
       "visibility": null,
       "width": null
      }
     },
     "2739dc5b846c4531b475c81cc16bf6b2": {
      "model_module": "@jupyter-widgets/base",
      "model_module_version": "1.2.0",
      "model_name": "LayoutModel",
      "state": {
       "_model_module": "@jupyter-widgets/base",
       "_model_module_version": "1.2.0",
       "_model_name": "LayoutModel",
       "_view_count": null,
       "_view_module": "@jupyter-widgets/base",
       "_view_module_version": "1.2.0",
       "_view_name": "LayoutView",
       "align_content": null,
       "align_items": null,
       "align_self": null,
       "border": null,
       "bottom": null,
       "display": null,
       "flex": null,
       "flex_flow": null,
       "grid_area": null,
       "grid_auto_columns": null,
       "grid_auto_flow": null,
       "grid_auto_rows": null,
       "grid_column": null,
       "grid_gap": null,
       "grid_row": null,
       "grid_template_areas": null,
       "grid_template_columns": null,
       "grid_template_rows": null,
       "height": null,
       "justify_content": null,
       "justify_items": null,
       "left": null,
       "margin": null,
       "max_height": null,
       "max_width": null,
       "min_height": null,
       "min_width": null,
       "object_fit": null,
       "object_position": null,
       "order": null,
       "overflow": null,
       "overflow_x": null,
       "overflow_y": null,
       "padding": null,
       "right": null,
       "top": null,
       "visibility": null,
       "width": null
      }
     },
     "3041e303ae8a47d2aef608e4e0dc02c1": {
      "model_module": "@jupyter-widgets/controls",
      "model_module_version": "1.5.0",
      "model_name": "HTMLModel",
      "state": {
       "_dom_classes": [],
       "_model_module": "@jupyter-widgets/controls",
       "_model_module_version": "1.5.0",
       "_model_name": "HTMLModel",
       "_view_count": null,
       "_view_module": "@jupyter-widgets/controls",
       "_view_module_version": "1.5.0",
       "_view_name": "HTMLView",
       "description": "",
       "description_tooltip": null,
       "layout": "IPY_MODEL_3f4ae9e4ddce47af81266c1f751b7f24",
       "placeholder": "​",
       "style": "IPY_MODEL_ca55278838d3402998fc7d9c05cb5751",
       "value": " 385/385 [00:01&lt;00:00, 286B/s]"
      }
     },
     "39b1b8c3f67b4f4eac2108d6696bf3c5": {
      "model_module": "@jupyter-widgets/controls",
      "model_module_version": "1.5.0",
      "model_name": "DescriptionStyleModel",
      "state": {
       "_model_module": "@jupyter-widgets/controls",
       "_model_module_version": "1.5.0",
       "_model_name": "DescriptionStyleModel",
       "_view_count": null,
       "_view_module": "@jupyter-widgets/base",
       "_view_module_version": "1.2.0",
       "_view_name": "StyleView",
       "description_width": ""
      }
     },
     "3f4ae9e4ddce47af81266c1f751b7f24": {
      "model_module": "@jupyter-widgets/base",
      "model_module_version": "1.2.0",
      "model_name": "LayoutModel",
      "state": {
       "_model_module": "@jupyter-widgets/base",
       "_model_module_version": "1.2.0",
       "_model_name": "LayoutModel",
       "_view_count": null,
       "_view_module": "@jupyter-widgets/base",
       "_view_module_version": "1.2.0",
       "_view_name": "LayoutView",
       "align_content": null,
       "align_items": null,
       "align_self": null,
       "border": null,
       "bottom": null,
       "display": null,
       "flex": null,
       "flex_flow": null,
       "grid_area": null,
       "grid_auto_columns": null,
       "grid_auto_flow": null,
       "grid_auto_rows": null,
       "grid_column": null,
       "grid_gap": null,
       "grid_row": null,
       "grid_template_areas": null,
       "grid_template_columns": null,
       "grid_template_rows": null,
       "height": null,
       "justify_content": null,
       "justify_items": null,
       "left": null,
       "margin": null,
       "max_height": null,
       "max_width": null,
       "min_height": null,
       "min_width": null,
       "object_fit": null,
       "object_position": null,
       "order": null,
       "overflow": null,
       "overflow_x": null,
       "overflow_y": null,
       "padding": null,
       "right": null,
       "top": null,
       "visibility": null,
       "width": null
      }
     },
     "4682a46b0add4af08b87af57d110fcc5": {
      "model_module": "@jupyter-widgets/controls",
      "model_module_version": "1.5.0",
      "model_name": "ProgressStyleModel",
      "state": {
       "_model_module": "@jupyter-widgets/controls",
       "_model_module_version": "1.5.0",
       "_model_name": "ProgressStyleModel",
       "_view_count": null,
       "_view_module": "@jupyter-widgets/base",
       "_view_module_version": "1.2.0",
       "_view_name": "StyleView",
       "bar_color": null,
       "description_width": "initial"
      }
     },
     "48f998464c7c401297a29583bc02016f": {
      "model_module": "@jupyter-widgets/base",
      "model_module_version": "1.2.0",
      "model_name": "LayoutModel",
      "state": {
       "_model_module": "@jupyter-widgets/base",
       "_model_module_version": "1.2.0",
       "_model_name": "LayoutModel",
       "_view_count": null,
       "_view_module": "@jupyter-widgets/base",
       "_view_module_version": "1.2.0",
       "_view_name": "LayoutView",
       "align_content": null,
       "align_items": null,
       "align_self": null,
       "border": null,
       "bottom": null,
       "display": null,
       "flex": null,
       "flex_flow": null,
       "grid_area": null,
       "grid_auto_columns": null,
       "grid_auto_flow": null,
       "grid_auto_rows": null,
       "grid_column": null,
       "grid_gap": null,
       "grid_row": null,
       "grid_template_areas": null,
       "grid_template_columns": null,
       "grid_template_rows": null,
       "height": null,
       "justify_content": null,
       "justify_items": null,
       "left": null,
       "margin": null,
       "max_height": null,
       "max_width": null,
       "min_height": null,
       "min_width": null,
       "object_fit": null,
       "object_position": null,
       "order": null,
       "overflow": null,
       "overflow_x": null,
       "overflow_y": null,
       "padding": null,
       "right": null,
       "top": null,
       "visibility": null,
       "width": null
      }
     },
     "4de9e887704540349ae122a5488f21d7": {
      "model_module": "@jupyter-widgets/base",
      "model_module_version": "1.2.0",
      "model_name": "LayoutModel",
      "state": {
       "_model_module": "@jupyter-widgets/base",
       "_model_module_version": "1.2.0",
       "_model_name": "LayoutModel",
       "_view_count": null,
       "_view_module": "@jupyter-widgets/base",
       "_view_module_version": "1.2.0",
       "_view_name": "LayoutView",
       "align_content": null,
       "align_items": null,
       "align_self": null,
       "border": null,
       "bottom": null,
       "display": null,
       "flex": null,
       "flex_flow": null,
       "grid_area": null,
       "grid_auto_columns": null,
       "grid_auto_flow": null,
       "grid_auto_rows": null,
       "grid_column": null,
       "grid_gap": null,
       "grid_row": null,
       "grid_template_areas": null,
       "grid_template_columns": null,
       "grid_template_rows": null,
       "height": null,
       "justify_content": null,
       "justify_items": null,
       "left": null,
       "margin": null,
       "max_height": null,
       "max_width": null,
       "min_height": null,
       "min_width": null,
       "object_fit": null,
       "object_position": null,
       "order": null,
       "overflow": null,
       "overflow_x": null,
       "overflow_y": null,
       "padding": null,
       "right": null,
       "top": null,
       "visibility": null,
       "width": null
      }
     },
     "5df4dadd6c9d4f499287a92f21979b85": {
      "model_module": "@jupyter-widgets/controls",
      "model_module_version": "1.5.0",
      "model_name": "ProgressStyleModel",
      "state": {
       "_model_module": "@jupyter-widgets/controls",
       "_model_module_version": "1.5.0",
       "_model_name": "ProgressStyleModel",
       "_view_count": null,
       "_view_module": "@jupyter-widgets/base",
       "_view_module_version": "1.2.0",
       "_view_name": "StyleView",
       "bar_color": null,
       "description_width": "initial"
      }
     },
     "672a16fdc1e64e7a928e779307eb6b1a": {
      "model_module": "@jupyter-widgets/controls",
      "model_module_version": "1.5.0",
      "model_name": "FloatProgressModel",
      "state": {
       "_dom_classes": [],
       "_model_module": "@jupyter-widgets/controls",
       "_model_module_version": "1.5.0",
       "_model_name": "FloatProgressModel",
       "_view_count": null,
       "_view_module": "@jupyter-widgets/controls",
       "_view_module_version": "1.5.0",
       "_view_name": "ProgressView",
       "bar_style": "success",
       "description": "Downloading: 100%",
       "description_tooltip": null,
       "layout": "IPY_MODEL_7f0b2d57e553451886ba2d0e8c3fab61",
       "max": 385.0,
       "min": 0.0,
       "orientation": "horizontal",
       "style": "IPY_MODEL_db2e50bacc8e40558e48145ce501bd71",
       "value": 385.0
      }
     },
     "678281bea75d43d994d778ebfb20219c": {
      "model_module": "@jupyter-widgets/controls",
      "model_module_version": "1.5.0",
      "model_name": "HTMLModel",
      "state": {
       "_dom_classes": [],
       "_model_module": "@jupyter-widgets/controls",
       "_model_module_version": "1.5.0",
       "_model_name": "HTMLModel",
       "_view_count": null,
       "_view_module": "@jupyter-widgets/controls",
       "_view_module_version": "1.5.0",
       "_view_name": "HTMLView",
       "description": "",
       "description_tooltip": null,
       "layout": "IPY_MODEL_2739dc5b846c4531b475c81cc16bf6b2",
       "placeholder": "​",
       "style": "IPY_MODEL_75bcbd2912624a1eb45fb6505577b618",
       "value": " 228k/228k [00:00&lt;00:00, 313kB/s]"
      }
     },
     "75bcbd2912624a1eb45fb6505577b618": {
      "model_module": "@jupyter-widgets/controls",
      "model_module_version": "1.5.0",
      "model_name": "DescriptionStyleModel",
      "state": {
       "_model_module": "@jupyter-widgets/controls",
       "_model_module_version": "1.5.0",
       "_model_name": "DescriptionStyleModel",
       "_view_count": null,
       "_view_module": "@jupyter-widgets/base",
       "_view_module_version": "1.2.0",
       "_view_name": "StyleView",
       "description_width": ""
      }
     },
     "7d6cb9f399894d08bb793768dc18aff2": {
      "model_module": "@jupyter-widgets/base",
      "model_module_version": "1.2.0",
      "model_name": "LayoutModel",
      "state": {
       "_model_module": "@jupyter-widgets/base",
       "_model_module_version": "1.2.0",
       "_model_name": "LayoutModel",
       "_view_count": null,
       "_view_module": "@jupyter-widgets/base",
       "_view_module_version": "1.2.0",
       "_view_name": "LayoutView",
       "align_content": null,
       "align_items": null,
       "align_self": null,
       "border": null,
       "bottom": null,
       "display": null,
       "flex": null,
       "flex_flow": null,
       "grid_area": null,
       "grid_auto_columns": null,
       "grid_auto_flow": null,
       "grid_auto_rows": null,
       "grid_column": null,
       "grid_gap": null,
       "grid_row": null,
       "grid_template_areas": null,
       "grid_template_columns": null,
       "grid_template_rows": null,
       "height": null,
       "justify_content": null,
       "justify_items": null,
       "left": null,
       "margin": null,
       "max_height": null,
       "max_width": null,
       "min_height": null,
       "min_width": null,
       "object_fit": null,
       "object_position": null,
       "order": null,
       "overflow": null,
       "overflow_x": null,
       "overflow_y": null,
       "padding": null,
       "right": null,
       "top": null,
       "visibility": null,
       "width": null
      }
     },
     "7f0b2d57e553451886ba2d0e8c3fab61": {
      "model_module": "@jupyter-widgets/base",
      "model_module_version": "1.2.0",
      "model_name": "LayoutModel",
      "state": {
       "_model_module": "@jupyter-widgets/base",
       "_model_module_version": "1.2.0",
       "_model_name": "LayoutModel",
       "_view_count": null,
       "_view_module": "@jupyter-widgets/base",
       "_view_module_version": "1.2.0",
       "_view_name": "LayoutView",
       "align_content": null,
       "align_items": null,
       "align_self": null,
       "border": null,
       "bottom": null,
       "display": null,
       "flex": null,
       "flex_flow": null,
       "grid_area": null,
       "grid_auto_columns": null,
       "grid_auto_flow": null,
       "grid_auto_rows": null,
       "grid_column": null,
       "grid_gap": null,
       "grid_row": null,
       "grid_template_areas": null,
       "grid_template_columns": null,
       "grid_template_rows": null,
       "height": null,
       "justify_content": null,
       "justify_items": null,
       "left": null,
       "margin": null,
       "max_height": null,
       "max_width": null,
       "min_height": null,
       "min_width": null,
       "object_fit": null,
       "object_position": null,
       "order": null,
       "overflow": null,
       "overflow_x": null,
       "overflow_y": null,
       "padding": null,
       "right": null,
       "top": null,
       "visibility": null,
       "width": null
      }
     },
     "8c329c74cb3a4fe185ee69e959b1bc8d": {
      "model_module": "@jupyter-widgets/controls",
      "model_module_version": "1.5.0",
      "model_name": "HBoxModel",
      "state": {
       "_dom_classes": [],
       "_model_module": "@jupyter-widgets/controls",
       "_model_module_version": "1.5.0",
       "_model_name": "HBoxModel",
       "_view_count": null,
       "_view_module": "@jupyter-widgets/controls",
       "_view_module_version": "1.5.0",
       "_view_name": "HBoxView",
       "box_style": "",
       "children": [
        "IPY_MODEL_db3d1c7a2ad64425aa9f4c12da10ad83",
        "IPY_MODEL_678281bea75d43d994d778ebfb20219c"
       ],
       "layout": "IPY_MODEL_0b64a26b443f4d9f88d72448a002f00d"
      }
     },
     "a4188df9cb14445885f5b0e42886fb89": {
      "model_module": "@jupyter-widgets/controls",
      "model_module_version": "1.5.0",
      "model_name": "HTMLModel",
      "state": {
       "_dom_classes": [],
       "_model_module": "@jupyter-widgets/controls",
       "_model_module_version": "1.5.0",
       "_model_name": "HTMLModel",
       "_view_count": null,
       "_view_module": "@jupyter-widgets/controls",
       "_view_module_version": "1.5.0",
       "_view_name": "HTMLView",
       "description": "",
       "description_tooltip": null,
       "layout": "IPY_MODEL_1781f7e0555c4f3c87c09c2e186ceae5",
       "placeholder": "​",
       "style": "IPY_MODEL_39b1b8c3f67b4f4eac2108d6696bf3c5",
       "value": " 442M/442M [00:14&lt;00:00, 30.8MB/s]"
      }
     },
     "ae1a8103fbde42809b044c517ee01088": {
      "model_module": "@jupyter-widgets/controls",
      "model_module_version": "1.5.0",
      "model_name": "HBoxModel",
      "state": {
       "_dom_classes": [],
       "_model_module": "@jupyter-widgets/controls",
       "_model_module_version": "1.5.0",
       "_model_name": "HBoxModel",
       "_view_count": null,
       "_view_module": "@jupyter-widgets/controls",
       "_view_module_version": "1.5.0",
       "_view_name": "HBoxView",
       "box_style": "",
       "children": [
        "IPY_MODEL_672a16fdc1e64e7a928e779307eb6b1a",
        "IPY_MODEL_3041e303ae8a47d2aef608e4e0dc02c1"
       ],
       "layout": "IPY_MODEL_4de9e887704540349ae122a5488f21d7"
      }
     },
     "ca55278838d3402998fc7d9c05cb5751": {
      "model_module": "@jupyter-widgets/controls",
      "model_module_version": "1.5.0",
      "model_name": "DescriptionStyleModel",
      "state": {
       "_model_module": "@jupyter-widgets/controls",
       "_model_module_version": "1.5.0",
       "_model_name": "DescriptionStyleModel",
       "_view_count": null,
       "_view_module": "@jupyter-widgets/base",
       "_view_module_version": "1.2.0",
       "_view_name": "StyleView",
       "description_width": ""
      }
     },
     "db2e50bacc8e40558e48145ce501bd71": {
      "model_module": "@jupyter-widgets/controls",
      "model_module_version": "1.5.0",
      "model_name": "ProgressStyleModel",
      "state": {
       "_model_module": "@jupyter-widgets/controls",
       "_model_module_version": "1.5.0",
       "_model_name": "ProgressStyleModel",
       "_view_count": null,
       "_view_module": "@jupyter-widgets/base",
       "_view_module_version": "1.2.0",
       "_view_name": "StyleView",
       "bar_color": null,
       "description_width": "initial"
      }
     },
     "db3d1c7a2ad64425aa9f4c12da10ad83": {
      "model_module": "@jupyter-widgets/controls",
      "model_module_version": "1.5.0",
      "model_name": "FloatProgressModel",
      "state": {
       "_dom_classes": [],
       "_model_module": "@jupyter-widgets/controls",
       "_model_module_version": "1.5.0",
       "_model_name": "FloatProgressModel",
       "_view_count": null,
       "_view_module": "@jupyter-widgets/controls",
       "_view_module_version": "1.5.0",
       "_view_name": "ProgressView",
       "bar_style": "success",
       "description": "Downloading: 100%",
       "description_tooltip": null,
       "layout": "IPY_MODEL_7d6cb9f399894d08bb793768dc18aff2",
       "max": 227845.0,
       "min": 0.0,
       "orientation": "horizontal",
       "style": "IPY_MODEL_4682a46b0add4af08b87af57d110fcc5",
       "value": 227845.0
      }
     },
     "e0398c5215be43aeaa9a1e0868ccc60d": {
      "model_module": "@jupyter-widgets/controls",
      "model_module_version": "1.5.0",
      "model_name": "FloatProgressModel",
      "state": {
       "_dom_classes": [],
       "_model_module": "@jupyter-widgets/controls",
       "_model_module_version": "1.5.0",
       "_model_name": "FloatProgressModel",
       "_view_count": null,
       "_view_module": "@jupyter-widgets/controls",
       "_view_module_version": "1.5.0",
       "_view_name": "ProgressView",
       "bar_style": "success",
       "description": "Downloading: 100%",
       "description_tooltip": null,
       "layout": "IPY_MODEL_0817f656bbeb4ad5be11319c81575616",
       "max": 442221694.0,
       "min": 0.0,
       "orientation": "horizontal",
       "style": "IPY_MODEL_5df4dadd6c9d4f499287a92f21979b85",
       "value": 442221694.0
      }
     },
     "fc9bcb9b323f4fafa806067704b60c61": {
      "model_module": "@jupyter-widgets/controls",
      "model_module_version": "1.5.0",
      "model_name": "HBoxModel",
      "state": {
       "_dom_classes": [],
       "_model_module": "@jupyter-widgets/controls",
       "_model_module_version": "1.5.0",
       "_model_name": "HBoxModel",
       "_view_count": null,
       "_view_module": "@jupyter-widgets/controls",
       "_view_module_version": "1.5.0",
       "_view_name": "HBoxView",
       "box_style": "",
       "children": [
        "IPY_MODEL_e0398c5215be43aeaa9a1e0868ccc60d",
        "IPY_MODEL_a4188df9cb14445885f5b0e42886fb89"
       ],
       "layout": "IPY_MODEL_48f998464c7c401297a29583bc02016f"
      }
     }
    },
    "version_major": 2,
    "version_minor": 0
   }
  }
 },
 "nbformat": 4,
 "nbformat_minor": 4
}
